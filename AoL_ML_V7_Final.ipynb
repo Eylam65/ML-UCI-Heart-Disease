{
  "cells": [
    {
      "cell_type": "markdown",
      "metadata": {
        "id": "QTb4zcVD0kVZ"
      },
      "source": [
        "# Fetching data from repository"
      ]
    },
    {
      "cell_type": "code",
      "execution_count": 1,
      "metadata": {},
      "outputs": [
        {
          "name": "stdout",
          "output_type": "stream",
          "text": [
            "Requirement already satisfied: optuna in d:\\uni\\semester 4\\code\\machine learning\\.conda\\lib\\site-packages (4.3.0)\n",
            "Requirement already satisfied: alembic>=1.5.0 in d:\\uni\\semester 4\\code\\machine learning\\.conda\\lib\\site-packages (from optuna) (1.16.1)\n",
            "Requirement already satisfied: colorlog in d:\\uni\\semester 4\\code\\machine learning\\.conda\\lib\\site-packages (from optuna) (6.9.0)\n",
            "Requirement already satisfied: numpy in d:\\uni\\semester 4\\code\\machine learning\\.conda\\lib\\site-packages (from optuna) (2.2.3)\n",
            "Requirement already satisfied: packaging>=20.0 in c:\\users\\user\\appdata\\roaming\\python\\python311\\site-packages (from optuna) (23.1)\n",
            "Requirement already satisfied: sqlalchemy>=1.4.2 in d:\\uni\\semester 4\\code\\machine learning\\.conda\\lib\\site-packages (from optuna) (2.0.41)\n",
            "Requirement already satisfied: tqdm in d:\\uni\\semester 4\\code\\machine learning\\.conda\\lib\\site-packages (from optuna) (4.67.1)\n",
            "Requirement already satisfied: PyYAML in c:\\users\\user\\appdata\\roaming\\python\\python311\\site-packages (from optuna) (6.0.1)\n",
            "Requirement already satisfied: Mako in d:\\uni\\semester 4\\code\\machine learning\\.conda\\lib\\site-packages (from alembic>=1.5.0->optuna) (1.3.10)\n",
            "Requirement already satisfied: typing-extensions>=4.12 in d:\\uni\\semester 4\\code\\machine learning\\.conda\\lib\\site-packages (from alembic>=1.5.0->optuna) (4.13.2)\n",
            "Requirement already satisfied: greenlet>=1 in d:\\uni\\semester 4\\code\\machine learning\\.conda\\lib\\site-packages (from sqlalchemy>=1.4.2->optuna) (3.2.2)\n",
            "Requirement already satisfied: colorama in c:\\users\\user\\appdata\\roaming\\python\\python311\\site-packages (from colorlog->optuna) (0.4.6)\n",
            "Requirement already satisfied: MarkupSafe>=0.9.2 in c:\\users\\user\\appdata\\roaming\\python\\python311\\site-packages (from Mako->alembic>=1.5.0->optuna) (2.1.3)\n"
          ]
        }
      ],
      "source": [
        "!pip install optuna"
      ]
    },
    {
      "cell_type": "code",
      "execution_count": 2,
      "metadata": {
        "colab": {
          "base_uri": "https://localhost:8080/"
        },
        "id": "GuSFHM9CsnV0",
        "outputId": "7da50bb7-fdd5-4310-eb0a-5262c0eaed18"
      },
      "outputs": [
        {
          "name": "stdout",
          "output_type": "stream",
          "text": [
            "Requirement already satisfied: xgboost in d:\\uni\\semester 4\\code\\machine learning\\.conda\\lib\\site-packages (3.0.1)\n",
            "Requirement already satisfied: numpy in d:\\uni\\semester 4\\code\\machine learning\\.conda\\lib\\site-packages (from xgboost) (2.2.3)\n",
            "Requirement already satisfied: scipy in d:\\uni\\semester 4\\code\\machine learning\\.conda\\lib\\site-packages (from xgboost) (1.15.2)\n"
          ]
        }
      ],
      "source": [
        "!pip install xgboost"
      ]
    },
    {
      "cell_type": "code",
      "execution_count": 3,
      "metadata": {
        "colab": {
          "base_uri": "https://localhost:8080/"
        },
        "id": "DLrv0xuDsnV1",
        "outputId": "73d2079d-645a-4b45-9417-e8625d97246d"
      },
      "outputs": [
        {
          "name": "stdout",
          "output_type": "stream",
          "text": [
            "Requirement already satisfied: catboost in d:\\uni\\semester 4\\code\\machine learning\\.conda\\lib\\site-packages (1.2.8)\n",
            "Requirement already satisfied: graphviz in d:\\uni\\semester 4\\code\\machine learning\\.conda\\lib\\site-packages (from catboost) (0.20.3)\n",
            "Requirement already satisfied: matplotlib in d:\\uni\\semester 4\\code\\machine learning\\.conda\\lib\\site-packages (from catboost) (3.10.0)\n",
            "Requirement already satisfied: numpy<3.0,>=1.16.0 in d:\\uni\\semester 4\\code\\machine learning\\.conda\\lib\\site-packages (from catboost) (2.2.3)\n",
            "Requirement already satisfied: pandas>=0.24 in d:\\uni\\semester 4\\code\\machine learning\\.conda\\lib\\site-packages (from catboost) (2.2.3)\n",
            "Requirement already satisfied: scipy in d:\\uni\\semester 4\\code\\machine learning\\.conda\\lib\\site-packages (from catboost) (1.15.2)\n",
            "Requirement already satisfied: plotly in d:\\uni\\semester 4\\code\\machine learning\\.conda\\lib\\site-packages (from catboost) (6.1.0)\n",
            "Requirement already satisfied: six in c:\\users\\user\\appdata\\roaming\\python\\python311\\site-packages (from catboost) (1.16.0)\n",
            "Requirement already satisfied: python-dateutil>=2.8.2 in c:\\users\\user\\appdata\\roaming\\python\\python311\\site-packages (from pandas>=0.24->catboost) (2.8.2)\n",
            "Requirement already satisfied: pytz>=2020.1 in d:\\uni\\semester 4\\code\\machine learning\\.conda\\lib\\site-packages (from pandas>=0.24->catboost) (2025.1)\n",
            "Requirement already satisfied: tzdata>=2022.7 in d:\\uni\\semester 4\\code\\machine learning\\.conda\\lib\\site-packages (from pandas>=0.24->catboost) (2025.1)\n",
            "Requirement already satisfied: contourpy>=1.0.1 in d:\\uni\\semester 4\\code\\machine learning\\.conda\\lib\\site-packages (from matplotlib->catboost) (1.3.1)\n",
            "Requirement already satisfied: cycler>=0.10 in d:\\uni\\semester 4\\code\\machine learning\\.conda\\lib\\site-packages (from matplotlib->catboost) (0.12.1)\n",
            "Requirement already satisfied: fonttools>=4.22.0 in d:\\uni\\semester 4\\code\\machine learning\\.conda\\lib\\site-packages (from matplotlib->catboost) (4.56.0)\n",
            "Requirement already satisfied: kiwisolver>=1.3.1 in d:\\uni\\semester 4\\code\\machine learning\\.conda\\lib\\site-packages (from matplotlib->catboost) (1.4.8)\n",
            "Requirement already satisfied: packaging>=20.0 in c:\\users\\user\\appdata\\roaming\\python\\python311\\site-packages (from matplotlib->catboost) (23.1)\n",
            "Requirement already satisfied: pillow>=8 in d:\\uni\\semester 4\\code\\machine learning\\.conda\\lib\\site-packages (from matplotlib->catboost) (11.1.0)\n",
            "Requirement already satisfied: pyparsing>=2.3.1 in d:\\uni\\semester 4\\code\\machine learning\\.conda\\lib\\site-packages (from matplotlib->catboost) (3.2.1)\n",
            "Requirement already satisfied: narwhals>=1.15.1 in d:\\uni\\semester 4\\code\\machine learning\\.conda\\lib\\site-packages (from plotly->catboost) (1.39.1)\n"
          ]
        }
      ],
      "source": [
        "!pip install catboost"
      ]
    },
    {
      "cell_type": "code",
      "execution_count": 4,
      "metadata": {
        "colab": {
          "base_uri": "https://localhost:8080/"
        },
        "id": "ax3ojaL1snV1",
        "outputId": "b8b08581-80c5-46e1-fea1-1a6085750a65"
      },
      "outputs": [
        {
          "name": "stdout",
          "output_type": "stream",
          "text": [
            "Requirement already satisfied: imbalanced-learn in d:\\uni\\semester 4\\code\\machine learning\\.conda\\lib\\site-packages (0.13.0)\n",
            "Requirement already satisfied: numpy<3,>=1.24.3 in d:\\uni\\semester 4\\code\\machine learning\\.conda\\lib\\site-packages (from imbalanced-learn) (2.2.3)\n",
            "Requirement already satisfied: scipy<2,>=1.10.1 in d:\\uni\\semester 4\\code\\machine learning\\.conda\\lib\\site-packages (from imbalanced-learn) (1.15.2)\n",
            "Requirement already satisfied: scikit-learn<2,>=1.3.2 in d:\\uni\\semester 4\\code\\machine learning\\.conda\\lib\\site-packages (from imbalanced-learn) (1.6.1)\n",
            "Requirement already satisfied: sklearn-compat<1,>=0.1 in d:\\uni\\semester 4\\code\\machine learning\\.conda\\lib\\site-packages (from imbalanced-learn) (0.1.3)\n",
            "Requirement already satisfied: joblib<2,>=1.1.1 in d:\\uni\\semester 4\\code\\machine learning\\.conda\\lib\\site-packages (from imbalanced-learn) (1.4.2)\n",
            "Requirement already satisfied: threadpoolctl<4,>=2.0.0 in d:\\uni\\semester 4\\code\\machine learning\\.conda\\lib\\site-packages (from imbalanced-learn) (3.5.0)\n"
          ]
        }
      ],
      "source": [
        "!pip install imbalanced-learn"
      ]
    },
    {
      "cell_type": "code",
      "execution_count": 5,
      "metadata": {
        "colab": {
          "base_uri": "https://localhost:8080/"
        },
        "id": "YTmU0zmKsnV1",
        "outputId": "a51f6a2e-b8e7-47e6-c4de-0af62ac7cfb9"
      },
      "outputs": [
        {
          "name": "stdout",
          "output_type": "stream",
          "text": [
            "Requirement already satisfied: lightgbm in d:\\uni\\semester 4\\code\\machine learning\\.conda\\lib\\site-packages (4.6.0)\n",
            "Requirement already satisfied: numpy>=1.17.0 in d:\\uni\\semester 4\\code\\machine learning\\.conda\\lib\\site-packages (from lightgbm) (2.2.3)\n",
            "Requirement already satisfied: scipy in d:\\uni\\semester 4\\code\\machine learning\\.conda\\lib\\site-packages (from lightgbm) (1.15.2)\n"
          ]
        }
      ],
      "source": [
        "!pip install lightgbm"
      ]
    },
    {
      "cell_type": "code",
      "execution_count": 6,
      "metadata": {
        "colab": {
          "base_uri": "https://localhost:8080/"
        },
        "id": "6gxWaV-vta1T",
        "outputId": "97affdea-cd35-42ec-91f1-685404a215e5"
      },
      "outputs": [
        {
          "name": "stderr",
          "output_type": "stream",
          "text": [
            "Cloning into 'AoL-Machine-Learning'...\n"
          ]
        }
      ],
      "source": [
        "!git clone https://github.com/Dexcop/AoL-Machine-Learning"
      ]
    },
    {
      "cell_type": "markdown",
      "metadata": {
        "id": "2_T-skDRtg1M"
      },
      "source": [
        "# EDA"
      ]
    },
    {
      "cell_type": "code",
      "execution_count": 7,
      "metadata": {
        "id": "r2hSZ3kstT7R"
      },
      "outputs": [],
      "source": [
        "import pandas as pd\n",
        "import numpy as np\n",
        "import seaborn as sns\n",
        "import matplotlib.pyplot as plt"
      ]
    },
    {
      "cell_type": "code",
      "execution_count": 8,
      "metadata": {
        "id": "EWpp_rxA0s5e"
      },
      "outputs": [],
      "source": [
        "import warnings\n",
        "warnings.filterwarnings('ignore')"
      ]
    },
    {
      "cell_type": "code",
      "execution_count": 9,
      "metadata": {
        "id": "le-JKODTtcbW"
      },
      "outputs": [],
      "source": [
        "url = \"./AoL-Machine-Learning/heart_disease_uci.csv\"\n",
        "df = pd.read_csv(url)"
      ]
    },
    {
      "cell_type": "markdown",
      "metadata": {
        "id": "hPkwVcjQt3Vo"
      },
      "source": [
        "### checking the basic information of this dataset"
      ]
    },
    {
      "cell_type": "code",
      "execution_count": 10,
      "metadata": {
        "colab": {
          "base_uri": "https://localhost:8080/"
        },
        "id": "RU-WJ0z4tv_4",
        "outputId": "673e4412-1547-464e-d96a-0bfa5539c7d2"
      },
      "outputs": [
        {
          "data": {
            "text/plain": [
              "(920, 16)"
            ]
          },
          "execution_count": 10,
          "metadata": {},
          "output_type": "execute_result"
        }
      ],
      "source": [
        "df.shape"
      ]
    },
    {
      "cell_type": "code",
      "execution_count": 11,
      "metadata": {
        "colab": {
          "base_uri": "https://localhost:8080/",
          "height": 206
        },
        "id": "KBvI8pgotxhA",
        "outputId": "b38ca681-7c1e-4d86-df64-3be0b7bb5ae3"
      },
      "outputs": [
        {
          "data": {
            "text/html": [
              "<div>\n",
              "<style scoped>\n",
              "    .dataframe tbody tr th:only-of-type {\n",
              "        vertical-align: middle;\n",
              "    }\n",
              "\n",
              "    .dataframe tbody tr th {\n",
              "        vertical-align: top;\n",
              "    }\n",
              "\n",
              "    .dataframe thead th {\n",
              "        text-align: right;\n",
              "    }\n",
              "</style>\n",
              "<table border=\"1\" class=\"dataframe\">\n",
              "  <thead>\n",
              "    <tr style=\"text-align: right;\">\n",
              "      <th></th>\n",
              "      <th>id</th>\n",
              "      <th>age</th>\n",
              "      <th>sex</th>\n",
              "      <th>dataset</th>\n",
              "      <th>cp</th>\n",
              "      <th>trestbps</th>\n",
              "      <th>chol</th>\n",
              "      <th>fbs</th>\n",
              "      <th>restecg</th>\n",
              "      <th>thalch</th>\n",
              "      <th>exang</th>\n",
              "      <th>oldpeak</th>\n",
              "      <th>slope</th>\n",
              "      <th>ca</th>\n",
              "      <th>thal</th>\n",
              "      <th>num</th>\n",
              "    </tr>\n",
              "  </thead>\n",
              "  <tbody>\n",
              "    <tr>\n",
              "      <th>0</th>\n",
              "      <td>1</td>\n",
              "      <td>63</td>\n",
              "      <td>Male</td>\n",
              "      <td>Cleveland</td>\n",
              "      <td>typical angina</td>\n",
              "      <td>145.0</td>\n",
              "      <td>233.0</td>\n",
              "      <td>True</td>\n",
              "      <td>lv hypertrophy</td>\n",
              "      <td>150.0</td>\n",
              "      <td>False</td>\n",
              "      <td>2.3</td>\n",
              "      <td>downsloping</td>\n",
              "      <td>0.0</td>\n",
              "      <td>fixed defect</td>\n",
              "      <td>0</td>\n",
              "    </tr>\n",
              "    <tr>\n",
              "      <th>1</th>\n",
              "      <td>2</td>\n",
              "      <td>67</td>\n",
              "      <td>Male</td>\n",
              "      <td>Cleveland</td>\n",
              "      <td>asymptomatic</td>\n",
              "      <td>160.0</td>\n",
              "      <td>286.0</td>\n",
              "      <td>False</td>\n",
              "      <td>lv hypertrophy</td>\n",
              "      <td>108.0</td>\n",
              "      <td>True</td>\n",
              "      <td>1.5</td>\n",
              "      <td>flat</td>\n",
              "      <td>3.0</td>\n",
              "      <td>normal</td>\n",
              "      <td>2</td>\n",
              "    </tr>\n",
              "    <tr>\n",
              "      <th>2</th>\n",
              "      <td>3</td>\n",
              "      <td>67</td>\n",
              "      <td>Male</td>\n",
              "      <td>Cleveland</td>\n",
              "      <td>asymptomatic</td>\n",
              "      <td>120.0</td>\n",
              "      <td>229.0</td>\n",
              "      <td>False</td>\n",
              "      <td>lv hypertrophy</td>\n",
              "      <td>129.0</td>\n",
              "      <td>True</td>\n",
              "      <td>2.6</td>\n",
              "      <td>flat</td>\n",
              "      <td>2.0</td>\n",
              "      <td>reversable defect</td>\n",
              "      <td>1</td>\n",
              "    </tr>\n",
              "    <tr>\n",
              "      <th>3</th>\n",
              "      <td>4</td>\n",
              "      <td>37</td>\n",
              "      <td>Male</td>\n",
              "      <td>Cleveland</td>\n",
              "      <td>non-anginal</td>\n",
              "      <td>130.0</td>\n",
              "      <td>250.0</td>\n",
              "      <td>False</td>\n",
              "      <td>normal</td>\n",
              "      <td>187.0</td>\n",
              "      <td>False</td>\n",
              "      <td>3.5</td>\n",
              "      <td>downsloping</td>\n",
              "      <td>0.0</td>\n",
              "      <td>normal</td>\n",
              "      <td>0</td>\n",
              "    </tr>\n",
              "    <tr>\n",
              "      <th>4</th>\n",
              "      <td>5</td>\n",
              "      <td>41</td>\n",
              "      <td>Female</td>\n",
              "      <td>Cleveland</td>\n",
              "      <td>atypical angina</td>\n",
              "      <td>130.0</td>\n",
              "      <td>204.0</td>\n",
              "      <td>False</td>\n",
              "      <td>lv hypertrophy</td>\n",
              "      <td>172.0</td>\n",
              "      <td>False</td>\n",
              "      <td>1.4</td>\n",
              "      <td>upsloping</td>\n",
              "      <td>0.0</td>\n",
              "      <td>normal</td>\n",
              "      <td>0</td>\n",
              "    </tr>\n",
              "  </tbody>\n",
              "</table>\n",
              "</div>"
            ],
            "text/plain": [
              "   id  age     sex    dataset               cp  trestbps   chol    fbs  \\\n",
              "0   1   63    Male  Cleveland   typical angina     145.0  233.0   True   \n",
              "1   2   67    Male  Cleveland     asymptomatic     160.0  286.0  False   \n",
              "2   3   67    Male  Cleveland     asymptomatic     120.0  229.0  False   \n",
              "3   4   37    Male  Cleveland      non-anginal     130.0  250.0  False   \n",
              "4   5   41  Female  Cleveland  atypical angina     130.0  204.0  False   \n",
              "\n",
              "          restecg  thalch  exang  oldpeak        slope   ca  \\\n",
              "0  lv hypertrophy   150.0  False      2.3  downsloping  0.0   \n",
              "1  lv hypertrophy   108.0   True      1.5         flat  3.0   \n",
              "2  lv hypertrophy   129.0   True      2.6         flat  2.0   \n",
              "3          normal   187.0  False      3.5  downsloping  0.0   \n",
              "4  lv hypertrophy   172.0  False      1.4    upsloping  0.0   \n",
              "\n",
              "                thal  num  \n",
              "0       fixed defect    0  \n",
              "1             normal    2  \n",
              "2  reversable defect    1  \n",
              "3             normal    0  \n",
              "4             normal    0  "
            ]
          },
          "execution_count": 11,
          "metadata": {},
          "output_type": "execute_result"
        }
      ],
      "source": [
        "df.head()"
      ]
    },
    {
      "cell_type": "code",
      "execution_count": 12,
      "metadata": {
        "colab": {
          "base_uri": "https://localhost:8080/",
          "height": 206
        },
        "id": "PcTPX01ozCon",
        "outputId": "5ec5a623-054b-48c6-c1ee-29770d726752"
      },
      "outputs": [
        {
          "data": {
            "text/html": [
              "<div>\n",
              "<style scoped>\n",
              "    .dataframe tbody tr th:only-of-type {\n",
              "        vertical-align: middle;\n",
              "    }\n",
              "\n",
              "    .dataframe tbody tr th {\n",
              "        vertical-align: top;\n",
              "    }\n",
              "\n",
              "    .dataframe thead th {\n",
              "        text-align: right;\n",
              "    }\n",
              "</style>\n",
              "<table border=\"1\" class=\"dataframe\">\n",
              "  <thead>\n",
              "    <tr style=\"text-align: right;\">\n",
              "      <th></th>\n",
              "      <th>id</th>\n",
              "      <th>age</th>\n",
              "      <th>sex</th>\n",
              "      <th>dataset</th>\n",
              "      <th>cp</th>\n",
              "      <th>trestbps</th>\n",
              "      <th>chol</th>\n",
              "      <th>fbs</th>\n",
              "      <th>restecg</th>\n",
              "      <th>thalch</th>\n",
              "      <th>exang</th>\n",
              "      <th>oldpeak</th>\n",
              "      <th>slope</th>\n",
              "      <th>ca</th>\n",
              "      <th>thal</th>\n",
              "      <th>num</th>\n",
              "    </tr>\n",
              "  </thead>\n",
              "  <tbody>\n",
              "    <tr>\n",
              "      <th>534</th>\n",
              "      <td>535</td>\n",
              "      <td>46</td>\n",
              "      <td>Male</td>\n",
              "      <td>Hungary</td>\n",
              "      <td>asymptomatic</td>\n",
              "      <td>120.0</td>\n",
              "      <td>231.0</td>\n",
              "      <td>False</td>\n",
              "      <td>normal</td>\n",
              "      <td>115.0</td>\n",
              "      <td>True</td>\n",
              "      <td>0.0</td>\n",
              "      <td>NaN</td>\n",
              "      <td>NaN</td>\n",
              "      <td>NaN</td>\n",
              "      <td>1</td>\n",
              "    </tr>\n",
              "    <tr>\n",
              "      <th>767</th>\n",
              "      <td>768</td>\n",
              "      <td>51</td>\n",
              "      <td>Male</td>\n",
              "      <td>VA Long Beach</td>\n",
              "      <td>asymptomatic</td>\n",
              "      <td>128.0</td>\n",
              "      <td>0.0</td>\n",
              "      <td>False</td>\n",
              "      <td>normal</td>\n",
              "      <td>107.0</td>\n",
              "      <td>False</td>\n",
              "      <td>0.0</td>\n",
              "      <td>NaN</td>\n",
              "      <td>NaN</td>\n",
              "      <td>NaN</td>\n",
              "      <td>0</td>\n",
              "    </tr>\n",
              "    <tr>\n",
              "      <th>805</th>\n",
              "      <td>806</td>\n",
              "      <td>63</td>\n",
              "      <td>Male</td>\n",
              "      <td>VA Long Beach</td>\n",
              "      <td>asymptomatic</td>\n",
              "      <td>130.0</td>\n",
              "      <td>308.0</td>\n",
              "      <td>False</td>\n",
              "      <td>normal</td>\n",
              "      <td>138.0</td>\n",
              "      <td>True</td>\n",
              "      <td>2.0</td>\n",
              "      <td>flat</td>\n",
              "      <td>NaN</td>\n",
              "      <td>NaN</td>\n",
              "      <td>2</td>\n",
              "    </tr>\n",
              "    <tr>\n",
              "      <th>550</th>\n",
              "      <td>551</td>\n",
              "      <td>56</td>\n",
              "      <td>Male</td>\n",
              "      <td>Hungary</td>\n",
              "      <td>asymptomatic</td>\n",
              "      <td>150.0</td>\n",
              "      <td>213.0</td>\n",
              "      <td>True</td>\n",
              "      <td>normal</td>\n",
              "      <td>125.0</td>\n",
              "      <td>True</td>\n",
              "      <td>1.0</td>\n",
              "      <td>flat</td>\n",
              "      <td>NaN</td>\n",
              "      <td>NaN</td>\n",
              "      <td>1</td>\n",
              "    </tr>\n",
              "    <tr>\n",
              "      <th>40</th>\n",
              "      <td>41</td>\n",
              "      <td>65</td>\n",
              "      <td>Female</td>\n",
              "      <td>Cleveland</td>\n",
              "      <td>asymptomatic</td>\n",
              "      <td>150.0</td>\n",
              "      <td>225.0</td>\n",
              "      <td>False</td>\n",
              "      <td>lv hypertrophy</td>\n",
              "      <td>114.0</td>\n",
              "      <td>False</td>\n",
              "      <td>1.0</td>\n",
              "      <td>flat</td>\n",
              "      <td>3.0</td>\n",
              "      <td>reversable defect</td>\n",
              "      <td>4</td>\n",
              "    </tr>\n",
              "  </tbody>\n",
              "</table>\n",
              "</div>"
            ],
            "text/plain": [
              "      id  age     sex        dataset            cp  trestbps   chol    fbs  \\\n",
              "534  535   46    Male        Hungary  asymptomatic     120.0  231.0  False   \n",
              "767  768   51    Male  VA Long Beach  asymptomatic     128.0    0.0  False   \n",
              "805  806   63    Male  VA Long Beach  asymptomatic     130.0  308.0  False   \n",
              "550  551   56    Male        Hungary  asymptomatic     150.0  213.0   True   \n",
              "40    41   65  Female      Cleveland  asymptomatic     150.0  225.0  False   \n",
              "\n",
              "            restecg  thalch  exang  oldpeak slope   ca               thal  num  \n",
              "534          normal   115.0   True      0.0   NaN  NaN                NaN    1  \n",
              "767          normal   107.0  False      0.0   NaN  NaN                NaN    0  \n",
              "805          normal   138.0   True      2.0  flat  NaN                NaN    2  \n",
              "550          normal   125.0   True      1.0  flat  NaN                NaN    1  \n",
              "40   lv hypertrophy   114.0  False      1.0  flat  3.0  reversable defect    4  "
            ]
          },
          "execution_count": 12,
          "metadata": {},
          "output_type": "execute_result"
        }
      ],
      "source": [
        "df.sample(5)"
      ]
    },
    {
      "cell_type": "code",
      "execution_count": 13,
      "metadata": {
        "colab": {
          "base_uri": "https://localhost:8080/"
        },
        "id": "VCDwNdWAvz5i",
        "outputId": "083bfae7-a1ce-4e06-dedf-6f51f25b765d"
      },
      "outputs": [
        {
          "name": "stdout",
          "output_type": "stream",
          "text": [
            "<class 'pandas.core.frame.DataFrame'>\n",
            "RangeIndex: 920 entries, 0 to 919\n",
            "Data columns (total 16 columns):\n",
            " #   Column    Non-Null Count  Dtype  \n",
            "---  ------    --------------  -----  \n",
            " 0   id        920 non-null    int64  \n",
            " 1   age       920 non-null    int64  \n",
            " 2   sex       920 non-null    object \n",
            " 3   dataset   920 non-null    object \n",
            " 4   cp        920 non-null    object \n",
            " 5   trestbps  861 non-null    float64\n",
            " 6   chol      890 non-null    float64\n",
            " 7   fbs       830 non-null    object \n",
            " 8   restecg   918 non-null    object \n",
            " 9   thalch    865 non-null    float64\n",
            " 10  exang     865 non-null    object \n",
            " 11  oldpeak   858 non-null    float64\n",
            " 12  slope     611 non-null    object \n",
            " 13  ca        309 non-null    float64\n",
            " 14  thal      434 non-null    object \n",
            " 15  num       920 non-null    int64  \n",
            "dtypes: float64(5), int64(3), object(8)\n",
            "memory usage: 115.1+ KB\n"
          ]
        }
      ],
      "source": [
        "df.info()"
      ]
    },
    {
      "cell_type": "code",
      "execution_count": 14,
      "metadata": {
        "colab": {
          "base_uri": "https://localhost:8080/",
          "height": 585
        },
        "id": "W326_N6ctzbI",
        "outputId": "e9385785-14e8-44cf-b33d-0914550b48bc"
      },
      "outputs": [
        {
          "data": {
            "text/plain": [
              "ca          611\n",
              "thal        486\n",
              "slope       309\n",
              "fbs          90\n",
              "oldpeak      62\n",
              "trestbps     59\n",
              "exang        55\n",
              "thalch       55\n",
              "chol         30\n",
              "restecg       2\n",
              "cp            0\n",
              "dataset       0\n",
              "id            0\n",
              "age           0\n",
              "sex           0\n",
              "num           0\n",
              "dtype: int64"
            ]
          },
          "execution_count": 14,
          "metadata": {},
          "output_type": "execute_result"
        }
      ],
      "source": [
        "df.isnull().sum().sort_values(ascending=False)"
      ]
    },
    {
      "cell_type": "markdown",
      "metadata": {
        "id": "e_0LFlCyuOaI"
      },
      "source": [
        "### getting the proportion of null values and dropping the columns if it's above 30% since if the majority of a feature is null, it might as well doesn't matter (removing high missingness features)"
      ]
    },
    {
      "cell_type": "code",
      "execution_count": 15,
      "metadata": {
        "colab": {
          "base_uri": "https://localhost:8080/",
          "height": 585
        },
        "id": "hhf4_8lUuJ3H",
        "outputId": "cab255f8-1d49-43d0-dc7d-b78fea58533a"
      },
      "outputs": [
        {
          "data": {
            "text/plain": [
              "ca          66.413043\n",
              "thal        52.826087\n",
              "slope       33.586957\n",
              "fbs          9.782609\n",
              "oldpeak      6.739130\n",
              "trestbps     6.413043\n",
              "exang        5.978261\n",
              "thalch       5.978261\n",
              "chol         3.260870\n",
              "restecg      0.217391\n",
              "cp           0.000000\n",
              "dataset      0.000000\n",
              "id           0.000000\n",
              "age          0.000000\n",
              "sex          0.000000\n",
              "num          0.000000\n",
              "dtype: float64"
            ]
          },
          "execution_count": 15,
          "metadata": {},
          "output_type": "execute_result"
        }
      ],
      "source": [
        "df.isnull().mean().sort_values(ascending=False) * 100"
      ]
    },
    {
      "cell_type": "code",
      "execution_count": 16,
      "metadata": {
        "colab": {
          "base_uri": "https://localhost:8080/"
        },
        "id": "E99zEkgXunhE",
        "outputId": "7eafe806-4960-4ebe-a078-4cf7881d9a8c"
      },
      "outputs": [
        {
          "data": {
            "text/plain": [
              "Index(['slope', 'ca', 'thal'], dtype='object')"
            ]
          },
          "execution_count": 16,
          "metadata": {},
          "output_type": "execute_result"
        }
      ],
      "source": [
        "missing_values_threshold = df.isnull().mean() * 100\n",
        "treshold = 30\n",
        "high_missing_values_columns = missing_values_threshold[missing_values_threshold > treshold].index\n",
        "high_missing_values_columns"
      ]
    },
    {
      "cell_type": "code",
      "execution_count": 17,
      "metadata": {
        "colab": {
          "base_uri": "https://localhost:8080/"
        },
        "id": "cDJF9CwOvKNl",
        "outputId": "3a9f4be7-ca14-475e-a224-cc4ff48a1b77"
      },
      "outputs": [
        {
          "data": {
            "text/plain": [
              "(920, 13)"
            ]
          },
          "execution_count": 17,
          "metadata": {},
          "output_type": "execute_result"
        }
      ],
      "source": [
        "df = df.drop(columns=high_missing_values_columns)\n",
        "df.shape"
      ]
    },
    {
      "cell_type": "code",
      "execution_count": 18,
      "metadata": {
        "colab": {
          "base_uri": "https://localhost:8080/"
        },
        "id": "amJoW7cavipn",
        "outputId": "c177aa31-c135-46a1-d6fd-871605ebc6aa"
      },
      "outputs": [
        {
          "data": {
            "text/plain": [
              "Index(['id', 'age', 'sex', 'dataset', 'cp', 'trestbps', 'chol', 'fbs',\n",
              "       'restecg', 'thalch', 'exang', 'oldpeak', 'num'],\n",
              "      dtype='object')"
            ]
          },
          "execution_count": 18,
          "metadata": {},
          "output_type": "execute_result"
        }
      ],
      "source": [
        "df.columns"
      ]
    },
    {
      "cell_type": "code",
      "execution_count": 19,
      "metadata": {
        "colab": {
          "base_uri": "https://localhost:8080/",
          "height": 237
        },
        "id": "gS6h2f3isnV5",
        "outputId": "5aab8c8e-40bb-46ec-e285-b298c97281fb"
      },
      "outputs": [
        {
          "data": {
            "text/html": [
              "<div>\n",
              "<style scoped>\n",
              "    .dataframe tbody tr th:only-of-type {\n",
              "        vertical-align: middle;\n",
              "    }\n",
              "\n",
              "    .dataframe tbody tr th {\n",
              "        vertical-align: top;\n",
              "    }\n",
              "\n",
              "    .dataframe thead th {\n",
              "        text-align: right;\n",
              "    }\n",
              "</style>\n",
              "<table border=\"1\" class=\"dataframe\">\n",
              "  <thead>\n",
              "    <tr style=\"text-align: right;\">\n",
              "      <th></th>\n",
              "      <th>count</th>\n",
              "      <th>mean</th>\n",
              "      <th>std</th>\n",
              "      <th>min</th>\n",
              "      <th>25%</th>\n",
              "      <th>50%</th>\n",
              "      <th>75%</th>\n",
              "      <th>max</th>\n",
              "    </tr>\n",
              "    <tr>\n",
              "      <th>num</th>\n",
              "      <th></th>\n",
              "      <th></th>\n",
              "      <th></th>\n",
              "      <th></th>\n",
              "      <th></th>\n",
              "      <th></th>\n",
              "      <th></th>\n",
              "      <th></th>\n",
              "    </tr>\n",
              "  </thead>\n",
              "  <tbody>\n",
              "    <tr>\n",
              "      <th>0</th>\n",
              "      <td>390.0</td>\n",
              "      <td>0.418205</td>\n",
              "      <td>0.715636</td>\n",
              "      <td>-1.1</td>\n",
              "      <td>0.000</td>\n",
              "      <td>0.0</td>\n",
              "      <td>0.800</td>\n",
              "      <td>4.2</td>\n",
              "    </tr>\n",
              "    <tr>\n",
              "      <th>1</th>\n",
              "      <td>250.0</td>\n",
              "      <td>1.001200</td>\n",
              "      <td>1.035416</td>\n",
              "      <td>-2.6</td>\n",
              "      <td>0.000</td>\n",
              "      <td>1.0</td>\n",
              "      <td>1.800</td>\n",
              "      <td>5.0</td>\n",
              "    </tr>\n",
              "    <tr>\n",
              "      <th>2</th>\n",
              "      <td>101.0</td>\n",
              "      <td>1.353465</td>\n",
              "      <td>1.209592</td>\n",
              "      <td>-2.0</td>\n",
              "      <td>0.000</td>\n",
              "      <td>1.5</td>\n",
              "      <td>2.000</td>\n",
              "      <td>4.0</td>\n",
              "    </tr>\n",
              "    <tr>\n",
              "      <th>3</th>\n",
              "      <td>91.0</td>\n",
              "      <td>1.581319</td>\n",
              "      <td>1.325889</td>\n",
              "      <td>0.0</td>\n",
              "      <td>0.500</td>\n",
              "      <td>1.5</td>\n",
              "      <td>2.100</td>\n",
              "      <td>6.2</td>\n",
              "    </tr>\n",
              "    <tr>\n",
              "      <th>4</th>\n",
              "      <td>26.0</td>\n",
              "      <td>2.307692</td>\n",
              "      <td>1.304737</td>\n",
              "      <td>0.0</td>\n",
              "      <td>1.125</td>\n",
              "      <td>2.5</td>\n",
              "      <td>3.375</td>\n",
              "      <td>4.4</td>\n",
              "    </tr>\n",
              "  </tbody>\n",
              "</table>\n",
              "</div>"
            ],
            "text/plain": [
              "     count      mean       std  min    25%  50%    75%  max\n",
              "num                                                        \n",
              "0    390.0  0.418205  0.715636 -1.1  0.000  0.0  0.800  4.2\n",
              "1    250.0  1.001200  1.035416 -2.6  0.000  1.0  1.800  5.0\n",
              "2    101.0  1.353465  1.209592 -2.0  0.000  1.5  2.000  4.0\n",
              "3     91.0  1.581319  1.325889  0.0  0.500  1.5  2.100  6.2\n",
              "4     26.0  2.307692  1.304737  0.0  1.125  2.5  3.375  4.4"
            ]
          },
          "execution_count": 19,
          "metadata": {},
          "output_type": "execute_result"
        }
      ],
      "source": [
        "df.groupby('num')['oldpeak'].describe()"
      ]
    },
    {
      "cell_type": "markdown",
      "metadata": {
        "id": "Vw_hQY_GvtFe"
      },
      "source": [
        "### checking proportions of the target column"
      ]
    },
    {
      "cell_type": "code",
      "execution_count": 20,
      "metadata": {
        "colab": {
          "base_uri": "https://localhost:8080/",
          "height": 272
        },
        "id": "7bfoXvsOwLF-",
        "outputId": "18c2d359-fa92-4d28-b381-6355f122633b"
      },
      "outputs": [
        {
          "data": {
            "text/plain": [
              "num\n",
              "0    411\n",
              "1    265\n",
              "2    109\n",
              "3    107\n",
              "4     28\n",
              "Name: count, dtype: int64"
            ]
          },
          "execution_count": 20,
          "metadata": {},
          "output_type": "execute_result"
        }
      ],
      "source": [
        "df.iloc[:, -1].value_counts()"
      ]
    },
    {
      "cell_type": "code",
      "execution_count": 21,
      "metadata": {
        "id": "mnQi89bFsnV5"
      },
      "outputs": [],
      "source": [
        "df = df[df['num'] != 4]"
      ]
    },
    {
      "cell_type": "code",
      "execution_count": 22,
      "metadata": {
        "colab": {
          "base_uri": "https://localhost:8080/",
          "height": 240
        },
        "id": "g0G1eloqAxGl",
        "outputId": "de152f54-b79e-480b-d969-c9a295c24568"
      },
      "outputs": [
        {
          "data": {
            "text/plain": [
              "num\n",
              "0    411\n",
              "1    265\n",
              "2    109\n",
              "3    107\n",
              "Name: count, dtype: int64"
            ]
          },
          "execution_count": 22,
          "metadata": {},
          "output_type": "execute_result"
        }
      ],
      "source": [
        "df.iloc[:, -1].value_counts()"
      ]
    },
    {
      "cell_type": "code",
      "execution_count": 23,
      "metadata": {
        "colab": {
          "base_uri": "https://localhost:8080/"
        },
        "id": "OkoWlO1awUu_",
        "outputId": "8965a7e0-99d1-4a12-b55e-1b4e9db943e7"
      },
      "outputs": [
        {
          "data": {
            "text/plain": [
              "0.55326"
            ]
          },
          "execution_count": 23,
          "metadata": {},
          "output_type": "execute_result"
        }
      ],
      "source": [
        "sum_if_yes = 0.288043 + 0.118478 + 0.116304 + 0.030435\n",
        "sum_if_yes"
      ]
    },
    {
      "cell_type": "markdown",
      "metadata": {
        "id": "F5ROobP8wieF"
      },
      "source": [
        "make the proportion to yes and no which have 0.446739 and 0.55326 (way more balanced then 1-4)"
      ]
    },
    {
      "cell_type": "code",
      "execution_count": 24,
      "metadata": {
        "id": "_LBsVu92dUzN"
      },
      "outputs": [],
      "source": [
        "# df.iloc[:, -1] = (df.num > 0).astype(int)"
      ]
    },
    {
      "cell_type": "code",
      "execution_count": 25,
      "metadata": {
        "id": "1fz0ZHlzdk4g"
      },
      "outputs": [],
      "source": [
        "# df.iloc[:, -1].value_counts(normalize=True)"
      ]
    },
    {
      "cell_type": "markdown",
      "metadata": {
        "id": "8cam6cTjw0Dp"
      },
      "source": [
        "### splitting train and test set"
      ]
    },
    {
      "cell_type": "code",
      "execution_count": 26,
      "metadata": {
        "id": "jWULcOiowzsL"
      },
      "outputs": [],
      "source": [
        "from sklearn.model_selection import train_test_split"
      ]
    },
    {
      "cell_type": "code",
      "execution_count": 27,
      "metadata": {
        "id": "o7QFh_C2w601"
      },
      "outputs": [],
      "source": [
        "X = df.iloc[:, :-1]\n",
        "y = df.iloc[:, -1]"
      ]
    },
    {
      "cell_type": "code",
      "execution_count": 28,
      "metadata": {
        "colab": {
          "base_uri": "https://localhost:8080/",
          "height": 206
        },
        "id": "kqDoCaKHsnV6",
        "outputId": "ee460817-1976-4291-a137-e1c6fbf53e64"
      },
      "outputs": [
        {
          "data": {
            "text/html": [
              "<div>\n",
              "<style scoped>\n",
              "    .dataframe tbody tr th:only-of-type {\n",
              "        vertical-align: middle;\n",
              "    }\n",
              "\n",
              "    .dataframe tbody tr th {\n",
              "        vertical-align: top;\n",
              "    }\n",
              "\n",
              "    .dataframe thead th {\n",
              "        text-align: right;\n",
              "    }\n",
              "</style>\n",
              "<table border=\"1\" class=\"dataframe\">\n",
              "  <thead>\n",
              "    <tr style=\"text-align: right;\">\n",
              "      <th></th>\n",
              "      <th>id</th>\n",
              "      <th>age</th>\n",
              "      <th>sex</th>\n",
              "      <th>dataset</th>\n",
              "      <th>cp</th>\n",
              "      <th>trestbps</th>\n",
              "      <th>chol</th>\n",
              "      <th>fbs</th>\n",
              "      <th>restecg</th>\n",
              "      <th>thalch</th>\n",
              "      <th>exang</th>\n",
              "      <th>oldpeak</th>\n",
              "    </tr>\n",
              "  </thead>\n",
              "  <tbody>\n",
              "    <tr>\n",
              "      <th>0</th>\n",
              "      <td>1</td>\n",
              "      <td>63</td>\n",
              "      <td>Male</td>\n",
              "      <td>Cleveland</td>\n",
              "      <td>typical angina</td>\n",
              "      <td>145.0</td>\n",
              "      <td>233.0</td>\n",
              "      <td>True</td>\n",
              "      <td>lv hypertrophy</td>\n",
              "      <td>150.0</td>\n",
              "      <td>False</td>\n",
              "      <td>2.3</td>\n",
              "    </tr>\n",
              "    <tr>\n",
              "      <th>1</th>\n",
              "      <td>2</td>\n",
              "      <td>67</td>\n",
              "      <td>Male</td>\n",
              "      <td>Cleveland</td>\n",
              "      <td>asymptomatic</td>\n",
              "      <td>160.0</td>\n",
              "      <td>286.0</td>\n",
              "      <td>False</td>\n",
              "      <td>lv hypertrophy</td>\n",
              "      <td>108.0</td>\n",
              "      <td>True</td>\n",
              "      <td>1.5</td>\n",
              "    </tr>\n",
              "    <tr>\n",
              "      <th>2</th>\n",
              "      <td>3</td>\n",
              "      <td>67</td>\n",
              "      <td>Male</td>\n",
              "      <td>Cleveland</td>\n",
              "      <td>asymptomatic</td>\n",
              "      <td>120.0</td>\n",
              "      <td>229.0</td>\n",
              "      <td>False</td>\n",
              "      <td>lv hypertrophy</td>\n",
              "      <td>129.0</td>\n",
              "      <td>True</td>\n",
              "      <td>2.6</td>\n",
              "    </tr>\n",
              "    <tr>\n",
              "      <th>3</th>\n",
              "      <td>4</td>\n",
              "      <td>37</td>\n",
              "      <td>Male</td>\n",
              "      <td>Cleveland</td>\n",
              "      <td>non-anginal</td>\n",
              "      <td>130.0</td>\n",
              "      <td>250.0</td>\n",
              "      <td>False</td>\n",
              "      <td>normal</td>\n",
              "      <td>187.0</td>\n",
              "      <td>False</td>\n",
              "      <td>3.5</td>\n",
              "    </tr>\n",
              "    <tr>\n",
              "      <th>4</th>\n",
              "      <td>5</td>\n",
              "      <td>41</td>\n",
              "      <td>Female</td>\n",
              "      <td>Cleveland</td>\n",
              "      <td>atypical angina</td>\n",
              "      <td>130.0</td>\n",
              "      <td>204.0</td>\n",
              "      <td>False</td>\n",
              "      <td>lv hypertrophy</td>\n",
              "      <td>172.0</td>\n",
              "      <td>False</td>\n",
              "      <td>1.4</td>\n",
              "    </tr>\n",
              "  </tbody>\n",
              "</table>\n",
              "</div>"
            ],
            "text/plain": [
              "   id  age     sex    dataset               cp  trestbps   chol    fbs  \\\n",
              "0   1   63    Male  Cleveland   typical angina     145.0  233.0   True   \n",
              "1   2   67    Male  Cleveland     asymptomatic     160.0  286.0  False   \n",
              "2   3   67    Male  Cleveland     asymptomatic     120.0  229.0  False   \n",
              "3   4   37    Male  Cleveland      non-anginal     130.0  250.0  False   \n",
              "4   5   41  Female  Cleveland  atypical angina     130.0  204.0  False   \n",
              "\n",
              "          restecg  thalch  exang  oldpeak  \n",
              "0  lv hypertrophy   150.0  False      2.3  \n",
              "1  lv hypertrophy   108.0   True      1.5  \n",
              "2  lv hypertrophy   129.0   True      2.6  \n",
              "3          normal   187.0  False      3.5  \n",
              "4  lv hypertrophy   172.0  False      1.4  "
            ]
          },
          "execution_count": 28,
          "metadata": {},
          "output_type": "execute_result"
        }
      ],
      "source": [
        "X.head()"
      ]
    },
    {
      "cell_type": "code",
      "execution_count": 29,
      "metadata": {
        "colab": {
          "base_uri": "https://localhost:8080/",
          "height": 240
        },
        "id": "nfrB9GwusnV6",
        "outputId": "17267c09-fe3d-44a6-955a-ae80affb788a"
      },
      "outputs": [
        {
          "data": {
            "text/plain": [
              "num\n",
              "0    411\n",
              "1    265\n",
              "2    109\n",
              "3    107\n",
              "Name: count, dtype: int64"
            ]
          },
          "execution_count": 29,
          "metadata": {},
          "output_type": "execute_result"
        }
      ],
      "source": [
        "y.value_counts()"
      ]
    },
    {
      "cell_type": "code",
      "execution_count": 30,
      "metadata": {
        "colab": {
          "base_uri": "https://localhost:8080/"
        },
        "id": "M2gEnbgSFkoT",
        "outputId": "672d12dd-c261-490d-868d-bc32de2d23f1"
      },
      "outputs": [
        {
          "name": "stdout",
          "output_type": "stream",
          "text": [
            "(713, 12)\n",
            "(179, 12)\n",
            "(713,)\n",
            "(179,)\n"
          ]
        }
      ],
      "source": [
        "X_train, X_test, y_train, y_test = train_test_split(X, y, test_size=0.2, random_state=42, stratify=y)\n",
        "print(X_train.shape)\n",
        "print(X_test.shape)\n",
        "print(y_train.shape)\n",
        "print(y_test.shape)"
      ]
    },
    {
      "cell_type": "code",
      "execution_count": 31,
      "metadata": {
        "colab": {
          "base_uri": "https://localhost:8080/",
          "height": 240
        },
        "id": "Kd1vr_xRKZBp",
        "outputId": "85699223-1606-49db-975f-9e1f3ae5971b"
      },
      "outputs": [
        {
          "data": {
            "text/plain": [
              "num\n",
              "0    328\n",
              "1    212\n",
              "2     87\n",
              "3     86\n",
              "Name: count, dtype: int64"
            ]
          },
          "execution_count": 31,
          "metadata": {},
          "output_type": "execute_result"
        }
      ],
      "source": [
        "y_train.value_counts()"
      ]
    },
    {
      "cell_type": "code",
      "execution_count": 32,
      "metadata": {
        "colab": {
          "base_uri": "https://localhost:8080/",
          "height": 240
        },
        "id": "LfC-W7YBFIYQ",
        "outputId": "baacb1c3-8944-4bcd-b224-dbd1dd8a51fa"
      },
      "outputs": [
        {
          "data": {
            "text/plain": [
              "num\n",
              "0    83\n",
              "1    53\n",
              "2    22\n",
              "3    21\n",
              "Name: count, dtype: int64"
            ]
          },
          "execution_count": 32,
          "metadata": {},
          "output_type": "execute_result"
        }
      ],
      "source": [
        "y_test.value_counts()"
      ]
    },
    {
      "cell_type": "markdown",
      "metadata": {
        "id": "ke5GMuuSytcf"
      },
      "source": [
        "### splitting columns by category and checking outliers"
      ]
    },
    {
      "cell_type": "code",
      "execution_count": 33,
      "metadata": {
        "colab": {
          "base_uri": "https://localhost:8080/"
        },
        "id": "F1_gFUAuz3B7",
        "outputId": "9f511d7f-f844-40c2-9f97-2bc8191ee86b"
      },
      "outputs": [
        {
          "data": {
            "text/plain": [
              "Index(['id', 'age', 'trestbps', 'chol', 'thalch', 'oldpeak'], dtype='object')"
            ]
          },
          "execution_count": 33,
          "metadata": {},
          "output_type": "execute_result"
        }
      ],
      "source": [
        "numerical_columns = X_train.select_dtypes(include=['number']).columns\n",
        "numerical_columns"
      ]
    },
    {
      "cell_type": "code",
      "execution_count": 34,
      "metadata": {
        "colab": {
          "base_uri": "https://localhost:8080/"
        },
        "id": "0riRVtRQyhu-",
        "outputId": "33af4bbc-6ed8-4d24-bbcf-581cd5370c60"
      },
      "outputs": [
        {
          "data": {
            "text/plain": [
              "Index(['sex', 'dataset', 'cp', 'fbs', 'restecg', 'exang'], dtype='object')"
            ]
          },
          "execution_count": 34,
          "metadata": {},
          "output_type": "execute_result"
        }
      ],
      "source": [
        "categorical_columns = X_train.select_dtypes(exclude=['number']).columns\n",
        "categorical_columns"
      ]
    },
    {
      "cell_type": "code",
      "execution_count": 35,
      "metadata": {
        "colab": {
          "base_uri": "https://localhost:8080/"
        },
        "id": "AGNsiAD0x9MP",
        "outputId": "0ac2aa37-7ff3-404a-d2f9-87f880de4533"
      },
      "outputs": [
        {
          "data": {
            "text/plain": [
              "6"
            ]
          },
          "execution_count": 35,
          "metadata": {},
          "output_type": "execute_result"
        }
      ],
      "source": [
        "len(numerical_columns)"
      ]
    },
    {
      "cell_type": "code",
      "execution_count": 36,
      "metadata": {
        "colab": {
          "base_uri": "https://localhost:8080/",
          "height": 548
        },
        "id": "U3cin8yhxaAa",
        "outputId": "abb3c0be-5b2c-4175-d168-a53325b1eb94"
      },
      "outputs": [
        {
          "data": {
            "image/png": "[encoded data removed]",
            "text/plain": [
              "<Figure size 1000x800 with 6 Axes>"
            ]
          },
          "metadata": {},
          "output_type": "display_data"
        }
      ],
      "source": [
        "plt.figure(figsize=(10, 8))\n",
        "for i in range(len(numerical_columns)):\n",
        "  plt.subplot(3, 3, i+1)\n",
        "  sns.boxplot(y=numerical_columns[i], data=X_train)\n",
        "  plt.title(numerical_columns[i])\n",
        "plt.tight_layout()\n",
        "plt.show()"
      ]
    },
    {
      "cell_type": "code",
      "execution_count": 37,
      "metadata": {
        "colab": {
          "base_uri": "https://localhost:8080/",
          "height": 80
        },
        "id": "An2v6CQTX0Rz",
        "outputId": "d44eedf9-d38e-4242-acad-5b1d0c417b50"
      },
      "outputs": [
        {
          "data": {
            "text/html": [
              "<div>\n",
              "<style scoped>\n",
              "    .dataframe tbody tr th:only-of-type {\n",
              "        vertical-align: middle;\n",
              "    }\n",
              "\n",
              "    .dataframe tbody tr th {\n",
              "        vertical-align: top;\n",
              "    }\n",
              "\n",
              "    .dataframe thead th {\n",
              "        text-align: right;\n",
              "    }\n",
              "</style>\n",
              "<table border=\"1\" class=\"dataframe\">\n",
              "  <thead>\n",
              "    <tr style=\"text-align: right;\">\n",
              "      <th></th>\n",
              "      <th>id</th>\n",
              "      <th>age</th>\n",
              "      <th>sex</th>\n",
              "      <th>dataset</th>\n",
              "      <th>cp</th>\n",
              "      <th>trestbps</th>\n",
              "      <th>chol</th>\n",
              "      <th>fbs</th>\n",
              "      <th>restecg</th>\n",
              "      <th>thalch</th>\n",
              "      <th>exang</th>\n",
              "      <th>oldpeak</th>\n",
              "    </tr>\n",
              "  </thead>\n",
              "  <tbody>\n",
              "    <tr>\n",
              "      <th>753</th>\n",
              "      <td>754</td>\n",
              "      <td>55</td>\n",
              "      <td>Male</td>\n",
              "      <td>VA Long Beach</td>\n",
              "      <td>non-anginal</td>\n",
              "      <td>0.0</td>\n",
              "      <td>0.0</td>\n",
              "      <td>False</td>\n",
              "      <td>normal</td>\n",
              "      <td>155.0</td>\n",
              "      <td>False</td>\n",
              "      <td>1.5</td>\n",
              "    </tr>\n",
              "  </tbody>\n",
              "</table>\n",
              "</div>"
            ],
            "text/plain": [
              "      id  age   sex        dataset           cp  trestbps  chol    fbs  \\\n",
              "753  754   55  Male  VA Long Beach  non-anginal       0.0   0.0  False   \n",
              "\n",
              "    restecg  thalch  exang  oldpeak  \n",
              "753  normal   155.0  False      1.5  "
            ]
          },
          "execution_count": 37,
          "metadata": {},
          "output_type": "execute_result"
        }
      ],
      "source": [
        "X_train[X_train['trestbps'] == 0]"
      ]
    },
    {
      "cell_type": "markdown",
      "metadata": {
        "id": "BTdptdvlQb4K"
      },
      "source": [
        "### outlier treatment"
      ]
    },
    {
      "cell_type": "code",
      "execution_count": 38,
      "metadata": {
        "id": "HZeLJuu8goKE"
      },
      "outputs": [],
      "source": [
        "Q1 = X_train[numerical_columns].quantile(0.25)\n",
        "Q3 = X_train[numerical_columns].quantile(0.75)\n",
        "IQR = Q3 - Q1\n",
        "\n",
        "upper_bound = Q3 + 1 * IQR\n",
        "lower_bound = Q1 - 1 * IQR"
      ]
    },
    {
      "cell_type": "code",
      "execution_count": 39,
      "metadata": {
        "colab": {
          "base_uri": "https://localhost:8080/",
          "height": 272
        },
        "id": "94DjgP80jeVE",
        "outputId": "945190e6-6ee5-44b9-9a75-263f4e0e3e2f"
      },
      "outputs": [
        {
          "data": {
            "text/plain": [
              "id          1146.0\n",
              "age           74.0\n",
              "trestbps     160.0\n",
              "chol         363.5\n",
              "thalch       194.0\n",
              "oldpeak        3.0\n",
              "dtype: float64"
            ]
          },
          "execution_count": 39,
          "metadata": {},
          "output_type": "execute_result"
        }
      ],
      "source": [
        "upper_bound"
      ]
    },
    {
      "cell_type": "code",
      "execution_count": 40,
      "metadata": {
        "colab": {
          "base_uri": "https://localhost:8080/",
          "height": 272
        },
        "id": "gFj3aHKjjkT0",
        "outputId": "5421d7ed-eeed-4dfa-969d-0129a7e90842"
      },
      "outputs": [
        {
          "data": {
            "text/plain": [
              "id         -237.0\n",
              "age          32.0\n",
              "trestbps    100.0\n",
              "chol         74.0\n",
              "thalch       83.0\n",
              "oldpeak      -1.5\n",
              "dtype: float64"
            ]
          },
          "execution_count": 40,
          "metadata": {},
          "output_type": "execute_result"
        }
      ],
      "source": [
        "lower_bound"
      ]
    },
    {
      "cell_type": "code",
      "execution_count": 41,
      "metadata": {
        "id": "81azmNGyhjkL"
      },
      "outputs": [],
      "source": [
        "X_train[numerical_columns] = X_train[numerical_columns].mask(\n",
        "    (X_train[numerical_columns] > upper_bound) | (X_train[numerical_columns] < lower_bound),\n",
        "    np.nan\n",
        ")\n",
        "X_test[numerical_columns] = X_test[numerical_columns].mask(\n",
        "    (X_test[numerical_columns] > upper_bound) | (X_test[numerical_columns] < lower_bound),\n",
        "    np.nan\n",
        ")"
      ]
    },
    {
      "cell_type": "code",
      "execution_count": 42,
      "metadata": {
        "colab": {
          "base_uri": "https://localhost:8080/",
          "height": 547
        },
        "id": "x3U_ko_NjA0S",
        "outputId": "58e25c9a-9362-43b0-c4e0-89f78728bf31"
      },
      "outputs": [
        {
          "data": {
            "image/png": "[encoded data removed]",
            "text/plain": [
              "<Figure size 1000x800 with 6 Axes>"
            ]
          },
          "metadata": {},
          "output_type": "display_data"
        }
      ],
      "source": [
        "plt.figure(figsize=(10, 8))\n",
        "for i in range(len(numerical_columns)):\n",
        "  plt.subplot(3, 3, i+1)\n",
        "  sns.boxplot(y=numerical_columns[i], data=X_train)\n",
        "  plt.title(numerical_columns[i])\n",
        "plt.tight_layout()\n",
        "plt.show()"
      ]
    },
    {
      "cell_type": "markdown",
      "metadata": {
        "id": "fJknMFS9z-hp"
      },
      "source": [
        "### since some columns such as: chol, trestbps, and oldpeak has so many outliers, the scaler that will be used is RobustScaler since outliers doesn't matter in that algorithm"
      ]
    },
    {
      "cell_type": "code",
      "execution_count": 43,
      "metadata": {
        "id": "NWaQE8Tpz7fz"
      },
      "outputs": [],
      "source": [
        "from sklearn.preprocessing import RobustScaler, MinMaxScaler"
      ]
    },
    {
      "cell_type": "code",
      "execution_count": 44,
      "metadata": {
        "id": "sJGQEGgQwpVM"
      },
      "outputs": [],
      "source": [
        "X_train_scaled = X_train.copy()\n",
        "X_test_scaled = X_test.copy()"
      ]
    },
    {
      "cell_type": "code",
      "execution_count": 45,
      "metadata": {
        "colab": {
          "base_uri": "https://localhost:8080/",
          "height": 206
        },
        "id": "-VhCkHzFw46E",
        "outputId": "f7efa4dc-5028-4d18-f9a1-5be210f5a974"
      },
      "outputs": [
        {
          "data": {
            "text/html": [
              "<div>\n",
              "<style scoped>\n",
              "    .dataframe tbody tr th:only-of-type {\n",
              "        vertical-align: middle;\n",
              "    }\n",
              "\n",
              "    .dataframe tbody tr th {\n",
              "        vertical-align: top;\n",
              "    }\n",
              "\n",
              "    .dataframe thead th {\n",
              "        text-align: right;\n",
              "    }\n",
              "</style>\n",
              "<table border=\"1\" class=\"dataframe\">\n",
              "  <thead>\n",
              "    <tr style=\"text-align: right;\">\n",
              "      <th></th>\n",
              "      <th>id</th>\n",
              "      <th>age</th>\n",
              "      <th>sex</th>\n",
              "      <th>dataset</th>\n",
              "      <th>cp</th>\n",
              "      <th>trestbps</th>\n",
              "      <th>chol</th>\n",
              "      <th>fbs</th>\n",
              "      <th>restecg</th>\n",
              "      <th>thalch</th>\n",
              "      <th>exang</th>\n",
              "      <th>oldpeak</th>\n",
              "    </tr>\n",
              "  </thead>\n",
              "  <tbody>\n",
              "    <tr>\n",
              "      <th>703</th>\n",
              "      <td>704</td>\n",
              "      <td>64.0</td>\n",
              "      <td>Male</td>\n",
              "      <td>Switzerland</td>\n",
              "      <td>asymptomatic</td>\n",
              "      <td>110.0</td>\n",
              "      <td>NaN</td>\n",
              "      <td>NaN</td>\n",
              "      <td>normal</td>\n",
              "      <td>114.0</td>\n",
              "      <td>True</td>\n",
              "      <td>1.3</td>\n",
              "    </tr>\n",
              "    <tr>\n",
              "      <th>608</th>\n",
              "      <td>609</td>\n",
              "      <td>41.0</td>\n",
              "      <td>Male</td>\n",
              "      <td>Switzerland</td>\n",
              "      <td>asymptomatic</td>\n",
              "      <td>125.0</td>\n",
              "      <td>NaN</td>\n",
              "      <td>NaN</td>\n",
              "      <td>normal</td>\n",
              "      <td>176.0</td>\n",
              "      <td>False</td>\n",
              "      <td>1.6</td>\n",
              "    </tr>\n",
              "    <tr>\n",
              "      <th>607</th>\n",
              "      <td>608</td>\n",
              "      <td>40.0</td>\n",
              "      <td>Male</td>\n",
              "      <td>Switzerland</td>\n",
              "      <td>asymptomatic</td>\n",
              "      <td>NaN</td>\n",
              "      <td>NaN</td>\n",
              "      <td>NaN</td>\n",
              "      <td>st-t abnormality</td>\n",
              "      <td>144.0</td>\n",
              "      <td>False</td>\n",
              "      <td>0.0</td>\n",
              "    </tr>\n",
              "    <tr>\n",
              "      <th>168</th>\n",
              "      <td>169</td>\n",
              "      <td>35.0</td>\n",
              "      <td>Male</td>\n",
              "      <td>Cleveland</td>\n",
              "      <td>asymptomatic</td>\n",
              "      <td>126.0</td>\n",
              "      <td>282.0</td>\n",
              "      <td>False</td>\n",
              "      <td>lv hypertrophy</td>\n",
              "      <td>156.0</td>\n",
              "      <td>True</td>\n",
              "      <td>0.0</td>\n",
              "    </tr>\n",
              "    <tr>\n",
              "      <th>334</th>\n",
              "      <td>335</td>\n",
              "      <td>39.0</td>\n",
              "      <td>Male</td>\n",
              "      <td>Hungary</td>\n",
              "      <td>atypical angina</td>\n",
              "      <td>120.0</td>\n",
              "      <td>NaN</td>\n",
              "      <td>False</td>\n",
              "      <td>st-t abnormality</td>\n",
              "      <td>146.0</td>\n",
              "      <td>False</td>\n",
              "      <td>2.0</td>\n",
              "    </tr>\n",
              "  </tbody>\n",
              "</table>\n",
              "</div>"
            ],
            "text/plain": [
              "      id   age   sex      dataset               cp  trestbps   chol    fbs  \\\n",
              "703  704  64.0  Male  Switzerland     asymptomatic     110.0    NaN    NaN   \n",
              "608  609  41.0  Male  Switzerland     asymptomatic     125.0    NaN    NaN   \n",
              "607  608  40.0  Male  Switzerland     asymptomatic       NaN    NaN    NaN   \n",
              "168  169  35.0  Male    Cleveland     asymptomatic     126.0  282.0  False   \n",
              "334  335  39.0  Male      Hungary  atypical angina     120.0    NaN  False   \n",
              "\n",
              "              restecg  thalch  exang  oldpeak  \n",
              "703            normal   114.0   True      1.3  \n",
              "608            normal   176.0  False      1.6  \n",
              "607  st-t abnormality   144.0  False      0.0  \n",
              "168    lv hypertrophy   156.0   True      0.0  \n",
              "334  st-t abnormality   146.0  False      2.0  "
            ]
          },
          "execution_count": 45,
          "metadata": {},
          "output_type": "execute_result"
        }
      ],
      "source": [
        "X_train_scaled.head()"
      ]
    },
    {
      "cell_type": "code",
      "execution_count": 46,
      "metadata": {
        "colab": {
          "base_uri": "https://localhost:8080/",
          "height": 206
        },
        "id": "3iMfiao0xUd1",
        "outputId": "01adfc5e-0ac4-4c60-c389-94021fc9b3a2"
      },
      "outputs": [
        {
          "data": {
            "text/html": [
              "<div>\n",
              "<style scoped>\n",
              "    .dataframe tbody tr th:only-of-type {\n",
              "        vertical-align: middle;\n",
              "    }\n",
              "\n",
              "    .dataframe tbody tr th {\n",
              "        vertical-align: top;\n",
              "    }\n",
              "\n",
              "    .dataframe thead th {\n",
              "        text-align: right;\n",
              "    }\n",
              "</style>\n",
              "<table border=\"1\" class=\"dataframe\">\n",
              "  <thead>\n",
              "    <tr style=\"text-align: right;\">\n",
              "      <th></th>\n",
              "      <th>id</th>\n",
              "      <th>age</th>\n",
              "      <th>sex</th>\n",
              "      <th>dataset</th>\n",
              "      <th>cp</th>\n",
              "      <th>trestbps</th>\n",
              "      <th>chol</th>\n",
              "      <th>fbs</th>\n",
              "      <th>restecg</th>\n",
              "      <th>thalch</th>\n",
              "      <th>exang</th>\n",
              "      <th>oldpeak</th>\n",
              "    </tr>\n",
              "  </thead>\n",
              "  <tbody>\n",
              "    <tr>\n",
              "      <th>390</th>\n",
              "      <td>391</td>\n",
              "      <td>47.0</td>\n",
              "      <td>Male</td>\n",
              "      <td>Hungary</td>\n",
              "      <td>typical angina</td>\n",
              "      <td>110.0</td>\n",
              "      <td>249.0</td>\n",
              "      <td>False</td>\n",
              "      <td>normal</td>\n",
              "      <td>150.0</td>\n",
              "      <td>False</td>\n",
              "      <td>0.0</td>\n",
              "    </tr>\n",
              "    <tr>\n",
              "      <th>94</th>\n",
              "      <td>95</td>\n",
              "      <td>63.0</td>\n",
              "      <td>Female</td>\n",
              "      <td>Cleveland</td>\n",
              "      <td>non-anginal</td>\n",
              "      <td>135.0</td>\n",
              "      <td>252.0</td>\n",
              "      <td>False</td>\n",
              "      <td>lv hypertrophy</td>\n",
              "      <td>172.0</td>\n",
              "      <td>False</td>\n",
              "      <td>0.0</td>\n",
              "    </tr>\n",
              "    <tr>\n",
              "      <th>882</th>\n",
              "      <td>883</td>\n",
              "      <td>57.0</td>\n",
              "      <td>Male</td>\n",
              "      <td>VA Long Beach</td>\n",
              "      <td>asymptomatic</td>\n",
              "      <td>156.0</td>\n",
              "      <td>173.0</td>\n",
              "      <td>False</td>\n",
              "      <td>lv hypertrophy</td>\n",
              "      <td>119.0</td>\n",
              "      <td>True</td>\n",
              "      <td>3.0</td>\n",
              "    </tr>\n",
              "    <tr>\n",
              "      <th>432</th>\n",
              "      <td>433</td>\n",
              "      <td>52.0</td>\n",
              "      <td>Male</td>\n",
              "      <td>Hungary</td>\n",
              "      <td>atypical angina</td>\n",
              "      <td>160.0</td>\n",
              "      <td>196.0</td>\n",
              "      <td>False</td>\n",
              "      <td>normal</td>\n",
              "      <td>165.0</td>\n",
              "      <td>False</td>\n",
              "      <td>0.0</td>\n",
              "    </tr>\n",
              "    <tr>\n",
              "      <th>228</th>\n",
              "      <td>229</td>\n",
              "      <td>54.0</td>\n",
              "      <td>Male</td>\n",
              "      <td>Cleveland</td>\n",
              "      <td>asymptomatic</td>\n",
              "      <td>110.0</td>\n",
              "      <td>206.0</td>\n",
              "      <td>False</td>\n",
              "      <td>lv hypertrophy</td>\n",
              "      <td>108.0</td>\n",
              "      <td>True</td>\n",
              "      <td>0.0</td>\n",
              "    </tr>\n",
              "  </tbody>\n",
              "</table>\n",
              "</div>"
            ],
            "text/plain": [
              "      id   age     sex        dataset               cp  trestbps   chol  \\\n",
              "390  391  47.0    Male        Hungary   typical angina     110.0  249.0   \n",
              "94    95  63.0  Female      Cleveland      non-anginal     135.0  252.0   \n",
              "882  883  57.0    Male  VA Long Beach     asymptomatic     156.0  173.0   \n",
              "432  433  52.0    Male        Hungary  atypical angina     160.0  196.0   \n",
              "228  229  54.0    Male      Cleveland     asymptomatic     110.0  206.0   \n",
              "\n",
              "       fbs         restecg  thalch  exang  oldpeak  \n",
              "390  False          normal   150.0  False      0.0  \n",
              "94   False  lv hypertrophy   172.0  False      0.0  \n",
              "882  False  lv hypertrophy   119.0   True      3.0  \n",
              "432  False          normal   165.0  False      0.0  \n",
              "228  False  lv hypertrophy   108.0   True      0.0  "
            ]
          },
          "execution_count": 46,
          "metadata": {},
          "output_type": "execute_result"
        }
      ],
      "source": [
        "X_test_scaled.head()"
      ]
    },
    {
      "cell_type": "code",
      "execution_count": 47,
      "metadata": {
        "id": "ww4vOm0m0VKy"
      },
      "outputs": [],
      "source": [
        "robust_scaler = RobustScaler()\n",
        "minmax_scaler = MinMaxScaler()\n",
        "\n",
        "X_train_scaled[numerical_columns] = pd.DataFrame(minmax_scaler.fit_transform(X_train[numerical_columns]), index=X_train.index, columns=X_train[numerical_columns].columns)\n",
        "X_test_scaled[numerical_columns] = pd.DataFrame(minmax_scaler.transform(X_test[numerical_columns]), index=X_test.index, columns=X_test[numerical_columns].columns)"
      ]
    },
    {
      "cell_type": "code",
      "execution_count": 48,
      "metadata": {
        "colab": {
          "base_uri": "https://localhost:8080/",
          "height": 206
        },
        "id": "Mnu4mPf89Vn8",
        "outputId": "66fa8fb9-1f34-404d-8648-6f31c39c981b"
      },
      "outputs": [
        {
          "data": {
            "text/html": [
              "<div>\n",
              "<style scoped>\n",
              "    .dataframe tbody tr th:only-of-type {\n",
              "        vertical-align: middle;\n",
              "    }\n",
              "\n",
              "    .dataframe tbody tr th {\n",
              "        vertical-align: top;\n",
              "    }\n",
              "\n",
              "    .dataframe thead th {\n",
              "        text-align: right;\n",
              "    }\n",
              "</style>\n",
              "<table border=\"1\" class=\"dataframe\">\n",
              "  <thead>\n",
              "    <tr style=\"text-align: right;\">\n",
              "      <th></th>\n",
              "      <th>id</th>\n",
              "      <th>age</th>\n",
              "      <th>sex</th>\n",
              "      <th>dataset</th>\n",
              "      <th>cp</th>\n",
              "      <th>trestbps</th>\n",
              "      <th>chol</th>\n",
              "      <th>fbs</th>\n",
              "      <th>restecg</th>\n",
              "      <th>thalch</th>\n",
              "      <th>exang</th>\n",
              "      <th>oldpeak</th>\n",
              "    </tr>\n",
              "  </thead>\n",
              "  <tbody>\n",
              "    <tr>\n",
              "      <th>703</th>\n",
              "      <td>0.766630</td>\n",
              "      <td>0.761905</td>\n",
              "      <td>Male</td>\n",
              "      <td>Switzerland</td>\n",
              "      <td>asymptomatic</td>\n",
              "      <td>0.166667</td>\n",
              "      <td>NaN</td>\n",
              "      <td>NaN</td>\n",
              "      <td>normal</td>\n",
              "      <td>0.279279</td>\n",
              "      <td>True</td>\n",
              "      <td>0.622222</td>\n",
              "    </tr>\n",
              "    <tr>\n",
              "      <th>608</th>\n",
              "      <td>0.663032</td>\n",
              "      <td>0.214286</td>\n",
              "      <td>Male</td>\n",
              "      <td>Switzerland</td>\n",
              "      <td>asymptomatic</td>\n",
              "      <td>0.416667</td>\n",
              "      <td>NaN</td>\n",
              "      <td>NaN</td>\n",
              "      <td>normal</td>\n",
              "      <td>0.837838</td>\n",
              "      <td>False</td>\n",
              "      <td>0.688889</td>\n",
              "    </tr>\n",
              "    <tr>\n",
              "      <th>607</th>\n",
              "      <td>0.661941</td>\n",
              "      <td>0.190476</td>\n",
              "      <td>Male</td>\n",
              "      <td>Switzerland</td>\n",
              "      <td>asymptomatic</td>\n",
              "      <td>NaN</td>\n",
              "      <td>NaN</td>\n",
              "      <td>NaN</td>\n",
              "      <td>st-t abnormality</td>\n",
              "      <td>0.549550</td>\n",
              "      <td>False</td>\n",
              "      <td>0.333333</td>\n",
              "    </tr>\n",
              "    <tr>\n",
              "      <th>168</th>\n",
              "      <td>0.183206</td>\n",
              "      <td>0.071429</td>\n",
              "      <td>Male</td>\n",
              "      <td>Cleveland</td>\n",
              "      <td>asymptomatic</td>\n",
              "      <td>0.433333</td>\n",
              "      <td>0.716364</td>\n",
              "      <td>False</td>\n",
              "      <td>lv hypertrophy</td>\n",
              "      <td>0.657658</td>\n",
              "      <td>True</td>\n",
              "      <td>0.333333</td>\n",
              "    </tr>\n",
              "    <tr>\n",
              "      <th>334</th>\n",
              "      <td>0.364231</td>\n",
              "      <td>0.166667</td>\n",
              "      <td>Male</td>\n",
              "      <td>Hungary</td>\n",
              "      <td>atypical angina</td>\n",
              "      <td>0.333333</td>\n",
              "      <td>NaN</td>\n",
              "      <td>False</td>\n",
              "      <td>st-t abnormality</td>\n",
              "      <td>0.567568</td>\n",
              "      <td>False</td>\n",
              "      <td>0.777778</td>\n",
              "    </tr>\n",
              "  </tbody>\n",
              "</table>\n",
              "</div>"
            ],
            "text/plain": [
              "           id       age   sex      dataset               cp  trestbps  \\\n",
              "703  0.766630  0.761905  Male  Switzerland     asymptomatic  0.166667   \n",
              "608  0.663032  0.214286  Male  Switzerland     asymptomatic  0.416667   \n",
              "607  0.661941  0.190476  Male  Switzerland     asymptomatic       NaN   \n",
              "168  0.183206  0.071429  Male    Cleveland     asymptomatic  0.433333   \n",
              "334  0.364231  0.166667  Male      Hungary  atypical angina  0.333333   \n",
              "\n",
              "         chol    fbs           restecg    thalch  exang   oldpeak  \n",
              "703       NaN    NaN            normal  0.279279   True  0.622222  \n",
              "608       NaN    NaN            normal  0.837838  False  0.688889  \n",
              "607       NaN    NaN  st-t abnormality  0.549550  False  0.333333  \n",
              "168  0.716364  False    lv hypertrophy  0.657658   True  0.333333  \n",
              "334       NaN  False  st-t abnormality  0.567568  False  0.777778  "
            ]
          },
          "execution_count": 48,
          "metadata": {},
          "output_type": "execute_result"
        }
      ],
      "source": [
        "X_train_scaled.head()"
      ]
    },
    {
      "cell_type": "code",
      "execution_count": 49,
      "metadata": {
        "colab": {
          "base_uri": "https://localhost:8080/",
          "height": 206
        },
        "id": "IpdcYwDQyB6Y",
        "outputId": "f2d10e02-6441-4dcd-f580-00ddb1ce498f"
      },
      "outputs": [
        {
          "data": {
            "text/html": [
              "<div>\n",
              "<style scoped>\n",
              "    .dataframe tbody tr th:only-of-type {\n",
              "        vertical-align: middle;\n",
              "    }\n",
              "\n",
              "    .dataframe tbody tr th {\n",
              "        vertical-align: top;\n",
              "    }\n",
              "\n",
              "    .dataframe thead th {\n",
              "        text-align: right;\n",
              "    }\n",
              "</style>\n",
              "<table border=\"1\" class=\"dataframe\">\n",
              "  <thead>\n",
              "    <tr style=\"text-align: right;\">\n",
              "      <th></th>\n",
              "      <th>id</th>\n",
              "      <th>age</th>\n",
              "      <th>sex</th>\n",
              "      <th>dataset</th>\n",
              "      <th>cp</th>\n",
              "      <th>trestbps</th>\n",
              "      <th>chol</th>\n",
              "      <th>fbs</th>\n",
              "      <th>restecg</th>\n",
              "      <th>thalch</th>\n",
              "      <th>exang</th>\n",
              "      <th>oldpeak</th>\n",
              "    </tr>\n",
              "  </thead>\n",
              "  <tbody>\n",
              "    <tr>\n",
              "      <th>390</th>\n",
              "      <td>0.425300</td>\n",
              "      <td>0.357143</td>\n",
              "      <td>Male</td>\n",
              "      <td>Hungary</td>\n",
              "      <td>typical angina</td>\n",
              "      <td>0.166667</td>\n",
              "      <td>0.596364</td>\n",
              "      <td>False</td>\n",
              "      <td>normal</td>\n",
              "      <td>0.603604</td>\n",
              "      <td>False</td>\n",
              "      <td>0.333333</td>\n",
              "    </tr>\n",
              "    <tr>\n",
              "      <th>94</th>\n",
              "      <td>0.102508</td>\n",
              "      <td>0.738095</td>\n",
              "      <td>Female</td>\n",
              "      <td>Cleveland</td>\n",
              "      <td>non-anginal</td>\n",
              "      <td>0.583333</td>\n",
              "      <td>0.607273</td>\n",
              "      <td>False</td>\n",
              "      <td>lv hypertrophy</td>\n",
              "      <td>0.801802</td>\n",
              "      <td>False</td>\n",
              "      <td>0.333333</td>\n",
              "    </tr>\n",
              "    <tr>\n",
              "      <th>882</th>\n",
              "      <td>0.961832</td>\n",
              "      <td>0.595238</td>\n",
              "      <td>Male</td>\n",
              "      <td>VA Long Beach</td>\n",
              "      <td>asymptomatic</td>\n",
              "      <td>0.933333</td>\n",
              "      <td>0.320000</td>\n",
              "      <td>False</td>\n",
              "      <td>lv hypertrophy</td>\n",
              "      <td>0.324324</td>\n",
              "      <td>True</td>\n",
              "      <td>1.000000</td>\n",
              "    </tr>\n",
              "    <tr>\n",
              "      <th>432</th>\n",
              "      <td>0.471101</td>\n",
              "      <td>0.476190</td>\n",
              "      <td>Male</td>\n",
              "      <td>Hungary</td>\n",
              "      <td>atypical angina</td>\n",
              "      <td>1.000000</td>\n",
              "      <td>0.403636</td>\n",
              "      <td>False</td>\n",
              "      <td>normal</td>\n",
              "      <td>0.738739</td>\n",
              "      <td>False</td>\n",
              "      <td>0.333333</td>\n",
              "    </tr>\n",
              "    <tr>\n",
              "      <th>228</th>\n",
              "      <td>0.248637</td>\n",
              "      <td>0.523810</td>\n",
              "      <td>Male</td>\n",
              "      <td>Cleveland</td>\n",
              "      <td>asymptomatic</td>\n",
              "      <td>0.166667</td>\n",
              "      <td>0.440000</td>\n",
              "      <td>False</td>\n",
              "      <td>lv hypertrophy</td>\n",
              "      <td>0.225225</td>\n",
              "      <td>True</td>\n",
              "      <td>0.333333</td>\n",
              "    </tr>\n",
              "  </tbody>\n",
              "</table>\n",
              "</div>"
            ],
            "text/plain": [
              "           id       age     sex        dataset               cp  trestbps  \\\n",
              "390  0.425300  0.357143    Male        Hungary   typical angina  0.166667   \n",
              "94   0.102508  0.738095  Female      Cleveland      non-anginal  0.583333   \n",
              "882  0.961832  0.595238    Male  VA Long Beach     asymptomatic  0.933333   \n",
              "432  0.471101  0.476190    Male        Hungary  atypical angina  1.000000   \n",
              "228  0.248637  0.523810    Male      Cleveland     asymptomatic  0.166667   \n",
              "\n",
              "         chol    fbs         restecg    thalch  exang   oldpeak  \n",
              "390  0.596364  False          normal  0.603604  False  0.333333  \n",
              "94   0.607273  False  lv hypertrophy  0.801802  False  0.333333  \n",
              "882  0.320000  False  lv hypertrophy  0.324324   True  1.000000  \n",
              "432  0.403636  False          normal  0.738739  False  0.333333  \n",
              "228  0.440000  False  lv hypertrophy  0.225225   True  0.333333  "
            ]
          },
          "execution_count": 49,
          "metadata": {},
          "output_type": "execute_result"
        }
      ],
      "source": [
        "X_test_scaled.head()"
      ]
    },
    {
      "cell_type": "code",
      "execution_count": 50,
      "metadata": {
        "colab": {
          "base_uri": "https://localhost:8080/"
        },
        "id": "fA3GDd8tyF70",
        "outputId": "9691a87c-bbc3-427c-a3c8-94563733cb61"
      },
      "outputs": [
        {
          "name": "stdout",
          "output_type": "stream",
          "text": [
            "<class 'pandas.core.frame.DataFrame'>\n",
            "Index: 713 entries, 703 to 255\n",
            "Data columns (total 12 columns):\n",
            " #   Column    Non-Null Count  Dtype  \n",
            "---  ------    --------------  -----  \n",
            " 0   id        713 non-null    float64\n",
            " 1   age       702 non-null    float64\n",
            " 2   sex       713 non-null    object \n",
            " 3   dataset   713 non-null    object \n",
            " 4   cp        713 non-null    object \n",
            " 5   trestbps  625 non-null    float64\n",
            " 6   chol      535 non-null    float64\n",
            " 7   fbs       637 non-null    object \n",
            " 8   restecg   711 non-null    object \n",
            " 9   thalch    656 non-null    float64\n",
            " 10  exang     673 non-null    object \n",
            " 11  oldpeak   647 non-null    float64\n",
            "dtypes: float64(6), object(6)\n",
            "memory usage: 72.4+ KB\n"
          ]
        }
      ],
      "source": [
        "X_train_scaled.info()"
      ]
    },
    {
      "cell_type": "markdown",
      "metadata": {
        "id": "PJ850V9NQKn5"
      },
      "source": [
        "### getting the heatmap of the rest of the missing values"
      ]
    },
    {
      "cell_type": "code",
      "execution_count": 51,
      "metadata": {
        "colab": {
          "base_uri": "https://localhost:8080/",
          "height": 497
        },
        "id": "Z7upVZq-Nkrp",
        "outputId": "30049352-85bf-4b01-d343-90460f0c08b0"
      },
      "outputs": [
        {
          "data": {
            "text/plain": [
              "<Axes: >"
            ]
          },
          "execution_count": 51,
          "metadata": {},
          "output_type": "execute_result"
        },
        {
          "data": {
            "image/png": "[encoded data removed]",
            "text/plain": [
              "<Figure size 640x480 with 1 Axes>"
            ]
          },
          "metadata": {},
          "output_type": "display_data"
        }
      ],
      "source": [
        "sns.heatmap(X_train_scaled.isnull(), cmap='coolwarm', cbar=False)"
      ]
    },
    {
      "cell_type": "markdown",
      "metadata": {
        "id": "JUnQO-kkTBDz"
      },
      "source": [
        "## missing value treatment"
      ]
    },
    {
      "cell_type": "code",
      "execution_count": 52,
      "metadata": {
        "id": "KFMEgiRboOB6"
      },
      "outputs": [],
      "source": [
        "X_train_imputed = X_train_scaled.copy()\n",
        "X_test_imputed = X_test_scaled.copy()"
      ]
    },
    {
      "cell_type": "markdown",
      "metadata": {
        "id": "4LAXL02ioFyu"
      },
      "source": [
        "### numerical columns"
      ]
    },
    {
      "cell_type": "code",
      "execution_count": 53,
      "metadata": {
        "id": "1z13Fg76QOVX"
      },
      "outputs": [],
      "source": [
        "from sklearn.impute import KNNImputer\n",
        "\n",
        "knnImputer = KNNImputer(n_neighbors=5)"
      ]
    },
    {
      "cell_type": "code",
      "execution_count": 54,
      "metadata": {
        "id": "HdSNxG_0n7X4"
      },
      "outputs": [],
      "source": [
        "X_train_imputed[numerical_columns] = pd.DataFrame(knnImputer.fit_transform(X_train_scaled[numerical_columns]), index=X_train_scaled.index, columns=X_train_scaled[numerical_columns].columns)\n",
        "X_test_imputed[numerical_columns] = pd.DataFrame(knnImputer.transform(X_test_scaled[numerical_columns]), index=X_test_scaled.index, columns=X_test_scaled[numerical_columns].columns)"
      ]
    },
    {
      "cell_type": "code",
      "execution_count": 55,
      "metadata": {
        "colab": {
          "base_uri": "https://localhost:8080/",
          "height": 460
        },
        "id": "EwDtQ6M2otLV",
        "outputId": "42531e75-57ba-4af6-b3a1-c987b59f7fee"
      },
      "outputs": [
        {
          "data": {
            "text/plain": [
              "fbs         76\n",
              "exang       40\n",
              "restecg      2\n",
              "id           0\n",
              "dataset      0\n",
              "sex          0\n",
              "age          0\n",
              "cp           0\n",
              "chol         0\n",
              "trestbps     0\n",
              "thalch       0\n",
              "oldpeak      0\n",
              "dtype: int64"
            ]
          },
          "execution_count": 55,
          "metadata": {},
          "output_type": "execute_result"
        }
      ],
      "source": [
        "X_train_imputed.isnull().sum().sort_values(ascending=False)"
      ]
    },
    {
      "cell_type": "code",
      "execution_count": 56,
      "metadata": {
        "colab": {
          "base_uri": "https://localhost:8080/",
          "height": 206
        },
        "id": "cQJ0Bknzqu_Q",
        "outputId": "339e8e9a-bcd3-47f2-c8d3-17c676b0ac62"
      },
      "outputs": [
        {
          "data": {
            "text/html": [
              "<div>\n",
              "<style scoped>\n",
              "    .dataframe tbody tr th:only-of-type {\n",
              "        vertical-align: middle;\n",
              "    }\n",
              "\n",
              "    .dataframe tbody tr th {\n",
              "        vertical-align: top;\n",
              "    }\n",
              "\n",
              "    .dataframe thead th {\n",
              "        text-align: right;\n",
              "    }\n",
              "</style>\n",
              "<table border=\"1\" class=\"dataframe\">\n",
              "  <thead>\n",
              "    <tr style=\"text-align: right;\">\n",
              "      <th></th>\n",
              "      <th>id</th>\n",
              "      <th>age</th>\n",
              "      <th>sex</th>\n",
              "      <th>dataset</th>\n",
              "      <th>cp</th>\n",
              "      <th>trestbps</th>\n",
              "      <th>chol</th>\n",
              "      <th>fbs</th>\n",
              "      <th>restecg</th>\n",
              "      <th>thalch</th>\n",
              "      <th>exang</th>\n",
              "      <th>oldpeak</th>\n",
              "    </tr>\n",
              "  </thead>\n",
              "  <tbody>\n",
              "    <tr>\n",
              "      <th>703</th>\n",
              "      <td>0.766630</td>\n",
              "      <td>0.761905</td>\n",
              "      <td>Male</td>\n",
              "      <td>Switzerland</td>\n",
              "      <td>asymptomatic</td>\n",
              "      <td>0.166667</td>\n",
              "      <td>0.623273</td>\n",
              "      <td>NaN</td>\n",
              "      <td>normal</td>\n",
              "      <td>0.279279</td>\n",
              "      <td>True</td>\n",
              "      <td>0.622222</td>\n",
              "    </tr>\n",
              "    <tr>\n",
              "      <th>608</th>\n",
              "      <td>0.663032</td>\n",
              "      <td>0.214286</td>\n",
              "      <td>Male</td>\n",
              "      <td>Switzerland</td>\n",
              "      <td>asymptomatic</td>\n",
              "      <td>0.416667</td>\n",
              "      <td>0.610909</td>\n",
              "      <td>NaN</td>\n",
              "      <td>normal</td>\n",
              "      <td>0.837838</td>\n",
              "      <td>False</td>\n",
              "      <td>0.688889</td>\n",
              "    </tr>\n",
              "    <tr>\n",
              "      <th>607</th>\n",
              "      <td>0.661941</td>\n",
              "      <td>0.190476</td>\n",
              "      <td>Male</td>\n",
              "      <td>Switzerland</td>\n",
              "      <td>asymptomatic</td>\n",
              "      <td>0.333333</td>\n",
              "      <td>0.619636</td>\n",
              "      <td>NaN</td>\n",
              "      <td>st-t abnormality</td>\n",
              "      <td>0.549550</td>\n",
              "      <td>False</td>\n",
              "      <td>0.333333</td>\n",
              "    </tr>\n",
              "    <tr>\n",
              "      <th>168</th>\n",
              "      <td>0.183206</td>\n",
              "      <td>0.071429</td>\n",
              "      <td>Male</td>\n",
              "      <td>Cleveland</td>\n",
              "      <td>asymptomatic</td>\n",
              "      <td>0.433333</td>\n",
              "      <td>0.716364</td>\n",
              "      <td>False</td>\n",
              "      <td>lv hypertrophy</td>\n",
              "      <td>0.657658</td>\n",
              "      <td>True</td>\n",
              "      <td>0.333333</td>\n",
              "    </tr>\n",
              "    <tr>\n",
              "      <th>334</th>\n",
              "      <td>0.364231</td>\n",
              "      <td>0.166667</td>\n",
              "      <td>Male</td>\n",
              "      <td>Hungary</td>\n",
              "      <td>atypical angina</td>\n",
              "      <td>0.333333</td>\n",
              "      <td>0.455273</td>\n",
              "      <td>False</td>\n",
              "      <td>st-t abnormality</td>\n",
              "      <td>0.567568</td>\n",
              "      <td>False</td>\n",
              "      <td>0.777778</td>\n",
              "    </tr>\n",
              "  </tbody>\n",
              "</table>\n",
              "</div>"
            ],
            "text/plain": [
              "           id       age   sex      dataset               cp  trestbps  \\\n",
              "703  0.766630  0.761905  Male  Switzerland     asymptomatic  0.166667   \n",
              "608  0.663032  0.214286  Male  Switzerland     asymptomatic  0.416667   \n",
              "607  0.661941  0.190476  Male  Switzerland     asymptomatic  0.333333   \n",
              "168  0.183206  0.071429  Male    Cleveland     asymptomatic  0.433333   \n",
              "334  0.364231  0.166667  Male      Hungary  atypical angina  0.333333   \n",
              "\n",
              "         chol    fbs           restecg    thalch  exang   oldpeak  \n",
              "703  0.623273    NaN            normal  0.279279   True  0.622222  \n",
              "608  0.610909    NaN            normal  0.837838  False  0.688889  \n",
              "607  0.619636    NaN  st-t abnormality  0.549550  False  0.333333  \n",
              "168  0.716364  False    lv hypertrophy  0.657658   True  0.333333  \n",
              "334  0.455273  False  st-t abnormality  0.567568  False  0.777778  "
            ]
          },
          "execution_count": 56,
          "metadata": {},
          "output_type": "execute_result"
        }
      ],
      "source": [
        "X_train_imputed.head()"
      ]
    },
    {
      "cell_type": "code",
      "execution_count": 57,
      "metadata": {
        "colab": {
          "base_uri": "https://localhost:8080/",
          "height": 548
        },
        "id": "TGIxb--Zi41B",
        "outputId": "32c0e767-577a-4343-e849-73643fcb1f73"
      },
      "outputs": [
        {
          "data": {
            "image/png": "[encoded data removed]",
            "text/plain": [
              "<Figure size 1000x800 with 6 Axes>"
            ]
          },
          "metadata": {},
          "output_type": "display_data"
        }
      ],
      "source": [
        "plt.figure(figsize=(10, 8))\n",
        "for i in range(len(numerical_columns)):\n",
        "  plt.subplot(3, 3, i+1)\n",
        "  sns.boxplot(y=numerical_columns[i], data=X_train_imputed)\n",
        "  plt.title(numerical_columns[i])\n",
        "plt.tight_layout()\n",
        "plt.show()"
      ]
    },
    {
      "cell_type": "markdown",
      "metadata": {
        "id": "2HZ9yw1NoJsZ"
      },
      "source": [
        "### categorical columns"
      ]
    },
    {
      "cell_type": "code",
      "execution_count": 58,
      "metadata": {
        "colab": {
          "base_uri": "https://localhost:8080/"
        },
        "id": "AO1hLOd8gRPh",
        "outputId": "c34e6627-3ee4-4dec-94b1-cd074d6b7fd9"
      },
      "outputs": [
        {
          "name": "stdout",
          "output_type": "stream",
          "text": [
            "Categorical columns to impute (in order): ['fbs', 'restecg', 'exang']\n"
          ]
        }
      ],
      "source": [
        "cols_with_missing = [col for col in categorical_columns if X_train_imputed[col].isnull().sum() > 0]\n",
        "print(\"Categorical columns to impute (in order):\", cols_with_missing)"
      ]
    },
    {
      "cell_type": "code",
      "execution_count": 59,
      "metadata": {
        "id": "EvtiLbMqn2Bg"
      },
      "outputs": [],
      "source": [
        "from sklearn.ensemble import RandomForestClassifier\n",
        "from imblearn.ensemble import BalancedRandomForestClassifier\n",
        "from sklearn.preprocessing import OneHotEncoder\n",
        "from sklearn.impute import SimpleImputer\n",
        "from sklearn.compose import ColumnTransformer"
      ]
    },
    {
      "cell_type": "code",
      "execution_count": 60,
      "metadata": {
        "colab": {
          "base_uri": "https://localhost:8080/"
        },
        "id": "0-sPbgjGuxia",
        "outputId": "ce8ab2ac-1ac3-42a2-d8f5-d30715e3d87e"
      },
      "outputs": [
        {
          "data": {
            "text/plain": [
              "(713, 6)"
            ]
          },
          "execution_count": 60,
          "metadata": {},
          "output_type": "execute_result"
        }
      ],
      "source": [
        "X_train_imp = X_train_imputed[categorical_columns].copy()\n",
        "X_test_imp = X_test_imputed[categorical_columns].copy()\n",
        "\n",
        "X_train_imp.shape"
      ]
    },
    {
      "cell_type": "code",
      "execution_count": 61,
      "metadata": {
        "id": "PBFK_420wfR-"
      },
      "outputs": [],
      "source": [
        "# fill_missing = SimpleImputer(strategy='constant', fill_value='missing')\n",
        "\n",
        "# X_train_imputed = pd.DataFrame(fill_missing.fit_transform(X_train_imputed), index=X_train_imputed.index, columns=X_train_imputed.columns)\n",
        "# X_test_imputed = pd.DataFrame(fill_missing.transform(X_test_imputed), index=X_test_imputed.index, columns=X_test_imputed.columns)"
      ]
    },
    {
      "cell_type": "code",
      "execution_count": 62,
      "metadata": {
        "colab": {
          "base_uri": "https://localhost:8080/"
        },
        "id": "Gfb0pG-bkljZ",
        "outputId": "f8262605-8e7d-47b0-cca2-a251715ea771"
      },
      "outputs": [
        {
          "name": "stdout",
          "output_type": "stream",
          "text": [
            "Imputing feature: fbs\n",
            "Imputing feature: restecg\n",
            "Imputing feature: exang\n"
          ]
        }
      ],
      "source": [
        "for col in cols_with_missing:\n",
        "  print(f'Imputing feature: {col}')\n",
        "\n",
        "  train_observed = X_train_imp[X_train_imp[col].notnull()]\n",
        "  train_miss = X_train_imp[X_train_imp[col].isnull()]\n",
        "\n",
        "  test_miss = X_test_imp[X_test_imp[col].isnull()]\n",
        "\n",
        "  if not train_miss.empty:\n",
        "\n",
        "      X_imp = train_observed.drop(columns=[col])\n",
        "      y_imp = train_observed[col].astype(str)\n",
        "\n",
        "      X_train_na = train_miss.drop(columns=[col])\n",
        "\n",
        "      ohe = OneHotEncoder(\n",
        "          # drop='first',\n",
        "          handle_unknown='ignore',\n",
        "          sparse_output=False\n",
        "      )\n",
        "\n",
        "      ohe.fit(X_imp)\n",
        "      cols_name = ohe.get_feature_names_out()\n",
        "\n",
        "      X_imp_encoded = pd.DataFrame(ohe.transform(X_imp),\n",
        "                                  index=X_imp.index,\n",
        "                                  columns=cols_name)\n",
        "      X_train_na_enc = pd.DataFrame(ohe.transform(X_train_na),\n",
        "                                  index=X_train_na.index,\n",
        "                                  columns=cols_name)\n",
        "\n",
        "      random_forest_classifier = BalancedRandomForestClassifier(\n",
        "                                    random_state=42,\n",
        "                                    # class_weight='balanced'\n",
        "                                  )\n",
        "      random_forest_classifier.fit(X_imp_encoded, y_imp)\n",
        "\n",
        "      train_fill = random_forest_classifier.predict(X_train_na_enc)\n",
        "\n",
        "      X_train_imputed.loc[train_miss.index, col] = train_fill\n",
        "\n",
        "  if not test_miss.empty:\n",
        "      X_test_na = test_miss.drop(columns=[col])\n",
        "      ohe_test = OneHotEncoder(\n",
        "          # drop='first',\n",
        "          handle_unknown='ignore',\n",
        "          sparse_output=False\n",
        "      )\n",
        "      ohe_test.fit(X_imp)\n",
        "      cols_name_test = ohe_test.get_feature_names_out()\n",
        "\n",
        "      X_test_na_enc  = pd.DataFrame(ohe_test.transform(X_test_na),\n",
        "                                  index=X_test_na.index,\n",
        "                                  columns=cols_name_test)\n",
        "\n",
        "      test_fill = random_forest_classifier.predict(X_test_na_enc)\n",
        "\n",
        "      X_test_imputed.loc[test_miss.index, col] = test_fill"
      ]
    },
    {
      "cell_type": "code",
      "execution_count": 63,
      "metadata": {
        "colab": {
          "base_uri": "https://localhost:8080/",
          "height": 460
        },
        "id": "TNfZj4B3v0ME",
        "outputId": "c047db47-90de-4e70-93ce-aeeb256c7df5"
      },
      "outputs": [
        {
          "data": {
            "text/plain": [
              "id          0\n",
              "age         0\n",
              "sex         0\n",
              "dataset     0\n",
              "cp          0\n",
              "trestbps    0\n",
              "chol        0\n",
              "fbs         0\n",
              "restecg     0\n",
              "thalch      0\n",
              "exang       0\n",
              "oldpeak     0\n",
              "dtype: int64"
            ]
          },
          "execution_count": 63,
          "metadata": {},
          "output_type": "execute_result"
        }
      ],
      "source": [
        "X_train_imputed.isnull().sum().sort_values(ascending=False)"
      ]
    },
    {
      "cell_type": "code",
      "execution_count": 64,
      "metadata": {
        "colab": {
          "base_uri": "https://localhost:8080/",
          "height": 460
        },
        "id": "jKH0bjcfzsJl",
        "outputId": "3011002a-c766-49ab-b1d7-b3533a102342"
      },
      "outputs": [
        {
          "data": {
            "text/plain": [
              "id          0\n",
              "age         0\n",
              "sex         0\n",
              "dataset     0\n",
              "cp          0\n",
              "trestbps    0\n",
              "chol        0\n",
              "fbs         0\n",
              "restecg     0\n",
              "thalch      0\n",
              "exang       0\n",
              "oldpeak     0\n",
              "dtype: int64"
            ]
          },
          "execution_count": 64,
          "metadata": {},
          "output_type": "execute_result"
        }
      ],
      "source": [
        "X_test_imputed.isnull().sum().sort_values(ascending=False)"
      ]
    },
    {
      "cell_type": "code",
      "execution_count": 65,
      "metadata": {
        "colab": {
          "base_uri": "https://localhost:8080/"
        },
        "id": "hGLf8Y_T0FQh",
        "outputId": "55d21929-91bf-4673-e505-5f0e818f6c9d"
      },
      "outputs": [
        {
          "name": "stdout",
          "output_type": "stream",
          "text": [
            "<class 'pandas.core.frame.DataFrame'>\n",
            "Index: 713 entries, 703 to 255\n",
            "Data columns (total 12 columns):\n",
            " #   Column    Non-Null Count  Dtype  \n",
            "---  ------    --------------  -----  \n",
            " 0   id        713 non-null    float64\n",
            " 1   age       713 non-null    float64\n",
            " 2   sex       713 non-null    object \n",
            " 3   dataset   713 non-null    object \n",
            " 4   cp        713 non-null    object \n",
            " 5   trestbps  713 non-null    float64\n",
            " 6   chol      713 non-null    float64\n",
            " 7   fbs       713 non-null    object \n",
            " 8   restecg   713 non-null    object \n",
            " 9   thalch    713 non-null    float64\n",
            " 10  exang     713 non-null    object \n",
            " 11  oldpeak   713 non-null    float64\n",
            "dtypes: float64(6), object(6)\n",
            "memory usage: 88.6+ KB\n"
          ]
        }
      ],
      "source": [
        "X_train_imputed.info()"
      ]
    },
    {
      "cell_type": "markdown",
      "metadata": {
        "id": "W87Avea9QhWo"
      },
      "source": [
        "### feature engineering"
      ]
    },
    {
      "cell_type": "code",
      "execution_count": 66,
      "metadata": {
        "id": "p3mwJLkkQuBr"
      },
      "outputs": [],
      "source": [
        "X_train_engineered = X_train_imputed.copy()\n",
        "X_test_engineered = X_test_imputed.copy()"
      ]
    },
    {
      "cell_type": "code",
      "execution_count": 67,
      "metadata": {
        "id": "kOkepMkGx7dE"
      },
      "outputs": [],
      "source": [
        "X_train_engineered[numerical_columns] = minmax_scaler.inverse_transform(X_train_engineered[numerical_columns])\n",
        "X_test_engineered[numerical_columns] = minmax_scaler.inverse_transform(X_test_engineered[numerical_columns])"
      ]
    },
    {
      "cell_type": "markdown",
      "metadata": {},
      "source": [
        "trying to capture non-linear relationships by binning them into specific ranges to make the model more robust "
      ]
    },
    {
      "cell_type": "code",
      "execution_count": 68,
      "metadata": {
        "id": "0W5DVL4SxZtG"
      },
      "outputs": [],
      "source": [
        "X_train_engineered['age_group'] = pd.cut(\n",
        "    X_train_engineered['age'], bins=[29, 40, 55, 70, 100],\n",
        "    labels=['Young', 'Middle-aged', 'Senior', 'Elderly']\n",
        ")\n",
        "\n",
        "X_test_engineered['age_group'] = pd.cut(\n",
        "    X_test_engineered['age'], bins=[29, 40, 55, 70, 100],\n",
        "    labels=['Young', 'Middle-aged', 'Senior', 'Elderly']\n",
        ")\n",
        "\n",
        "chol_bins = [0, 200, 240, np.inf]\n",
        "chol_labels = ['Desirable', 'Borderline High', 'High']\n",
        "\n",
        "X_train_engineered['chol_category'] = pd.cut(\n",
        "    X_train_engineered['chol'],\n",
        "    bins=chol_bins,\n",
        "    labels=chol_labels,\n",
        "    right=False\n",
        ")\n",
        "\n",
        "X_test_engineered['chol_category'] = pd.cut(\n",
        "    X_test_engineered['chol'],\n",
        "    bins=chol_bins,\n",
        "    labels=chol_labels,\n",
        "    right=False\n",
        ")\n",
        "\n",
        "bp_bins = [0, 120, 130, 140, 180, np.inf]\n",
        "bp_labels = ['Normal', 'Elevated', 'Stage 1', 'Stage 2', 'Crisis']\n",
        "\n",
        "X_train_engineered['bp_category'] = pd.cut(\n",
        "    X_train_engineered['trestbps'],\n",
        "    bins=bp_bins,\n",
        "    labels=bp_labels,\n",
        "    right=False\n",
        ")\n",
        "\n",
        "X_test_engineered['bp_category'] = pd.cut(\n",
        "    X_test_engineered['trestbps'],\n",
        "    bins=bp_bins,\n",
        "    labels=bp_labels,\n",
        "    right=False\n",
        ")"
      ]
    },
    {
      "cell_type": "markdown",
      "metadata": {},
      "source": [
        "idea: maybe the effect of cholesterol will be depended with their age or vice versa, hence trying to combine both of these features"
      ]
    },
    {
      "cell_type": "code",
      "execution_count": 69,
      "metadata": {
        "id": "g-sywFSYWIER"
      },
      "outputs": [],
      "source": [
        "X_train_engineered['age_chol'] = X_train_engineered['age'] * X_train_engineered['chol']\n",
        "X_test_engineered['age_chol'] = X_test_engineered['age'] * X_test_engineered['chol']"
      ]
    },
    {
      "cell_type": "markdown",
      "metadata": {},
      "source": [
        "idea: thalch (raw maximum heart rate) is not informative at all. Hence trying to get the maximum heart rate reserve percentage that can be get through dividing it by (220 - age) albeit using the simplified estimation, it may contain more information than the original data"
      ]
    },
    {
      "cell_type": "code",
      "execution_count": 70,
      "metadata": {
        "id": "vRnOZMPiWkSS"
      },
      "outputs": [],
      "source": [
        "X_train_engineered['heart_rate_reserve'] = X_train_engineered['thalch'] / (220 - X_train_engineered['age'])\n",
        "X_test_engineered['heart_rate_reserve'] = X_test_engineered['thalch'] / (220 - X_test_engineered['age'])"
      ]
    },
    {
      "cell_type": "markdown",
      "metadata": {},
      "source": [
        "- another way of processing thalch just by dividing them and getting the simple ratio form, exploration which is more informative or the both of them are equally important or not (selection will be done at the end)\n",
        "- trying to capture interdependent features, by combining oldpeak (represents ECG changes during stress) and thalch (which is the peak heart rate during that stress) and by multiplying them, it creates a feature that represents both 'intensity' and 'severity' of the cardiovascular responses during stress"
      ]
    },
    {
      "cell_type": "code",
      "execution_count": 71,
      "metadata": {
        "id": "XTxViB1Ay4rg"
      },
      "outputs": [],
      "source": [
        "X_train_engineered['thalch_div_age'] = X_train_engineered['thalch'] / (X_train_engineered['age'] + 1)\n",
        "X_train_engineered['peak_stress'] = X_train_engineered['oldpeak'] * X_train_engineered['thalch']\n",
        "\n",
        "X_test_engineered['thalch_div_age'] = X_test_engineered['thalch'] / (X_test_engineered['age'] + 1)\n",
        "X_test_engineered['peak_stress'] = X_test_engineered['oldpeak'] * X_test_engineered['thalch']"
      ]
    },
    {
      "cell_type": "code",
      "execution_count": 72,
      "metadata": {
        "colab": {
          "base_uri": "https://localhost:8080/",
          "height": 79
        },
        "id": "ymx_Glb4yuH6",
        "outputId": "f45d1289-7708-4e55-ab96-f6da502936a9"
      },
      "outputs": [
        {
          "data": {
            "text/html": [
              "<style>#sk-container-id-1 {\n",
              "  /* Definition of color scheme common for light and dark mode */\n",
              "  --sklearn-color-text: #000;\n",
              "  --sklearn-color-text-muted: #666;\n",
              "  --sklearn-color-line: gray;\n",
              "  /* Definition of color scheme for unfitted estimators */\n",
              "  --sklearn-color-unfitted-level-0: #fff5e6;\n",
              "  --sklearn-color-unfitted-level-1: #f6e4d2;\n",
              "  --sklearn-color-unfitted-level-2: #ffe0b3;\n",
              "  --sklearn-color-unfitted-level-3: chocolate;\n",
              "  /* Definition of color scheme for fitted estimators */\n",
              "  --sklearn-color-fitted-level-0: #f0f8ff;\n",
              "  --sklearn-color-fitted-level-1: #d4ebff;\n",
              "  --sklearn-color-fitted-level-2: #b3dbfd;\n",
              "  --sklearn-color-fitted-level-3: cornflowerblue;\n",
              "\n",
              "  /* Specific color for light theme */\n",
              "  --sklearn-color-text-on-default-background: var(--sg-text-color, var(--theme-code-foreground, var(--jp-content-font-color1, black)));\n",
              "  --sklearn-color-background: var(--sg-background-color, var(--theme-background, var(--jp-layout-color0, white)));\n",
              "  --sklearn-color-border-box: var(--sg-text-color, var(--theme-code-foreground, var(--jp-content-font-color1, black)));\n",
              "  --sklearn-color-icon: #696969;\n",
              "\n",
              "  @media (prefers-color-scheme: dark) {\n",
              "    /* Redefinition of color scheme for dark theme */\n",
              "    --sklearn-color-text-on-default-background: var(--sg-text-color, var(--theme-code-foreground, var(--jp-content-font-color1, white)));\n",
              "    --sklearn-color-background: var(--sg-background-color, var(--theme-background, var(--jp-layout-color0, #111)));\n",
              "    --sklearn-color-border-box: var(--sg-text-color, var(--theme-code-foreground, var(--jp-content-font-color1, white)));\n",
              "    --sklearn-color-icon: #878787;\n",
              "  }\n",
              "}\n",
              "\n",
              "#sk-container-id-1 {\n",
              "  color: var(--sklearn-color-text);\n",
              "}\n",
              "\n",
              "#sk-container-id-1 pre {\n",
              "  padding: 0;\n",
              "}\n",
              "\n",
              "#sk-container-id-1 input.sk-hidden--visually {\n",
              "  border: 0;\n",
              "  clip: rect(1px 1px 1px 1px);\n",
              "  clip: rect(1px, 1px, 1px, 1px);\n",
              "  height: 1px;\n",
              "  margin: -1px;\n",
              "  overflow: hidden;\n",
              "  padding: 0;\n",
              "  position: absolute;\n",
              "  width: 1px;\n",
              "}\n",
              "\n",
              "#sk-container-id-1 div.sk-dashed-wrapped {\n",
              "  border: 1px dashed var(--sklearn-color-line);\n",
              "  margin: 0 0.4em 0.5em 0.4em;\n",
              "  box-sizing: border-box;\n",
              "  padding-bottom: 0.4em;\n",
              "  background-color: var(--sklearn-color-background);\n",
              "}\n",
              "\n",
              "#sk-container-id-1 div.sk-container {\n",
              "  /* jupyter's `normalize.less` sets `[hidden] { display: none; }`\n",
              "     but bootstrap.min.css set `[hidden] { display: none !important; }`\n",
              "     so we also need the `!important` here to be able to override the\n",
              "     default hidden behavior on the sphinx rendered scikit-learn.org.\n",
              "     See: https://github.com/scikit-learn/scikit-learn/issues/21755 */\n",
              "  display: inline-block !important;\n",
              "  position: relative;\n",
              "}\n",
              "\n",
              "#sk-container-id-1 div.sk-text-repr-fallback {\n",
              "  display: none;\n",
              "}\n",
              "\n",
              "div.sk-parallel-item,\n",
              "div.sk-serial,\n",
              "div.sk-item {\n",
              "  /* draw centered vertical line to link estimators */\n",
              "  background-image: linear-gradient(var(--sklearn-color-text-on-default-background), var(--sklearn-color-text-on-default-background));\n",
              "  background-size: 2px 100%;\n",
              "  background-repeat: no-repeat;\n",
              "  background-position: center center;\n",
              "}\n",
              "\n",
              "/* Parallel-specific style estimator block */\n",
              "\n",
              "#sk-container-id-1 div.sk-parallel-item::after {\n",
              "  content: \"\";\n",
              "  width: 100%;\n",
              "  border-bottom: 2px solid var(--sklearn-color-text-on-default-background);\n",
              "  flex-grow: 1;\n",
              "}\n",
              "\n",
              "#sk-container-id-1 div.sk-parallel {\n",
              "  display: flex;\n",
              "  align-items: stretch;\n",
              "  justify-content: center;\n",
              "  background-color: var(--sklearn-color-background);\n",
              "  position: relative;\n",
              "}\n",
              "\n",
              "#sk-container-id-1 div.sk-parallel-item {\n",
              "  display: flex;\n",
              "  flex-direction: column;\n",
              "}\n",
              "\n",
              "#sk-container-id-1 div.sk-parallel-item:first-child::after {\n",
              "  align-self: flex-end;\n",
              "  width: 50%;\n",
              "}\n",
              "\n",
              "#sk-container-id-1 div.sk-parallel-item:last-child::after {\n",
              "  align-self: flex-start;\n",
              "  width: 50%;\n",
              "}\n",
              "\n",
              "#sk-container-id-1 div.sk-parallel-item:only-child::after {\n",
              "  width: 0;\n",
              "}\n",
              "\n",
              "/* Serial-specific style estimator block */\n",
              "\n",
              "#sk-container-id-1 div.sk-serial {\n",
              "  display: flex;\n",
              "  flex-direction: column;\n",
              "  align-items: center;\n",
              "  background-color: var(--sklearn-color-background);\n",
              "  padding-right: 1em;\n",
              "  padding-left: 1em;\n",
              "}\n",
              "\n",
              "\n",
              "/* Toggleable style: style used for estimator/Pipeline/ColumnTransformer box that is\n",
              "clickable and can be expanded/collapsed.\n",
              "- Pipeline and ColumnTransformer use this feature and define the default style\n",
              "- Estimators will overwrite some part of the style using the `sk-estimator` class\n",
              "*/\n",
              "\n",
              "/* Pipeline and ColumnTransformer style (default) */\n",
              "\n",
              "#sk-container-id-1 div.sk-toggleable {\n",
              "  /* Default theme specific background. It is overwritten whether we have a\n",
              "  specific estimator or a Pipeline/ColumnTransformer */\n",
              "  background-color: var(--sklearn-color-background);\n",
              "}\n",
              "\n",
              "/* Toggleable label */\n",
              "#sk-container-id-1 label.sk-toggleable__label {\n",
              "  cursor: pointer;\n",
              "  display: flex;\n",
              "  width: 100%;\n",
              "  margin-bottom: 0;\n",
              "  padding: 0.5em;\n",
              "  box-sizing: border-box;\n",
              "  text-align: center;\n",
              "  align-items: start;\n",
              "  justify-content: space-between;\n",
              "  gap: 0.5em;\n",
              "}\n",
              "\n",
              "#sk-container-id-1 label.sk-toggleable__label .caption {\n",
              "  font-size: 0.6rem;\n",
              "  font-weight: lighter;\n",
              "  color: var(--sklearn-color-text-muted);\n",
              "}\n",
              "\n",
              "#sk-container-id-1 label.sk-toggleable__label-arrow:before {\n",
              "  /* Arrow on the left of the label */\n",
              "  content: \"▸\";\n",
              "  float: left;\n",
              "  margin-right: 0.25em;\n",
              "  color: var(--sklearn-color-icon);\n",
              "}\n",
              "\n",
              "#sk-container-id-1 label.sk-toggleable__label-arrow:hover:before {\n",
              "  color: var(--sklearn-color-text);\n",
              "}\n",
              "\n",
              "/* Toggleable content - dropdown */\n",
              "\n",
              "#sk-container-id-1 div.sk-toggleable__content {\n",
              "  max-height: 0;\n",
              "  max-width: 0;\n",
              "  overflow: hidden;\n",
              "  text-align: left;\n",
              "  /* unfitted */\n",
              "  background-color: var(--sklearn-color-unfitted-level-0);\n",
              "}\n",
              "\n",
              "#sk-container-id-1 div.sk-toggleable__content.fitted {\n",
              "  /* fitted */\n",
              "  background-color: var(--sklearn-color-fitted-level-0);\n",
              "}\n",
              "\n",
              "#sk-container-id-1 div.sk-toggleable__content pre {\n",
              "  margin: 0.2em;\n",
              "  border-radius: 0.25em;\n",
              "  color: var(--sklearn-color-text);\n",
              "  /* unfitted */\n",
              "  background-color: var(--sklearn-color-unfitted-level-0);\n",
              "}\n",
              "\n",
              "#sk-container-id-1 div.sk-toggleable__content.fitted pre {\n",
              "  /* unfitted */\n",
              "  background-color: var(--sklearn-color-fitted-level-0);\n",
              "}\n",
              "\n",
              "#sk-container-id-1 input.sk-toggleable__control:checked~div.sk-toggleable__content {\n",
              "  /* Expand drop-down */\n",
              "  max-height: 200px;\n",
              "  max-width: 100%;\n",
              "  overflow: auto;\n",
              "}\n",
              "\n",
              "#sk-container-id-1 input.sk-toggleable__control:checked~label.sk-toggleable__label-arrow:before {\n",
              "  content: \"▾\";\n",
              "}\n",
              "\n",
              "/* Pipeline/ColumnTransformer-specific style */\n",
              "\n",
              "#sk-container-id-1 div.sk-label input.sk-toggleable__control:checked~label.sk-toggleable__label {\n",
              "  color: var(--sklearn-color-text);\n",
              "  background-color: var(--sklearn-color-unfitted-level-2);\n",
              "}\n",
              "\n",
              "#sk-container-id-1 div.sk-label.fitted input.sk-toggleable__control:checked~label.sk-toggleable__label {\n",
              "  background-color: var(--sklearn-color-fitted-level-2);\n",
              "}\n",
              "\n",
              "/* Estimator-specific style */\n",
              "\n",
              "/* Colorize estimator box */\n",
              "#sk-container-id-1 div.sk-estimator input.sk-toggleable__control:checked~label.sk-toggleable__label {\n",
              "  /* unfitted */\n",
              "  background-color: var(--sklearn-color-unfitted-level-2);\n",
              "}\n",
              "\n",
              "#sk-container-id-1 div.sk-estimator.fitted input.sk-toggleable__control:checked~label.sk-toggleable__label {\n",
              "  /* fitted */\n",
              "  background-color: var(--sklearn-color-fitted-level-2);\n",
              "}\n",
              "\n",
              "#sk-container-id-1 div.sk-label label.sk-toggleable__label,\n",
              "#sk-container-id-1 div.sk-label label {\n",
              "  /* The background is the default theme color */\n",
              "  color: var(--sklearn-color-text-on-default-background);\n",
              "}\n",
              "\n",
              "/* On hover, darken the color of the background */\n",
              "#sk-container-id-1 div.sk-label:hover label.sk-toggleable__label {\n",
              "  color: var(--sklearn-color-text);\n",
              "  background-color: var(--sklearn-color-unfitted-level-2);\n",
              "}\n",
              "\n",
              "/* Label box, darken color on hover, fitted */\n",
              "#sk-container-id-1 div.sk-label.fitted:hover label.sk-toggleable__label.fitted {\n",
              "  color: var(--sklearn-color-text);\n",
              "  background-color: var(--sklearn-color-fitted-level-2);\n",
              "}\n",
              "\n",
              "/* Estimator label */\n",
              "\n",
              "#sk-container-id-1 div.sk-label label {\n",
              "  font-family: monospace;\n",
              "  font-weight: bold;\n",
              "  display: inline-block;\n",
              "  line-height: 1.2em;\n",
              "}\n",
              "\n",
              "#sk-container-id-1 div.sk-label-container {\n",
              "  text-align: center;\n",
              "}\n",
              "\n",
              "/* Estimator-specific */\n",
              "#sk-container-id-1 div.sk-estimator {\n",
              "  font-family: monospace;\n",
              "  border: 1px dotted var(--sklearn-color-border-box);\n",
              "  border-radius: 0.25em;\n",
              "  box-sizing: border-box;\n",
              "  margin-bottom: 0.5em;\n",
              "  /* unfitted */\n",
              "  background-color: var(--sklearn-color-unfitted-level-0);\n",
              "}\n",
              "\n",
              "#sk-container-id-1 div.sk-estimator.fitted {\n",
              "  /* fitted */\n",
              "  background-color: var(--sklearn-color-fitted-level-0);\n",
              "}\n",
              "\n",
              "/* on hover */\n",
              "#sk-container-id-1 div.sk-estimator:hover {\n",
              "  /* unfitted */\n",
              "  background-color: var(--sklearn-color-unfitted-level-2);\n",
              "}\n",
              "\n",
              "#sk-container-id-1 div.sk-estimator.fitted:hover {\n",
              "  /* fitted */\n",
              "  background-color: var(--sklearn-color-fitted-level-2);\n",
              "}\n",
              "\n",
              "/* Specification for estimator info (e.g. \"i\" and \"?\") */\n",
              "\n",
              "/* Common style for \"i\" and \"?\" */\n",
              "\n",
              ".sk-estimator-doc-link,\n",
              "a:link.sk-estimator-doc-link,\n",
              "a:visited.sk-estimator-doc-link {\n",
              "  float: right;\n",
              "  font-size: smaller;\n",
              "  line-height: 1em;\n",
              "  font-family: monospace;\n",
              "  background-color: var(--sklearn-color-background);\n",
              "  border-radius: 1em;\n",
              "  height: 1em;\n",
              "  width: 1em;\n",
              "  text-decoration: none !important;\n",
              "  margin-left: 0.5em;\n",
              "  text-align: center;\n",
              "  /* unfitted */\n",
              "  border: var(--sklearn-color-unfitted-level-1) 1pt solid;\n",
              "  color: var(--sklearn-color-unfitted-level-1);\n",
              "}\n",
              "\n",
              ".sk-estimator-doc-link.fitted,\n",
              "a:link.sk-estimator-doc-link.fitted,\n",
              "a:visited.sk-estimator-doc-link.fitted {\n",
              "  /* fitted */\n",
              "  border: var(--sklearn-color-fitted-level-1) 1pt solid;\n",
              "  color: var(--sklearn-color-fitted-level-1);\n",
              "}\n",
              "\n",
              "/* On hover */\n",
              "div.sk-estimator:hover .sk-estimator-doc-link:hover,\n",
              ".sk-estimator-doc-link:hover,\n",
              "div.sk-label-container:hover .sk-estimator-doc-link:hover,\n",
              ".sk-estimator-doc-link:hover {\n",
              "  /* unfitted */\n",
              "  background-color: var(--sklearn-color-unfitted-level-3);\n",
              "  color: var(--sklearn-color-background);\n",
              "  text-decoration: none;\n",
              "}\n",
              "\n",
              "div.sk-estimator.fitted:hover .sk-estimator-doc-link.fitted:hover,\n",
              ".sk-estimator-doc-link.fitted:hover,\n",
              "div.sk-label-container:hover .sk-estimator-doc-link.fitted:hover,\n",
              ".sk-estimator-doc-link.fitted:hover {\n",
              "  /* fitted */\n",
              "  background-color: var(--sklearn-color-fitted-level-3);\n",
              "  color: var(--sklearn-color-background);\n",
              "  text-decoration: none;\n",
              "}\n",
              "\n",
              "/* Span, style for the box shown on hovering the info icon */\n",
              ".sk-estimator-doc-link span {\n",
              "  display: none;\n",
              "  z-index: 9999;\n",
              "  position: relative;\n",
              "  font-weight: normal;\n",
              "  right: .2ex;\n",
              "  padding: .5ex;\n",
              "  margin: .5ex;\n",
              "  width: min-content;\n",
              "  min-width: 20ex;\n",
              "  max-width: 50ex;\n",
              "  color: var(--sklearn-color-text);\n",
              "  box-shadow: 2pt 2pt 4pt #999;\n",
              "  /* unfitted */\n",
              "  background: var(--sklearn-color-unfitted-level-0);\n",
              "  border: .5pt solid var(--sklearn-color-unfitted-level-3);\n",
              "}\n",
              "\n",
              ".sk-estimator-doc-link.fitted span {\n",
              "  /* fitted */\n",
              "  background: var(--sklearn-color-fitted-level-0);\n",
              "  border: var(--sklearn-color-fitted-level-3);\n",
              "}\n",
              "\n",
              ".sk-estimator-doc-link:hover span {\n",
              "  display: block;\n",
              "}\n",
              "\n",
              "/* \"?\"-specific style due to the `<a>` HTML tag */\n",
              "\n",
              "#sk-container-id-1 a.estimator_doc_link {\n",
              "  float: right;\n",
              "  font-size: 1rem;\n",
              "  line-height: 1em;\n",
              "  font-family: monospace;\n",
              "  background-color: var(--sklearn-color-background);\n",
              "  border-radius: 1rem;\n",
              "  height: 1rem;\n",
              "  width: 1rem;\n",
              "  text-decoration: none;\n",
              "  /* unfitted */\n",
              "  color: var(--sklearn-color-unfitted-level-1);\n",
              "  border: var(--sklearn-color-unfitted-level-1) 1pt solid;\n",
              "}\n",
              "\n",
              "#sk-container-id-1 a.estimator_doc_link.fitted {\n",
              "  /* fitted */\n",
              "  border: var(--sklearn-color-fitted-level-1) 1pt solid;\n",
              "  color: var(--sklearn-color-fitted-level-1);\n",
              "}\n",
              "\n",
              "/* On hover */\n",
              "#sk-container-id-1 a.estimator_doc_link:hover {\n",
              "  /* unfitted */\n",
              "  background-color: var(--sklearn-color-unfitted-level-3);\n",
              "  color: var(--sklearn-color-background);\n",
              "  text-decoration: none;\n",
              "}\n",
              "\n",
              "#sk-container-id-1 a.estimator_doc_link.fitted:hover {\n",
              "  /* fitted */\n",
              "  background-color: var(--sklearn-color-fitted-level-3);\n",
              "}\n",
              "</style><div id=\"sk-container-id-1\" class=\"sk-top-container\"><div class=\"sk-text-repr-fallback\"><pre>MinMaxScaler()</pre><b>In a Jupyter environment, please rerun this cell to show the HTML representation or trust the notebook. <br />On GitHub, the HTML representation is unable to render, please try loading this page with nbviewer.org.</b></div><div class=\"sk-container\" hidden><div class=\"sk-item\"><div class=\"sk-estimator fitted sk-toggleable\"><input class=\"sk-toggleable__control sk-hidden--visually\" id=\"sk-estimator-id-1\" type=\"checkbox\" checked><label for=\"sk-estimator-id-1\" class=\"sk-toggleable__label fitted sk-toggleable__label-arrow\"><div><div>MinMaxScaler</div></div><div><a class=\"sk-estimator-doc-link fitted\" rel=\"noreferrer\" target=\"_blank\" href=\"https://scikit-learn.org/1.6/modules/generated/sklearn.preprocessing.MinMaxScaler.html\">?<span>Documentation for MinMaxScaler</span></a><span class=\"sk-estimator-doc-link fitted\">i<span>Fitted</span></span></div></label><div class=\"sk-toggleable__content fitted\"><pre>MinMaxScaler()</pre></div> </div></div></div></div>"
            ],
            "text/plain": [
              "MinMaxScaler()"
            ]
          },
          "execution_count": 72,
          "metadata": {},
          "output_type": "execute_result"
        }
      ],
      "source": [
        "minmax_scaler.fit(X_train_engineered[numerical_columns])"
      ]
    },
    {
      "cell_type": "code",
      "execution_count": 73,
      "metadata": {
        "id": "e-KcfEBPyoBq"
      },
      "outputs": [],
      "source": [
        "X_train_engineered[numerical_columns] = pd.DataFrame(\n",
        "    minmax_scaler.transform(X_train_engineered[numerical_columns]),\n",
        "    index=X_train_engineered.index,\n",
        "    columns=X_train_engineered[numerical_columns].columns\n",
        ")\n",
        "\n",
        "X_test_engineered[numerical_columns] = pd.DataFrame(\n",
        "    minmax_scaler.transform(X_test_engineered[numerical_columns]),\n",
        "    index=X_test_engineered.index,\n",
        "    columns=X_test_engineered[numerical_columns].columns\n",
        ")"
      ]
    },
    {
      "cell_type": "code",
      "execution_count": 74,
      "metadata": {
        "colab": {
          "base_uri": "https://localhost:8080/"
        },
        "id": "eYVOSpnXRbDv",
        "outputId": "4106b2d3-873c-47a8-ff65-78059a75e51a"
      },
      "outputs": [
        {
          "data": {
            "text/plain": [
              "Index(['id', 'age', 'sex', 'dataset', 'cp', 'trestbps', 'chol', 'fbs',\n",
              "       'restecg', 'thalch', 'exang', 'oldpeak', 'age_group', 'chol_category',\n",
              "       'bp_category', 'age_chol', 'heart_rate_reserve', 'thalch_div_age',\n",
              "       'peak_stress'],\n",
              "      dtype='object')"
            ]
          },
          "execution_count": 74,
          "metadata": {},
          "output_type": "execute_result"
        }
      ],
      "source": [
        "X_train_engineered.columns"
      ]
    },
    {
      "cell_type": "markdown",
      "metadata": {
        "id": "w9LmJqNm0OM-"
      },
      "source": [
        "### feature encoding"
      ]
    },
    {
      "cell_type": "code",
      "execution_count": 75,
      "metadata": {
        "colab": {
          "base_uri": "https://localhost:8080/"
        },
        "id": "tnkl9Liv0RPc",
        "outputId": "abb08b0d-8b77-4573-968f-ca77ac9fc4a5"
      },
      "outputs": [
        {
          "data": {
            "text/plain": [
              "Index(['sex', 'dataset', 'cp', 'fbs', 'restecg', 'exang', 'age_group',\n",
              "       'chol_category', 'bp_category'],\n",
              "      dtype='object')"
            ]
          },
          "execution_count": 75,
          "metadata": {},
          "output_type": "execute_result"
        }
      ],
      "source": [
        "categorical_columns = X_train_engineered.select_dtypes(exclude=['number']).columns\n",
        "categorical_columns"
      ]
    },
    {
      "cell_type": "code",
      "execution_count": 76,
      "metadata": {
        "id": "1zjhKg3Z00Px"
      },
      "outputs": [],
      "source": [
        "X_train_encoded = X_train_engineered.copy()\n",
        "X_test_encoded = X_test_engineered.copy()"
      ]
    },
    {
      "cell_type": "code",
      "execution_count": 77,
      "metadata": {
        "id": "zy7PfoBY02pE"
      },
      "outputs": [],
      "source": [
        "ohe = ColumnTransformer(\n",
        "    transformers=[\n",
        "        ('ohe', OneHotEncoder(\n",
        "            # drop='first',\n",
        "            handle_unknown='ignore',\n",
        "            sparse_output=False\n",
        "        ), categorical_columns)\n",
        "    ],\n",
        "    remainder='passthrough'\n",
        ")"
      ]
    },
    {
      "cell_type": "code",
      "execution_count": 78,
      "metadata": {
        "id": "o4pywvXD2BxD"
      },
      "outputs": [],
      "source": [
        "for col in categorical_columns:\n",
        "  X_train_encoded[col] = X_train_encoded[col].astype(str)\n",
        "  X_test_encoded[col] = X_test_encoded[col].astype(str)"
      ]
    },
    {
      "cell_type": "code",
      "execution_count": 79,
      "metadata": {
        "id": "OI04hEDF2IpY"
      },
      "outputs": [],
      "source": [
        "# X_train_encoded.info()"
      ]
    },
    {
      "cell_type": "code",
      "execution_count": 80,
      "metadata": {
        "colab": {
          "base_uri": "https://localhost:8080/",
          "height": 272
        },
        "id": "2Ci--UTt2MwA",
        "outputId": "263cf26e-fcd6-4f23-d75d-b84571819013"
      },
      "outputs": [
        {
          "data": {
            "text/html": [
              "<div>\n",
              "<style scoped>\n",
              "    .dataframe tbody tr th:only-of-type {\n",
              "        vertical-align: middle;\n",
              "    }\n",
              "\n",
              "    .dataframe tbody tr th {\n",
              "        vertical-align: top;\n",
              "    }\n",
              "\n",
              "    .dataframe thead th {\n",
              "        text-align: right;\n",
              "    }\n",
              "</style>\n",
              "<table border=\"1\" class=\"dataframe\">\n",
              "  <thead>\n",
              "    <tr style=\"text-align: right;\">\n",
              "      <th></th>\n",
              "      <th>ohe__sex_Female</th>\n",
              "      <th>ohe__sex_Male</th>\n",
              "      <th>ohe__dataset_Cleveland</th>\n",
              "      <th>ohe__dataset_Hungary</th>\n",
              "      <th>ohe__dataset_Switzerland</th>\n",
              "      <th>ohe__dataset_VA Long Beach</th>\n",
              "      <th>ohe__cp_asymptomatic</th>\n",
              "      <th>ohe__cp_atypical angina</th>\n",
              "      <th>ohe__cp_non-anginal</th>\n",
              "      <th>ohe__cp_typical angina</th>\n",
              "      <th>...</th>\n",
              "      <th>remainder__id</th>\n",
              "      <th>remainder__age</th>\n",
              "      <th>remainder__trestbps</th>\n",
              "      <th>remainder__chol</th>\n",
              "      <th>remainder__thalch</th>\n",
              "      <th>remainder__oldpeak</th>\n",
              "      <th>remainder__age_chol</th>\n",
              "      <th>remainder__heart_rate_reserve</th>\n",
              "      <th>remainder__thalch_div_age</th>\n",
              "      <th>remainder__peak_stress</th>\n",
              "    </tr>\n",
              "  </thead>\n",
              "  <tbody>\n",
              "    <tr>\n",
              "      <th>703</th>\n",
              "      <td>0.0</td>\n",
              "      <td>1.0</td>\n",
              "      <td>0.0</td>\n",
              "      <td>0.0</td>\n",
              "      <td>1.0</td>\n",
              "      <td>0.0</td>\n",
              "      <td>1.0</td>\n",
              "      <td>0.0</td>\n",
              "      <td>0.0</td>\n",
              "      <td>0.0</td>\n",
              "      <td>...</td>\n",
              "      <td>0.766630</td>\n",
              "      <td>0.761905</td>\n",
              "      <td>0.166667</td>\n",
              "      <td>0.623273</td>\n",
              "      <td>0.279279</td>\n",
              "      <td>0.622222</td>\n",
              "      <td>16409.6</td>\n",
              "      <td>0.730769</td>\n",
              "      <td>1.753846</td>\n",
              "      <td>148.2</td>\n",
              "    </tr>\n",
              "    <tr>\n",
              "      <th>608</th>\n",
              "      <td>0.0</td>\n",
              "      <td>1.0</td>\n",
              "      <td>0.0</td>\n",
              "      <td>0.0</td>\n",
              "      <td>1.0</td>\n",
              "      <td>0.0</td>\n",
              "      <td>1.0</td>\n",
              "      <td>0.0</td>\n",
              "      <td>0.0</td>\n",
              "      <td>0.0</td>\n",
              "      <td>...</td>\n",
              "      <td>0.663032</td>\n",
              "      <td>0.214286</td>\n",
              "      <td>0.416667</td>\n",
              "      <td>0.610909</td>\n",
              "      <td>0.837838</td>\n",
              "      <td>0.688889</td>\n",
              "      <td>10373.0</td>\n",
              "      <td>0.983240</td>\n",
              "      <td>4.190476</td>\n",
              "      <td>281.6</td>\n",
              "    </tr>\n",
              "    <tr>\n",
              "      <th>607</th>\n",
              "      <td>0.0</td>\n",
              "      <td>1.0</td>\n",
              "      <td>0.0</td>\n",
              "      <td>0.0</td>\n",
              "      <td>1.0</td>\n",
              "      <td>0.0</td>\n",
              "      <td>1.0</td>\n",
              "      <td>0.0</td>\n",
              "      <td>0.0</td>\n",
              "      <td>0.0</td>\n",
              "      <td>...</td>\n",
              "      <td>0.661941</td>\n",
              "      <td>0.190476</td>\n",
              "      <td>0.333333</td>\n",
              "      <td>0.619636</td>\n",
              "      <td>0.549550</td>\n",
              "      <td>0.333333</td>\n",
              "      <td>10216.0</td>\n",
              "      <td>0.800000</td>\n",
              "      <td>3.512195</td>\n",
              "      <td>0.0</td>\n",
              "    </tr>\n",
              "    <tr>\n",
              "      <th>168</th>\n",
              "      <td>0.0</td>\n",
              "      <td>1.0</td>\n",
              "      <td>1.0</td>\n",
              "      <td>0.0</td>\n",
              "      <td>0.0</td>\n",
              "      <td>0.0</td>\n",
              "      <td>1.0</td>\n",
              "      <td>0.0</td>\n",
              "      <td>0.0</td>\n",
              "      <td>0.0</td>\n",
              "      <td>...</td>\n",
              "      <td>0.183206</td>\n",
              "      <td>0.071429</td>\n",
              "      <td>0.433333</td>\n",
              "      <td>0.716364</td>\n",
              "      <td>0.657658</td>\n",
              "      <td>0.333333</td>\n",
              "      <td>9870.0</td>\n",
              "      <td>0.843243</td>\n",
              "      <td>4.333333</td>\n",
              "      <td>0.0</td>\n",
              "    </tr>\n",
              "    <tr>\n",
              "      <th>334</th>\n",
              "      <td>0.0</td>\n",
              "      <td>1.0</td>\n",
              "      <td>0.0</td>\n",
              "      <td>1.0</td>\n",
              "      <td>0.0</td>\n",
              "      <td>0.0</td>\n",
              "      <td>0.0</td>\n",
              "      <td>1.0</td>\n",
              "      <td>0.0</td>\n",
              "      <td>0.0</td>\n",
              "      <td>...</td>\n",
              "      <td>0.364231</td>\n",
              "      <td>0.166667</td>\n",
              "      <td>0.333333</td>\n",
              "      <td>0.455273</td>\n",
              "      <td>0.567568</td>\n",
              "      <td>0.777778</td>\n",
              "      <td>8197.8</td>\n",
              "      <td>0.806630</td>\n",
              "      <td>3.650000</td>\n",
              "      <td>292.0</td>\n",
              "    </tr>\n",
              "  </tbody>\n",
              "</table>\n",
              "<p>5 rows × 38 columns</p>\n",
              "</div>"
            ],
            "text/plain": [
              "     ohe__sex_Female  ohe__sex_Male  ohe__dataset_Cleveland  \\\n",
              "703              0.0            1.0                     0.0   \n",
              "608              0.0            1.0                     0.0   \n",
              "607              0.0            1.0                     0.0   \n",
              "168              0.0            1.0                     1.0   \n",
              "334              0.0            1.0                     0.0   \n",
              "\n",
              "     ohe__dataset_Hungary  ohe__dataset_Switzerland  \\\n",
              "703                   0.0                       1.0   \n",
              "608                   0.0                       1.0   \n",
              "607                   0.0                       1.0   \n",
              "168                   0.0                       0.0   \n",
              "334                   1.0                       0.0   \n",
              "\n",
              "     ohe__dataset_VA Long Beach  ohe__cp_asymptomatic  \\\n",
              "703                         0.0                   1.0   \n",
              "608                         0.0                   1.0   \n",
              "607                         0.0                   1.0   \n",
              "168                         0.0                   1.0   \n",
              "334                         0.0                   0.0   \n",
              "\n",
              "     ohe__cp_atypical angina  ohe__cp_non-anginal  ohe__cp_typical angina  \\\n",
              "703                      0.0                  0.0                     0.0   \n",
              "608                      0.0                  0.0                     0.0   \n",
              "607                      0.0                  0.0                     0.0   \n",
              "168                      0.0                  0.0                     0.0   \n",
              "334                      1.0                  0.0                     0.0   \n",
              "\n",
              "     ...  remainder__id  remainder__age  remainder__trestbps  remainder__chol  \\\n",
              "703  ...       0.766630        0.761905             0.166667         0.623273   \n",
              "608  ...       0.663032        0.214286             0.416667         0.610909   \n",
              "607  ...       0.661941        0.190476             0.333333         0.619636   \n",
              "168  ...       0.183206        0.071429             0.433333         0.716364   \n",
              "334  ...       0.364231        0.166667             0.333333         0.455273   \n",
              "\n",
              "     remainder__thalch  remainder__oldpeak  remainder__age_chol  \\\n",
              "703           0.279279            0.622222              16409.6   \n",
              "608           0.837838            0.688889              10373.0   \n",
              "607           0.549550            0.333333              10216.0   \n",
              "168           0.657658            0.333333               9870.0   \n",
              "334           0.567568            0.777778               8197.8   \n",
              "\n",
              "     remainder__heart_rate_reserve  remainder__thalch_div_age  \\\n",
              "703                       0.730769                   1.753846   \n",
              "608                       0.983240                   4.190476   \n",
              "607                       0.800000                   3.512195   \n",
              "168                       0.843243                   4.333333   \n",
              "334                       0.806630                   3.650000   \n",
              "\n",
              "     remainder__peak_stress  \n",
              "703                   148.2  \n",
              "608                   281.6  \n",
              "607                     0.0  \n",
              "168                     0.0  \n",
              "334                   292.0  \n",
              "\n",
              "[5 rows x 38 columns]"
            ]
          },
          "execution_count": 80,
          "metadata": {},
          "output_type": "execute_result"
        }
      ],
      "source": [
        "X_train_encoded = pd.DataFrame(ohe.fit_transform(X_train_encoded), index=X_train_encoded.index, columns=ohe.get_feature_names_out())\n",
        "X_test_encoded = pd.DataFrame(ohe.transform(X_test_encoded), index=X_test_encoded.index, columns=ohe.get_feature_names_out())\n",
        "\n",
        "X_train_encoded.head()"
      ]
    },
    {
      "cell_type": "markdown",
      "metadata": {
        "id": "2YkAOEiLQf_8"
      },
      "source": [
        "### feature selection"
      ]
    },
    {
      "cell_type": "code",
      "execution_count": 81,
      "metadata": {
        "id": "_UqqGvuRONib"
      },
      "outputs": [],
      "source": [
        "from sklearn.ensemble import ExtraTreesClassifier\n",
        "from sklearn.feature_selection import SelectFromModel"
      ]
    },
    {
      "cell_type": "code",
      "execution_count": 82,
      "metadata": {
        "id": "2jnnKhia0EAI"
      },
      "outputs": [],
      "source": [
        "X_train_selected = X_train_encoded.copy()\n",
        "X_test_selected = X_test_encoded.copy()"
      ]
    },
    {
      "cell_type": "code",
      "execution_count": 83,
      "metadata": {
        "colab": {
          "base_uri": "https://localhost:8080/"
        },
        "id": "UI-Uah3ASJaZ",
        "outputId": "115398cb-ff04-452d-a8df-d0c83734ce63"
      },
      "outputs": [
        {
          "data": {
            "text/plain": [
              "(713, 38)"
            ]
          },
          "execution_count": 83,
          "metadata": {},
          "output_type": "execute_result"
        }
      ],
      "source": [
        "X_train_encoded.shape"
      ]
    },
    {
      "cell_type": "code",
      "execution_count": 84,
      "metadata": {
        "id": "8mcvBYcOrBMn"
      },
      "outputs": [],
      "source": [
        "X_train_selected = X_train_selected.drop(columns=['remainder__id'])\n",
        "X_test_selected = X_test_selected.drop(columns=['remainder__id'])"
      ]
    },
    {
      "cell_type": "markdown",
      "metadata": {
        "id": "DwRILfsFZ2qY"
      },
      "source": [
        "Xtra Tree Classifier"
      ]
    },
    {
      "cell_type": "code",
      "execution_count": 85,
      "metadata": {
        "colab": {
          "base_uri": "https://localhost:8080/"
        },
        "id": "kuR0mdakOVXw",
        "outputId": "34c5fc8a-d36d-4721-ee0b-c2d8fd611d07"
      },
      "outputs": [
        {
          "name": "stdout",
          "output_type": "stream",
          "text": [
            "Top features:\n",
            " ohe__cp_asymptomatic                  0.060019\n",
            "remainder__oldpeak                    0.051993\n",
            "remainder__heart_rate_reserve         0.051555\n",
            "remainder__thalch_div_age             0.049814\n",
            "remainder__peak_stress                0.049600\n",
            "remainder__age_chol                   0.048442\n",
            "remainder__thalch                     0.048212\n",
            "remainder__chol                       0.046876\n",
            "remainder__age                        0.046721\n",
            "remainder__trestbps                   0.041766\n",
            "ohe__dataset_Hungary                  0.033954\n",
            "ohe__exang_True                       0.031395\n",
            "ohe__dataset_Switzerland              0.030961\n",
            "ohe__exang_False                      0.028986\n",
            "ohe__cp_atypical angina               0.023611\n",
            "ohe__age_group_Senior                 0.021780\n",
            "ohe__bp_category_Stage 2              0.021588\n",
            "ohe__dataset_Cleveland                0.021263\n",
            "ohe__bp_category_Elevated             0.021038\n",
            "ohe__restecg_normal                   0.020025\n",
            "ohe__sex_Male                         0.019988\n",
            "ohe__chol_category_High               0.019238\n",
            "ohe__chol_category_Borderline High    0.018694\n",
            "ohe__bp_category_Stage 1              0.018406\n",
            "ohe__restecg_st-t abnormality         0.018092\n",
            "ohe__fbs_True                         0.017257\n",
            "ohe__bp_category_Normal               0.017106\n",
            "ohe__sex_Female                       0.016990\n",
            "ohe__fbs_False                        0.016970\n",
            "ohe__age_group_Middle-aged            0.016553\n",
            "ohe__dataset_VA Long Beach            0.015714\n",
            "ohe__restecg_lv hypertrophy           0.014032\n",
            "ohe__cp_non-anginal                   0.013859\n",
            "ohe__chol_category_Desirable          0.012860\n",
            "ohe__cp_typical angina                0.007056\n",
            "dtype: float64\n"
          ]
        }
      ],
      "source": [
        "etc = ExtraTreesClassifier(random_state=42)\n",
        "etc.fit(X_train_selected, y_train)\n",
        "\n",
        "importances = etc.feature_importances_\n",
        "\n",
        "feat_imp = pd.Series(importances, index=X_train_selected.columns)\n",
        "feat_imp = feat_imp.sort_values(ascending=False)\n",
        "print(\"Top features:\\n\", feat_imp.head(35))"
      ]
    },
    {
      "cell_type": "code",
      "execution_count": 86,
      "metadata": {
        "colab": {
          "base_uri": "https://localhost:8080/"
        },
        "id": "NxLkqyIIUTDH",
        "outputId": "3d912988-d704-47c2-f1e7-c93e9c498092"
      },
      "outputs": [
        {
          "name": "stdout",
          "output_type": "stream",
          "text": [
            "(713, 14)\n",
            "(179, 14)\n"
          ]
        }
      ],
      "source": [
        "selector = SelectFromModel(estimator=etc, threshold='mean')\n",
        "selector.fit(X_train_selected, y_train)\n",
        "X_train_selected = pd.DataFrame(selector.transform(X_train_selected), index=X_train_selected.index, columns=X_train_selected.columns[selector.get_support()])\n",
        "X_test_selected = pd.DataFrame(selector.transform(X_test_selected), index=X_test_selected.index, columns=X_test_selected.columns[selector.get_support()])\n",
        "print(X_train_selected.shape)\n",
        "print(X_test_selected.shape)"
      ]
    },
    {
      "cell_type": "code",
      "execution_count": 87,
      "metadata": {
        "colab": {
          "base_uri": "https://localhost:8080/"
        },
        "id": "wWCfLV9SykW7",
        "outputId": "1aec4bf6-2d14-4cb7-9b90-f7e816f5711e"
      },
      "outputs": [
        {
          "data": {
            "text/plain": [
              "Index(['ohe__dataset_Hungary', 'ohe__dataset_Switzerland',\n",
              "       'ohe__cp_asymptomatic', 'ohe__exang_False', 'ohe__exang_True',\n",
              "       'remainder__age', 'remainder__trestbps', 'remainder__chol',\n",
              "       'remainder__thalch', 'remainder__oldpeak', 'remainder__age_chol',\n",
              "       'remainder__heart_rate_reserve', 'remainder__thalch_div_age',\n",
              "       'remainder__peak_stress'],\n",
              "      dtype='object')"
            ]
          },
          "execution_count": 87,
          "metadata": {},
          "output_type": "execute_result"
        }
      ],
      "source": [
        "X_train_selected.columns\n",
        "\n",
        "numerical_columns = X_train_selected.select_dtypes(include=['number']).columns\n",
        "numerical_columns"
      ]
    },
    {
      "cell_type": "markdown",
      "metadata": {
        "id": "Blx1-pw8KUaG"
      },
      "source": [
        "### Base Model for Checking Preprocessing"
      ]
    },
    {
      "cell_type": "code",
      "execution_count": 88,
      "metadata": {
        "id": "yG3QfEozLHlK"
      },
      "outputs": [],
      "source": [
        "X_train, X_test = X_train_selected, X_test_selected"
      ]
    },
    {
      "cell_type": "code",
      "execution_count": 89,
      "metadata": {
        "colab": {
          "base_uri": "https://localhost:8080/"
        },
        "id": "saCtqUAduo5l",
        "outputId": "f5801e85-2fe5-43f4-eb30-b6194ffcccec"
      },
      "outputs": [
        {
          "data": {
            "text/plain": [
              "(713, 14)"
            ]
          },
          "execution_count": 89,
          "metadata": {},
          "output_type": "execute_result"
        }
      ],
      "source": [
        "X_train.shape"
      ]
    },
    {
      "cell_type": "code",
      "execution_count": 90,
      "metadata": {
        "id": "SDSSMaz-D3V9"
      },
      "outputs": [],
      "source": [
        "from sklearn.metrics import classification_report, confusion_matrix, ConfusionMatrixDisplay\n",
        "from sklearn.model_selection import cross_val_score, StratifiedKFold\n",
        "from sklearn.linear_model import LogisticRegression\n",
        "from sklearn.ensemble import RandomForestClassifier\n",
        "from imblearn.ensemble import BalancedRandomForestClassifier\n",
        "from sklearn.tree import DecisionTreeClassifier\n",
        "from sklearn.neighbors import KNeighborsClassifier\n",
        "from sklearn.svm import SVC\n",
        "from sklearn.naive_bayes import GaussianNB"
      ]
    },
    {
      "cell_type": "code",
      "execution_count": 91,
      "metadata": {
        "colab": {
          "base_uri": "https://localhost:8080/",
          "height": 640
        },
        "id": "p2QMQZhOES64",
        "outputId": "02cb527a-a1c8-473a-cf26-b2834ec558ce"
      },
      "outputs": [
        {
          "name": "stdout",
          "output_type": "stream",
          "text": [
            "              precision    recall  f1-score   support\n",
            "\n",
            "           0       0.74      0.84      0.79        83\n",
            "           1       0.42      0.66      0.51        53\n",
            "           2       0.50      0.05      0.08        22\n",
            "           3       0.00      0.00      0.00        21\n",
            "\n",
            "    accuracy                           0.59       179\n",
            "   macro avg       0.42      0.39      0.35       179\n",
            "weighted avg       0.53      0.59      0.53       179\n",
            "\n"
          ]
        },
        {
          "data": {
            "image/png": "[encoded data removed]",
            "text/plain": [
              "<Figure size 640x480 with 2 Axes>"
            ]
          },
          "metadata": {},
          "output_type": "display_data"
        }
      ],
      "source": [
        "base_model = LogisticRegression(random_state=42)\n",
        "base_model.fit(X_train, y_train)\n",
        "\n",
        "y_pred = base_model.predict(X_test)\n",
        "\n",
        "print(classification_report(y_test, y_pred))\n",
        "cm = confusion_matrix(y_test, y_pred)\n",
        "disp = ConfusionMatrixDisplay(confusion_matrix=cm)\n",
        "disp.plot()\n",
        "plt.show()"
      ]
    },
    {
      "cell_type": "code",
      "execution_count": 92,
      "metadata": {
        "colab": {
          "base_uri": "https://localhost:8080/"
        },
        "id": "hQLCgHVdEo4Y",
        "outputId": "cb8e66cc-98eb-466c-f9c5-182c838f3ade"
      },
      "outputs": [
        {
          "name": "stdout",
          "output_type": "stream",
          "text": [
            "53.31377151799687\n",
            "3.2798718901942454\n"
          ]
        }
      ],
      "source": [
        "cv_out = StratifiedKFold(\n",
        "    n_splits=10,\n",
        "    shuffle=True,\n",
        "    random_state=42\n",
        ")\n",
        "\n",
        "print(cross_val_score(base_model, X_train, y_train, cv=cv_out, scoring='accuracy').mean()*100)\n",
        "print(cross_val_score(base_model, X_train, y_train, cv=cv_out, scoring='accuracy').std()*100)"
      ]
    },
    {
      "cell_type": "code",
      "execution_count": 93,
      "metadata": {
        "colab": {
          "base_uri": "https://localhost:8080/",
          "height": 715
        },
        "id": "iKVAjayEsnWF",
        "outputId": "b54b1727-4506-4f1d-8d7b-d8e77d7f66e7"
      },
      "outputs": [
        {
          "name": "stdout",
          "output_type": "stream",
          "text": [
            "              precision    recall  f1-score   support\n",
            "\n",
            "           0       0.72      0.82      0.77        83\n",
            "           1       0.46      0.42      0.44        53\n",
            "           2       0.24      0.18      0.21        22\n",
            "           3       0.40      0.38      0.39        21\n",
            "\n",
            "    accuracy                           0.57       179\n",
            "   macro avg       0.45      0.45      0.45       179\n",
            "weighted avg       0.55      0.57      0.56       179\n",
            "\n",
            "55.70226917057903\n",
            "5.347437891628078\n",
            "41.9572312445949\n",
            "7.403593105556057\n"
          ]
        },
        {
          "data": {
            "image/png": "[encoded data removed]",
            "text/plain": [
              "<Figure size 640x480 with 2 Axes>"
            ]
          },
          "metadata": {},
          "output_type": "display_data"
        }
      ],
      "source": [
        "rf = RandomForestClassifier(\n",
        "    random_state=42,\n",
        "    class_weight='balanced'\n",
        ")\n",
        "\n",
        "rf.fit(X_train, y_train)\n",
        "\n",
        "y_pred = rf.predict(X_test)\n",
        "\n",
        "print(classification_report(y_test, y_pred))\n",
        "print(cross_val_score(rf, X_train, y_train, cv=cv_out, scoring='accuracy').mean()*100)\n",
        "print(cross_val_score(rf, X_train, y_train, cv=cv_out, scoring='accuracy').std()*100)\n",
        "print(cross_val_score(rf, X_train, y_train, cv=cv_out, scoring='f1_macro').mean()*100)\n",
        "print(cross_val_score(rf, X_train, y_train, cv=cv_out, scoring='f1_macro').std()*100)\n",
        "cm = confusion_matrix(y_test, y_pred)\n",
        "disp = ConfusionMatrixDisplay(confusion_matrix=cm)\n",
        "disp.plot()\n",
        "plt.show()"
      ]
    },
    {
      "cell_type": "code",
      "execution_count": 94,
      "metadata": {
        "colab": {
          "base_uri": "https://localhost:8080/",
          "height": 715
        },
        "id": "ipl5TdT0HkT_",
        "outputId": "ab315fb1-4e83-4262-9857-299d603cf062"
      },
      "outputs": [
        {
          "name": "stdout",
          "output_type": "stream",
          "text": [
            "              precision    recall  f1-score   support\n",
            "\n",
            "           0       0.84      0.70      0.76        83\n",
            "           1       0.60      0.47      0.53        53\n",
            "           2       0.30      0.41      0.35        22\n",
            "           3       0.32      0.57      0.41        21\n",
            "\n",
            "    accuracy                           0.58       179\n",
            "   macro avg       0.51      0.54      0.51       179\n",
            "weighted avg       0.64      0.58      0.60       179\n",
            "\n",
            "54.58724569640062\n",
            "8.242176536696707\n",
            "47.37309720589377\n",
            "7.5246706991805565\n"
          ]
        },
        {
          "data": {
            "image/png": "[encoded data removed]",
            "text/plain": [
              "<Figure size 640x480 with 2 Axes>"
            ]
          },
          "metadata": {},
          "output_type": "display_data"
        }
      ],
      "source": [
        "rf = BalancedRandomForestClassifier(\n",
        "    random_state=42,\n",
        "    # class_weight='balanced'\n",
        ")\n",
        "\n",
        "rf.fit(X_train, y_train)\n",
        "\n",
        "y_pred = rf.predict(X_test)\n",
        "\n",
        "print(classification_report(y_test, y_pred))\n",
        "print(cross_val_score(rf, X_train, y_train, cv=cv_out, scoring='accuracy').mean()*100)\n",
        "print(cross_val_score(rf, X_train, y_train, cv=cv_out, scoring='accuracy').std()*100)\n",
        "print(cross_val_score(rf, X_train, y_train, cv=cv_out, scoring='f1_macro').mean()*100)\n",
        "print(cross_val_score(rf, X_train, y_train, cv=cv_out, scoring='f1_macro').std()*100)\n",
        "cm = confusion_matrix(y_test, y_pred)\n",
        "disp = ConfusionMatrixDisplay(confusion_matrix=cm)\n",
        "disp.plot()\n",
        "plt.show()"
      ]
    },
    {
      "cell_type": "markdown",
      "metadata": {
        "id": "J6Bv_L154sWE"
      },
      "source": [
        "modeling will be done with the result given from random forest in mind"
      ]
    },
    {
      "cell_type": "markdown",
      "metadata": {
        "id": "p38oREU0SwlS"
      },
      "source": [
        "### experimentation: plotting to see possible clusters in a low dimension"
      ]
    },
    {
      "cell_type": "code",
      "execution_count": 95,
      "metadata": {
        "id": "mX0oea2WS3qy"
      },
      "outputs": [],
      "source": [
        "from sklearn.decomposition import PCA"
      ]
    },
    {
      "cell_type": "code",
      "execution_count": 96,
      "metadata": {
        "colab": {
          "base_uri": "https://localhost:8080/",
          "height": 452
        },
        "id": "7e0PCANaS6u0",
        "outputId": "c9646164-3c78-4cc2-de20-31c723050f05"
      },
      "outputs": [
        {
          "data": {
            "image/png": "[encoded data removed]",
            "text/plain": [
              "<Figure size 640x480 with 1 Axes>"
            ]
          },
          "metadata": {},
          "output_type": "display_data"
        }
      ],
      "source": [
        "pca = PCA(n_components=2)\n",
        "X_reduced = pca.fit_transform(X_train)\n",
        "plt.scatter(X_reduced[:, 0], X_reduced[:, 1], c=y_train, cmap='viridis')\n",
        "plt.title(\"PCA of Dataset\")\n",
        "plt.show()"
      ]
    },
    {
      "cell_type": "markdown",
      "metadata": {
        "id": "pUjPOzjRsnWF"
      },
      "source": [
        "verdict: not recommended to use dimension reduction since the cluster distribution is all over the place with a low dimension"
      ]
    },
    {
      "cell_type": "markdown",
      "metadata": {
        "id": "uLSE8bZtZ7te"
      },
      "source": [
        "removing multicollinearity"
      ]
    },
    {
      "cell_type": "code",
      "execution_count": 97,
      "metadata": {
        "colab": {
          "base_uri": "https://localhost:8080/"
        },
        "id": "t1ftzGzccp1K",
        "outputId": "6323ebc6-5ac5-4717-bd12-1a5ce981367d"
      },
      "outputs": [
        {
          "data": {
            "text/plain": [
              "(713, 14)"
            ]
          },
          "execution_count": 97,
          "metadata": {},
          "output_type": "execute_result"
        }
      ],
      "source": [
        "X_train_selected.shape"
      ]
    },
    {
      "cell_type": "code",
      "execution_count": 98,
      "metadata": {
        "id": "R_jpepkeii2g"
      },
      "outputs": [],
      "source": [
        "X_train_multi = X_train_selected.copy()\n",
        "X_test_multi = X_test_selected.copy()"
      ]
    },
    {
      "cell_type": "code",
      "execution_count": 99,
      "metadata": {
        "id": "8BKh2brIeqmY"
      },
      "outputs": [],
      "source": [
        "from sklearn.decomposition import PCA\n",
        "from sklearn.discriminant_analysis import LinearDiscriminantAnalysis as LDA"
      ]
    },
    {
      "cell_type": "code",
      "execution_count": 100,
      "metadata": {
        "id": "AZSIJraRethR"
      },
      "outputs": [],
      "source": [
        "pca = PCA(0.95, random_state=42)\n",
        "lda = LDA(n_components=1)\n",
        "\n",
        "X_train_multi = pd.DataFrame(lda.fit_transform(X_train_selected, y_train), index=X_train_selected.index)\n",
        "X_test_multi = pd.DataFrame(lda.transform(X_test_selected), index=X_test_selected.index)\n",
        "# X_train_selected = pd.DataFrame(pca.fit_transform(X_train_selected), index=X_train_selected.index)\n",
        "# X_test_selected = pd.DataFrame(pca.transform(X_test_selected), index=X_test_selected.index)"
      ]
    },
    {
      "cell_type": "markdown",
      "metadata": {
        "id": "DB6NjdONzyDy"
      },
      "source": [
        "# Modeling"
      ]
    },
    {
      "cell_type": "code",
      "execution_count": 101,
      "metadata": {
        "id": "-TjbIfEG7RNh"
      },
      "outputs": [],
      "source": [
        "from imblearn.ensemble import BalancedRandomForestClassifier\n",
        "from imblearn.pipeline import Pipeline\n",
        "from imblearn.over_sampling import SMOTE, ADASYN, KMeansSMOTE, SMOTENC, SMOTEN, SVMSMOTE\n",
        "from sklearn.model_selection import GridSearchCV, RandomizedSearchCV\n",
        "from imblearn.combine import SMOTEENN, SMOTETomek\n",
        "from imblearn.under_sampling import TomekLinks, RandomUnderSampler, ClusterCentroids, NearMiss, EditedNearestNeighbours, RepeatedEditedNearestNeighbours"
      ]
    },
    {
      "cell_type": "code",
      "execution_count": 102,
      "metadata": {
        "id": "I8XVq1L8snWG"
      },
      "outputs": [],
      "source": [
        "categorical_columns = X_train.select_dtypes(exclude='number')"
      ]
    },
    {
      "cell_type": "code",
      "execution_count": 103,
      "metadata": {
        "colab": {
          "base_uri": "https://localhost:8080/",
          "height": 1000
        },
        "id": "VnfYE_u_6ysc",
        "outputId": "3f542427-1b17-4ed6-bc0d-395d1146c33d"
      },
      "outputs": [],
      "source": [
        "# samplers = [\n",
        "#     SMOTE(random_state=42),\n",
        "#     ADASYN(random_state=42),\n",
        "#     KMeansSMOTE(random_state=42),\n",
        "#     SMOTENC(random_state=42, categorical_features=categorical_columns),\n",
        "#     SMOTEN(random_state=42),\n",
        "#     SVMSMOTE(random_state=42),\n",
        "#     SMOTEENN(random_state=42),\n",
        "#     SMOTETomek(random_state=42),\n",
        "#     RandomUnderSampler(random_state=42),\n",
        "#     TomekLinks(sampling_strategy='majority'),\n",
        "#     TomekLinks(),\n",
        "#     ClusterCentroids(random_state=42),\n",
        "#     NearMiss(version=1),\n",
        "#     EditedNearestNeighbours(),\n",
        "#     RepeatedEditedNearestNeighbours(),\n",
        "#     None\n",
        "# ]\n",
        "\n",
        "# param_grid = {\n",
        "#     'balancer': samplers\n",
        "# }\n",
        "\n",
        "# pipeline = Pipeline([\n",
        "#     ('balancer', SMOTE()),  # default, overwritten in GridSearch\n",
        "#     ('model', LogisticRegression(\n",
        "#         class_weight='balanced',\n",
        "#         random_state=42,\n",
        "#         # n_estimators=100\n",
        "#       ))\n",
        "# ])\n",
        "\n",
        "# grid = GridSearchCV(\n",
        "#     pipeline,\n",
        "#     param_grid=param_grid,\n",
        "#     cv=cv_out,\n",
        "#     scoring='f1_macro',\n",
        "#     verbose=3\n",
        "# )\n",
        "\n",
        "# grid.fit(X_train, y_train)\n",
        "# print(grid.best_estimator_)\n",
        "# print(grid.best_score_)"
      ]
    },
    {
      "cell_type": "code",
      "execution_count": 104,
      "metadata": {
        "id": "xcbBsK897oj1"
      },
      "outputs": [],
      "source": [
        "# y_pred = grid.best_estimator_.predict(X_test)\n",
        "\n",
        "# print(classification_report(y_test, y_pred))\n",
        "# print(cross_val_score(grid.best_estimator_, X_train, y_train, cv=cv_out, scoring='accuracy').mean()*100)\n",
        "# print(cross_val_score(grid.best_estimator_, X_train, y_train, cv=cv_out, scoring='accuracy').std()*100)\n",
        "# print(cross_val_score(grid.best_estimator_, X_train, y_train, cv=cv_out, scoring='f1_macro').mean()*100)\n",
        "# print(cross_val_score(grid.best_estimator_, X_train, y_train, cv=cv_out, scoring='f1_macro').std()*100)\n",
        "# cm = confusion_matrix(y_test, y_pred)\n",
        "# disp = ConfusionMatrixDisplay(confusion_matrix=cm)\n",
        "# disp.plot()\n",
        "# plt.show()"
      ]
    },
    {
      "cell_type": "markdown",
      "metadata": {
        "id": "fsu4m4Ep5_Ln"
      },
      "source": [
        "the best results: (documented so that i don't need to run it again)\n",
        "\n",
        "Pipeline(steps=[('balancer', TomekLinks(sampling_strategy='majority')),\n",
        "                ('model', BalancedRandomForestClassifier(random_state=42))])\n",
        "\n",
        "Pipeline(steps=[('balancer', NearMiss()),\n",
        "                ('model',\n",
        "                 RandomForestClassifier(class_weight='balanced',\n",
        "                                        random_state=42))])\n",
        "\n",
        "Pipeline(steps=[('balancer', NearMiss()),\n",
        "                ('model', RandomForestClassifier(random_state=42))])\n",
        "\n",
        "Pipeline(steps=[('balancer', SMOTEN(random_state=42)),\n",
        "                ('model', LogisticRegression(random_state=42))]) -> p bad\n",
        "\n",
        "Pipeline(steps=[('balancer', SMOTEN(random_state=42)),\n",
        "                ('model',\n",
        "                 LogisticRegression(class_weight='balanced', random_state=42))])"
      ]
    },
    {
      "cell_type": "code",
      "execution_count": 105,
      "metadata": {
        "id": "wbcjSS7mOMOC"
      },
      "outputs": [],
      "source": [
        "# best_sampler = grid.best_estimator_.named_steps[\"balancer\"]"
      ]
    },
    {
      "cell_type": "code",
      "execution_count": 106,
      "metadata": {
        "id": "Ps69F_Cjm4oK"
      },
      "outputs": [],
      "source": [
        "from scipy.stats import uniform, randint, loguniform"
      ]
    },
    {
      "cell_type": "code",
      "execution_count": 107,
      "metadata": {
        "id": "A9Io2o4uONIo"
      },
      "outputs": [],
      "source": [
        "# pipeline = Pipeline([\n",
        "#     # ('balancer', TomekLinks(sampling_strategy='majority')),\n",
        "#     ('balancer', NearMiss()),\n",
        "#     # ('balancer', SMOTEN(random_state=42)),\n",
        "#     ('model', RandomForestClassifier(random_state=42))\n",
        "# ])\n",
        "\n",
        "# param_dist = {\n",
        "#     'model__n_estimators': randint(100, 1500), # Sample # of trees between 100 and 1499\n",
        "#     'model__max_depth': [10, 20, 30, 40, 50, 60, 70, 80, 90, 100, None], # Mix specific depths & None\n",
        "#     'model__min_samples_split': randint(2, 21), # Sample min split between 2 and 20\n",
        "#     'model__min_samples_leaf': randint(1, 11),  # Sample min leaf between 1 and 10\n",
        "#     'model__max_features': ['sqrt', 'log2', 0.4, 0.6, 0.8], # Common strategies + proportions\n",
        "#     'model__class_weight': [None, 'balanced', {0: 1, 1: 5}, {0: 1, 1: 10}], # None=Base, balanced, + specific examples if needed\n",
        "#     'model__bootstrap': [True, False] # Optionally, search whether to use bootstrap samples\n",
        "# }\n",
        "\n",
        "# # param_dist = [\n",
        "# #     { # L2 Regularization\n",
        "# #         'model__penalty': ['l2'],\n",
        "# #         'model__C': loguniform(0.001, 1000), # Sample C from 0.001 to 1000 on a log scale\n",
        "# #         'model__solver': ['liblinear', 'lbfgs', 'saga'],\n",
        "# #         'model__class_weight': [None, 'balanced']\n",
        "# #     },\n",
        "# #     { # L1 Regularization\n",
        "# #         'model__penalty': ['l1'],\n",
        "# #         'model__C': loguniform(0.001, 1000),\n",
        "# #         'model__solver': ['liblinear', 'saga'],\n",
        "# #         'model__class_weight': [None, 'balanced']\n",
        "# #     },\n",
        "# #     { # ElasticNet (requires 'saga' and 'l1_ratio')\n",
        "# #         'model__penalty': ['elasticnet'],\n",
        "# #         'model__C': loguniform(0.001, 1000),\n",
        "# #         'model__solver': ['saga'],\n",
        "# #         'model__l1_ratio': [0.3, 0.5, 0.7], # Specify L1 ratio for ElasticNet\n",
        "# #         'model__class_weight': [None, 'balanced']\n",
        "# #     }\n",
        "# # ]\n",
        "\n",
        "# random_search = RandomizedSearchCV(\n",
        "#     pipeline,\n",
        "#     param_distributions=param_dist,\n",
        "#     n_iter=100,  # You can increase this later\n",
        "#     cv=cv_out,\n",
        "#     scoring='f1_macro',\n",
        "#     random_state=42,\n",
        "#     verbose=3,\n",
        "#     # n_jobs=-1\n",
        "# )\n",
        "\n",
        "# random_search.fit(X_train, y_train)\n",
        "# print(random_search.best_estimator_)\n",
        "# print(random_search.best_score_)"
      ]
    },
    {
      "cell_type": "code",
      "execution_count": 108,
      "metadata": {
        "id": "xebr17IGIxy9"
      },
      "outputs": [
        {
          "data": {
            "text/plain": [
              "\"Pipeline(steps=[('balancer', TomekLinks(sampling_strategy='majority')),\\n                ('model',\\n                 RandomForestClassifier(class_weight='balanced', max_depth=80,\\n                                        max_features=0.8, min_samples_leaf=2,\\n                                        min_samples_split=16, n_estimators=1176,\\n                                        random_state=42))])\\n0.467293025302803\""
            ]
          },
          "execution_count": 108,
          "metadata": {},
          "output_type": "execute_result"
        }
      ],
      "source": [
        "'''Pipeline(steps=[('balancer', TomekLinks(sampling_strategy='majority')),\n",
        "                ('model',\n",
        "                 RandomForestClassifier(class_weight='balanced', max_depth=80,\n",
        "                                        max_features=0.8, min_samples_leaf=2,\n",
        "                                        min_samples_split=16, n_estimators=1176,\n",
        "                                        random_state=42))])\n",
        "0.467293025302803'''"
      ]
    },
    {
      "cell_type": "code",
      "execution_count": 109,
      "metadata": {
        "id": "_vL7IDdRQQVT"
      },
      "outputs": [],
      "source": [
        "# y_pred = random_search.best_estimator_.predict(X_test)\n",
        "\n",
        "# print(classification_report(y_test, y_pred))\n",
        "# print('accuracy: ', cross_val_score(random_search.best_estimator_, X_train, y_train, cv=cv_out, scoring='accuracy').mean()*100)\n",
        "# print('accuracy: ', cross_val_score(random_search.best_estimator_, X_train, y_train, cv=cv_out, scoring='accuracy').std()*100)\n",
        "# print('f1_macro: ', cross_val_score(random_search.best_estimator_, X_train, y_train, cv=cv_out, scoring='f1_macro').mean()*100)\n",
        "# print('f1_macro: ', cross_val_score(random_search.best_estimator_, X_train, y_train, cv=cv_out, scoring='f1_macro').std()*100)\n",
        "# cm = confusion_matrix(y_test, y_pred)\n",
        "# disp = ConfusionMatrixDisplay(confusion_matrix=cm)\n",
        "# disp.plot()\n",
        "# plt.show()"
      ]
    },
    {
      "cell_type": "markdown",
      "metadata": {
        "id": "HGRkJgBDoDz8"
      },
      "source": [
        "selecting a couple of promising models in case ensembling is needed, but if target is reached then just select the best model and do deployment"
      ]
    },
    {
      "cell_type": "markdown",
      "metadata": {
        "id": "JwwcFERRT1cg"
      },
      "source": [
        "Promising models:\n",
        "\n",
        "Pipeline(steps=[('balancer', TomekLinks(sampling_strategy='majority')),\n",
        "                ('model',\n",
        "                 BalancedRandomForestClassifier(max_depth=29,\n",
        "                                                min_samples_leaf=2,\n",
        "                                                min_samples_split=5,\n",
        "                                                n_estimators=141,\n",
        "                                                random_state=42))])\n",
        "\n",
        "Pipeline(steps=[('balancer', NearMiss()),\n",
        "                ('model',\n",
        "                 RandomForestClassifier(max_depth=80, min_samples_split=3,\n",
        "                                        n_estimators=741, random_state=42))])\n",
        "\n",
        "Pipeline(steps=[('balancer', TomekLinks(sampling_strategy='majority')),\n",
        "                ('model',\n",
        "                 RandomForestClassifier(class_weight='balanced', max_depth=80,\n",
        "                                        max_features=0.8, min_samples_leaf=2,\n",
        "                                        min_samples_split=16, n_estimators=1176,\n",
        "                                        random_state=42))])\n",
        "\n",
        "Pipeline(steps=[('balancer', SMOTEN(random_state=42)),\n",
        "                ('model',\n",
        "                 LogisticRegression(C=np.float64(1.0377055497115122),\n",
        "                                    class_weight='balanced', penalty='l1',\n",
        "                                    random_state=42, solver='liblinear'))])\n",
        "\n"
      ]
    },
    {
      "cell_type": "markdown",
      "metadata": {
        "id": "tt701TNthwdI"
      },
      "source": [
        "# Boosting"
      ]
    },
    {
      "cell_type": "markdown",
      "metadata": {
        "id": "S_OZ2ElZU08g"
      },
      "source": [
        "## getting other models"
      ]
    },
    {
      "cell_type": "code",
      "execution_count": 110,
      "metadata": {
        "id": "wJM82SPAU9Wp"
      },
      "outputs": [],
      "source": [
        "from xgboost import XGBClassifier"
      ]
    },
    {
      "cell_type": "code",
      "execution_count": 111,
      "metadata": {
        "id": "FW-41oG9cjey"
      },
      "outputs": [],
      "source": [
        "from catboost import CatBoostClassifier\n",
        "from lightgbm import LGBMClassifier"
      ]
    },
    {
      "cell_type": "markdown",
      "metadata": {},
      "source": [
        "trying out more models and getting their best samplers -> if performance is at least better than base logistic regression, the model will be picked"
      ]
    },
    {
      "cell_type": "code",
      "execution_count": 112,
      "metadata": {
        "id": "7r_mKh19U68e"
      },
      "outputs": [],
      "source": [
        "# samplers = [\n",
        "#     SMOTE(random_state=42),\n",
        "#     ADASYN(random_state=42),\n",
        "#     KMeansSMOTE(random_state=42),\n",
        "#     SMOTENC(categorical_features=categorical_columns, random_state=42),\n",
        "#     SMOTEN(random_state=42),\n",
        "#     SVMSMOTE(random_state=42),\n",
        "#     SMOTEENN(random_state=42),\n",
        "#     SMOTETomek(random_state=42),\n",
        "#     RandomUnderSampler(random_state=42),\n",
        "#     TomekLinks(sampling_strategy='majority'),\n",
        "#     TomekLinks(),\n",
        "#     ClusterCentroids(random_state=42),\n",
        "#     NearMiss(version=1),\n",
        "#     EditedNearestNeighbours(),\n",
        "#     RepeatedEditedNearestNeighbours(),\n",
        "#     None\n",
        "# ]\n",
        "\n",
        "# param_grid = {\n",
        "#     'balancer': samplers\n",
        "# }\n",
        "\n",
        "# xgb = XGBClassifier(\n",
        "#       # objective='multi:softmax',\n",
        "#       # eval_metric='mlogloss',\n",
        "#       # use_label_encoder=False,\n",
        "#       random_state=42\n",
        "# )\n",
        "\n",
        "# lgbm = LGBMClassifier(\n",
        "#     # bad model -> shouldn't use this (43 and 52)\n",
        "#     # objective='multiclass',\n",
        "#     # n_estimators=300,\n",
        "#     # learning_rate=0.05,\n",
        "#     # max_depth=10,\n",
        "#     random_state=42\n",
        "# )\n",
        "\n",
        "# cat = CatBoostClassifier(\n",
        "#     # iterations=300,\n",
        "#     # learning_rate=0.05,\n",
        "#     # depth=10,\n",
        "#     random_seed=42,\n",
        "#     verbose=0,\n",
        "#     # loss_function='MultiClass'\n",
        "# )\n",
        "\n",
        "# pipeline = Pipeline([\n",
        "#     ('balancer', SMOTE()),  # default, overwritten in GridSearch\n",
        "#     ('model', xgb)\n",
        "# ])\n",
        "\n",
        "# grid = GridSearchCV(\n",
        "#     estimator=pipeline,\n",
        "#     param_grid=param_grid,\n",
        "#     cv=cv_out,\n",
        "#     scoring='f1_macro',\n",
        "#     verbose=3\n",
        "# )\n",
        "\n",
        "# grid.fit(X_train, y_train)\n",
        "# print(grid.best_estimator_)\n",
        "# print(grid.best_score_)"
      ]
    },
    {
      "cell_type": "code",
      "execution_count": 113,
      "metadata": {
        "id": "wgg4zaci7Jfp"
      },
      "outputs": [],
      "source": [
        "# print(grid.best_params_)"
      ]
    },
    {
      "cell_type": "code",
      "execution_count": 114,
      "metadata": {
        "id": "Q5pD_8n_VO4x"
      },
      "outputs": [],
      "source": [
        "# y_pred = grid.best_estimator_.predict(X_test)\n",
        "\n",
        "# print(classification_report(y_test, y_pred))\n",
        "# print(cross_val_score(grid.best_estimator_, X_train, y_train, cv=cv_out, scoring='accuracy').mean()*100)\n",
        "# print(cross_val_score(grid.best_estimator_, X_train, y_train, cv=cv_out, scoring='accuracy').std()*100)\n",
        "# print(cross_val_score(grid.best_estimator_, X_train, y_train, cv=cv_out, scoring='f1_macro').mean()*100)\n",
        "# print(cross_val_score(grid.best_estimator_, X_train, y_train, cv=cv_out, scoring='f1_macro').std()*100)\n",
        "# cm = confusion_matrix(y_test, y_pred)\n",
        "# print(cm)\n",
        "# disp = ConfusionMatrixDisplay(confusion_matrix=cm)\n",
        "# disp.plot()\n",
        "# plt.show()"
      ]
    },
    {
      "cell_type": "markdown",
      "metadata": {
        "id": "G__a6w_k57Jc"
      },
      "source": [
        " advaced models result:\n",
        "\n",
        " lgbm: none -> 0.41509600863995466\n",
        "```\n",
        "               precision    recall  f1-score   support\n",
        "\n",
        "           0       0.75      0.75      0.75        83\n",
        "           1       0.42      0.47      0.45        53\n",
        "           2       0.24      0.18      0.21        22\n",
        "           3       0.35      0.33      0.34        21\n",
        "\n",
        "    accuracy                           0.55       179\n",
        "   macro avg       0.44      0.43      0.44       179\n",
        "weighted avg       0.54      0.55      0.54       179\n",
        "\n",
        "[[62 15  3  3]\n",
        " [18 25  5  5]\n",
        " [ 1 12  4  5]\n",
        " [ 2  7  5  7]]\n",
        "```\n",
        "\n",
        "cat: smote -> 0.4464912861805863\n",
        "```\n",
        "              precision    recall  f1-score   support\n",
        "\n",
        "           0       0.74      0.72      0.73        83\n",
        "           1       0.43      0.47      0.45        53\n",
        "           2       0.18      0.14      0.15        22\n",
        "           3       0.26      0.29      0.27        21\n",
        "\n",
        "    accuracy                           0.53       179\n",
        "   macro avg       0.40      0.40      0.40       179\n",
        "weighted avg       0.52      0.53      0.52       179\n",
        "\n",
        "55.41862284820031\n",
        "5.793290316858276\n",
        "44.64912861805863\n",
        "6.151934024729744\n",
        "[[60 17  3  3]\n",
        " [16 25  5  7]\n",
        " [ 2 10  3  7]\n",
        " [ 3  6  6  6]]\n",
        "```\n",
        "\n",
        "cat: tomeklinks(majority) -> 0.44324848573039566\n",
        "```\n",
        "              precision    recall  f1-score   support\n",
        "\n",
        "           0       0.74      0.60      0.66        83\n",
        "           1       0.42      0.53      0.47        53\n",
        "           2       0.19      0.18      0.19        22\n",
        "           3       0.35      0.38      0.36        21\n",
        "\n",
        "    accuracy                           0.50       179\n",
        "   macro avg       0.42      0.42      0.42       179\n",
        "weighted avg       0.53      0.50      0.51       179\n",
        "\n",
        "54.30555555555554\n",
        "6.996905866318105\n",
        "44.32484857303957\n",
        "8.197988145729042\n",
        "[[50 22  6  5]\n",
        " [14 28  6  5]\n",
        " [ 2 11  4  5]\n",
        " [ 2  6  5  8]]\n",
        "```\n",
        "\n",
        "xgb -> tomeklinks (majority) -> 0.4829617587431902\n",
        "```\n",
        "              precision    recall  f1-score   support\n",
        "\n",
        "           0       0.77      0.60      0.68        83\n",
        "           1       0.43      0.57      0.49        53\n",
        "           2       0.25      0.27      0.26        22\n",
        "           3       0.35      0.33      0.34        21\n",
        "\n",
        "    accuracy                           0.52       179\n",
        "   macro avg       0.45      0.44      0.44       179\n",
        "weighted avg       0.56      0.52      0.53       179\n",
        "\n",
        "55.97026604068858\n",
        "5.128358877600782\n",
        "48.29617587431902\n",
        "4.864207749204823\n",
        "[[50 24  6  3]\n",
        " [10 30  7  6]\n",
        " [ 3  9  6  4]\n",
        " [ 2  7  5  7]]\n",
        "```"
      ]
    },
    {
      "cell_type": "markdown",
      "metadata": {},
      "source": [
        "lgbm is dropped because of the cv result is worse than base logistic regression -> suggesting that this model is not good at this dataset"
      ]
    },
    {
      "cell_type": "markdown",
      "metadata": {
        "id": "0MVICXtZMylA"
      },
      "source": [
        "## fine tuning the models"
      ]
    },
    {
      "cell_type": "code",
      "execution_count": 115,
      "metadata": {
        "colab": {
          "base_uri": "https://localhost:8080/",
          "height": 356
        },
        "id": "6zS_YX5AM1l0",
        "outputId": "cd0d79a9-6cd6-4d03-c6d0-6782a0e416dd"
      },
      "outputs": [],
      "source": [
        "# rf_pipeline = Pipeline([\n",
        "#     ('balancer', TomekLinks(sampling_strategy='majority')),\n",
        "#     ('model', RandomForestClassifier(random_state=42, class_weight='balanced'))\n",
        "# ])\n",
        "\n",
        "# rf_param_grid = {\n",
        "#     'model__n_estimators': [1000, 1176, 1300],\n",
        "#     'model__max_depth': [70, 80, 90, None],\n",
        "#     'model__min_samples_split': [14, 16, 18],\n",
        "#     'model__min_samples_leaf': [1, 2, 3],\n",
        "#     'model__max_features': [0.7, 0.8, 'sqrt']\n",
        "# }\n",
        "# rf_grid = GridSearchCV(rf_pipeline, rf_param_grid, cv=cv_out, scoring='f1_macro', verbose=3)\n",
        "\n",
        "# xgb_pipeline = Pipeline([\n",
        "#     ('balancer', TomekLinks(sampling_strategy='majority')),\n",
        "#     ('model', XGBClassifier())\n",
        "# ])\n",
        "\n",
        "# xgb_param_dist = {\n",
        "#     'model__n_estimators': randint(100, 2000),\n",
        "#     'model__learning_rate': loguniform(0.01, 0.3),\n",
        "#     'model__max_depth': randint(3, 15),\n",
        "#     'model__subsample': uniform(0.6, 0.4), # Row sampling\n",
        "#     'model__colsample_bytree': uniform(0.6, 0.4), # Column sampling\n",
        "#     'model__gamma': loguniform(0.01, 10), # Min loss reduction for split\n",
        "#     'model__reg_alpha': loguniform(0.01, 10), # L1 regularization\n",
        "#     'model__reg_lambda': loguniform(0.01, 10), # L2 regularization\n",
        "#     'model__scale_pos_weight': uniform(1, 20)\n",
        "# }\n",
        "# xgb_random = RandomizedSearchCV(xgb_pipeline, xgb_param_dist, n_iter=15, cv=cv_out, scoring='f1_macro', verbose=3, random_state=42)\n",
        "\n",
        "# lr_pipeline = Pipeline([\n",
        "#     ('balancer', SMOTEN(random_state=42)),\n",
        "#     ('model', LogisticRegression(random_state=42))\n",
        "# ])\n",
        "\n",
        "# lr_param_dist = {\n",
        "#     'model__C': [0.8, 1.0, 1.0377, 1.2, 1.5]\n",
        "# }\n",
        "\n",
        "# lr_search = GridSearchCV(lr_pipeline, lr_param_dist, cv=cv_out, scoring='f1_macro', verbose=3)\n",
        "\n",
        "# br_pipeline = Pipeline([\n",
        "#     ('balancer', TomekLinks(sampling_strategy='majority')),\n",
        "#     ('model', BalancedRandomForestClassifier(random_state=42))\n",
        "# ])\n",
        "\n",
        "# br_param_dist = {\n",
        "#     'model__n_estimators': [120, 141, 160, 180],\n",
        "#     'model__max_depth': [25, 29, 35, 40],\n",
        "#     'model__min_samples_split': [4, 5, 6],\n",
        "#     'model__min_samples_leaf': [1, 2, 3]\n",
        "# }\n",
        "\n",
        "# br_search = GridSearchCV(br_pipeline, br_param_dist, cv=cv_out, scoring='f1_macro', verbose=3)\n",
        "\n",
        "# cat_pipeline = Pipeline([\n",
        "#     ('balancer', SMOTE(random_state=42)),\n",
        "#     ('model', CatBoostClassifier(verbose=0, random_state=42))\n",
        "# ])\n",
        "\n",
        "# cat_param_dist = [\n",
        "#     {\n",
        "#         # --- Strategy 1: No internal weighting (Recommended with SMOTE) ---\n",
        "#         'model__n_estimators': randint(100, 1500),\n",
        "#         'model__learning_rate': loguniform(0.01, 0.3),\n",
        "#         'model__depth': randint(4, 10),\n",
        "#         'model__l2_leaf_reg': loguniform(1, 10),\n",
        "#         'model__bootstrap_type': ['Bernoulli'],\n",
        "#         'model__subsample': uniform(0.6, 0.4),\n",
        "#         'model__colsample_bylevel': uniform(0.6, 0.4),\n",
        "#         # --- NO weighting parameters included ---\n",
        "#     },\n",
        "#     {\n",
        "#         # --- Strategy 2: Using auto_class_weights (Multiclass compatible) ---\n",
        "#         'model__n_estimators': randint(100, 1500),\n",
        "#         'model__learning_rate': loguniform(0.01, 0.3),\n",
        "#         'model__depth': randint(4, 10),\n",
        "#         'model__l2_leaf_reg': loguniform(1, 10),\n",
        "#         'model__bootstrap_type': ['Bernoulli'],\n",
        "#         'model__subsample': uniform(0.6, 0.4),\n",
        "#         'model__colsample_bylevel': uniform(0.6, 0.4),\n",
        "#         'model__auto_class_weights': ['Balanced'] # Only set this one\n",
        "#     }\n",
        "# ]\n",
        "\n",
        "# cat_random = RandomizedSearchCV(cat_pipeline, cat_param_dist, n_iter=15, cv=cv_out, scoring='f1_macro', verbose=3, random_state=42, error_score='raise')\n",
        "\n",
        "# # print(cat_random.param_distributions)\n",
        "\n",
        "# # rf_grid.fit(X_train, y_train)\n",
        "# # br_search.fit(X_train, y_train)\n",
        "# # xgb_random.fit(X_train, y_train)\n",
        "# try:\n",
        "#     cat_random.fit(X_train, y_train)\n",
        "# except Exception as e:\n",
        "#     print('error\\n')\n",
        "#     print(e)\n",
        "#     raise\n",
        "    \n",
        "# lr_search.fit(X_train, y_train)"
      ]
    },
    {
      "cell_type": "code",
      "execution_count": 116,
      "metadata": {
        "id": "gNUySdYVHsS9"
      },
      "outputs": [],
      "source": [
        "# print('rf: ', rf_grid.best_score_)\n",
        "# print('xgb: ', xgb_random.best_score_)\n",
        "# print('br: ', br_search.best_score_)\n",
        "# print('cat: ', cat_random.best_score_)\n",
        "# print('lr: ', lr_search.best_score_)\n",
        "\n",
        "# print()\n",
        "\n",
        "# print('rf: ', rf_grid.best_estimator_)\n",
        "# print('xgb: ', xgb_random.best_estimator_)\n",
        "# print('xgb: ', xgb_random.best_params_)\n",
        "# print('br: ', br_search.best_estimator_)\n",
        "# print('cat: ', cat_random.best_estimator_)\n",
        "# print('cat2: ', cat_random.best_params_)\n",
        "# print('lr: ', lr_search.best_estimator_)"
      ]
    },
    {
      "cell_type": "markdown",
      "metadata": {},
      "source": [
        "params and scores get using the search (documented to save time):\n",
        "\n",
        "rf:  Pipeline(steps=[('balancer', TomekLinks(sampling_strategy='majority')),\n",
        "                ('model',\n",
        "                 RandomForestClassifier(class_weight='balanced', max_depth=70,\n",
        "                                        min_samples_leaf=2,\n",
        "                                        min_samples_split=16, n_estimators=1176,\n",
        "                                        random_state=42))])\n",
        "\n",
        "xgb:  Pipeline(steps=[('balancer', TomekLinks(sampling_strategy='majority')),\n",
        "                ('model',\n",
        "                 XGBClassifier(base_score=None, booster=None, callbacks=None,\n",
        "                               colsample_bylevel=None, colsample_bynode=None,\n",
        "                               colsample_bytree=np.float64(0.8446612641953124),\n",
        "                               device=None, early_stopping_rounds=None,\n",
        "                               enable_categorical=False, eval_metric=None,\n",
        "                               feature_types=None, feature_weights=None...\n",
        "                               grow_policy=None, importance_type=None,\n",
        "                               interaction_constraints=None,\n",
        "                               learning_rate=np.float64(0.010815983055225093),\n",
        "                               max_bin=None, max_cat_threshold=None,\n",
        "                               max_cat_to_onehot=None, max_delta_step=None,\n",
        "                               max_depth=13, max_leaves=None,\n",
        "                               min_child_weight=None, missing=nan,\n",
        "                               monotone_constraints=None, multi_strategy=None,\n",
        "                               n_estimators=1182, n_jobs=None,\n",
        "                               num_parallel_tree=None, ...))])\n",
        "xgb:  {'model__colsample_bytree': np.float64(0.8446612641953124), 'model__gamma': np.float64(0.010500232504231355), 'model__learning_rate': np.float64(0.010815983055225093), 'model__max_depth': 13, 'model__n_estimators': 1182, 'model__reg_alpha': np.float64(0.15833718339012065), 'model__reg_lambda': np.float64(0.013803746963532811), 'model__scale_pos_weight': np.float64(20.475110376829182), 'model__subsample': np.float64(0.6931085361721216)}\n",
        "\n",
        "br:  Pipeline(steps=[('balancer', TomekLinks(sampling_strategy='majority')),\n",
        "                ('model',\n",
        "                 BalancedRandomForestClassifier(max_depth=25,\n",
        "                                                min_samples_leaf=2,\n",
        "                                                min_samples_split=5,\n",
        "                                                n_estimators=120,\n",
        "                                                random_state=42))])\n",
        "\n",
        "cat:  Pipeline(steps=[('balancer', SMOTE(random_state=42)),\n",
        "                ('model',\n",
        "                 <catboost.core.CatBoostClassifier object at 0x000001F011D7CBD0>)])\n",
        "\n",
        "cat2:  {'model__bootstrap_type': 'Bernoulli', 'model__colsample_bylevel': np.float64(0.7727780074568463), 'model__depth': 4, 'model__l2_leaf_reg': np.float64(3.3479168275555122), 'model__learning_rate': np.float64(0.03896217029789141), 'model__n_estimators': 799, 'model__subsample': np.float64(0.7465447373174767)}\n",
        "\n",
        "lr:  Pipeline(steps=[('balancer', SMOTEN(random_state=42)),\n",
        "                ('model', LogisticRegression(C=1.5, random_state=42))])\n",
        "\n",
        "rf:  0.47654379369125477\n",
        "xgb:  0.4540656493303136\n",
        "br:  0.49352743134668675\n",
        "cat:  0.4725655609711682\n",
        "lr:  0.4236508295316185"
      ]
    },
    {
      "cell_type": "code",
      "execution_count": 117,
      "metadata": {
        "id": "UftmqBJzOp_1"
      },
      "outputs": [],
      "source": [
        "# y_pred_rf = rf_grid.best_estimator_.predict(X_test)\n",
        "# y_pred_xg = xgb_random.best_estimator_.predict(X_test)\n",
        "# y_pred_br = br_search.best_estimator_.predict(X_test)\n",
        "# y_pred_cat = cat_random.best_estimator_.predict(X_test)\n",
        "# y_pred_lr = lr_search.best_estimator_.predict(X_test)"
      ]
    },
    {
      "cell_type": "code",
      "execution_count": 118,
      "metadata": {
        "id": "4uLT85XfOiLf"
      },
      "outputs": [],
      "source": [
        "# print('rf: ', classification_report(y_test, y_pred_rf))\n",
        "# cm = confusion_matrix(y_test, y_pred_rf)\n",
        "# print(cm)\n",
        "# print()\n",
        "\n",
        "# print('xg: ', classification_report(y_test, y_pred_xg))\n",
        "# cm = confusion_matrix(y_test, y_pred_xg)\n",
        "# print(cm)\n",
        "# print()\n",
        "\n",
        "# print('br: ', classification_report(y_test, y_pred_br))\n",
        "# cm = confusion_matrix(y_test, y_pred_br)\n",
        "# # print(cm)\n",
        "# print()\n",
        "\n",
        "# print('cat: ', classification_report(y_test, y_pred_cat))\n",
        "# cm = confusion_matrix(y_test, y_pred_cat)\n",
        "# print(cm)\n",
        "# print()\n",
        "\n",
        "# print('lr: ', classification_report(y_test, y_pred_lr))\n",
        "# cm = confusion_matrix(y_test, y_pred_lr)\n",
        "# print(cm)\n",
        "# print()"
      ]
    },
    {
      "cell_type": "code",
      "execution_count": 119,
      "metadata": {
        "id": "SDanDUSbqXVl"
      },
      "outputs": [],
      "source": [
        "from sklearn.utils.class_weight import compute_class_weight\n",
        "# from sklearn.model_selection import Search"
      ]
    },
    {
      "cell_type": "code",
      "execution_count": 120,
      "metadata": {
        "id": "ZrUg8-AsqTay"
      },
      "outputs": [
        {
          "name": "stdout",
          "output_type": "stream",
          "text": [
            "{np.int64(0): np.float64(0.5434451219512195), np.int64(1): np.float64(0.8408018867924528), np.int64(2): np.float64(2.0488505747126435), np.int64(3): np.float64(2.072674418604651)}\n"
          ]
        }
      ],
      "source": [
        "classes = np.unique(y_train)\n",
        "class_weights = compute_class_weight(class_weight='balanced', classes=classes, y=y_train)\n",
        "class_weights_dict = dict(zip(classes, class_weights))\n",
        "\n",
        "print(class_weights_dict)"
      ]
    },
    {
      "cell_type": "markdown",
      "metadata": {},
      "source": [
        "this new cv at the start is used to save computational cost and time, but using the normal sklearn grid search or randomized search, but because of it doesn't matter (still took way too long) this is thus not used and is only here for documentation"
      ]
    },
    {
      "cell_type": "code",
      "execution_count": 121,
      "metadata": {},
      "outputs": [],
      "source": [
        "cv_in = StratifiedKFold(\n",
        "    n_splits=5,\n",
        "    shuffle=True,\n",
        "    random_state=42\n",
        ")"
      ]
    },
    {
      "cell_type": "code",
      "execution_count": 122,
      "metadata": {},
      "outputs": [],
      "source": [
        "RANDOM_STATE=42\n",
        "USE_GPU=False"
      ]
    },
    {
      "cell_type": "code",
      "execution_count": 207,
      "metadata": {},
      "outputs": [],
      "source": [
        "import optuna\n",
        "from sklearn.metrics import make_scorer, f1_score"
      ]
    },
    {
      "cell_type": "code",
      "execution_count": null,
      "metadata": {},
      "outputs": [
        {
          "name": "stderr",
          "output_type": "stream",
          "text": [
            "[I 2025-05-28 10:45:19,164] A new study created in memory with name: no-name-658f714d-8451-4b27-bda1-94fa6704b650\n"
          ]
        },
        {
          "name": "stdout",
          "output_type": "stream",
          "text": [
            "--- Starting Optuna Study for XGBoost (Fine-Tuned Ranges) ---\n"
          ]
        },
        {
          "name": "stderr",
          "output_type": "stream",
          "text": [
            "[I 2025-05-28 10:45:26,266] Trial 0 finished with value: 0.449245223013659 and parameters: {'n_estimators': 1239, 'learning_rate': 0.0104770190079794, 'max_depth': 14, 'gamma': 0.014838266622680129, 'reg_alpha': 0.13893809364594634, 'reg_lambda': 0.010471572645592734, 'subsample': 0.6769668237751227, 'colsample_bytree': 0.8626669721802751}. Best is trial 0 with value: 0.449245223013659.\n",
            "[I 2025-05-28 10:45:32,809] Trial 1 finished with value: 0.44993947758495656 and parameters: {'n_estimators': 1039, 'learning_rate': 0.008750698284315132, 'max_depth': 13, 'gamma': 0.01674564146361481, 'reg_alpha': 0.19724986790925053, 'reg_lambda': 0.013871951873714912, 'subsample': 0.6624284877064023, 'colsample_bytree': 0.8710004988582425}. Best is trial 1 with value: 0.44993947758495656.\n",
            "[I 2025-05-28 10:45:38,914] Trial 2 finished with value: 0.4533350638317251 and parameters: {'n_estimators': 1225, 'learning_rate': 0.013239587597783981, 'max_depth': 12, 'gamma': 0.012441166927732273, 'reg_alpha': 0.12049908615425292, 'reg_lambda': 0.018164879642126014, 'subsample': 0.6748073806837903, 'colsample_bytree': 0.8958012956392352}. Best is trial 2 with value: 0.4533350638317251.\n",
            "[I 2025-05-28 10:45:44,946] Trial 3 finished with value: 0.45390550619912 and parameters: {'n_estimators': 1107, 'learning_rate': 0.011449273389339256, 'max_depth': 12, 'gamma': 0.012407132135079997, 'reg_alpha': 0.14250588928995378, 'reg_lambda': 0.010557799107519318, 'subsample': 0.6861709200703469, 'colsample_bytree': 0.8063957189733115}. Best is trial 3 with value: 0.45390550619912.\n",
            "[I 2025-05-28 10:45:50,242] Trial 4 finished with value: 0.44674612501802063 and parameters: {'n_estimators': 1039, 'learning_rate': 0.014216738485395586, 'max_depth': 13, 'gamma': 0.009945540568896396, 'reg_alpha': 0.1481316691653251, 'reg_lambda': 0.017420071637581382, 'subsample': 0.6741589749764194, 'colsample_bytree': 0.8071929539094717}. Best is trial 3 with value: 0.45390550619912.\n",
            "[I 2025-05-28 10:45:55,863] Trial 5 finished with value: 0.44531078324662915 and parameters: {'n_estimators': 1095, 'learning_rate': 0.01246917172720673, 'max_depth': 13, 'gamma': 0.01976309877462024, 'reg_alpha': 0.1438690115780245, 'reg_lambda': 0.016593103642684816, 'subsample': 0.6616392791361086, 'colsample_bytree': 0.8055712541917713}. Best is trial 3 with value: 0.45390550619912.\n",
            "[I 2025-05-28 10:46:03,361] Trial 6 finished with value: 0.4540407989445222 and parameters: {'n_estimators': 1203, 'learning_rate': 0.009601217016461949, 'max_depth': 14, 'gamma': 0.008624428411384237, 'reg_alpha': 0.18083218550219549, 'reg_lambda': 0.012117850990557306, 'subsample': 0.6732023911679932, 'colsample_bytree': 0.844147391962093}. Best is trial 6 with value: 0.4540407989445222.\n",
            "[I 2025-05-28 10:46:09,053] Trial 7 finished with value: 0.45850986825517825 and parameters: {'n_estimators': 1056, 'learning_rate': 0.012523511897855449, 'max_depth': 14, 'gamma': 0.016060356943318123, 'reg_alpha': 0.11148416039670936, 'reg_lambda': 0.01283124088715062, 'subsample': 0.6863814573323685, 'colsample_bytree': 0.8511929000085052}. Best is trial 7 with value: 0.45850986825517825.\n",
            "[I 2025-05-28 10:46:16,105] Trial 8 finished with value: 0.45117822738639857 and parameters: {'n_estimators': 1154, 'learning_rate': 0.00915933969670197, 'max_depth': 13, 'gamma': 0.018127280647957787, 'reg_alpha': 0.14529692805280042, 'reg_lambda': 0.017857147223114062, 'subsample': 0.7309615805420433, 'colsample_bytree': 0.819893528681841}. Best is trial 7 with value: 0.45850986825517825.\n",
            "[I 2025-05-28 10:46:22,122] Trial 9 finished with value: 0.44445759280122055 and parameters: {'n_estimators': 1171, 'learning_rate': 0.012178133989703915, 'max_depth': 13, 'gamma': 0.006454983868860033, 'reg_alpha': 0.1542536872822507, 'reg_lambda': 0.019244755417763774, 'subsample': 0.6530892343458697, 'colsample_bytree': 0.8293545355411545}. Best is trial 7 with value: 0.45850986825517825.\n",
            "[I 2025-05-28 10:46:27,595] Trial 10 finished with value: 0.4645374794144905 and parameters: {'n_estimators': 1000, 'learning_rate': 0.01473644062238079, 'max_depth': 14, 'gamma': 0.006184130397573515, 'reg_alpha': 0.10226538926281489, 'reg_lambda': 0.014141206453736484, 'subsample': 0.713573839580768, 'colsample_bytree': 0.8839849214549216}. Best is trial 10 with value: 0.4645374794144905.\n",
            "[I 2025-05-28 10:46:33,034] Trial 11 finished with value: 0.4580305167232875 and parameters: {'n_estimators': 1011, 'learning_rate': 0.014870055668959662, 'max_depth': 14, 'gamma': 0.005302741925098293, 'reg_alpha': 0.10287653942934495, 'reg_lambda': 0.014248964766212568, 'subsample': 0.7119315529266455, 'colsample_bytree': 0.8960190917202661}. Best is trial 10 with value: 0.4645374794144905.\n",
            "[I 2025-05-28 10:46:39,354] Trial 12 finished with value: 0.453750233788786 and parameters: {'n_estimators': 1286, 'learning_rate': 0.013537421537138428, 'max_depth': 14, 'gamma': 0.00722427844523569, 'reg_alpha': 0.1004317447683712, 'reg_lambda': 0.013988837830245175, 'subsample': 0.7056264605748561, 'colsample_bytree': 0.8683161712186128}. Best is trial 10 with value: 0.4645374794144905.\n",
            "[I 2025-05-28 10:46:45,405] Trial 13 finished with value: 0.4582567585551939 and parameters: {'n_estimators': 1085, 'learning_rate': 0.012744440567557238, 'max_depth': 14, 'gamma': 0.005604737506797393, 'reg_alpha': 0.12141207699717474, 'reg_lambda': 0.0122018353526715, 'subsample': 0.7267491599029474, 'colsample_bytree': 0.8822423575990059}. Best is trial 10 with value: 0.4645374794144905.\n",
            "[I 2025-05-28 10:46:51,490] Trial 14 finished with value: 0.4572214426165441 and parameters: {'n_estimators': 1000, 'learning_rate': 0.01095990410056841, 'max_depth': 14, 'gamma': 0.00872205716204884, 'reg_alpha': 0.11752660936908388, 'reg_lambda': 0.015885882598321063, 'subsample': 0.6952974214619478, 'colsample_bytree': 0.8464450276249199}. Best is trial 10 with value: 0.4645374794144905.\n",
            "[I 2025-05-28 10:46:57,293] Trial 15 finished with value: 0.4416765190000847 and parameters: {'n_estimators': 1054, 'learning_rate': 0.014560517212069099, 'max_depth': 14, 'gamma': 0.012335134560862536, 'reg_alpha': 0.11399726536071225, 'reg_lambda': 0.012676521785074496, 'subsample': 0.7141464080751685, 'colsample_bytree': 0.8566271185775612}. Best is trial 10 with value: 0.4645374794144905.\n",
            "[I 2025-05-28 10:47:04,122] Trial 16 finished with value: 0.463373991909174 and parameters: {'n_estimators': 1119, 'learning_rate': 0.011478981559299212, 'max_depth': 14, 'gamma': 0.007367639005633765, 'reg_alpha': 0.12861052376742022, 'reg_lambda': 0.015285889125692764, 'subsample': 0.7428084912536207, 'colsample_bytree': 0.8411527590888037}. Best is trial 10 with value: 0.4645374794144905.\n",
            "[I 2025-05-28 10:47:10,852] Trial 17 finished with value: 0.45350683748156156 and parameters: {'n_estimators': 1124, 'learning_rate': 0.009753267908493403, 'max_depth': 13, 'gamma': 0.006915526881145247, 'reg_alpha': 0.13048635511938578, 'reg_lambda': 0.014864028282643374, 'subsample': 0.7458095902584373, 'colsample_bytree': 0.8337306828413447}. Best is trial 10 with value: 0.4645374794144905.\n",
            "[I 2025-05-28 10:47:17,603] Trial 18 finished with value: 0.4556977487992902 and parameters: {'n_estimators': 1298, 'learning_rate': 0.011806309478139957, 'max_depth': 12, 'gamma': 0.006116939370912875, 'reg_alpha': 0.1606575295087743, 'reg_lambda': 0.015604867770900843, 'subsample': 0.7453962759137854, 'colsample_bytree': 0.880472179432782}. Best is trial 10 with value: 0.4645374794144905.\n",
            "[I 2025-05-28 10:47:24,922] Trial 19 finished with value: 0.4646704809753013 and parameters: {'n_estimators': 1175, 'learning_rate': 0.008041787028250529, 'max_depth': 14, 'gamma': 0.007834766474294442, 'reg_alpha': 0.13159320941351818, 'reg_lambda': 0.011164992786198464, 'subsample': 0.7315052086319963, 'colsample_bytree': 0.8317487543647306}. Best is trial 19 with value: 0.4646704809753013.\n",
            "[I 2025-05-28 10:47:31,944] Trial 20 finished with value: 0.45095344179449076 and parameters: {'n_estimators': 1178, 'learning_rate': 0.008205803706067221, 'max_depth': 14, 'gamma': 0.008259205543371024, 'reg_alpha': 0.16885922467440218, 'reg_lambda': 0.011276430945689284, 'subsample': 0.7245390585179696, 'colsample_bytree': 0.8258440534174877}. Best is trial 19 with value: 0.4646704809753013.\n",
            "[I 2025-05-28 10:47:39,534] Trial 21 finished with value: 0.4531597013830451 and parameters: {'n_estimators': 1132, 'learning_rate': 0.008142035876759627, 'max_depth': 14, 'gamma': 0.007617054774924908, 'reg_alpha': 0.1263856733613504, 'reg_lambda': 0.0100319932774612, 'subsample': 0.7365085066114754, 'colsample_bytree': 0.8176048995811569}. Best is trial 19 with value: 0.4646704809753013.\n",
            "[I 2025-05-28 10:47:46,011] Trial 22 finished with value: 0.4580553720137985 and parameters: {'n_estimators': 1257, 'learning_rate': 0.010628264522286848, 'max_depth': 14, 'gamma': 0.010342457436257288, 'reg_alpha': 0.13274784923363755, 'reg_lambda': 0.013277874042920997, 'subsample': 0.716793228074122, 'colsample_bytree': 0.839450301812564}. Best is trial 19 with value: 0.4646704809753013.\n",
            "[I 2025-05-28 10:47:53,584] Trial 23 finished with value: 0.4554807514204908 and parameters: {'n_estimators': 1199, 'learning_rate': 0.010126867327775957, 'max_depth': 14, 'gamma': 0.005045710079465596, 'reg_alpha': 0.11121823976767896, 'reg_lambda': 0.01162201584782345, 'subsample': 0.7361015612620313, 'colsample_bytree': 0.8366906510463118}. Best is trial 19 with value: 0.4646704809753013.\n",
            "[I 2025-05-28 10:47:59,643] Trial 24 finished with value: 0.44715684222165136 and parameters: {'n_estimators': 1137, 'learning_rate': 0.011480601306112174, 'max_depth': 13, 'gamma': 0.006054480657425902, 'reg_alpha': 0.13394855749544374, 'reg_lambda': 0.015006378907834777, 'subsample': 0.7205053443017815, 'colsample_bytree': 0.8557411573502752}. Best is trial 19 with value: 0.4646704809753013.\n",
            "[I 2025-05-28 10:48:06,765] Trial 25 finished with value: 0.4657859077743991 and parameters: {'n_estimators': 1080, 'learning_rate': 0.008869746181198696, 'max_depth': 14, 'gamma': 0.009642172126508922, 'reg_alpha': 0.10604518337507862, 'reg_lambda': 0.016619081886174388, 'subsample': 0.7490598901474717, 'colsample_bytree': 0.8853315593810618}. Best is trial 25 with value: 0.4657859077743991.\n",
            "[I 2025-05-28 10:48:13,552] Trial 26 finished with value: 0.45083437139527016 and parameters: {'n_estimators': 1080, 'learning_rate': 0.008922860045907054, 'max_depth': 14, 'gamma': 0.010530304812837546, 'reg_alpha': 0.10673760086932725, 'reg_lambda': 0.019478304630178397, 'subsample': 0.7499265610901109, 'colsample_bytree': 0.8863586467697522}. Best is trial 25 with value: 0.4657859077743991.\n",
            "[I 2025-05-28 10:48:20,749] Trial 27 finished with value: 0.45780880421288633 and parameters: {'n_estimators': 1023, 'learning_rate': 0.008454476902638145, 'max_depth': 13, 'gamma': 0.009349674332524708, 'reg_alpha': 0.10562816536973343, 'reg_lambda': 0.016764401992056022, 'subsample': 0.7350580521321213, 'colsample_bytree': 0.8725804576852295}. Best is trial 25 with value: 0.4657859077743991.\n",
            "[I 2025-05-28 10:48:27,874] Trial 28 finished with value: 0.45894894016730675 and parameters: {'n_estimators': 1074, 'learning_rate': 0.008570204849733332, 'max_depth': 14, 'gamma': 0.007898126647836774, 'reg_alpha': 0.12158421698233451, 'reg_lambda': 0.010958776725019744, 'subsample': 0.7029609319019879, 'colsample_bytree': 0.8895734549287009}. Best is trial 25 with value: 0.4657859077743991.\n",
            "[I 2025-05-28 10:48:35,229] Trial 29 finished with value: 0.4574056028020331 and parameters: {'n_estimators': 1163, 'learning_rate': 0.008085143096289158, 'max_depth': 14, 'gamma': 0.011231661699466688, 'reg_alpha': 0.13865303246709754, 'reg_lambda': 0.013265407092686782, 'subsample': 0.7398785265608298, 'colsample_bytree': 0.8634485468177195}. Best is trial 25 with value: 0.4657859077743991.\n",
            "[I 2025-05-28 10:48:42,516] Trial 30 finished with value: 0.45941753565043475 and parameters: {'n_estimators': 1187, 'learning_rate': 0.009308627701010595, 'max_depth': 14, 'gamma': 0.006663877228708893, 'reg_alpha': 0.100267846675266, 'reg_lambda': 0.016479011582147027, 'subsample': 0.7282477545995697, 'colsample_bytree': 0.8773432228650596}. Best is trial 25 with value: 0.4657859077743991.\n",
            "[I 2025-05-28 10:48:49,023] Trial 31 finished with value: 0.4607378959184262 and parameters: {'n_estimators': 1107, 'learning_rate': 0.010180483512961963, 'max_depth': 14, 'gamma': 0.0074648906209990986, 'reg_alpha': 0.1253682901402923, 'reg_lambda': 0.01549610386291267, 'subsample': 0.7433993393838406, 'colsample_bytree': 0.821054528903489}. Best is trial 25 with value: 0.4657859077743991.\n",
            "[I 2025-05-28 10:48:54,470] Trial 32 finished with value: 0.44912571169781845 and parameters: {'n_estimators': 1120, 'learning_rate': 0.013989109158824972, 'max_depth': 14, 'gamma': 0.009279412263012068, 'reg_alpha': 0.10841523201538031, 'reg_lambda': 0.014517712562132338, 'subsample': 0.7215195478376782, 'colsample_bytree': 0.8629051779214246}. Best is trial 25 with value: 0.4657859077743991.\n",
            "[I 2025-05-28 10:49:02,105] Trial 33 finished with value: 0.46262559170513384 and parameters: {'n_estimators': 1227, 'learning_rate': 0.00880302528091215, 'max_depth': 14, 'gamma': 0.00566942239954857, 'reg_alpha': 0.11622792962475356, 'reg_lambda': 0.018579385409510336, 'subsample': 0.7489212316056051, 'colsample_bytree': 0.89953296873114}. Best is trial 25 with value: 0.4657859077743991.\n",
            "[I 2025-05-28 10:49:08,215] Trial 34 finished with value: 0.45616712462915415 and parameters: {'n_estimators': 1053, 'learning_rate': 0.013257811401974075, 'max_depth': 14, 'gamma': 0.008020505613787149, 'reg_alpha': 0.13631204272103242, 'reg_lambda': 0.01725014416311808, 'subsample': 0.7407544796778538, 'colsample_bytree': 0.8435155340745654}. Best is trial 25 with value: 0.4657859077743991.\n",
            "[I 2025-05-28 10:49:15,479] Trial 35 finished with value: 0.4539677858932384 and parameters: {'n_estimators': 1146, 'learning_rate': 0.010762390100405353, 'max_depth': 12, 'gamma': 0.013557582087311094, 'reg_alpha': 0.1257322342624332, 'reg_lambda': 0.01617369832928532, 'subsample': 0.7316560650638312, 'colsample_bytree': 0.8133867172589654}. Best is trial 25 with value: 0.4657859077743991.\n",
            "[I 2025-05-28 10:49:23,230] Trial 36 finished with value: 0.45072542659665354 and parameters: {'n_estimators': 1030, 'learning_rate': 0.011224301199940718, 'max_depth': 13, 'gamma': 0.009251465272416914, 'reg_alpha': 0.15587137832228393, 'reg_lambda': 0.013670485576222479, 'subsample': 0.7092274470872918, 'colsample_bytree': 0.8890623890312335}. Best is trial 25 with value: 0.4657859077743991.\n",
            "[I 2025-05-28 10:49:30,856] Trial 37 finished with value: 0.4563980323442598 and parameters: {'n_estimators': 1106, 'learning_rate': 0.008408476485149577, 'max_depth': 14, 'gamma': 0.0071618939928078836, 'reg_alpha': 0.17243800395416653, 'reg_lambda': 0.015397462526269647, 'subsample': 0.6970450363761657, 'colsample_bytree': 0.8544445311361717}. Best is trial 25 with value: 0.4657859077743991.\n",
            "[I 2025-05-28 10:49:37,959] Trial 38 finished with value: 0.4549447679434758 and parameters: {'n_estimators': 1072, 'learning_rate': 0.009445288629423844, 'max_depth': 13, 'gamma': 0.0062991282098417345, 'reg_alpha': 0.1957683040764312, 'reg_lambda': 0.017064714621140238, 'subsample': 0.739694517321365, 'colsample_bytree': 0.8296650682261931}. Best is trial 25 with value: 0.4657859077743991.\n",
            "[I 2025-05-28 10:49:45,980] Trial 39 finished with value: 0.45052331127048006 and parameters: {'n_estimators': 1157, 'learning_rate': 0.009916948913058133, 'max_depth': 14, 'gamma': 0.011322626218988458, 'reg_alpha': 0.13987939656984755, 'reg_lambda': 0.010470873567754254, 'subsample': 0.7328836170447197, 'colsample_bytree': 0.8738043252062515}. Best is trial 25 with value: 0.4657859077743991.\n",
            "[I 2025-05-28 10:49:55,074] Trial 40 finished with value: 0.453387001966833 and parameters: {'n_estimators': 1209, 'learning_rate': 0.009056251926646337, 'max_depth': 13, 'gamma': 0.00856647059363387, 'reg_alpha': 0.12855040221328723, 'reg_lambda': 0.018079761736667595, 'subsample': 0.7194825391156425, 'colsample_bytree': 0.8473108553906928}. Best is trial 25 with value: 0.4657859077743991.\n",
            "[I 2025-05-28 10:50:05,842] Trial 41 finished with value: 0.4600185483234377 and parameters: {'n_estimators': 1232, 'learning_rate': 0.008626806074352466, 'max_depth': 14, 'gamma': 0.0057852552454463945, 'reg_alpha': 0.11227050118372087, 'reg_lambda': 0.018657650587511426, 'subsample': 0.7486558857520694, 'colsample_bytree': 0.8965004343337869}. Best is trial 25 with value: 0.4657859077743991.\n",
            "[I 2025-05-28 10:50:14,132] Trial 42 finished with value: 0.4630209527177479 and parameters: {'n_estimators': 1250, 'learning_rate': 0.00881656983130249, 'max_depth': 14, 'gamma': 0.005585140833481847, 'reg_alpha': 0.11725342093751344, 'reg_lambda': 0.01802276801149834, 'subsample': 0.7494410939875373, 'colsample_bytree': 0.8998718326497009}. Best is trial 25 with value: 0.4657859077743991.\n",
            "[I 2025-05-28 10:50:25,161] Trial 43 finished with value: 0.45623676394583806 and parameters: {'n_estimators': 1244, 'learning_rate': 0.008281300874856668, 'max_depth': 14, 'gamma': 0.006817916636791031, 'reg_alpha': 0.11868418696933014, 'reg_lambda': 0.01784266391964875, 'subsample': 0.7413707663339968, 'colsample_bytree': 0.8919915315928197}. Best is trial 25 with value: 0.4657859077743991.\n",
            "[I 2025-05-28 10:50:33,008] Trial 44 finished with value: 0.44415446392167146 and parameters: {'n_estimators': 1266, 'learning_rate': 0.010327981233794187, 'max_depth': 14, 'gamma': 0.005035136402745021, 'reg_alpha': 0.10618581932476488, 'reg_lambda': 0.0174932669100464, 'subsample': 0.7280300433682858, 'colsample_bytree': 0.8845160811487469}. Best is trial 25 with value: 0.4657859077743991.\n",
            "[I 2025-05-28 10:50:40,582] Trial 45 finished with value: 0.4513382299660105 and parameters: {'n_estimators': 1095, 'learning_rate': 0.008769571354333297, 'max_depth': 14, 'gamma': 0.005971062455648558, 'reg_alpha': 0.12282027502883826, 'reg_lambda': 0.016411716853801942, 'subsample': 0.7444744118244344, 'colsample_bytree': 0.8990530962277219}. Best is trial 25 with value: 0.4657859077743991.\n",
            "[I 2025-05-28 10:50:49,564] Trial 46 finished with value: 0.4563898940374805 and parameters: {'n_estimators': 1215, 'learning_rate': 0.00802362593812243, 'max_depth': 14, 'gamma': 0.005282523893018078, 'reg_alpha': 0.11093265937343522, 'reg_lambda': 0.015045888456729004, 'subsample': 0.7374147909519359, 'colsample_bytree': 0.8931392565247493}. Best is trial 25 with value: 0.4657859077743991.\n",
            "[I 2025-05-28 10:50:57,411] Trial 47 finished with value: 0.45304667702276247 and parameters: {'n_estimators': 1116, 'learning_rate': 0.009197495321460854, 'max_depth': 14, 'gamma': 0.006537575221725136, 'reg_alpha': 0.14780363728530624, 'reg_lambda': 0.01871278277012082, 'subsample': 0.6849247329657229, 'colsample_bytree': 0.8696374855056263}. Best is trial 25 with value: 0.4657859077743991.\n",
            "[I 2025-05-28 10:51:03,362] Trial 48 finished with value: 0.44801681383028563 and parameters: {'n_estimators': 1041, 'learning_rate': 0.012890862543775696, 'max_depth': 14, 'gamma': 0.007184822181962263, 'reg_alpha': 0.11501365722607415, 'reg_lambda': 0.019867885698708985, 'subsample': 0.7237667278293185, 'colsample_bytree': 0.8786407665591479}. Best is trial 25 with value: 0.4657859077743991.\n",
            "[I 2025-05-28 10:51:09,082] Trial 49 finished with value: 0.45721340361294216 and parameters: {'n_estimators': 1064, 'learning_rate': 0.012024849250411135, 'max_depth': 14, 'gamma': 0.005471311522376329, 'reg_alpha': 0.10293367221444193, 'reg_lambda': 0.014221130860528558, 'subsample': 0.7311535205804359, 'colsample_bytree': 0.8417958726981805}. Best is trial 25 with value: 0.4657859077743991.\n",
            "[I 2025-05-28 10:51:15,350] Trial 50 finished with value: 0.45326869024096805 and parameters: {'n_estimators': 1093, 'learning_rate': 0.009592398876381863, 'max_depth': 13, 'gamma': 0.00962424388351629, 'reg_alpha': 0.11785211930149236, 'reg_lambda': 0.011894564840370216, 'subsample': 0.7459522884600093, 'colsample_bytree': 0.8309498717034285}. Best is trial 25 with value: 0.4657859077743991.\n",
            "[I 2025-05-28 10:51:22,745] Trial 51 finished with value: 0.4544343126674912 and parameters: {'n_estimators': 1268, 'learning_rate': 0.009012670964739995, 'max_depth': 14, 'gamma': 0.005834288663099278, 'reg_alpha': 0.11576099737129228, 'reg_lambda': 0.018699044288284377, 'subsample': 0.7498702519152215, 'colsample_bytree': 0.8951357136033851}. Best is trial 25 with value: 0.4657859077743991.\n",
            "[I 2025-05-28 10:51:30,306] Trial 52 finished with value: 0.45309008782732924 and parameters: {'n_estimators': 1247, 'learning_rate': 0.00882653170504448, 'max_depth': 14, 'gamma': 0.005597658791941239, 'reg_alpha': 0.12201753395208824, 'reg_lambda': 0.017614066899817992, 'subsample': 0.7462466783990236, 'colsample_bytree': 0.8863691541833051}. Best is trial 25 with value: 0.4657859077743991.\n",
            "[I 2025-05-28 10:51:35,951] Trial 53 finished with value: 0.46292155049372774 and parameters: {'n_estimators': 1220, 'learning_rate': 0.013883451352002469, 'max_depth': 14, 'gamma': 0.00689570547902249, 'reg_alpha': 0.10943400809784053, 'reg_lambda': 0.016069539553934985, 'subsample': 0.7430342134384527, 'colsample_bytree': 0.8249229998652217}. Best is trial 25 with value: 0.4657859077743991.\n",
            "[I 2025-05-28 10:51:41,525] Trial 54 finished with value: 0.45268910680282504 and parameters: {'n_estimators': 1191, 'learning_rate': 0.014120372695926281, 'max_depth': 14, 'gamma': 0.007591429212792439, 'reg_alpha': 0.10308601774953326, 'reg_lambda': 0.016018877108170147, 'subsample': 0.7425762155301151, 'colsample_bytree': 0.8261115546921268}. Best is trial 25 with value: 0.4657859077743991.\n",
            "[I 2025-05-28 10:51:46,943] Trial 55 finished with value: 0.4526532277431974 and parameters: {'n_estimators': 1219, 'learning_rate': 0.014663737265226118, 'max_depth': 14, 'gamma': 0.0063091631724835765, 'reg_alpha': 0.10966441559377471, 'reg_lambda': 0.01690544098281217, 'subsample': 0.7382699072571622, 'colsample_bytree': 0.8026384961922749}. Best is trial 25 with value: 0.4657859077743991.\n",
            "[I 2025-05-28 10:51:52,165] Trial 56 finished with value: 0.44852992034544503 and parameters: {'n_estimators': 1175, 'learning_rate': 0.013569675255468216, 'max_depth': 12, 'gamma': 0.008676331507402405, 'reg_alpha': 0.13005851102787608, 'reg_lambda': 0.014564004537176285, 'subsample': 0.6665028840492748, 'colsample_bytree': 0.8370523800172521}. Best is trial 25 with value: 0.4657859077743991.\n",
            "[I 2025-05-28 10:51:57,116] Trial 57 finished with value: 0.4525486603765428 and parameters: {'n_estimators': 1007, 'learning_rate': 0.014938196631494082, 'max_depth': 14, 'gamma': 0.00685797461452084, 'reg_alpha': 0.10005921127647756, 'reg_lambda': 0.012587954451706832, 'subsample': 0.7336622380795144, 'colsample_bytree': 0.814959121538423}. Best is trial 25 with value: 0.4657859077743991.\n",
            "[I 2025-05-28 10:52:02,526] Trial 58 finished with value: 0.4525027739946517 and parameters: {'n_estimators': 1138, 'learning_rate': 0.01371695925916039, 'max_depth': 14, 'gamma': 0.008304837103088467, 'reg_alpha': 0.10537961811614396, 'reg_lambda': 0.015593711319117999, 'subsample': 0.6923199176942137, 'colsample_bytree': 0.8508170633608365}. Best is trial 25 with value: 0.4657859077743991.\n",
            "[I 2025-05-28 10:52:08,538] Trial 59 finished with value: 0.4600851024568809 and parameters: {'n_estimators': 1276, 'learning_rate': 0.014542007154268713, 'max_depth': 14, 'gamma': 0.007801974273154373, 'reg_alpha': 0.11247064200086006, 'reg_lambda': 0.015876281059107458, 'subsample': 0.7281397385218057, 'colsample_bytree': 0.8240147818708831}. Best is trial 25 with value: 0.4657859077743991.\n",
            "[I 2025-05-28 10:52:16,552] Trial 60 finished with value: 0.4457985871232931 and parameters: {'n_estimators': 1253, 'learning_rate': 0.012454402275001837, 'max_depth': 14, 'gamma': 0.007324016845747078, 'reg_alpha': 0.13395445287722071, 'reg_lambda': 0.015186138492141977, 'subsample': 0.7103825961145573, 'colsample_bytree': 0.8101835805610192}. Best is trial 25 with value: 0.4657859077743991.\n",
            "[I 2025-05-28 10:52:26,999] Trial 61 finished with value: 0.4500451322891836 and parameters: {'n_estimators': 1228, 'learning_rate': 0.008623472877216057, 'max_depth': 14, 'gamma': 0.0062453535720434225, 'reg_alpha': 0.11658718187455719, 'reg_lambda': 0.018339215316298965, 'subsample': 0.7467872937865329, 'colsample_bytree': 0.8999631779141051}. Best is trial 25 with value: 0.4657859077743991.\n",
            "[I 2025-05-28 10:52:37,259] Trial 62 finished with value: 0.4494743416616022 and parameters: {'n_estimators': 1205, 'learning_rate': 0.008311153493974807, 'max_depth': 14, 'gamma': 0.005354896972588439, 'reg_alpha': 0.10919253473630801, 'reg_lambda': 0.019486243297043848, 'subsample': 0.7497884131533066, 'colsample_bytree': 0.8341354538592616}. Best is trial 25 with value: 0.4657859077743991.\n",
            "[I 2025-05-28 10:52:44,991] Trial 63 finished with value: 0.4687559355963978 and parameters: {'n_estimators': 1233, 'learning_rate': 0.011585993424015244, 'max_depth': 14, 'gamma': 0.0065560854908547125, 'reg_alpha': 0.11971796569082238, 'reg_lambda': 0.01646835220579205, 'subsample': 0.7427174901967644, 'colsample_bytree': 0.890477271688767}. Best is trial 63 with value: 0.4687559355963978.\n",
            "[I 2025-05-28 10:52:51,642] Trial 64 finished with value: 0.47399720261717293 and parameters: {'n_estimators': 1181, 'learning_rate': 0.011702673310361253, 'max_depth': 14, 'gamma': 0.006545193083742884, 'reg_alpha': 0.12356362341600438, 'reg_lambda': 0.016746366865608774, 'subsample': 0.7420487302122181, 'colsample_bytree': 0.8829128515753338}. Best is trial 64 with value: 0.47399720261717293.\n",
            "[I 2025-05-28 10:52:58,429] Trial 65 finished with value: 0.4516735489433216 and parameters: {'n_estimators': 1193, 'learning_rate': 0.011437057699219618, 'max_depth': 14, 'gamma': 0.006589378029216235, 'reg_alpha': 0.12733336850906288, 'reg_lambda': 0.016839869011631817, 'subsample': 0.7358927178537624, 'colsample_bytree': 0.8828886676966614}. Best is trial 64 with value: 0.47399720261717293.\n",
            "[I 2025-05-28 10:53:05,054] Trial 66 finished with value: 0.45546258607691553 and parameters: {'n_estimators': 1147, 'learning_rate': 0.011635601976159244, 'max_depth': 14, 'gamma': 0.0058862443885959485, 'reg_alpha': 0.11997038044818562, 'reg_lambda': 0.01639471083573052, 'subsample': 0.7407715434424005, 'colsample_bytree': 0.8892915096169416}. Best is trial 64 with value: 0.47399720261717293.\n",
            "[I 2025-05-28 10:53:11,994] Trial 67 finished with value: 0.46185045278026876 and parameters: {'n_estimators': 1166, 'learning_rate': 0.011051194482087535, 'max_depth': 14, 'gamma': 0.015305239707853318, 'reg_alpha': 0.1434403562157956, 'reg_lambda': 0.014748373336414466, 'subsample': 0.7375076634239556, 'colsample_bytree': 0.8775429942216919}. Best is trial 64 with value: 0.47399720261717293.\n",
            "[I 2025-05-28 10:53:18,484] Trial 68 finished with value: 0.45366291934513503 and parameters: {'n_estimators': 1185, 'learning_rate': 0.012022317946560009, 'max_depth': 14, 'gamma': 0.007077320905147803, 'reg_alpha': 0.12443305362055758, 'reg_lambda': 0.016612316364932638, 'subsample': 0.7455391998377252, 'colsample_bytree': 0.8654245428210449}. Best is trial 64 with value: 0.47399720261717293.\n",
            "[I 2025-05-28 10:53:25,559] Trial 69 finished with value: 0.453350039617671 and parameters: {'n_estimators': 1299, 'learning_rate': 0.010640131644216108, 'max_depth': 14, 'gamma': 0.018933686528002494, 'reg_alpha': 0.13011225613793248, 'reg_lambda': 0.013752654282627922, 'subsample': 0.71463116189257, 'colsample_bytree': 0.8739610524749626}. Best is trial 64 with value: 0.47399720261717293.\n",
            "[I 2025-05-28 10:53:32,239] Trial 70 finished with value: 0.45387412146338474 and parameters: {'n_estimators': 1158, 'learning_rate': 0.011187089152151934, 'max_depth': 14, 'gamma': 0.006451268872696484, 'reg_alpha': 0.13791159401417313, 'reg_lambda': 0.01719114857689611, 'subsample': 0.7336892414952233, 'colsample_bytree': 0.8918729198533069}. Best is trial 64 with value: 0.47399720261717293.\n",
            "[I 2025-05-28 10:53:39,377] Trial 71 finished with value: 0.464092791631436 and parameters: {'n_estimators': 1234, 'learning_rate': 0.012339381562996816, 'max_depth': 14, 'gamma': 0.006766843141574431, 'reg_alpha': 0.11367582533691444, 'reg_lambda': 0.015865567147527133, 'subsample': 0.7433566834796633, 'colsample_bytree': 0.8860698176055039}. Best is trial 64 with value: 0.47399720261717293.\n",
            "[I 2025-05-28 10:53:46,351] Trial 72 finished with value: 0.4663019656545532 and parameters: {'n_estimators': 1239, 'learning_rate': 0.012266749654988713, 'max_depth': 14, 'gamma': 0.006169280233416268, 'reg_alpha': 0.11330890759783657, 'reg_lambda': 0.015746105855623742, 'subsample': 0.7432846830502616, 'colsample_bytree': 0.8869068900011275}. Best is trial 64 with value: 0.47399720261717293.\n",
            "[I 2025-05-28 10:53:52,880] Trial 73 finished with value: 0.46499762020318547 and parameters: {'n_estimators': 1236, 'learning_rate': 0.012303288005968166, 'max_depth': 14, 'gamma': 0.0061308758187106766, 'reg_alpha': 0.10441964656067916, 'reg_lambda': 0.0158524222919984, 'subsample': 0.7424774153275207, 'colsample_bytree': 0.8803443550455787}. Best is trial 64 with value: 0.47399720261717293.\n",
            "[I 2025-05-28 10:53:59,290] Trial 74 finished with value: 0.4636395430715766 and parameters: {'n_estimators': 1242, 'learning_rate': 0.012495720072641837, 'max_depth': 14, 'gamma': 0.00608458352462014, 'reg_alpha': 0.10403010215946037, 'reg_lambda': 0.01565741317267824, 'subsample': 0.7390240242809847, 'colsample_bytree': 0.8864964984339082}. Best is trial 64 with value: 0.47399720261717293.\n",
            "[I 2025-05-28 10:54:05,569] Trial 75 finished with value: 0.448513627214565 and parameters: {'n_estimators': 1238, 'learning_rate': 0.012758860161247781, 'max_depth': 14, 'gamma': 0.006644221135539611, 'reg_alpha': 0.11333166545001327, 'reg_lambda': 0.011079444774515206, 'subsample': 0.7242085833163773, 'colsample_bytree': 0.8819809079941366}. Best is trial 64 with value: 0.47399720261717293.\n",
            "[I 2025-05-28 10:54:12,240] Trial 76 finished with value: 0.4631492337846962 and parameters: {'n_estimators': 1235, 'learning_rate': 0.011963233007372993, 'max_depth': 14, 'gamma': 0.006065622256642413, 'reg_alpha': 0.10728409942689011, 'reg_lambda': 0.016218435680818, 'subsample': 0.7421286610241453, 'colsample_bytree': 0.8796534176163152}. Best is trial 64 with value: 0.47399720261717293.\n",
            "[I 2025-05-28 10:54:18,314] Trial 77 finished with value: 0.4509606152289291 and parameters: {'n_estimators': 1197, 'learning_rate': 0.013114141732229067, 'max_depth': 14, 'gamma': 0.006390876128879701, 'reg_alpha': 0.10250503691567518, 'reg_lambda': 0.015856954315342942, 'subsample': 0.7348718909177527, 'colsample_bytree': 0.8756018881545435}. Best is trial 64 with value: 0.47399720261717293.\n",
            "[I 2025-05-28 10:54:24,873] Trial 78 finished with value: 0.45244716530154766 and parameters: {'n_estimators': 1282, 'learning_rate': 0.011733199018557568, 'max_depth': 14, 'gamma': 0.011943917033115644, 'reg_alpha': 0.11938940056226377, 'reg_lambda': 0.013330658822918904, 'subsample': 0.730130482178685, 'colsample_bytree': 0.8837732386631859}. Best is trial 64 with value: 0.47399720261717293.\n",
            "[I 2025-05-28 10:54:31,316] Trial 79 finished with value: 0.4716467887557442 and parameters: {'n_estimators': 1262, 'learning_rate': 0.012198010365899879, 'max_depth': 12, 'gamma': 0.010268710851220428, 'reg_alpha': 0.11415226802139687, 'reg_lambda': 0.010080135020558502, 'subsample': 0.7439849463041002, 'colsample_bytree': 0.8871826055933618}. Best is trial 64 with value: 0.47399720261717293.\n",
            "[I 2025-05-28 10:54:37,526] Trial 80 finished with value: 0.45404852992187533 and parameters: {'n_estimators': 1257, 'learning_rate': 0.0123030981731385, 'max_depth': 12, 'gamma': 0.010786984980255345, 'reg_alpha': 0.12372938252068719, 'reg_lambda': 0.010238068187282274, 'subsample': 0.7029677242508235, 'colsample_bytree': 0.8889134868873171}. Best is trial 64 with value: 0.47399720261717293.\n",
            "[I 2025-05-28 10:54:43,821] Trial 81 finished with value: 0.46604969708749405 and parameters: {'n_estimators': 1214, 'learning_rate': 0.012333524026105203, 'max_depth': 12, 'gamma': 0.006728799516597729, 'reg_alpha': 0.1147491579834924, 'reg_lambda': 0.010716812924979974, 'subsample': 0.7442435693770866, 'colsample_bytree': 0.8859598374497105}. Best is trial 64 with value: 0.47399720261717293.\n",
            "[I 2025-05-28 10:54:49,912] Trial 82 finished with value: 0.4588668494096878 and parameters: {'n_estimators': 1211, 'learning_rate': 0.013124172680704455, 'max_depth': 12, 'gamma': 0.009964710236374194, 'reg_alpha': 0.11116373494702397, 'reg_lambda': 0.011009838753006745, 'subsample': 0.7478045085005836, 'colsample_bytree': 0.8938475257229627}. Best is trial 64 with value: 0.47399720261717293.\n",
            "[I 2025-05-28 10:54:55,912] Trial 83 finished with value: 0.4610299250822809 and parameters: {'n_estimators': 1184, 'learning_rate': 0.012175936075334464, 'max_depth': 12, 'gamma': 0.00970609765767712, 'reg_alpha': 0.10702604384240505, 'reg_lambda': 0.01062556959164242, 'subsample': 0.6501819070387795, 'colsample_bytree': 0.8810644883696529}. Best is trial 64 with value: 0.47399720261717293.\n",
            "[I 2025-05-28 10:55:02,541] Trial 84 finished with value: 0.45574578566595847 and parameters: {'n_estimators': 1263, 'learning_rate': 0.011405903948238224, 'max_depth': 12, 'gamma': 0.01045662456285287, 'reg_alpha': 0.12004599636390619, 'reg_lambda': 0.010033806979222142, 'subsample': 0.7396740345666895, 'colsample_bytree': 0.8906361580598411}. Best is trial 64 with value: 0.47399720261717293.\n",
            "[I 2025-05-28 10:55:09,007] Trial 85 finished with value: 0.4526758545364554 and parameters: {'n_estimators': 1222, 'learning_rate': 0.011805370873632171, 'max_depth': 12, 'gamma': 0.009160178057109563, 'reg_alpha': 0.11474716383888717, 'reg_lambda': 0.010673151489393537, 'subsample': 0.7442883750806079, 'colsample_bytree': 0.8866448304123811}. Best is trial 64 with value: 0.47399720261717293.\n",
            "[I 2025-05-28 10:55:14,874] Trial 86 finished with value: 0.461173794578215 and parameters: {'n_estimators': 1021, 'learning_rate': 0.01270570745720321, 'max_depth': 12, 'gamma': 0.008091371394708832, 'reg_alpha': 0.10480577792045707, 'reg_lambda': 0.01136301921066436, 'subsample': 0.7472132833443113, 'colsample_bytree': 0.8710935703666891}. Best is trial 64 with value: 0.47399720261717293.\n",
            "[I 2025-05-28 10:55:21,028] Trial 87 finished with value: 0.455129472334782 and parameters: {'n_estimators': 1045, 'learning_rate': 0.01209611723248265, 'max_depth': 13, 'gamma': 0.007042357409592893, 'reg_alpha': 0.19211356039002636, 'reg_lambda': 0.010387114476352747, 'subsample': 0.7374672555716791, 'colsample_bytree': 0.895771480707722}. Best is trial 64 with value: 0.47399720261717293.\n",
            "[I 2025-05-28 10:55:27,435] Trial 88 finished with value: 0.4598133410632094 and parameters: {'n_estimators': 1203, 'learning_rate': 0.011650293598457442, 'max_depth': 12, 'gamma': 0.006213589047192484, 'reg_alpha': 0.10831400597904361, 'reg_lambda': 0.010310965995809574, 'subsample': 0.7405535401779638, 'colsample_bytree': 0.8671756096487032}. Best is trial 64 with value: 0.47399720261717293.\n",
            "[I 2025-05-28 10:55:33,486] Trial 89 finished with value: 0.4595764108187595 and parameters: {'n_estimators': 1168, 'learning_rate': 0.01191132189391695, 'max_depth': 12, 'gamma': 0.008938215341856438, 'reg_alpha': 0.12179562911261377, 'reg_lambda': 0.010858375339362772, 'subsample': 0.7179594741575539, 'colsample_bytree': 0.8604776167723684}. Best is trial 64 with value: 0.47399720261717293.\n",
            "[I 2025-05-28 10:55:40,560] Trial 90 finished with value: 0.4542531766497596 and parameters: {'n_estimators': 1289, 'learning_rate': 0.010874881416584372, 'max_depth': 13, 'gamma': 0.005787162631497279, 'reg_alpha': 0.10101424919935137, 'reg_lambda': 0.010206796291274139, 'subsample': 0.7262151032130725, 'colsample_bytree': 0.8757079028233397}. Best is trial 64 with value: 0.47399720261717293.\n",
            "[I 2025-05-28 10:55:46,983] Trial 91 finished with value: 0.4518034754931679 and parameters: {'n_estimators': 1231, 'learning_rate': 0.012367276812147943, 'max_depth': 14, 'gamma': 0.006740171075264755, 'reg_alpha': 0.11390390141088472, 'reg_lambda': 0.011658948492884602, 'subsample': 0.7440850810395904, 'colsample_bytree': 0.8845465655744633}. Best is trial 64 with value: 0.47399720261717293.\n",
            "[I 2025-05-28 10:55:53,442] Trial 92 finished with value: 0.4676150474898022 and parameters: {'n_estimators': 1241, 'learning_rate': 0.012270591324518562, 'max_depth': 14, 'gamma': 0.007478941876962592, 'reg_alpha': 0.11138989545052078, 'reg_lambda': 0.016338955251320265, 'subsample': 0.7429558841474492, 'colsample_bytree': 0.8884363103960436}. Best is trial 64 with value: 0.47399720261717293.\n",
            "[I 2025-05-28 10:55:59,977] Trial 93 finished with value: 0.4552275342126598 and parameters: {'n_estimators': 1260, 'learning_rate': 0.012702123294318735, 'max_depth': 14, 'gamma': 0.007729431656058262, 'reg_alpha': 0.11144550074172367, 'reg_lambda': 0.012339278568313452, 'subsample': 0.7473827049520126, 'colsample_bytree': 0.8887007646305071}. Best is trial 64 with value: 0.47399720261717293.\n",
            "[I 2025-05-28 10:56:06,202] Trial 94 finished with value: 0.45136024444609235 and parameters: {'n_estimators': 1274, 'learning_rate': 0.013405311662691209, 'max_depth': 14, 'gamma': 0.00740193446050299, 'reg_alpha': 0.10669085660677982, 'reg_lambda': 0.01709029350125164, 'subsample': 0.7303452629385414, 'colsample_bytree': 0.8929042754619827}. Best is trial 64 with value: 0.47399720261717293.\n",
            "[I 2025-05-28 10:56:12,910] Trial 95 finished with value: 0.46756734398696576 and parameters: {'n_estimators': 1251, 'learning_rate': 0.011219819540721382, 'max_depth': 12, 'gamma': 0.013329277369956814, 'reg_alpha': 0.1167050090784734, 'reg_lambda': 0.01647821429936351, 'subsample': 0.7417662686457693, 'colsample_bytree': 0.8810813102702979}. Best is trial 64 with value: 0.47399720261717293.\n",
            "[I 2025-05-28 10:56:19,483] Trial 96 finished with value: 0.4666386608384755 and parameters: {'n_estimators': 1243, 'learning_rate': 0.01156248223118062, 'max_depth': 12, 'gamma': 0.01686928131472567, 'reg_alpha': 0.11784302204577819, 'reg_lambda': 0.017436190601803743, 'subsample': 0.7417173559594351, 'colsample_bytree': 0.8789996215608726}. Best is trial 64 with value: 0.47399720261717293.\n",
            "[I 2025-05-28 10:56:26,321] Trial 97 finished with value: 0.46316040873301845 and parameters: {'n_estimators': 1251, 'learning_rate': 0.0112992304546394, 'max_depth': 12, 'gamma': 0.01715092772747447, 'reg_alpha': 0.1176177905508045, 'reg_lambda': 0.01753300800270858, 'subsample': 0.7424485978510085, 'colsample_bytree': 0.8806372796318499}. Best is trial 64 with value: 0.47399720261717293.\n",
            "[I 2025-05-28 10:56:33,714] Trial 98 finished with value: 0.45657273906072005 and parameters: {'n_estimators': 1246, 'learning_rate': 0.011154370953260002, 'max_depth': 12, 'gamma': 0.013539659916785041, 'reg_alpha': 0.11548363140135709, 'reg_lambda': 0.01663797747603151, 'subsample': 0.745180276228907, 'colsample_bytree': 0.8785463652751769}. Best is trial 64 with value: 0.47399720261717293.\n",
            "[I 2025-05-28 10:56:40,734] Trial 99 finished with value: 0.4550470944066542 and parameters: {'n_estimators': 1241, 'learning_rate': 0.011592407465580403, 'max_depth': 12, 'gamma': 0.013986705708641245, 'reg_alpha': 0.10946434448651163, 'reg_lambda': 0.01631564868703305, 'subsample': 0.7359563643741847, 'colsample_bytree': 0.8843118151227402}. Best is trial 64 with value: 0.47399720261717293.\n",
            "[I 2025-05-28 10:56:47,484] Trial 100 finished with value: 0.45879644078868714 and parameters: {'n_estimators': 1271, 'learning_rate': 0.012277365684453834, 'max_depth': 12, 'gamma': 0.012983631409912983, 'reg_alpha': 0.11880754783409903, 'reg_lambda': 0.01693919357273103, 'subsample': 0.7384146457966362, 'colsample_bytree': 0.8904754405575593}. Best is trial 64 with value: 0.47399720261717293.\n",
            "[I 2025-05-28 10:56:53,978] Trial 101 finished with value: 0.45581852093481967 and parameters: {'n_estimators': 1225, 'learning_rate': 0.011847539778540623, 'max_depth': 12, 'gamma': 0.015280665296480648, 'reg_alpha': 0.12374380292904932, 'reg_lambda': 0.017832620731127423, 'subsample': 0.7411236723258947, 'colsample_bytree': 0.8974234658656844}. Best is trial 64 with value: 0.47399720261717293.\n",
            "[I 2025-05-28 10:57:00,120] Trial 102 finished with value: 0.4519282946107489 and parameters: {'n_estimators': 1214, 'learning_rate': 0.012954755107436393, 'max_depth': 12, 'gamma': 0.01667706029963126, 'reg_alpha': 0.1258447147700847, 'reg_lambda': 0.016730953381341302, 'subsample': 0.7448111349168539, 'colsample_bytree': 0.8881879136492284}. Best is trial 64 with value: 0.47399720261717293.\n",
            "[I 2025-05-28 10:57:06,603] Trial 103 finished with value: 0.4522015162032039 and parameters: {'n_estimators': 1255, 'learning_rate': 0.012172333015882674, 'max_depth': 12, 'gamma': 0.01982561341218553, 'reg_alpha': 0.12139504818520136, 'reg_lambda': 0.01724856261029658, 'subsample': 0.7327828032053614, 'colsample_bytree': 0.8819803566041026}. Best is trial 64 with value: 0.47399720261717293.\n",
            "[I 2025-05-28 10:57:13,365] Trial 104 finished with value: 0.459587244139627 and parameters: {'n_estimators': 1238, 'learning_rate': 0.012563428332943397, 'max_depth': 12, 'gamma': 0.011374116222002609, 'reg_alpha': 0.11651015143442055, 'reg_lambda': 0.015373209040801042, 'subsample': 0.747585953740803, 'colsample_bytree': 0.8767242861853931}. Best is trial 64 with value: 0.47399720261717293.\n",
            "[I 2025-05-28 10:57:20,809] Trial 105 finished with value: 0.4576907757255677 and parameters: {'n_estimators': 1178, 'learning_rate': 0.011505100450837231, 'max_depth': 12, 'gamma': 0.008281576322913924, 'reg_alpha': 0.11170467875794951, 'reg_lambda': 0.016469542946289176, 'subsample': 0.7392426078935647, 'colsample_bytree': 0.8851859594800393}. Best is trial 64 with value: 0.47399720261717293.\n",
            "[I 2025-05-28 10:57:28,146] Trial 106 finished with value: 0.4662540127668695 and parameters: {'n_estimators': 1248, 'learning_rate': 0.01132738809089953, 'max_depth': 12, 'gamma': 0.011749521224358569, 'reg_alpha': 0.12800954281628066, 'reg_lambda': 0.016124580943181668, 'subsample': 0.7419271577083018, 'colsample_bytree': 0.8943643647096501}. Best is trial 64 with value: 0.47399720261717293.\n",
            "[I 2025-05-28 10:57:35,448] Trial 107 finished with value: 0.4651699007167552 and parameters: {'n_estimators': 1263, 'learning_rate': 0.011000312273900508, 'max_depth': 12, 'gamma': 0.012565063151271389, 'reg_alpha': 0.11405371141842997, 'reg_lambda': 0.01610630546893982, 'subsample': 0.7420148208773188, 'colsample_bytree': 0.8912140271871001}. Best is trial 64 with value: 0.47399720261717293.\n",
            "[I 2025-05-28 10:57:42,814] Trial 108 finished with value: 0.44878683794889945 and parameters: {'n_estimators': 1279, 'learning_rate': 0.01091482022206374, 'max_depth': 12, 'gamma': 0.012033369024557622, 'reg_alpha': 0.12752731848065077, 'reg_lambda': 0.016238869124824848, 'subsample': 0.7349835993869367, 'colsample_bytree': 0.8946417385119732}. Best is trial 64 with value: 0.47399720261717293.\n",
            "[I 2025-05-28 10:57:49,876] Trial 109 finished with value: 0.45649168679773283 and parameters: {'n_estimators': 1264, 'learning_rate': 0.010506956443821209, 'max_depth': 12, 'gamma': 0.012855402908975003, 'reg_alpha': 0.11819971376030185, 'reg_lambda': 0.016131317289149204, 'subsample': 0.676778244120801, 'colsample_bytree': 0.8917103642441436}. Best is trial 64 with value: 0.47399720261717293.\n",
            "[I 2025-05-28 10:57:57,173] Trial 110 finished with value: 0.46960069310313796 and parameters: {'n_estimators': 1248, 'learning_rate': 0.011044269087734936, 'max_depth': 12, 'gamma': 0.014351789539827194, 'reg_alpha': 0.1556284107057222, 'reg_lambda': 0.015667710482188634, 'subsample': 0.7459917643642321, 'colsample_bytree': 0.8975480283748624}. Best is trial 64 with value: 0.47399720261717293.\n",
            "[I 2025-05-28 10:58:04,541] Trial 111 finished with value: 0.4671877508990791 and parameters: {'n_estimators': 1248, 'learning_rate': 0.011337750161680161, 'max_depth': 12, 'gamma': 0.014071840148265803, 'reg_alpha': 0.15801598771859326, 'reg_lambda': 0.01731218943676154, 'subsample': 0.7463553854441349, 'colsample_bytree': 0.8975801029456615}. Best is trial 64 with value: 0.47399720261717293.\n",
            "[I 2025-05-28 10:58:11,632] Trial 112 finished with value: 0.46016780730438767 and parameters: {'n_estimators': 1247, 'learning_rate': 0.011233133829287723, 'max_depth': 12, 'gamma': 0.014024772692078706, 'reg_alpha': 0.15207141165378205, 'reg_lambda': 0.017354599490283323, 'subsample': 0.7460969354233198, 'colsample_bytree': 0.8973877468204776}. Best is trial 64 with value: 0.47399720261717293.\n",
            "[I 2025-05-28 10:58:18,511] Trial 113 finished with value: 0.45306631214782583 and parameters: {'n_estimators': 1253, 'learning_rate': 0.010781515856711854, 'max_depth': 12, 'gamma': 0.01462771437321557, 'reg_alpha': 0.16076414966673644, 'reg_lambda': 0.017688129973157145, 'subsample': 0.7481995411406296, 'colsample_bytree': 0.8972441356992189}. Best is trial 64 with value: 0.47399720261717293.\n",
            "[I 2025-05-28 10:58:24,833] Trial 114 finished with value: 0.46397164969057575 and parameters: {'n_estimators': 1242, 'learning_rate': 0.011361095363094938, 'max_depth': 12, 'gamma': 0.01597131413901718, 'reg_alpha': 0.1612452925793478, 'reg_lambda': 0.01567917389402647, 'subsample': 0.744065745702774, 'colsample_bytree': 0.8935630546785246}. Best is trial 64 with value: 0.47399720261717293.\n",
            "[I 2025-05-28 10:58:31,158] Trial 115 finished with value: 0.45931489710144546 and parameters: {'n_estimators': 1227, 'learning_rate': 0.011109812963440088, 'max_depth': 12, 'gamma': 0.013305422736244929, 'reg_alpha': 0.15728823511489784, 'reg_lambda': 0.016616237583253674, 'subsample': 0.7490691055036852, 'colsample_bytree': 0.888023310033513}. Best is trial 64 with value: 0.47399720261717293.\n",
            "[I 2025-05-28 10:58:37,624] Trial 116 finished with value: 0.4647299719701035 and parameters: {'n_estimators': 1219, 'learning_rate': 0.011604666249083934, 'max_depth': 12, 'gamma': 0.014425991043406299, 'reg_alpha': 0.16367911056003234, 'reg_lambda': 0.015181949981924197, 'subsample': 0.7407103110269282, 'colsample_bytree': 0.8939358751552616}. Best is trial 64 with value: 0.47399720261717293.\n",
            "[I 2025-05-28 10:58:43,973] Trial 117 finished with value: 0.456089014670323 and parameters: {'n_estimators': 1287, 'learning_rate': 0.011772782960951723, 'max_depth': 12, 'gamma': 0.01526280077840203, 'reg_alpha': 0.15375695035576276, 'reg_lambda': 0.017009659899401303, 'subsample': 0.7498501853661403, 'colsample_bytree': 0.8981331508967704}. Best is trial 64 with value: 0.47399720261717293.\n",
            "[I 2025-05-28 10:58:50,190] Trial 118 finished with value: 0.46518879098283283 and parameters: {'n_estimators': 1247, 'learning_rate': 0.011923785925623143, 'max_depth': 12, 'gamma': 0.011606169899976754, 'reg_alpha': 0.14990232716153723, 'reg_lambda': 0.01832812737948592, 'subsample': 0.746224474786577, 'colsample_bytree': 0.8877054372980056}. Best is trial 64 with value: 0.47399720261717293.\n",
            "[I 2025-05-28 10:58:56,510] Trial 119 finished with value: 0.4540120184787873 and parameters: {'n_estimators': 1269, 'learning_rate': 0.011455607836175564, 'max_depth': 12, 'gamma': 0.01576249787283969, 'reg_alpha': 0.15834124892662246, 'reg_lambda': 0.016870117299190763, 'subsample': 0.7370127389926072, 'colsample_bytree': 0.8907521838309457}. Best is trial 64 with value: 0.47399720261717293.\n",
            "[I 2025-05-28 10:59:03,064] Trial 120 finished with value: 0.46558432668629707 and parameters: {'n_estimators': 1257, 'learning_rate': 0.010613538722352588, 'max_depth': 12, 'gamma': 0.018154477864399707, 'reg_alpha': 0.14660716598293644, 'reg_lambda': 0.017382752537287674, 'subsample': 0.7432904317329136, 'colsample_bytree': 0.8832814740016878}. Best is trial 64 with value: 0.47399720261717293.\n",
            "[I 2025-05-28 10:59:10,437] Trial 121 finished with value: 0.45439001911905547 and parameters: {'n_estimators': 1255, 'learning_rate': 0.009921537402701772, 'max_depth': 12, 'gamma': 0.01853945040906903, 'reg_alpha': 0.15208624127684392, 'reg_lambda': 0.016438929382049584, 'subsample': 0.7437934351010823, 'colsample_bytree': 0.8825608517713679}. Best is trial 64 with value: 0.47399720261717293.\n",
            "[I 2025-05-28 10:59:17,268] Trial 122 finished with value: 0.4575247701441203 and parameters: {'n_estimators': 1231, 'learning_rate': 0.01130292818420754, 'max_depth': 12, 'gamma': 0.01789597848176849, 'reg_alpha': 0.16287060970441988, 'reg_lambda': 0.017246204897504863, 'subsample': 0.7402336211040608, 'colsample_bytree': 0.8952450895693029}. Best is trial 64 with value: 0.47399720261717293.\n",
            "[I 2025-05-28 10:59:23,801] Trial 123 finished with value: 0.4657819456741197 and parameters: {'n_estimators': 1258, 'learning_rate': 0.012072487340209055, 'max_depth': 12, 'gamma': 0.016750714424009886, 'reg_alpha': 0.1664489371990128, 'reg_lambda': 0.018018548273895235, 'subsample': 0.7449186198020624, 'colsample_bytree': 0.8852562932969407}. Best is trial 64 with value: 0.47399720261717293.\n",
            "[I 2025-05-28 10:59:30,327] Trial 124 finished with value: 0.4688318222074595 and parameters: {'n_estimators': 1240, 'learning_rate': 0.012118543241877892, 'max_depth': 12, 'gamma': 0.01651815684092915, 'reg_alpha': 0.1679941276673807, 'reg_lambda': 0.018067735308893856, 'subsample': 0.7457721089375868, 'colsample_bytree': 0.8852181023811031}. Best is trial 64 with value: 0.47399720261717293.\n",
            "[I 2025-05-28 10:59:37,131] Trial 125 finished with value: 0.4565408839605123 and parameters: {'n_estimators': 1238, 'learning_rate': 0.01168064941270106, 'max_depth': 12, 'gamma': 0.014114455931544876, 'reg_alpha': 0.16926926101200007, 'reg_lambda': 0.018998697981430664, 'subsample': 0.7469566244775202, 'colsample_bytree': 0.8869903563748911}. Best is trial 64 with value: 0.47399720261717293.\n",
            "[I 2025-05-28 10:59:43,868] Trial 126 finished with value: 0.4618432307778508 and parameters: {'n_estimators': 1223, 'learning_rate': 0.01255528411365538, 'max_depth': 12, 'gamma': 0.010863342903854309, 'reg_alpha': 0.17450182802043981, 'reg_lambda': 0.015649058467511898, 'subsample': 0.7383062938051957, 'colsample_bytree': 0.8789711998897893}. Best is trial 64 with value: 0.47399720261717293.\n",
            "[I 2025-05-28 10:59:50,524] Trial 127 finished with value: 0.4703139623996518 and parameters: {'n_estimators': 1244, 'learning_rate': 0.011961682372822923, 'max_depth': 12, 'gamma': 0.01653176909568746, 'reg_alpha': 0.12084401486728277, 'reg_lambda': 0.017634658347115122, 'subsample': 0.7424590879358657, 'colsample_bytree': 0.8894643314243439}. Best is trial 64 with value: 0.47399720261717293.\n",
            "[I 2025-05-28 10:59:57,133] Trial 128 finished with value: 0.46616441287346594 and parameters: {'n_estimators': 1244, 'learning_rate': 0.011875251099557973, 'max_depth': 12, 'gamma': 0.017354563160676927, 'reg_alpha': 0.17846869769886645, 'reg_lambda': 0.01773961453426991, 'subsample': 0.7413968274677564, 'colsample_bytree': 0.889715683912124}. Best is trial 64 with value: 0.47399720261717293.\n",
            "[I 2025-05-28 11:00:04,329] Trial 129 finished with value: 0.46615064175790427 and parameters: {'n_estimators': 1250, 'learning_rate': 0.01150312806870222, 'max_depth': 12, 'gamma': 0.017137483021786977, 'reg_alpha': 0.17824701089361777, 'reg_lambda': 0.01767532639468012, 'subsample': 0.7413480252309058, 'colsample_bytree': 0.8898112823445915}. Best is trial 64 with value: 0.47399720261717293.\n",
            "[I 2025-05-28 11:00:11,234] Trial 130 finished with value: 0.4542100217065664 and parameters: {'n_estimators': 1244, 'learning_rate': 0.01179596364470644, 'max_depth': 12, 'gamma': 0.017642067889415487, 'reg_alpha': 0.1724493092882167, 'reg_lambda': 0.018473683622989973, 'subsample': 0.7386442736371847, 'colsample_bytree': 0.8926520480839838}. Best is trial 64 with value: 0.47399720261717293.\n",
            "[I 2025-05-28 11:00:18,190] Trial 131 finished with value: 0.4566281584627223 and parameters: {'n_estimators': 1251, 'learning_rate': 0.011559162115400869, 'max_depth': 12, 'gamma': 0.016494525271624375, 'reg_alpha': 0.17857502591151792, 'reg_lambda': 0.01774040491848926, 'subsample': 0.7411935532520643, 'colsample_bytree': 0.8903263002580428}. Best is trial 64 with value: 0.47399720261717293.\n",
            "[I 2025-05-28 11:00:24,704] Trial 132 finished with value: 0.4499927433787554 and parameters: {'n_estimators': 1249, 'learning_rate': 0.012008638879653498, 'max_depth': 12, 'gamma': 0.01560675116232651, 'reg_alpha': 0.18265114388308207, 'reg_lambda': 0.018319691297884428, 'subsample': 0.6610709650748307, 'colsample_bytree': 0.8959886958874773}. Best is trial 64 with value: 0.47399720261717293.\n",
            "[I 2025-05-28 11:00:31,511] Trial 133 finished with value: 0.4579310958486598 and parameters: {'n_estimators': 1233, 'learning_rate': 0.01105064231986036, 'max_depth': 12, 'gamma': 0.01702776536081739, 'reg_alpha': 0.18233033383738864, 'reg_lambda': 0.017663647074778063, 'subsample': 0.7418497030792839, 'colsample_bytree': 0.8895425675573575}. Best is trial 64 with value: 0.47399720261717293.\n",
            "[I 2025-05-28 11:00:38,301] Trial 134 finished with value: 0.4544346268407298 and parameters: {'n_estimators': 1267, 'learning_rate': 0.011451347028226994, 'max_depth': 12, 'gamma': 0.019324423041866667, 'reg_alpha': 0.17826907510118178, 'reg_lambda': 0.018085240309766482, 'subsample': 0.7347289782488097, 'colsample_bytree': 0.8997207678743325}. Best is trial 64 with value: 0.47399720261717293.\n",
            "[I 2025-05-28 11:00:45,322] Trial 135 finished with value: 0.4594728213512824 and parameters: {'n_estimators': 1242, 'learning_rate': 0.011299267481381867, 'max_depth': 12, 'gamma': 0.0175456451817868, 'reg_alpha': 0.17509771805312782, 'reg_lambda': 0.01749308471172066, 'subsample': 0.7366698146431054, 'colsample_bytree': 0.8925328262269578}. Best is trial 64 with value: 0.47399720261717293.\n",
            "[I 2025-05-28 11:00:52,017] Trial 136 finished with value: 0.4552753149267305 and parameters: {'n_estimators': 1229, 'learning_rate': 0.011892126525350098, 'max_depth': 12, 'gamma': 0.01617839537728997, 'reg_alpha': 0.1679474127488482, 'reg_lambda': 0.017992238476259696, 'subsample': 0.7460423628846258, 'colsample_bytree': 0.8880537607130183}. Best is trial 64 with value: 0.47399720261717293.\n",
            "[I 2025-05-28 11:00:58,890] Trial 137 finished with value: 0.45944381238103943 and parameters: {'n_estimators': 1261, 'learning_rate': 0.012155182813902042, 'max_depth': 12, 'gamma': 0.01481586286762553, 'reg_alpha': 0.18560066012486057, 'reg_lambda': 0.01706241765144173, 'subsample': 0.7394139331201248, 'colsample_bytree': 0.8945159815114954}. Best is trial 64 with value: 0.47399720261717293.\n",
            "[I 2025-05-28 11:01:05,802] Trial 138 finished with value: 0.46445178896488626 and parameters: {'n_estimators': 1235, 'learning_rate': 0.011612337006991484, 'max_depth': 12, 'gamma': 0.01727341890660707, 'reg_alpha': 0.14159365720190847, 'reg_lambda': 0.018824907356913646, 'subsample': 0.742487265660121, 'colsample_bytree': 0.8895635557103758}. Best is trial 64 with value: 0.47399720261717293.\n",
            "[I 2025-05-28 11:01:12,559] Trial 139 finished with value: 0.4576335739359644 and parameters: {'n_estimators': 1248, 'learning_rate': 0.011724079744632208, 'max_depth': 13, 'gamma': 0.016474636230168208, 'reg_alpha': 0.18714920902522897, 'reg_lambda': 0.016752686413547456, 'subsample': 0.7474638360608109, 'colsample_bytree': 0.8836461625140163}. Best is trial 64 with value: 0.47399720261717293.\n",
            "[I 2025-05-28 11:01:19,602] Trial 140 finished with value: 0.46492367851383615 and parameters: {'n_estimators': 1276, 'learning_rate': 0.010824741847464105, 'max_depth': 12, 'gamma': 0.015063742120337332, 'reg_alpha': 0.12001567573523696, 'reg_lambda': 0.017378173015939448, 'subsample': 0.7404424788310995, 'colsample_bytree': 0.892200455626573}. Best is trial 64 with value: 0.47399720261717293.\n",
            "[I 2025-05-28 11:01:25,985] Trial 141 finished with value: 0.45896194383195577 and parameters: {'n_estimators': 1216, 'learning_rate': 0.012387022231082933, 'max_depth': 12, 'gamma': 0.018579941334678454, 'reg_alpha': 0.1229519491193141, 'reg_lambda': 0.017866952002890926, 'subsample': 0.7442191680187701, 'colsample_bytree': 0.8860623216073376}. Best is trial 64 with value: 0.47399720261717293.\n",
            "[I 2025-05-28 11:01:32,527] Trial 142 finished with value: 0.4608304525083063 and parameters: {'n_estimators': 1241, 'learning_rate': 0.012058398132871108, 'max_depth': 12, 'gamma': 0.016215110449369265, 'reg_alpha': 0.11640591426016988, 'reg_lambda': 0.015993847073058193, 'subsample': 0.7448243231742947, 'colsample_bytree': 0.8817863346422652}. Best is trial 64 with value: 0.47399720261717293.\n",
            "[I 2025-05-28 11:01:39,238] Trial 143 finished with value: 0.4631172355224223 and parameters: {'n_estimators': 1254, 'learning_rate': 0.012254676159599681, 'max_depth': 12, 'gamma': 0.006472900500112467, 'reg_alpha': 0.17685440053839213, 'reg_lambda': 0.0163829877486606, 'subsample': 0.742739889381432, 'colsample_bytree': 0.8867447829824686}. Best is trial 64 with value: 0.47399720261717293.\n",
            "[I 2025-05-28 11:01:46,036] Trial 144 finished with value: 0.46110511698631457 and parameters: {'n_estimators': 1224, 'learning_rate': 0.01115805480698758, 'max_depth': 12, 'gamma': 0.015612985185306426, 'reg_alpha': 0.12066970017860192, 'reg_lambda': 0.017029653649224118, 'subsample': 0.7377363981471156, 'colsample_bytree': 0.895959497625167}. Best is trial 64 with value: 0.47399720261717293.\n",
            "[I 2025-05-28 11:01:52,770] Trial 145 finished with value: 0.46143693364738303 and parameters: {'n_estimators': 1237, 'learning_rate': 0.011891797164503158, 'max_depth': 12, 'gamma': 0.012467076721351457, 'reg_alpha': 0.12532616778372477, 'reg_lambda': 0.016792038376915612, 'subsample': 0.7479976259373887, 'colsample_bytree': 0.8901872803878463}. Best is trial 64 with value: 0.47399720261717293.\n",
            "[I 2025-05-28 11:01:59,265] Trial 146 finished with value: 0.4649103393638231 and parameters: {'n_estimators': 1246, 'learning_rate': 0.012582768422039255, 'max_depth': 12, 'gamma': 0.013593860296173049, 'reg_alpha': 0.15875756234137994, 'reg_lambda': 0.01654917732646634, 'subsample': 0.7406838434209841, 'colsample_bytree': 0.8848170065391117}. Best is trial 64 with value: 0.47399720261717293.\n",
            "[I 2025-05-28 11:02:06,050] Trial 147 finished with value: 0.45077971989008125 and parameters: {'n_estimators': 1262, 'learning_rate': 0.011386677086199611, 'max_depth': 12, 'gamma': 0.01712741144566251, 'reg_alpha': 0.15467051472730267, 'reg_lambda': 0.014870789204472353, 'subsample': 0.7459351938519019, 'colsample_bytree': 0.8795328444450575}. Best is trial 64 with value: 0.47399720261717293.\n",
            "[I 2025-05-28 11:02:12,714] Trial 148 finished with value: 0.46695544654652454 and parameters: {'n_estimators': 1206, 'learning_rate': 0.011526426591936803, 'max_depth': 12, 'gamma': 0.018074278941094517, 'reg_alpha': 0.11285968779885906, 'reg_lambda': 0.01755160052018086, 'subsample': 0.7498904307464707, 'colsample_bytree': 0.8880110348990359}. Best is trial 64 with value: 0.47399720261717293.\n",
            "[I 2025-05-28 11:02:19,535] Trial 149 finished with value: 0.4565327824016535 and parameters: {'n_estimators': 1231, 'learning_rate': 0.011561132958058249, 'max_depth': 12, 'gamma': 0.018119102620455563, 'reg_alpha': 0.17114954125467188, 'reg_lambda': 0.017603394360417017, 'subsample': 0.7498161649359933, 'colsample_bytree': 0.8876637441427732}. Best is trial 64 with value: 0.47399720261717293.\n",
            "[I 2025-05-28 11:02:26,602] Trial 150 finished with value: 0.4621212089487772 and parameters: {'n_estimators': 1251, 'learning_rate': 0.010949715598035094, 'max_depth': 12, 'gamma': 0.013098730732414457, 'reg_alpha': 0.11215236972631132, 'reg_lambda': 0.018207642108790625, 'subsample': 0.7477063364562647, 'colsample_bytree': 0.8936099140654847}. Best is trial 64 with value: 0.47399720261717293.\n",
            "[I 2025-05-28 11:02:33,010] Trial 151 finished with value: 0.46713474247299436 and parameters: {'n_estimators': 1207, 'learning_rate': 0.011808691828335853, 'max_depth': 12, 'gamma': 0.018605027285442534, 'reg_alpha': 0.11489912960055773, 'reg_lambda': 0.010007490200099266, 'subsample': 0.7442111695674425, 'colsample_bytree': 0.8890175294982221}. Best is trial 64 with value: 0.47399720261717293.\n",
            "[I 2025-05-28 11:02:39,420] Trial 152 finished with value: 0.4713875706893842 and parameters: {'n_estimators': 1204, 'learning_rate': 0.0117109851764234, 'max_depth': 12, 'gamma': 0.019163747698106283, 'reg_alpha': 0.1174555972395057, 'reg_lambda': 0.017273075412515562, 'subsample': 0.7431451994944214, 'colsample_bytree': 0.8887592525005197}. Best is trial 64 with value: 0.47399720261717293.\n",
            "[I 2025-05-28 11:02:45,666] Trial 153 finished with value: 0.45891324516830656 and parameters: {'n_estimators': 1200, 'learning_rate': 0.011700137087837514, 'max_depth': 12, 'gamma': 0.019511496654129497, 'reg_alpha': 0.118429234821011, 'reg_lambda': 0.01008703262771297, 'subsample': 0.6841827550902332, 'colsample_bytree': 0.8915026577061265}. Best is trial 64 with value: 0.47399720261717293.\n",
            "[I 2025-05-28 11:02:52,048] Trial 154 finished with value: 0.472567818907205 and parameters: {'n_estimators': 1205, 'learning_rate': 0.01182376358665491, 'max_depth': 12, 'gamma': 0.019005829569817022, 'reg_alpha': 0.11573295246317708, 'reg_lambda': 0.017217418230054588, 'subsample': 0.7431164015941532, 'colsample_bytree': 0.8978620122108014}. Best is trial 64 with value: 0.47399720261717293.\n",
            "[I 2025-05-28 11:02:58,510] Trial 155 finished with value: 0.46192521892072225 and parameters: {'n_estimators': 1209, 'learning_rate': 0.012116769686802257, 'max_depth': 12, 'gamma': 0.018542934218097707, 'reg_alpha': 0.11569179141664662, 'reg_lambda': 0.01715480588160591, 'subsample': 0.7456703471151006, 'colsample_bytree': 0.8976556724476848}. Best is trial 64 with value: 0.47399720261717293.\n",
            "[I 2025-05-28 11:03:05,360] Trial 156 finished with value: 0.4653801316136404 and parameters: {'n_estimators': 1189, 'learning_rate': 0.011218149321945384, 'max_depth': 12, 'gamma': 0.01887976440382747, 'reg_alpha': 0.11102805345411726, 'reg_lambda': 0.012988208078473125, 'subsample': 0.7429528615457844, 'colsample_bytree': 0.8985251769156279}. Best is trial 64 with value: 0.47399720261717293.\n",
            "[I 2025-05-28 11:03:11,898] Trial 157 finished with value: 0.45498964103866946 and parameters: {'n_estimators': 1194, 'learning_rate': 0.011766437838476576, 'max_depth': 12, 'gamma': 0.019714552891148214, 'reg_alpha': 0.11340565547718774, 'reg_lambda': 0.016896084702407874, 'subsample': 0.7498644234239461, 'colsample_bytree': 0.8960120310549056}. Best is trial 64 with value: 0.47399720261717293.\n",
            "[I 2025-05-28 11:03:18,615] Trial 158 finished with value: 0.46496229003839123 and parameters: {'n_estimators': 1204, 'learning_rate': 0.011284617458926106, 'max_depth': 12, 'gamma': 0.0192430505734602, 'reg_alpha': 0.11824199452234065, 'reg_lambda': 0.017263650907187515, 'subsample': 0.7447721201957317, 'colsample_bytree': 0.8833731821136969}. Best is trial 64 with value: 0.47399720261717293.\n",
            "[I 2025-05-28 11:03:25,227] Trial 159 finished with value: 0.463495421669855 and parameters: {'n_estimators': 1206, 'learning_rate': 0.011941772848648434, 'max_depth': 13, 'gamma': 0.018951295612485344, 'reg_alpha': 0.12150374957663083, 'reg_lambda': 0.01580432694871923, 'subsample': 0.7465285088038536, 'colsample_bytree': 0.8941949955142156}. Best is trial 64 with value: 0.47399720261717293.\n",
            "[I 2025-05-28 11:03:31,880] Trial 160 finished with value: 0.46779965785707506 and parameters: {'n_estimators': 1181, 'learning_rate': 0.011406717198361095, 'max_depth': 12, 'gamma': 0.01808800474292295, 'reg_alpha': 0.10970828282693808, 'reg_lambda': 0.01623659949824389, 'subsample': 0.7428507365299238, 'colsample_bytree': 0.8999975927225334}. Best is trial 64 with value: 0.47399720261717293.\n",
            "[I 2025-05-28 11:03:38,289] Trial 161 finished with value: 0.4681783260429836 and parameters: {'n_estimators': 1182, 'learning_rate': 0.011426222291082654, 'max_depth': 12, 'gamma': 0.019929185081332623, 'reg_alpha': 0.11522909049443204, 'reg_lambda': 0.016266720769671377, 'subsample': 0.7435776337192294, 'colsample_bytree': 0.8993262521143417}. Best is trial 64 with value: 0.47399720261717293.\n",
            "[I 2025-05-28 11:03:44,864] Trial 162 finished with value: 0.4612851776159217 and parameters: {'n_estimators': 1173, 'learning_rate': 0.011508363771578852, 'max_depth': 12, 'gamma': 0.01804133401279169, 'reg_alpha': 0.1088878570537115, 'reg_lambda': 0.016385416077851378, 'subsample': 0.7440454802219134, 'colsample_bytree': 0.8988461016790734}. Best is trial 64 with value: 0.47399720261717293.\n",
            "[I 2025-05-28 11:03:50,937] Trial 163 finished with value: 0.46440414277035247 and parameters: {'n_estimators': 1182, 'learning_rate': 0.011692568329712454, 'max_depth': 12, 'gamma': 0.018367093145418276, 'reg_alpha': 0.11448561805100418, 'reg_lambda': 0.016673026412966505, 'subsample': 0.7396233726213063, 'colsample_bytree': 0.8971180561992644}. Best is trial 64 with value: 0.47399720261717293.\n",
            "[I 2025-05-28 11:03:57,296] Trial 164 finished with value: 0.46761635529986983 and parameters: {'n_estimators': 1198, 'learning_rate': 0.012193906857468927, 'max_depth': 12, 'gamma': 0.018985943815486458, 'reg_alpha': 0.11636307899341541, 'reg_lambda': 0.015522280209689331, 'subsample': 0.7469871452897117, 'colsample_bytree': 0.898698615976705}. Best is trial 64 with value: 0.47399720261717293.\n",
            "[I 2025-05-28 11:04:04,137] Trial 165 finished with value: 0.4740018592203599 and parameters: {'n_estimators': 1197, 'learning_rate': 0.011073733700951159, 'max_depth': 12, 'gamma': 0.019861711870522526, 'reg_alpha': 0.11668394376049405, 'reg_lambda': 0.015370635786242526, 'subsample': 0.7479785514167643, 'colsample_bytree': 0.8990495201625995}. Best is trial 165 with value: 0.4740018592203599.\n",
            "[I 2025-05-28 11:04:10,839] Trial 166 finished with value: 0.4727504061757289 and parameters: {'n_estimators': 1197, 'learning_rate': 0.011038888754305004, 'max_depth': 12, 'gamma': 0.019883807341063688, 'reg_alpha': 0.11636037390297066, 'reg_lambda': 0.015518350210875744, 'subsample': 0.7477360168665471, 'colsample_bytree': 0.8992448004435112}. Best is trial 165 with value: 0.4740018592203599.\n",
            "[I 2025-05-28 11:04:17,597] Trial 167 finished with value: 0.45875291139281354 and parameters: {'n_estimators': 1199, 'learning_rate': 0.010710392761207612, 'max_depth': 12, 'gamma': 0.019566071711840122, 'reg_alpha': 0.11691058557308613, 'reg_lambda': 0.015380505515811702, 'subsample': 0.7468234017492547, 'colsample_bytree': 0.8998115651746373}. Best is trial 165 with value: 0.4740018592203599.\n",
            "[I 2025-05-28 11:04:24,267] Trial 168 finished with value: 0.4600940623674166 and parameters: {'n_estimators': 1190, 'learning_rate': 0.011046902786805013, 'max_depth': 12, 'gamma': 0.019928534377380586, 'reg_alpha': 0.11030998213117678, 'reg_lambda': 0.01521792945110233, 'subsample': 0.7483503237386422, 'colsample_bytree': 0.8973874999327809}. Best is trial 165 with value: 0.4740018592203599.\n",
            "[I 2025-05-28 11:04:30,892] Trial 169 finished with value: 0.46153463718327903 and parameters: {'n_estimators': 1195, 'learning_rate': 0.011138607561217031, 'max_depth': 12, 'gamma': 0.01902700818587372, 'reg_alpha': 0.11548751569032792, 'reg_lambda': 0.015526334826386134, 'subsample': 0.7454471755456029, 'colsample_bytree': 0.8990760382886467}. Best is trial 165 with value: 0.4740018592203599.\n",
            "[I 2025-05-28 11:04:37,472] Trial 170 finished with value: 0.45870795108180323 and parameters: {'n_estimators': 1180, 'learning_rate': 0.01136601412838961, 'max_depth': 12, 'gamma': 0.018963809618438864, 'reg_alpha': 0.11914921182554238, 'reg_lambda': 0.01465529486082084, 'subsample': 0.7478051421097771, 'colsample_bytree': 0.8960151583619019}. Best is trial 165 with value: 0.4740018592203599.\n",
            "[I 2025-05-28 11:04:44,309] Trial 171 finished with value: 0.46138867172461423 and parameters: {'n_estimators': 1209, 'learning_rate': 0.010882719449196868, 'max_depth': 12, 'gamma': 0.01930045479617139, 'reg_alpha': 0.11255893483114293, 'reg_lambda': 0.015049913857289498, 'subsample': 0.7483492914038641, 'colsample_bytree': 0.8997205684108869}. Best is trial 165 with value: 0.4740018592203599.\n",
            "[I 2025-05-28 11:04:50,986] Trial 172 finished with value: 0.4642603408946261 and parameters: {'n_estimators': 1185, 'learning_rate': 0.010990367226050395, 'max_depth': 12, 'gamma': 0.019769153213144708, 'reg_alpha': 0.11654325532945735, 'reg_lambda': 0.014347365567131431, 'subsample': 0.7435978339602237, 'colsample_bytree': 0.8957319685917595}. Best is trial 165 with value: 0.4740018592203599.\n",
            "[I 2025-05-28 11:04:57,269] Trial 173 finished with value: 0.4676626911360948 and parameters: {'n_estimators': 1163, 'learning_rate': 0.01202700534008191, 'max_depth': 12, 'gamma': 0.01772206232444937, 'reg_alpha': 0.11408970627047975, 'reg_lambda': 0.016183660769103173, 'subsample': 0.7465297539018586, 'colsample_bytree': 0.8999544502910758}. Best is trial 165 with value: 0.4740018592203599.\n",
            "[I 2025-05-28 11:05:03,789] Trial 174 finished with value: 0.46698675681732676 and parameters: {'n_estimators': 1164, 'learning_rate': 0.01204778159691516, 'max_depth': 12, 'gamma': 0.017692802998796168, 'reg_alpha': 0.12017604427283116, 'reg_lambda': 0.015984966835357516, 'subsample': 0.7459614347301092, 'colsample_bytree': 0.8978511859644214}. Best is trial 165 with value: 0.4740018592203599.\n",
            "[I 2025-05-28 11:05:10,279] Trial 175 finished with value: 0.4597664847788442 and parameters: {'n_estimators': 1156, 'learning_rate': 0.012201013427274318, 'max_depth': 12, 'gamma': 0.01857797146418058, 'reg_alpha': 0.11421398061077505, 'reg_lambda': 0.01620224884756635, 'subsample': 0.7433110566368061, 'colsample_bytree': 0.8997376567545556}. Best is trial 165 with value: 0.4740018592203599.\n",
            "[I 2025-05-28 11:05:16,781] Trial 176 finished with value: 0.463561030852108 and parameters: {'n_estimators': 1190, 'learning_rate': 0.011828168748459336, 'max_depth': 12, 'gamma': 0.018753326043391826, 'reg_alpha': 0.11064599006239992, 'reg_lambda': 0.015445833812359477, 'subsample': 0.7455508424837805, 'colsample_bytree': 0.8973219344930206}. Best is trial 165 with value: 0.4740018592203599.\n",
            "[I 2025-05-28 11:05:22,929] Trial 177 finished with value: 0.4580748278809376 and parameters: {'n_estimators': 1171, 'learning_rate': 0.012451440544446033, 'max_depth': 12, 'gamma': 0.0199188332381305, 'reg_alpha': 0.12270477448788139, 'reg_lambda': 0.01576399127090852, 'subsample': 0.7390460518223394, 'colsample_bytree': 0.8939081271625801}. Best is trial 165 with value: 0.4740018592203599.\n",
            "[I 2025-05-28 11:05:29,236] Trial 178 finished with value: 0.4641615712589573 and parameters: {'n_estimators': 1174, 'learning_rate': 0.011968882847613254, 'max_depth': 12, 'gamma': 0.01775619309809216, 'reg_alpha': 0.10815668641893923, 'reg_lambda': 0.016258532175369905, 'subsample': 0.7435302113799115, 'colsample_bytree': 0.8998612962588729}. Best is trial 165 with value: 0.4740018592203599.\n",
            "[I 2025-05-28 11:05:35,950] Trial 179 finished with value: 0.46129796871485773 and parameters: {'n_estimators': 1199, 'learning_rate': 0.01118845521479951, 'max_depth': 12, 'gamma': 0.019306708793947375, 'reg_alpha': 0.1170081683224371, 'reg_lambda': 0.015987304009469686, 'subsample': 0.7471853818488159, 'colsample_bytree': 0.8954702938302447}. Best is trial 165 with value: 0.4740018592203599.\n",
            "[I 2025-05-28 11:05:42,504] Trial 180 finished with value: 0.457273170402691 and parameters: {'n_estimators': 1183, 'learning_rate': 0.011681137195628431, 'max_depth': 12, 'gamma': 0.018305704720595797, 'reg_alpha': 0.1149633156241804, 'reg_lambda': 0.016589901589612786, 'subsample': 0.7419730550632286, 'colsample_bytree': 0.8925231478546058}. Best is trial 165 with value: 0.4740018592203599.\n",
            "[I 2025-05-28 11:05:48,023] Trial 181 finished with value: 0.4665003115314744 and parameters: {'n_estimators': 1150, 'learning_rate': 0.012144115671924268, 'max_depth': 12, 'gamma': 0.017518747977063574, 'reg_alpha': 0.12000375964575676, 'reg_lambda': 0.015960447493780647, 'subsample': 0.7457120822855979, 'colsample_bytree': 0.8977944757508304}. Best is trial 165 with value: 0.4740018592203599.\n",
            "[I 2025-05-28 11:05:54,076] Trial 182 finished with value: 0.46155822473074587 and parameters: {'n_estimators': 1176, 'learning_rate': 0.012007739735051974, 'max_depth': 12, 'gamma': 0.01767478419083912, 'reg_alpha': 0.12063842043592692, 'reg_lambda': 0.015531192211958457, 'subsample': 0.7450433096996432, 'colsample_bytree': 0.897700625635285}. Best is trial 165 with value: 0.4740018592203599.\n",
            "[I 2025-05-28 11:06:00,157] Trial 183 finished with value: 0.46305010326039786 and parameters: {'n_estimators': 1193, 'learning_rate': 0.01181906947258864, 'max_depth': 12, 'gamma': 0.019150110718354905, 'reg_alpha': 0.11848974181381183, 'reg_lambda': 0.01636088330366352, 'subsample': 0.7465492543133075, 'colsample_bytree': 0.8953089193498909}. Best is trial 165 with value: 0.4740018592203599.\n",
            "[I 2025-05-28 11:06:06,501] Trial 184 finished with value: 0.46602365164782134 and parameters: {'n_estimators': 1165, 'learning_rate': 0.012058014640021578, 'max_depth': 12, 'gamma': 0.0199391417573411, 'reg_alpha': 0.11572229593831933, 'reg_lambda': 0.015986874248971963, 'subsample': 0.7483574905884426, 'colsample_bytree': 0.8973021532587174}. Best is trial 165 with value: 0.4740018592203599.\n",
            "[I 2025-05-28 11:06:13,015] Trial 185 finished with value: 0.4628193365071812 and parameters: {'n_estimators': 1165, 'learning_rate': 0.0123375048349435, 'max_depth': 12, 'gamma': 0.01839052627714834, 'reg_alpha': 0.12458406271536691, 'reg_lambda': 0.016156395484948856, 'subsample': 0.7434324645804576, 'colsample_bytree': 0.8997134774840388}. Best is trial 165 with value: 0.4740018592203599.\n",
            "[I 2025-05-28 11:06:19,688] Trial 186 finished with value: 0.4605685609428135 and parameters: {'n_estimators': 1161, 'learning_rate': 0.011413114575373376, 'max_depth': 12, 'gamma': 0.017907845786889694, 'reg_alpha': 0.11252188166109534, 'reg_lambda': 0.015739833439311245, 'subsample': 0.7400132795081883, 'colsample_bytree': 0.8927932496679719}. Best is trial 165 with value: 0.4740018592203599.\n",
            "[I 2025-05-28 11:06:26,391] Trial 187 finished with value: 0.4655007881937652 and parameters: {'n_estimators': 1143, 'learning_rate': 0.011931965331396094, 'max_depth': 12, 'gamma': 0.010192794321447865, 'reg_alpha': 0.12240267178570174, 'reg_lambda': 0.016727849692242867, 'subsample': 0.7443076585606616, 'colsample_bytree': 0.8966854903045025}. Best is trial 165 with value: 0.4740018592203599.\n",
            "[I 2025-05-28 11:06:32,965] Trial 188 finished with value: 0.46532140599774774 and parameters: {'n_estimators': 1187, 'learning_rate': 0.011691180444979273, 'max_depth': 12, 'gamma': 0.014372621028970207, 'reg_alpha': 0.11813929975906132, 'reg_lambda': 0.016514696920268447, 'subsample': 0.7413229272084226, 'colsample_bytree': 0.8947834881599429}. Best is trial 165 with value: 0.4740018592203599.\n",
            "[I 2025-05-28 11:06:39,316] Trial 189 finished with value: 0.4643485102008011 and parameters: {'n_estimators': 1201, 'learning_rate': 0.012112154920048307, 'max_depth': 12, 'gamma': 0.01873930277028987, 'reg_alpha': 0.1655627820712764, 'reg_lambda': 0.010119045902029127, 'subsample': 0.7468819510618141, 'colsample_bytree': 0.8980394818427283}. Best is trial 165 with value: 0.4740018592203599.\n",
            "[I 2025-05-28 11:06:45,885] Trial 190 finished with value: 0.44855494489291614 and parameters: {'n_estimators': 1215, 'learning_rate': 0.011079973236119634, 'max_depth': 12, 'gamma': 0.019994281797644887, 'reg_alpha': 0.12007784845990815, 'reg_lambda': 0.010002360373137693, 'subsample': 0.7064682374461035, 'colsample_bytree': 0.892219559933519}. Best is trial 165 with value: 0.4740018592203599.\n",
            "[I 2025-05-28 11:06:52,364] Trial 191 finished with value: 0.46278202115870287 and parameters: {'n_estimators': 1206, 'learning_rate': 0.011529946974143519, 'max_depth': 12, 'gamma': 0.01836810559040904, 'reg_alpha': 0.11361608311578932, 'reg_lambda': 0.016962767419361792, 'subsample': 0.7493710078493128, 'colsample_bytree': 0.8877111478171069}. Best is trial 165 with value: 0.4740018592203599.\n",
            "[I 2025-05-28 11:06:59,035] Trial 192 finished with value: 0.46365934448271096 and parameters: {'n_estimators': 1210, 'learning_rate': 0.011434330307376079, 'max_depth': 12, 'gamma': 0.017946951909895262, 'reg_alpha': 0.11308489491881676, 'reg_lambda': 0.016295960085608196, 'subsample': 0.7490512197001344, 'colsample_bytree': 0.8908786034193032}. Best is trial 165 with value: 0.4740018592203599.\n",
            "[I 2025-05-28 11:07:05,414] Trial 193 finished with value: 0.4642663870564011 and parameters: {'n_estimators': 1197, 'learning_rate': 0.01182961882108929, 'max_depth': 12, 'gamma': 0.019439700715064425, 'reg_alpha': 0.1102122765670899, 'reg_lambda': 0.017117891822464225, 'subsample': 0.749643491703578, 'colsample_bytree': 0.895894805684287}. Best is trial 165 with value: 0.4740018592203599.\n",
            "[I 2025-05-28 11:07:11,988] Trial 194 finished with value: 0.4686350197604171 and parameters: {'n_estimators': 1181, 'learning_rate': 0.011284871932506324, 'max_depth': 12, 'gamma': 0.019077809520259746, 'reg_alpha': 0.11489701132764164, 'reg_lambda': 0.015904926699893213, 'subsample': 0.7462850719135541, 'colsample_bytree': 0.8889016787272394}. Best is trial 165 with value: 0.4740018592203599.\n",
            "[I 2025-05-28 11:07:18,720] Trial 195 finished with value: 0.4569093012185572 and parameters: {'n_estimators': 1180, 'learning_rate': 0.011282921916780361, 'max_depth': 12, 'gamma': 0.01904695403730543, 'reg_alpha': 0.1168167631187964, 'reg_lambda': 0.015248527296609376, 'subsample': 0.7454739522547306, 'colsample_bytree': 0.8979583597447204}. Best is trial 165 with value: 0.4740018592203599.\n",
            "[I 2025-05-28 11:07:25,510] Trial 196 finished with value: 0.47060503184505087 and parameters: {'n_estimators': 1167, 'learning_rate': 0.01112513995160848, 'max_depth': 12, 'gamma': 0.018875468844251196, 'reg_alpha': 0.11499702496010401, 'reg_lambda': 0.01590188985921708, 'subsample': 0.7426508810539002, 'colsample_bytree': 0.8944271222692948}. Best is trial 165 with value: 0.4740018592203599.\n",
            "[I 2025-05-28 11:07:32,146] Trial 197 finished with value: 0.4575723371431623 and parameters: {'n_estimators': 1174, 'learning_rate': 0.010938222693638025, 'max_depth': 12, 'gamma': 0.01885611597526019, 'reg_alpha': 0.1152069486767329, 'reg_lambda': 0.015644702652607746, 'subsample': 0.7426118523034593, 'colsample_bytree': 0.8934506289887642}. Best is trial 165 with value: 0.4740018592203599.\n",
            "[I 2025-05-28 11:07:38,801] Trial 198 finished with value: 0.46009810033275195 and parameters: {'n_estimators': 1192, 'learning_rate': 0.01117375015269968, 'max_depth': 12, 'gamma': 0.019509120492141405, 'reg_alpha': 0.1562724887824155, 'reg_lambda': 0.014930844130477362, 'subsample': 0.7375827326679814, 'colsample_bytree': 0.8908122708405184}. Best is trial 165 with value: 0.4740018592203599.\n",
            "[I 2025-05-28 11:07:46,343] Trial 199 finished with value: 0.45916816686126605 and parameters: {'n_estimators': 1177, 'learning_rate': 0.010815219745033201, 'max_depth': 12, 'gamma': 0.01930736848220674, 'reg_alpha': 0.1106753317224478, 'reg_lambda': 0.010444963842231517, 'subsample': 0.7405792702927139, 'colsample_bytree': 0.8998805295322484}. Best is trial 165 with value: 0.4740018592203599.\n",
            "[I 2025-05-28 11:07:54,129] Trial 200 finished with value: 0.47258700301656803 and parameters: {'n_estimators': 1169, 'learning_rate': 0.011353669638749037, 'max_depth': 12, 'gamma': 0.013640258518911458, 'reg_alpha': 0.11629139414956212, 'reg_lambda': 0.01611322344566992, 'subsample': 0.7434259670591039, 'colsample_bytree': 0.8891837798612656}. Best is trial 165 with value: 0.4740018592203599.\n",
            "[I 2025-05-28 11:08:01,241] Trial 201 finished with value: 0.4657859851045183 and parameters: {'n_estimators': 1171, 'learning_rate': 0.01134555791224802, 'max_depth': 12, 'gamma': 0.01422659938849912, 'reg_alpha': 0.11649115924348782, 'reg_lambda': 0.01588598431611472, 'subsample': 0.7433858621745422, 'colsample_bytree': 0.8855489366560395}. Best is trial 165 with value: 0.4740018592203599.\n",
            "[I 2025-05-28 11:08:08,779] Trial 202 finished with value: 0.4718606426816316 and parameters: {'n_estimators': 1155, 'learning_rate': 0.011261660097092825, 'max_depth': 12, 'gamma': 0.013589356868038617, 'reg_alpha': 0.11471034495137392, 'reg_lambda': 0.01653417504110352, 'subsample': 0.744492693366288, 'colsample_bytree': 0.888146795028758}. Best is trial 165 with value: 0.4740018592203599.\n",
            "[I 2025-05-28 11:08:17,174] Trial 203 finished with value: 0.4629377989945687 and parameters: {'n_estimators': 1156, 'learning_rate': 0.011129916451127106, 'max_depth': 12, 'gamma': 0.013706472856935825, 'reg_alpha': 0.11765985201636299, 'reg_lambda': 0.016498457707815096, 'subsample': 0.7420554137225246, 'colsample_bytree': 0.8945284497072626}. Best is trial 165 with value: 0.4740018592203599.\n",
            "[I 2025-05-28 11:08:25,225] Trial 204 finished with value: 0.45705991713153954 and parameters: {'n_estimators': 1168, 'learning_rate': 0.011021051184603814, 'max_depth': 12, 'gamma': 0.013490315470982603, 'reg_alpha': 0.11405982770750343, 'reg_lambda': 0.016162000380787835, 'subsample': 0.7469472257129329, 'colsample_bytree': 0.8893173161842928}. Best is trial 165 with value: 0.4740018592203599.\n",
            "[I 2025-05-28 11:08:33,029] Trial 205 finished with value: 0.4620903984303474 and parameters: {'n_estimators': 1159, 'learning_rate': 0.01125344668750986, 'max_depth': 12, 'gamma': 0.013899749715518734, 'reg_alpha': 0.11196380003960632, 'reg_lambda': 0.016822960273474772, 'subsample': 0.7394678434654982, 'colsample_bytree': 0.8851750977096616}. Best is trial 165 with value: 0.4740018592203599.\n",
            "[I 2025-05-28 11:08:40,288] Trial 206 finished with value: 0.45657953330383877 and parameters: {'n_estimators': 1180, 'learning_rate': 0.011394012045766, 'max_depth': 13, 'gamma': 0.013085628993610187, 'reg_alpha': 0.10811081136836427, 'reg_lambda': 0.01545685441474999, 'subsample': 0.7448374674452471, 'colsample_bytree': 0.8921063980559106}. Best is trial 165 with value: 0.4740018592203599.\n",
            "[I 2025-05-28 11:08:46,998] Trial 207 finished with value: 0.45535142112337096 and parameters: {'n_estimators': 1153, 'learning_rate': 0.011585879449001048, 'max_depth': 12, 'gamma': 0.01465861909420662, 'reg_alpha': 0.11873927649741461, 'reg_lambda': 0.01642432120851125, 'subsample': 0.7422265453648562, 'colsample_bytree': 0.8874463132447203}. Best is trial 165 with value: 0.4740018592203599.\n",
            "[I 2025-05-28 11:08:54,198] Trial 208 finished with value: 0.4666909334767638 and parameters: {'n_estimators': 1185, 'learning_rate': 0.01127722513166939, 'max_depth': 12, 'gamma': 0.012855763756304851, 'reg_alpha': 0.1162681695246389, 'reg_lambda': 0.016115606758154905, 'subsample': 0.7470938383744614, 'colsample_bytree': 0.8964391699501436}. Best is trial 165 with value: 0.4740018592203599.\n",
            "[I 2025-05-28 11:09:01,506] Trial 209 finished with value: 0.4609281168936457 and parameters: {'n_estimators': 1143, 'learning_rate': 0.010706715924522525, 'max_depth': 12, 'gamma': 0.007006284213927075, 'reg_alpha': 0.14900209352753205, 'reg_lambda': 0.01577969484657563, 'subsample': 0.7446211547481907, 'colsample_bytree': 0.8475277999952991}. Best is trial 165 with value: 0.4740018592203599.\n",
            "[I 2025-05-28 11:09:08,862] Trial 210 finished with value: 0.4669437936541138 and parameters: {'n_estimators': 1169, 'learning_rate': 0.011024145153974778, 'max_depth': 12, 'gamma': 0.013245844354660676, 'reg_alpha': 0.1519897939260722, 'reg_lambda': 0.016237189097717163, 'subsample': 0.7408903607347678, 'colsample_bytree': 0.8938271014220166}. Best is trial 165 with value: 0.4740018592203599.\n",
            "[I 2025-05-28 11:09:16,012] Trial 211 finished with value: 0.46403640168964844 and parameters: {'n_estimators': 1195, 'learning_rate': 0.01144854112786026, 'max_depth': 12, 'gamma': 0.018915412559247054, 'reg_alpha': 0.11552625071605684, 'reg_lambda': 0.016601484112853424, 'subsample': 0.7439239572100574, 'colsample_bytree': 0.8895889692424033}. Best is trial 165 with value: 0.4740018592203599.\n",
            "[I 2025-05-28 11:09:23,423] Trial 212 finished with value: 0.4658167477237667 and parameters: {'n_estimators': 1161, 'learning_rate': 0.011661776316477987, 'max_depth': 12, 'gamma': 0.018649031140581432, 'reg_alpha': 0.11409263155064586, 'reg_lambda': 0.015616763133799266, 'subsample': 0.7457855538630049, 'colsample_bytree': 0.8883767476368635}. Best is trial 165 with value: 0.4740018592203599.\n",
            "[I 2025-05-28 11:09:30,489] Trial 213 finished with value: 0.46692268238538254 and parameters: {'n_estimators': 1190, 'learning_rate': 0.011185783358347684, 'max_depth': 12, 'gamma': 0.019912360166459035, 'reg_alpha': 0.1120369869214735, 'reg_lambda': 0.01597505955371714, 'subsample': 0.7436150879110783, 'colsample_bytree': 0.8586732790270064}. Best is trial 165 with value: 0.4740018592203599.\n",
            "[I 2025-05-28 11:09:37,746] Trial 214 finished with value: 0.4557233793162565 and parameters: {'n_estimators': 1179, 'learning_rate': 0.01089250790939313, 'max_depth': 12, 'gamma': 0.019271519827534188, 'reg_alpha': 0.11773396300027315, 'reg_lambda': 0.016869458684128206, 'subsample': 0.6899911054077528, 'colsample_bytree': 0.8840579448576916}. Best is trial 165 with value: 0.4740018592203599.\n",
            "[I 2025-05-28 11:09:45,263] Trial 215 finished with value: 0.46583690179381226 and parameters: {'n_estimators': 1203, 'learning_rate': 0.011591086436755637, 'max_depth': 12, 'gamma': 0.01843576360873855, 'reg_alpha': 0.11483530148327352, 'reg_lambda': 0.016271473640871226, 'subsample': 0.7421106066657196, 'colsample_bytree': 0.8911414579163102}. Best is trial 165 with value: 0.4740018592203599.\n",
            "[I 2025-05-28 11:09:52,343] Trial 216 finished with value: 0.47054147184656997 and parameters: {'n_estimators': 1219, 'learning_rate': 0.011774337392152083, 'max_depth': 12, 'gamma': 0.01814970345546667, 'reg_alpha': 0.10959089838088311, 'reg_lambda': 0.017238378899529325, 'subsample': 0.7469555424374805, 'colsample_bytree': 0.8865924072479953}. Best is trial 165 with value: 0.4740018592203599.\n",
            "[I 2025-05-28 11:09:59,219] Trial 217 finished with value: 0.4569026161717994 and parameters: {'n_estimators': 1218, 'learning_rate': 0.012208534075792548, 'max_depth': 12, 'gamma': 0.013732555654418898, 'reg_alpha': 0.10627755488799559, 'reg_lambda': 0.017238418274469737, 'subsample': 0.7477204126356483, 'colsample_bytree': 0.8814473269572074}. Best is trial 165 with value: 0.4740018592203599.\n",
            "[I 2025-05-28 11:10:05,804] Trial 218 finished with value: 0.46039952353924535 and parameters: {'n_estimators': 1134, 'learning_rate': 0.011103100657556205, 'max_depth': 12, 'gamma': 0.01674542625082097, 'reg_alpha': 0.10980482663810871, 'reg_lambda': 0.01394908292664943, 'subsample': 0.7473637512811478, 'colsample_bytree': 0.8526799397821481}. Best is trial 165 with value: 0.4740018592203599.\n",
            "[I 2025-05-28 11:10:13,191] Trial 219 finished with value: 0.45515706913413634 and parameters: {'n_estimators': 1227, 'learning_rate': 0.011404046395852208, 'max_depth': 12, 'gamma': 0.012281159905745688, 'reg_alpha': 0.11200184391621659, 'reg_lambda': 0.016657310816527195, 'subsample': 0.7388086402575067, 'colsample_bytree': 0.8864067493383422}. Best is trial 165 with value: 0.4740018592203599.\n",
            "[I 2025-05-28 11:10:20,260] Trial 220 finished with value: 0.46364654434536356 and parameters: {'n_estimators': 1237, 'learning_rate': 0.011286118241003265, 'max_depth': 12, 'gamma': 0.0173933702112928, 'reg_alpha': 0.12111911701961342, 'reg_lambda': 0.017041271917947794, 'subsample': 0.7451744079951756, 'colsample_bytree': 0.8981987948134867}. Best is trial 165 with value: 0.4740018592203599.\n",
            "[I 2025-05-28 11:10:27,011] Trial 221 finished with value: 0.45533620172286654 and parameters: {'n_estimators': 1214, 'learning_rate': 0.011795429709361049, 'max_depth': 12, 'gamma': 0.018015260600003094, 'reg_alpha': 0.1137761428914193, 'reg_lambda': 0.017448452518952825, 'subsample': 0.7446162282660415, 'colsample_bytree': 0.888565596791052}. Best is trial 165 with value: 0.4740018592203599.\n",
            "[I 2025-05-28 11:10:33,110] Trial 222 finished with value: 0.46002567836144415 and parameters: {'n_estimators': 1200, 'learning_rate': 0.011920824435166398, 'max_depth': 12, 'gamma': 0.01926022056715403, 'reg_alpha': 0.11611307413495461, 'reg_lambda': 0.01642577362322369, 'subsample': 0.7430026140778855, 'colsample_bytree': 0.885062896044631}. Best is trial 165 with value: 0.4740018592203599.\n",
            "[I 2025-05-28 11:10:39,243] Trial 223 finished with value: 0.47144979742353643 and parameters: {'n_estimators': 1186, 'learning_rate': 0.011732743593812999, 'max_depth': 12, 'gamma': 0.018694058896444998, 'reg_alpha': 0.11772975921415553, 'reg_lambda': 0.015859266540821246, 'subsample': 0.7465700000662521, 'colsample_bytree': 0.8864055969588887}. Best is trial 165 with value: 0.4740018592203599.\n",
            "[I 2025-05-28 11:10:45,541] Trial 224 finished with value: 0.4629923259210561 and parameters: {'n_estimators': 1186, 'learning_rate': 0.011518380150721489, 'max_depth': 12, 'gamma': 0.018199590823647287, 'reg_alpha': 0.11844299409152885, 'reg_lambda': 0.015805739005950187, 'subsample': 0.7475527792189404, 'colsample_bytree': 0.8836487282063094}. Best is trial 165 with value: 0.4740018592203599.\n",
            "[I 2025-05-28 11:10:51,973] Trial 225 finished with value: 0.46175620504666703 and parameters: {'n_estimators': 1170, 'learning_rate': 0.01169074957118573, 'max_depth': 12, 'gamma': 0.01949752693122639, 'reg_alpha': 0.1192604413635284, 'reg_lambda': 0.015354924032132391, 'subsample': 0.7457054193293776, 'colsample_bytree': 0.8999527589139359}. Best is trial 165 with value: 0.4740018592203599.\n",
            "[I 2025-05-28 11:10:58,156] Trial 226 finished with value: 0.46743543563642975 and parameters: {'n_estimators': 1184, 'learning_rate': 0.012357165773059484, 'max_depth': 12, 'gamma': 0.01473887794650414, 'reg_alpha': 0.11722607203097708, 'reg_lambda': 0.01611451399475486, 'subsample': 0.7499981699512349, 'colsample_bytree': 0.8867500804956369}. Best is trial 165 with value: 0.4740018592203599.\n",
            "[I 2025-05-28 11:11:04,316] Trial 227 finished with value: 0.4664394695975508 and parameters: {'n_estimators': 1189, 'learning_rate': 0.012347005203389915, 'max_depth': 12, 'gamma': 0.016066158782448665, 'reg_alpha': 0.11729566854240925, 'reg_lambda': 0.016045437846384177, 'subsample': 0.7484271421119394, 'colsample_bytree': 0.8866707575446873}. Best is trial 165 with value: 0.4740018592203599.\n",
            "[I 2025-05-28 11:11:10,659] Trial 228 finished with value: 0.4613010423490743 and parameters: {'n_estimators': 1179, 'learning_rate': 0.012576267945326673, 'max_depth': 12, 'gamma': 0.014905642471397501, 'reg_alpha': 0.12120547868515458, 'reg_lambda': 0.01559029013173613, 'subsample': 0.7498944727902759, 'colsample_bytree': 0.8822871546755243}. Best is trial 165 with value: 0.4740018592203599.\n",
            "[I 2025-05-28 11:11:16,516] Trial 229 finished with value: 0.46324642774860997 and parameters: {'n_estimators': 1184, 'learning_rate': 0.012426788800303765, 'max_depth': 12, 'gamma': 0.019985811881195487, 'reg_alpha': 0.10920926384052554, 'reg_lambda': 0.01599642203278918, 'subsample': 0.7415021495009929, 'colsample_bytree': 0.885906245272096}. Best is trial 165 with value: 0.4740018592203599.\n",
            "[I 2025-05-28 11:11:22,389] Trial 230 finished with value: 0.46596746745540035 and parameters: {'n_estimators': 1176, 'learning_rate': 0.01222195107097496, 'max_depth': 12, 'gamma': 0.01545904655206448, 'reg_alpha': 0.11326875585084209, 'reg_lambda': 0.016295985853382763, 'subsample': 0.7465294723661573, 'colsample_bytree': 0.890456102698224}. Best is trial 165 with value: 0.4740018592203599.\n",
            "[I 2025-05-28 11:11:29,136] Trial 231 finished with value: 0.4621776712009898 and parameters: {'n_estimators': 1192, 'learning_rate': 0.01202600099348654, 'max_depth': 12, 'gamma': 0.014606374610611792, 'reg_alpha': 0.1164452807704884, 'reg_lambda': 0.015797719982005604, 'subsample': 0.7462513764057557, 'colsample_bytree': 0.8877520814873594}. Best is trial 165 with value: 0.4740018592203599.\n",
            "[I 2025-05-28 11:11:35,952] Trial 232 finished with value: 0.4623624054839457 and parameters: {'n_estimators': 1196, 'learning_rate': 0.01135940830338171, 'max_depth': 12, 'gamma': 0.014411395598171561, 'reg_alpha': 0.11944217097662585, 'reg_lambda': 0.016139745691326993, 'subsample': 0.7483358500458218, 'colsample_bytree': 0.8959220067501468}. Best is trial 165 with value: 0.4740018592203599.\n",
            "[I 2025-05-28 11:11:42,905] Trial 233 finished with value: 0.4562942496668403 and parameters: {'n_estimators': 1257, 'learning_rate': 0.011586602245516248, 'max_depth': 12, 'gamma': 0.018884111044365232, 'reg_alpha': 0.1591035290869816, 'reg_lambda': 0.016518622266925468, 'subsample': 0.7499914747919265, 'colsample_bytree': 0.8844629165262764}. Best is trial 165 with value: 0.4740018592203599.\n",
            "[I 2025-05-28 11:11:52,845] Trial 234 finished with value: 0.4606306272641637 and parameters: {'n_estimators': 1184, 'learning_rate': 0.011197477274715695, 'max_depth': 12, 'gamma': 0.014086836404245823, 'reg_alpha': 0.1150644361074816, 'reg_lambda': 0.01674359743084257, 'subsample': 0.7437019653763863, 'colsample_bytree': 0.8890522376672201}. Best is trial 165 with value: 0.4740018592203599.\n",
            "[I 2025-05-28 11:12:00,762] Trial 235 finished with value: 0.4655558654914495 and parameters: {'n_estimators': 1163, 'learning_rate': 0.011913370596067972, 'max_depth': 12, 'gamma': 0.013590138936721957, 'reg_alpha': 0.11105340688226523, 'reg_lambda': 0.015847708427647458, 'subsample': 0.7455303085626317, 'colsample_bytree': 0.899932724957657}. Best is trial 165 with value: 0.4740018592203599.\n",
            "[I 2025-05-28 11:12:07,751] Trial 236 finished with value: 0.4636691194967194 and parameters: {'n_estimators': 1173, 'learning_rate': 0.012163642023243413, 'max_depth': 12, 'gamma': 0.0066084200013215326, 'reg_alpha': 0.1171751635319718, 'reg_lambda': 0.01721916743874662, 'subsample': 0.7429247170129163, 'colsample_bytree': 0.8971019724083752}. Best is trial 165 with value: 0.4740018592203599.\n",
            "[I 2025-05-28 11:12:14,464] Trial 237 finished with value: 0.46038876757997116 and parameters: {'n_estimators': 1245, 'learning_rate': 0.011725218928184882, 'max_depth': 12, 'gamma': 0.015127722519798973, 'reg_alpha': 0.11299786490432587, 'reg_lambda': 0.015146579013945494, 'subsample': 0.747233420091418, 'colsample_bytree': 0.8921410013665263}. Best is trial 165 with value: 0.4740018592203599.\n",
            "[I 2025-05-28 11:12:20,911] Trial 238 finished with value: 0.45637860119128676 and parameters: {'n_estimators': 1153, 'learning_rate': 0.011049565232523149, 'max_depth': 12, 'gamma': 0.01852804296749445, 'reg_alpha': 0.14490387461536444, 'reg_lambda': 0.015577654504627947, 'subsample': 0.6713166908334399, 'colsample_bytree': 0.8863975456018225}. Best is trial 165 with value: 0.4740018592203599.\n",
            "[I 2025-05-28 11:12:28,011] Trial 239 finished with value: 0.45673211150047077 and parameters: {'n_estimators': 1238, 'learning_rate': 0.011503054157294808, 'max_depth': 12, 'gamma': 0.01765664619287862, 'reg_alpha': 0.11503615701493147, 'reg_lambda': 0.01634763209869994, 'subsample': 0.7402392939476731, 'colsample_bytree': 0.8947472265547796}. Best is trial 165 with value: 0.4740018592203599.\n",
            "[I 2025-05-28 11:12:34,955] Trial 240 finished with value: 0.4618598821922335 and parameters: {'n_estimators': 1187, 'learning_rate': 0.011208682533712093, 'max_depth': 12, 'gamma': 0.014010379732838547, 'reg_alpha': 0.11892325774174099, 'reg_lambda': 0.017977172934108283, 'subsample': 0.7449188590697371, 'colsample_bytree': 0.8903633064488006}. Best is trial 165 with value: 0.4740018592203599.\n",
            "[I 2025-05-28 11:12:42,648] Trial 241 finished with value: 0.4658290230336452 and parameters: {'n_estimators': 1195, 'learning_rate': 0.011808424384904457, 'max_depth': 12, 'gamma': 0.01892776238916693, 'reg_alpha': 0.11578781158992092, 'reg_lambda': 0.010220154620371869, 'subsample': 0.7445279859338527, 'colsample_bytree': 0.8881993007897395}. Best is trial 165 with value: 0.4740018592203599.\n",
            "[I 2025-05-28 11:12:48,855] Trial 242 finished with value: 0.46446515933422566 and parameters: {'n_estimators': 1208, 'learning_rate': 0.011928124029240867, 'max_depth': 12, 'gamma': 0.01818145959653126, 'reg_alpha': 0.11444233189125648, 'reg_lambda': 0.016173619340462256, 'subsample': 0.7427237968652816, 'colsample_bytree': 0.8889997344440255}. Best is trial 165 with value: 0.4740018592203599.\n",
            "[I 2025-05-28 11:12:55,005] Trial 243 finished with value: 0.4643033929180972 and parameters: {'n_estimators': 1207, 'learning_rate': 0.012058979690623242, 'max_depth': 12, 'gamma': 0.019414947743765076, 'reg_alpha': 0.11233749428041173, 'reg_lambda': 0.015952120203244314, 'subsample': 0.7474399242109923, 'colsample_bytree': 0.8869141528845085}. Best is trial 165 with value: 0.4740018592203599.\n",
            "[I 2025-05-28 11:13:01,528] Trial 244 finished with value: 0.4677610606705517 and parameters: {'n_estimators': 1200, 'learning_rate': 0.011653595936331761, 'max_depth': 12, 'gamma': 0.008487399531662342, 'reg_alpha': 0.11740425732551778, 'reg_lambda': 0.016929200467431106, 'subsample': 0.7444483129618565, 'colsample_bytree': 0.8972028256164233}. Best is trial 165 with value: 0.4740018592203599.\n",
            "[I 2025-05-28 11:13:08,140] Trial 245 finished with value: 0.46398610225841397 and parameters: {'n_estimators': 1201, 'learning_rate': 0.011409857920953101, 'max_depth': 13, 'gamma': 0.008601753324040238, 'reg_alpha': 0.12218762953216751, 'reg_lambda': 0.016903761198959706, 'subsample': 0.7415317804084547, 'colsample_bytree': 0.897867552193192}. Best is trial 165 with value: 0.4740018592203599.\n",
            "[I 2025-05-28 11:13:14,792] Trial 246 finished with value: 0.4682984745231513 and parameters: {'n_estimators': 1253, 'learning_rate': 0.011653689866645622, 'max_depth': 12, 'gamma': 0.013347478385313671, 'reg_alpha': 0.11807164497248109, 'reg_lambda': 0.017424111398976844, 'subsample': 0.7464264697185184, 'colsample_bytree': 0.8981638349763004}. Best is trial 165 with value: 0.4740018592203599.\n",
            "[I 2025-05-28 11:13:21,134] Trial 247 finished with value: 0.465559177578581 and parameters: {'n_estimators': 1181, 'learning_rate': 0.011660231564396033, 'max_depth': 12, 'gamma': 0.007924096225973207, 'reg_alpha': 0.11729053580334663, 'reg_lambda': 0.01654415765692988, 'subsample': 0.7456843652231675, 'colsample_bytree': 0.8998517011581274}. Best is trial 165 with value: 0.4740018592203599.\n",
            "[I 2025-05-28 11:13:27,939] Trial 248 finished with value: 0.45736731543332904 and parameters: {'n_estimators': 1196, 'learning_rate': 0.011707236311214201, 'max_depth': 12, 'gamma': 0.007692743665776673, 'reg_alpha': 0.11997315402061229, 'reg_lambda': 0.01745153957664285, 'subsample': 0.7482734657831372, 'colsample_bytree': 0.8959208319804757}. Best is trial 165 with value: 0.4740018592203599.\n",
            "[I 2025-05-28 11:13:34,776] Trial 249 finished with value: 0.46434908941910635 and parameters: {'n_estimators': 1169, 'learning_rate': 0.012276923956540491, 'max_depth': 12, 'gamma': 0.007186837587875981, 'reg_alpha': 0.13649620440592766, 'reg_lambda': 0.016741764926695477, 'subsample': 0.7434523397051925, 'colsample_bytree': 0.89822990651556}. Best is trial 165 with value: 0.4740018592203599.\n",
            "[I 2025-05-28 11:13:42,481] Trial 250 finished with value: 0.45712978056374576 and parameters: {'n_estimators': 1189, 'learning_rate': 0.011566914981769065, 'max_depth': 12, 'gamma': 0.012984677732658644, 'reg_alpha': 0.11793803664511607, 'reg_lambda': 0.017099762184750393, 'subsample': 0.7411146671436067, 'colsample_bytree': 0.8946230600845427}. Best is trial 165 with value: 0.4740018592203599.\n",
            "[I 2025-05-28 11:13:49,234] Trial 251 finished with value: 0.4679411490707185 and parameters: {'n_estimators': 1251, 'learning_rate': 0.01182995867180818, 'max_depth': 12, 'gamma': 0.00901947217285481, 'reg_alpha': 0.11662814556019331, 'reg_lambda': 0.017840393114405252, 'subsample': 0.7461892198121666, 'colsample_bytree': 0.893262728191859}. Best is trial 165 with value: 0.4740018592203599.\n",
            "[I 2025-05-28 11:13:55,875] Trial 252 finished with value: 0.46564370609399497 and parameters: {'n_estimators': 1267, 'learning_rate': 0.011816703669737678, 'max_depth': 12, 'gamma': 0.00894680285475641, 'reg_alpha': 0.12392274045776523, 'reg_lambda': 0.017795467099768165, 'subsample': 0.7438906539799597, 'colsample_bytree': 0.8925661012057385}. Best is trial 165 with value: 0.4740018592203599.\n",
            "[I 2025-05-28 11:14:02,362] Trial 253 finished with value: 0.4671717794357947 and parameters: {'n_estimators': 1256, 'learning_rate': 0.011914370980862853, 'max_depth': 12, 'gamma': 0.008300020451821715, 'reg_alpha': 0.11981201692164906, 'reg_lambda': 0.018241918520213066, 'subsample': 0.7455007769481918, 'colsample_bytree': 0.8962542117388865}. Best is trial 165 with value: 0.4740018592203599.\n",
            "[I 2025-05-28 11:14:09,162] Trial 254 finished with value: 0.46071880904701157 and parameters: {'n_estimators': 1252, 'learning_rate': 0.011631166289114035, 'max_depth': 12, 'gamma': 0.012699865138852831, 'reg_alpha': 0.11465924991034926, 'reg_lambda': 0.013590205653486277, 'subsample': 0.7396777839931566, 'colsample_bytree': 0.8981482290362748}. Best is trial 165 with value: 0.4740018592203599.\n",
            "[I 2025-05-28 11:14:16,326] Trial 255 finished with value: 0.46652922974511224 and parameters: {'n_estimators': 1260, 'learning_rate': 0.0114881009665186, 'max_depth': 14, 'gamma': 0.011135450019057424, 'reg_alpha': 0.11023339042720227, 'reg_lambda': 0.017827027032792316, 'subsample': 0.7424422818216796, 'colsample_bytree': 0.8934754948295198}. Best is trial 165 with value: 0.4740018592203599.\n",
            "[I 2025-05-28 11:14:23,066] Trial 256 finished with value: 0.4708664316690715 and parameters: {'n_estimators': 1246, 'learning_rate': 0.011777051270100224, 'max_depth': 12, 'gamma': 0.009190912832782156, 'reg_alpha': 0.11285271608316533, 'reg_lambda': 0.016958111659648632, 'subsample': 0.7462996655561002, 'colsample_bytree': 0.8913188476175923}. Best is trial 165 with value: 0.4740018592203599.\n",
            "[I 2025-05-28 11:14:29,648] Trial 257 finished with value: 0.46564254392572674 and parameters: {'n_estimators': 1242, 'learning_rate': 0.011795240601137374, 'max_depth': 12, 'gamma': 0.009294532839054695, 'reg_alpha': 0.11213585926390293, 'reg_lambda': 0.017400568521359808, 'subsample': 0.7468942576782418, 'colsample_bytree': 0.8922308551934904}. Best is trial 165 with value: 0.4740018592203599.\n",
            "[I 2025-05-28 11:14:35,914] Trial 258 finished with value: 0.4691324673351712 and parameters: {'n_estimators': 1233, 'learning_rate': 0.01200621830865977, 'max_depth': 12, 'gamma': 0.00879336986296565, 'reg_alpha': 0.11385799169050954, 'reg_lambda': 0.017592222719683585, 'subsample': 0.7450227485944686, 'colsample_bytree': 0.8953758603913529}. Best is trial 165 with value: 0.4740018592203599.\n",
            "[I 2025-05-28 11:14:42,720] Trial 259 finished with value: 0.4695074614723419 and parameters: {'n_estimators': 1233, 'learning_rate': 0.011973181628349525, 'max_depth': 12, 'gamma': 0.008862831405906761, 'reg_alpha': 0.11366059172452783, 'reg_lambda': 0.017656359072271935, 'subsample': 0.746457571713966, 'colsample_bytree': 0.8950336231956056}. Best is trial 165 with value: 0.4740018592203599.\n",
            "[I 2025-05-28 11:14:49,514] Trial 260 finished with value: 0.4562780114912557 and parameters: {'n_estimators': 1222, 'learning_rate': 0.011733322835939546, 'max_depth': 12, 'gamma': 0.009517602864364297, 'reg_alpha': 0.10769911477306023, 'reg_lambda': 0.0174938911025713, 'subsample': 0.6816741776314819, 'colsample_bytree': 0.8944018574908906}. Best is trial 165 with value: 0.4740018592203599.\n",
            "[I 2025-05-28 11:14:56,175] Trial 261 finished with value: 0.4728837565001277 and parameters: {'n_estimators': 1228, 'learning_rate': 0.012011041095100712, 'max_depth': 12, 'gamma': 0.008876857158331041, 'reg_alpha': 0.11288155397713215, 'reg_lambda': 0.01763380439920025, 'subsample': 0.7450678603050923, 'colsample_bytree': 0.8953018404149858}. Best is trial 165 with value: 0.4740018592203599.\n",
            "[I 2025-05-28 11:15:02,470] Trial 262 finished with value: 0.4605685058963959 and parameters: {'n_estimators': 1235, 'learning_rate': 0.01180624356869616, 'max_depth': 12, 'gamma': 0.008849321604759536, 'reg_alpha': 0.11312675737576858, 'reg_lambda': 0.0179562332124877, 'subsample': 0.6580747240934676, 'colsample_bytree': 0.8919179950537779}. Best is trial 165 with value: 0.4740018592203599.\n",
            "[I 2025-05-28 11:15:08,726] Trial 263 finished with value: 0.46377594911681375 and parameters: {'n_estimators': 1226, 'learning_rate': 0.011957716649063628, 'max_depth': 12, 'gamma': 0.009040574726234644, 'reg_alpha': 0.10922909629797524, 'reg_lambda': 0.017600784727563844, 'subsample': 0.7447256685552971, 'colsample_bytree': 0.8952413989505633}. Best is trial 165 with value: 0.4740018592203599.\n",
            "[I 2025-05-28 11:15:15,337] Trial 264 finished with value: 0.456648843118259 and parameters: {'n_estimators': 1229, 'learning_rate': 0.011658123071830397, 'max_depth': 12, 'gamma': 0.008528451797317342, 'reg_alpha': 0.11133445605691486, 'reg_lambda': 0.017620896763581532, 'subsample': 0.7445354698104458, 'colsample_bytree': 0.8936225668022275}. Best is trial 165 with value: 0.4740018592203599.\n",
            "[I 2025-05-28 11:15:22,056] Trial 265 finished with value: 0.4692163614899748 and parameters: {'n_estimators': 1231, 'learning_rate': 0.011995609448382247, 'max_depth': 12, 'gamma': 0.008453329349468974, 'reg_alpha': 0.11430996975852604, 'reg_lambda': 0.017847963062410058, 'subsample': 0.747975043520374, 'colsample_bytree': 0.8910973966355606}. Best is trial 165 with value: 0.4740018592203599.\n",
            "[I 2025-05-28 11:15:28,535] Trial 266 finished with value: 0.4594266522156765 and parameters: {'n_estimators': 1230, 'learning_rate': 0.012018546247878913, 'max_depth': 12, 'gamma': 0.00903975176693136, 'reg_alpha': 0.11367821273558192, 'reg_lambda': 0.018088907955030917, 'subsample': 0.7484598235612842, 'colsample_bytree': 0.8931362189780033}. Best is trial 165 with value: 0.4740018592203599.\n",
            "[I 2025-05-28 11:15:35,420] Trial 267 finished with value: 0.4691833633098933 and parameters: {'n_estimators': 1220, 'learning_rate': 0.011968816738093012, 'max_depth': 12, 'gamma': 0.009876920917900128, 'reg_alpha': 0.11095459165962288, 'reg_lambda': 0.01856973431797805, 'subsample': 0.7479140776745048, 'colsample_bytree': 0.8908463437791477}. Best is trial 165 with value: 0.4740018592203599.\n",
            "[I 2025-05-28 11:15:42,572] Trial 268 finished with value: 0.4641029871792671 and parameters: {'n_estimators': 1224, 'learning_rate': 0.01192406352792449, 'max_depth': 12, 'gamma': 0.009775741555357199, 'reg_alpha': 0.1153686879449196, 'reg_lambda': 0.01856730741512249, 'subsample': 0.7483446801573995, 'colsample_bytree': 0.8912247369662525}. Best is trial 165 with value: 0.4740018592203599.\n",
            "[I 2025-05-28 11:15:49,252] Trial 269 finished with value: 0.46181236483815147 and parameters: {'n_estimators': 1235, 'learning_rate': 0.012077254633575585, 'max_depth': 12, 'gamma': 0.009077608799339254, 'reg_alpha': 0.11212460904099743, 'reg_lambda': 0.01872521849554943, 'subsample': 0.7469662355125393, 'colsample_bytree': 0.8904113317277993}. Best is trial 165 with value: 0.4740018592203599.\n",
            "[I 2025-05-28 11:15:56,985] Trial 270 finished with value: 0.46524145944088113 and parameters: {'n_estimators': 1236, 'learning_rate': 0.011881547592087953, 'max_depth': 12, 'gamma': 0.009478965459467194, 'reg_alpha': 0.11523777945583685, 'reg_lambda': 0.01832754723781172, 'subsample': 0.748480739936515, 'colsample_bytree': 0.8909307183255993}. Best is trial 165 with value: 0.4740018592203599.\n",
            "[I 2025-05-28 11:16:04,881] Trial 271 finished with value: 0.4610489684088345 and parameters: {'n_estimators': 1217, 'learning_rate': 0.012115168965840554, 'max_depth': 12, 'gamma': 0.008711227418325898, 'reg_alpha': 0.1215338739764774, 'reg_lambda': 0.01791404188433776, 'subsample': 0.7457901869511009, 'colsample_bytree': 0.8899533940473283}. Best is trial 165 with value: 0.4740018592203599.\n",
            "[I 2025-05-28 11:16:12,224] Trial 272 finished with value: 0.46310811779825284 and parameters: {'n_estimators': 1231, 'learning_rate': 0.011810982995446652, 'max_depth': 12, 'gamma': 0.009342516524750754, 'reg_alpha': 0.11356952105278943, 'reg_lambda': 0.017311041055066964, 'subsample': 0.7469504411494321, 'colsample_bytree': 0.8925405075097456}. Best is trial 165 with value: 0.4740018592203599.\n",
            "[I 2025-05-28 11:16:19,217] Trial 273 finished with value: 0.45493521647100293 and parameters: {'n_estimators': 1221, 'learning_rate': 0.011920235829333544, 'max_depth': 13, 'gamma': 0.008739557125792975, 'reg_alpha': 0.14093990871353906, 'reg_lambda': 0.017786632512650127, 'subsample': 0.7483758894047059, 'colsample_bytree': 0.889545947936239}. Best is trial 165 with value: 0.4740018592203599.\n",
            "[I 2025-05-28 11:16:25,755] Trial 274 finished with value: 0.46885263176914327 and parameters: {'n_estimators': 1241, 'learning_rate': 0.012069771904451215, 'max_depth': 12, 'gamma': 0.008105768706460818, 'reg_alpha': 0.11137049902542762, 'reg_lambda': 0.018105554040653157, 'subsample': 0.7462007987100486, 'colsample_bytree': 0.894795276753399}. Best is trial 165 with value: 0.4740018592203599.\n",
            "[I 2025-05-28 11:16:32,893] Trial 275 finished with value: 0.4567984481246888 and parameters: {'n_estimators': 1242, 'learning_rate': 0.012198359194028762, 'max_depth': 12, 'gamma': 0.010131117406846838, 'reg_alpha': 0.10788795032338339, 'reg_lambda': 0.01847236444673025, 'subsample': 0.6996215014682867, 'colsample_bytree': 0.8953072132361539}. Best is trial 165 with value: 0.4740018592203599.\n",
            "[I 2025-05-28 11:16:40,089] Trial 276 finished with value: 0.4647056910183542 and parameters: {'n_estimators': 1239, 'learning_rate': 0.012052751742450449, 'max_depth': 12, 'gamma': 0.009191636995721321, 'reg_alpha': 0.11051781903618275, 'reg_lambda': 0.01905944430459035, 'subsample': 0.7448567076556599, 'colsample_bytree': 0.8908904818548788}. Best is trial 165 with value: 0.4740018592203599.\n",
            "[I 2025-05-28 11:16:46,439] Trial 277 finished with value: 0.457302207062331 and parameters: {'n_estimators': 1231, 'learning_rate': 0.012103400756322056, 'max_depth': 12, 'gamma': 0.008349371365718332, 'reg_alpha': 0.11119211386081498, 'reg_lambda': 0.018135958813951115, 'subsample': 0.7498845833372123, 'colsample_bytree': 0.8948479967706141}. Best is trial 165 with value: 0.4740018592203599.\n",
            "[I 2025-05-28 11:16:52,902] Trial 278 finished with value: 0.4667690066838762 and parameters: {'n_estimators': 1221, 'learning_rate': 0.01153958731183435, 'max_depth': 12, 'gamma': 0.008075946251712008, 'reg_alpha': 0.1132148899993439, 'reg_lambda': 0.017586840587140728, 'subsample': 0.7434015690350734, 'colsample_bytree': 0.8882544118830291}. Best is trial 165 with value: 0.4740018592203599.\n",
            "[I 2025-05-28 11:16:59,705] Trial 279 finished with value: 0.46630157418176843 and parameters: {'n_estimators': 1232, 'learning_rate': 0.010940156387827629, 'max_depth': 12, 'gamma': 0.009691772395248438, 'reg_alpha': 0.11907181680919386, 'reg_lambda': 0.017306711528892335, 'subsample': 0.7462702513758454, 'colsample_bytree': 0.8914308536170995}. Best is trial 165 with value: 0.4740018592203599.\n",
            "[I 2025-05-28 11:17:06,082] Trial 280 finished with value: 0.46520832144995533 and parameters: {'n_estimators': 1213, 'learning_rate': 0.011977941898609136, 'max_depth': 12, 'gamma': 0.010526693339062157, 'reg_alpha': 0.10645721264998127, 'reg_lambda': 0.018151031309103356, 'subsample': 0.7479779390878297, 'colsample_bytree': 0.8961549617309438}. Best is trial 165 with value: 0.4740018592203599.\n",
            "[I 2025-05-28 11:17:12,686] Trial 281 finished with value: 0.46754117172729626 and parameters: {'n_estimators': 1224, 'learning_rate': 0.01171771929895446, 'max_depth': 12, 'gamma': 0.008796888202485455, 'reg_alpha': 0.11523146103952639, 'reg_lambda': 0.017252608398277264, 'subsample': 0.7413959579542768, 'colsample_bytree': 0.8941656373012065}. Best is trial 165 with value: 0.4740018592203599.\n",
            "[I 2025-05-28 11:17:19,665] Trial 282 finished with value: 0.46164994973772855 and parameters: {'n_estimators': 1245, 'learning_rate': 0.012195981183814441, 'max_depth': 12, 'gamma': 0.009930209163069978, 'reg_alpha': 0.11187026068947974, 'reg_lambda': 0.017638309379238916, 'subsample': 0.7448989308375265, 'colsample_bytree': 0.888846977803062}. Best is trial 165 with value: 0.4740018592203599.\n",
            "[I 2025-05-28 11:17:26,738] Trial 283 finished with value: 0.46304017089751265 and parameters: {'n_estimators': 1227, 'learning_rate': 0.011074298499430915, 'max_depth': 12, 'gamma': 0.008473928761437176, 'reg_alpha': 0.10977612570729905, 'reg_lambda': 0.017139796617903942, 'subsample': 0.743150475597106, 'colsample_bytree': 0.8852095368525905}. Best is trial 165 with value: 0.4740018592203599.\n",
            "[I 2025-05-28 11:17:33,266] Trial 284 finished with value: 0.44857906373724415 and parameters: {'n_estimators': 1239, 'learning_rate': 0.012005553278209409, 'max_depth': 12, 'gamma': 0.008735374816374316, 'reg_alpha': 0.1138439188970396, 'reg_lambda': 0.018044380167094014, 'subsample': 0.7128938438854141, 'colsample_bytree': 0.8924118967516586}. Best is trial 165 with value: 0.4740018592203599.\n",
            "[I 2025-05-28 11:17:39,791] Trial 285 finished with value: 0.45849079573769436 and parameters: {'n_estimators': 1234, 'learning_rate': 0.011508793405342239, 'max_depth': 12, 'gamma': 0.0063714371956093705, 'reg_alpha': 0.11836539441740862, 'reg_lambda': 0.017476793086128782, 'subsample': 0.7218239555233326, 'colsample_bytree': 0.8871850998904344}. Best is trial 165 with value: 0.4740018592203599.\n",
            "[I 2025-05-28 11:17:46,279] Trial 286 finished with value: 0.459838080420774 and parameters: {'n_estimators': 1247, 'learning_rate': 0.011768966218218768, 'max_depth': 12, 'gamma': 0.009255033670908821, 'reg_alpha': 0.11579588795686742, 'reg_lambda': 0.018371796663736957, 'subsample': 0.7466059275503832, 'colsample_bytree': 0.8960666387814235}. Best is trial 165 with value: 0.4740018592203599.\n",
            "[I 2025-05-28 11:17:53,070] Trial 287 finished with value: 0.4624729338409959 and parameters: {'n_estimators': 1213, 'learning_rate': 0.011260906997602134, 'max_depth': 12, 'gamma': 0.008070020513002672, 'reg_alpha': 0.11328376488288484, 'reg_lambda': 0.01702431588034799, 'subsample': 0.7498608407502688, 'colsample_bytree': 0.8901496462373664}. Best is trial 165 with value: 0.4740018592203599.\n",
            "[I 2025-05-28 11:17:59,353] Trial 288 finished with value: 0.46538722459563653 and parameters: {'n_estimators': 1241, 'learning_rate': 0.01188223698717239, 'max_depth': 12, 'gamma': 0.008388753955416575, 'reg_alpha': 0.10507852445811118, 'reg_lambda': 0.01772393436355931, 'subsample': 0.7409972521966603, 'colsample_bytree': 0.8936862297503686}. Best is trial 165 with value: 0.4740018592203599.\n",
            "[I 2025-05-28 11:18:05,500] Trial 289 finished with value: 0.45809106805828115 and parameters: {'n_estimators': 1229, 'learning_rate': 0.01077146027516226, 'max_depth': 12, 'gamma': 0.019618013378185504, 'reg_alpha': 0.11733977157974278, 'reg_lambda': 0.017926197779635902, 'subsample': 0.7383331203930183, 'colsample_bytree': 0.8839391535974018}. Best is trial 165 with value: 0.4740018592203599.\n",
            "[I 2025-05-28 11:18:11,379] Trial 290 finished with value: 0.46650366516005237 and parameters: {'n_estimators': 1234, 'learning_rate': 0.01162122049176722, 'max_depth': 12, 'gamma': 0.019991938663184536, 'reg_alpha': 0.12022667033945782, 'reg_lambda': 0.012551892624863833, 'subsample': 0.7450955737788764, 'colsample_bytree': 0.8968969241988097}. Best is trial 165 with value: 0.4740018592203599.\n",
            "[I 2025-05-28 11:18:17,472] Trial 291 finished with value: 0.46108657025106714 and parameters: {'n_estimators': 1219, 'learning_rate': 0.011375271624962935, 'max_depth': 12, 'gamma': 0.010908404704652814, 'reg_alpha': 0.11125400045344956, 'reg_lambda': 0.018828065925391525, 'subsample': 0.7477834801004554, 'colsample_bytree': 0.8874444503761841}. Best is trial 165 with value: 0.4740018592203599.\n",
            "[I 2025-05-28 11:18:23,843] Trial 292 finished with value: 0.46760633566125503 and parameters: {'n_estimators': 1244, 'learning_rate': 0.012234934988980255, 'max_depth': 12, 'gamma': 0.00865480202736593, 'reg_alpha': 0.11527924000444328, 'reg_lambda': 0.011915318209539795, 'subsample': 0.7428366623761945, 'colsample_bytree': 0.8912353562669036}. Best is trial 165 with value: 0.4740018592203599.\n",
            "[I 2025-05-28 11:18:30,415] Trial 293 finished with value: 0.44834992271465507 and parameters: {'n_estimators': 1252, 'learning_rate': 0.010909543160293233, 'max_depth': 12, 'gamma': 0.019279599283309964, 'reg_alpha': 0.1226164009417588, 'reg_lambda': 0.019366543197075786, 'subsample': 0.7157188109209716, 'colsample_bytree': 0.8892891494876347}. Best is trial 165 with value: 0.4740018592203599.\n",
            "[I 2025-05-28 11:18:36,786] Trial 294 finished with value: 0.4698770858855726 and parameters: {'n_estimators': 1225, 'learning_rate': 0.012016151890565806, 'max_depth': 12, 'gamma': 0.008191615661986701, 'reg_alpha': 0.10910645063941904, 'reg_lambda': 0.017318934947750997, 'subsample': 0.7460561588108438, 'colsample_bytree': 0.8945796021417738}. Best is trial 165 with value: 0.4740018592203599.\n",
            "[I 2025-05-28 11:18:43,241] Trial 295 finished with value: 0.4671839049717425 and parameters: {'n_estimators': 1217, 'learning_rate': 0.012076423383836445, 'max_depth': 12, 'gamma': 0.008156315662129286, 'reg_alpha': 0.1069994739205389, 'reg_lambda': 0.017488543227897658, 'subsample': 0.7460127512408078, 'colsample_bytree': 0.8923121549385343}. Best is trial 165 with value: 0.4740018592203599.\n",
            "[I 2025-05-28 11:18:49,558] Trial 296 finished with value: 0.4510489040481306 and parameters: {'n_estimators': 1225, 'learning_rate': 0.012409316405920306, 'max_depth': 12, 'gamma': 0.008895808804631058, 'reg_alpha': 0.19945695790859566, 'reg_lambda': 0.017230944718647664, 'subsample': 0.7480790881205411, 'colsample_bytree': 0.8942171732503549}. Best is trial 165 with value: 0.4740018592203599.\n",
            "[I 2025-05-28 11:18:56,030] Trial 297 finished with value: 0.4680220378589401 and parameters: {'n_estimators': 1228, 'learning_rate': 0.011955005540826145, 'max_depth': 12, 'gamma': 0.008428591152949864, 'reg_alpha': 0.11057443036280896, 'reg_lambda': 0.011315696912618807, 'subsample': 0.7460656774827885, 'colsample_bytree': 0.8950428952640695}. Best is trial 165 with value: 0.4740018592203599.\n",
            "[I 2025-05-28 11:19:02,447] Trial 298 finished with value: 0.46051378412363586 and parameters: {'n_estimators': 1222, 'learning_rate': 0.01213055672530188, 'max_depth': 12, 'gamma': 0.007891190920387661, 'reg_alpha': 0.1088739561306357, 'reg_lambda': 0.017103370462722835, 'subsample': 0.7441916075544249, 'colsample_bytree': 0.8858476021300401}. Best is trial 165 with value: 0.4740018592203599.\n",
            "[I 2025-05-28 11:19:09,264] Trial 299 finished with value: 0.45580270610540075 and parameters: {'n_estimators': 1238, 'learning_rate': 0.011823872650932685, 'max_depth': 12, 'gamma': 0.008162609256937644, 'reg_alpha': 0.11201635055129049, 'reg_lambda': 0.01763059634397543, 'subsample': 0.7496591605063783, 'colsample_bytree': 0.8896098953546803}. Best is trial 165 with value: 0.4740018592203599.\n"
          ]
        },
        {
          "name": "stdout",
          "output_type": "stream",
          "text": [
            "\n",
            "--- XGBoost Optuna Study Complete ---\n",
            "Best trial number: 165\n",
            "Best F1 Macro: 0.4740018592203599\n",
            "Best XGBoost Params: {'n_estimators': 1197, 'learning_rate': 0.011073733700951159, 'max_depth': 12, 'gamma': 0.019861711870522526, 'reg_alpha': 0.11668394376049405, 'reg_lambda': 0.015370635786242526, 'subsample': 0.7479785514167643, 'colsample_bytree': 0.8990495201625995}\n"
          ]
        }
      ],
      "source": [
        "# def objective_xgb_fine_tuned(trial):\n",
        "#     \"\"\"Defines the objective function for XGBoost fine-tuning based on the GridSearch ranges.\"\"\"\n",
        "\n",
        "#     # --- Define Hyperparameter Search Space (Based on your GridSearch lists) ---\n",
        "#     params = {\n",
        "#         'n_estimators': trial.suggest_int('n_estimators', 1000, 1300),\n",
        "#         'learning_rate': trial.suggest_float('learning_rate', 0.008, 0.015, log=True),\n",
        "#         'max_depth': trial.suggest_int('max_depth', 12, 14),\n",
        "#         'gamma': trial.suggest_float('gamma', 0.005, 0.02, log=True),\n",
        "#         'reg_alpha': trial.suggest_float('reg_alpha', 0.1, 0.2),\n",
        "#         'reg_lambda': trial.suggest_float('reg_lambda', 0.01, 0.02, log=True),\n",
        "#         'subsample': trial.suggest_float('subsample', 0.65, 0.75),\n",
        "#         'colsample_bytree': trial.suggest_float('colsample_bytree', 0.8, 0.9),\n",
        "#         'objective': 'multi:softprob',\n",
        "#         'eval_metric': 'mlogloss',\n",
        "#         'use_label_encoder': False,\n",
        "#         'random_state': RANDOM_STATE\n",
        "#     }\n",
        "\n",
        "#     # Add GPU setting if enabled\n",
        "#     if USE_GPU:\n",
        "#         params['device'] = 'cuda'\n",
        "\n",
        "#     # --- Build Pipeline ---\n",
        "#     pipeline = Pipeline([\n",
        "#         ('balancer', TomekLinks(sampling_strategy='majority')),\n",
        "#         ('model', XGBClassifier(**params))\n",
        "#     ])\n",
        "\n",
        "#     # --- Evaluate with Cross-Validation ---\n",
        "#     try:\n",
        "#         f1_scorer = make_scorer(f1_score, average='macro')\n",
        "#         score = cross_val_score(pipeline, X_train, y_train, cv=cv_out, scoring=f1_scorer, n_jobs=-1).mean()\n",
        "#     except Exception as e:\n",
        "#         print(f\"Trial failed with error: {e}\")\n",
        "#         return 0.0 # Return a low score if a trial fails\n",
        "\n",
        "#     return score # Optuna will maximize this score\n",
        "\n",
        "# # --- Run the Study ---\n",
        "# print(\"--- Starting Optuna Study for XGBoost (Fine-Tuned Ranges) ---\")\n",
        "# study_xgb_ft = optuna.create_study(direction='maximize')\n",
        "# study_xgb_ft.optimize(objective_xgb_fine_tuned, n_trials=300) # Run for 50 trials (adjust as needed)\n",
        "\n",
        "# print(\"\\n--- XGBoost Optuna Study Complete ---\")\n",
        "# print(\"Best trial number:\", study_xgb_ft.best_trial.number)\n",
        "# print(\"Best F1 Macro:\", study_xgb_ft.best_value)\n",
        "# print(\"Best XGBoost Params:\", study_xgb_ft.best_params)"
      ]
    },
    {
      "cell_type": "markdown",
      "metadata": {},
      "source": [
        "xgboost results:\n",
        "\n",
        "--- XGBoost Optuna Study Complete ---\n",
        "\n",
        "Best trial number: 25 (of 50)\n",
        "\n",
        "Best F1 Macro: 0.4670002430991061\n",
        "\n",
        "Best XGBoost Params: {'n_estimators': 1222, 'learning_rate': 0.00854467200745302, 'max_depth': 14, 'gamma': 0.00944827471688059, 'reg_alpha': 0.12356924947721966, 'reg_lambda': 0.01818770837904115, 'subsample': 0.6980696686105903, 'colsample_bytree': 0.8890760911774429}\n",
        "\n",
        "--- XGBoost Optuna Study Complete ---\n",
        "\n",
        "Best trial number: 27 (of 100)\n",
        "\n",
        "Best F1 Macro: 0.4710585925463199\n",
        "\n",
        "Best XGBoost Params: {'n_estimators': 1255, 'learning_rate': 0.010275161015765673, 'max_depth': 13, 'gamma': 0.01357580459616284, 'reg_alpha': 0.13697597762946503, 'reg_lambda': 0.018534218961266037, 'subsample': 0.7489113182064349, 'colsample_bytree': 0.8807759111727845}\n",
        "\n",
        "--- XGBoost Optuna Study Complete ---\n",
        "\n",
        "Best trial number: 61\n",
        "\n",
        "Best F1 Macro: 0.4698492721461216 -> using smotetomek\n",
        "\n",
        "Best XGBoost Params: {'n_estimators': 1208, 'learning_rate': 0.014945993764226648, 'max_depth': 12, 'gamma': 0.017934583588286472, 'reg_alpha': 0.1867413892734829, 'reg_lambda': 0.010107652299265989, 'subsample': 0.6882103051898537, 'colsample_bytree': 0.8560310095008895}\n",
        "\n",
        "--- XGBoost Optuna Study Complete ---\n",
        "\n",
        "Best trial number: 165 (of 300)\n",
        "\n",
        "Best F1 Macro: 0.4740018592203599\n",
        "\n",
        "Best XGBoost Params: {'n_estimators': 1197, 'learning_rate': 0.011073733700951159, 'max_depth': 12, 'gamma': 0.019861711870522526, 'reg_alpha': 0.11668394376049405, 'reg_lambda': 0.015370635786242526, 'subsample': 0.7479785514167643, 'colsample_bytree': 0.8990495201625995}"
      ]
    },
    {
      "cell_type": "code",
      "execution_count": null,
      "metadata": {},
      "outputs": [
        {
          "name": "stderr",
          "output_type": "stream",
          "text": [
            "[I 2025-05-28 06:22:32,163] A new study created in memory with name: no-name-9e79ca2b-2d0e-42c0-b6e6-d6b4518508ff\n"
          ]
        },
        {
          "name": "stdout",
          "output_type": "stream",
          "text": [
            "--- Starting Optuna Study for CatBoost ---\n"
          ]
        },
        {
          "name": "stderr",
          "output_type": "stream",
          "text": [
            "[I 2025-05-28 06:22:58,423] Trial 0 finished with value: 0.439816719157512 and parameters: {'n_estimators': 917, 'learning_rate': 0.02877695804121487, 'depth': 6, 'l2_leaf_reg': 4.357042757307683, 'subsample': 0.7319337730720519, 'colsample_bylevel': 0.8403443632855353, 'class_weights': {np.int64(0): np.float64(0.5434451219512195), np.int64(1): np.float64(0.8408018867924528), np.int64(2): np.float64(2.0488505747126435), np.int64(3): np.float64(2.072674418604651)}}. Best is trial 0 with value: 0.439816719157512.\n",
            "[I 2025-05-28 06:23:24,735] Trial 1 finished with value: 0.46874026541802427 and parameters: {'n_estimators': 916, 'learning_rate': 0.04397895003316528, 'depth': 6, 'l2_leaf_reg': 3.0531659450960253, 'subsample': 0.7043151510373904, 'colsample_bylevel': 0.8522925583953722, 'class_weights': None}. Best is trial 1 with value: 0.46874026541802427.\n",
            "[I 2025-05-28 06:23:29,810] Trial 2 finished with value: 0.43529230664924645 and parameters: {'n_estimators': 835, 'learning_rate': 0.025664239019467645, 'depth': 3, 'l2_leaf_reg': 2.8738683074302167, 'subsample': 0.8797567589629053, 'colsample_bylevel': 0.7332578792507609, 'class_weights': {np.int64(0): np.float64(0.5434451219512195), np.int64(1): np.float64(0.8408018867924528), np.int64(2): np.float64(2.0488505747126435), np.int64(3): np.float64(2.072674418604651)}}. Best is trial 1 with value: 0.46874026541802427.\n",
            "[I 2025-05-28 06:23:34,873] Trial 3 finished with value: 0.46806203993758266 and parameters: {'n_estimators': 932, 'learning_rate': 0.052006627813118135, 'depth': 3, 'l2_leaf_reg': 2.6565002556250863, 'subsample': 0.7359129469846544, 'colsample_bylevel': 0.8377261128691628, 'class_weights': None}. Best is trial 1 with value: 0.46874026541802427.\n",
            "[I 2025-05-28 06:23:50,458] Trial 4 finished with value: 0.4519229674422289 and parameters: {'n_estimators': 938, 'learning_rate': 0.021602310503438995, 'depth': 5, 'l2_leaf_reg': 2.137858944643254, 'subsample': 0.839541089118754, 'colsample_bylevel': 0.7943575510810155, 'class_weights': {np.int64(0): np.float64(0.5434451219512195), np.int64(1): np.float64(0.8408018867924528), np.int64(2): np.float64(2.0488505747126435), np.int64(3): np.float64(2.072674418604651)}}. Best is trial 1 with value: 0.46874026541802427.\n",
            "[I 2025-05-28 06:24:01,733] Trial 5 finished with value: 0.46133376580896257 and parameters: {'n_estimators': 625, 'learning_rate': 0.022006016349968908, 'depth': 5, 'l2_leaf_reg': 2.452856429753545, 'subsample': 0.7769709309844103, 'colsample_bylevel': 0.8489646865753804, 'class_weights': None}. Best is trial 1 with value: 0.46874026541802427.\n",
            "[I 2025-05-28 06:24:22,534] Trial 6 finished with value: 0.44397942841620025 and parameters: {'n_estimators': 737, 'learning_rate': 0.041419474616899925, 'depth': 6, 'l2_leaf_reg': 2.6530394909610684, 'subsample': 0.7131721448582387, 'colsample_bylevel': 0.8196197613044348, 'class_weights': {np.int64(0): np.float64(0.5434451219512195), np.int64(1): np.float64(0.8408018867924528), np.int64(2): np.float64(2.0488505747126435), np.int64(3): np.float64(2.072674418604651)}}. Best is trial 1 with value: 0.46874026541802427.\n",
            "[I 2025-05-28 06:24:27,370] Trial 7 finished with value: 0.48049903809581956 and parameters: {'n_estimators': 801, 'learning_rate': 0.0365047807570663, 'depth': 3, 'l2_leaf_reg': 4.508666050825114, 'subsample': 0.8579473519069327, 'colsample_bylevel': 0.8686677682905442, 'class_weights': None}. Best is trial 7 with value: 0.48049903809581956.\n",
            "[I 2025-05-28 06:24:45,541] Trial 8 finished with value: 0.4539535012743502 and parameters: {'n_estimators': 636, 'learning_rate': 0.03355550557346394, 'depth': 6, 'l2_leaf_reg': 2.816378565543068, 'subsample': 0.8408215285966791, 'colsample_bylevel': 0.839361368136, 'class_weights': {np.int64(0): np.float64(0.5434451219512195), np.int64(1): np.float64(0.8408018867924528), np.int64(2): np.float64(2.0488505747126435), np.int64(3): np.float64(2.072674418604651)}}. Best is trial 7 with value: 0.48049903809581956.\n",
            "[I 2025-05-28 06:25:12,413] Trial 9 finished with value: 0.4610524749047529 and parameters: {'n_estimators': 991, 'learning_rate': 0.02005867140595272, 'depth': 6, 'l2_leaf_reg': 3.6383471298429777, 'subsample': 0.8139777441182994, 'colsample_bylevel': 0.7380310665537458, 'class_weights': None}. Best is trial 7 with value: 0.48049903809581956.\n",
            "[I 2025-05-28 06:25:19,995] Trial 10 finished with value: 0.4664115617117505 and parameters: {'n_estimators': 764, 'learning_rate': 0.059932303281975144, 'depth': 4, 'l2_leaf_reg': 4.882321069278951, 'subsample': 0.8998634337993949, 'colsample_bylevel': 0.8956277712165054, 'class_weights': None}. Best is trial 7 with value: 0.48049903809581956.\n",
            "[I 2025-05-28 06:25:28,148] Trial 11 finished with value: 0.4611440521322062 and parameters: {'n_estimators': 848, 'learning_rate': 0.04222175164992685, 'depth': 4, 'l2_leaf_reg': 3.5117410058950878, 'subsample': 0.7702242194404882, 'colsample_bylevel': 0.8994371346323673, 'class_weights': None}. Best is trial 7 with value: 0.48049903809581956.\n",
            "[I 2025-05-28 06:25:35,379] Trial 12 finished with value: 0.47001491326516875 and parameters: {'n_estimators': 724, 'learning_rate': 0.04073440364516563, 'depth': 4, 'l2_leaf_reg': 4.027560921885, 'subsample': 0.8574752575177744, 'colsample_bylevel': 0.8664653045717556, 'class_weights': None}. Best is trial 7 with value: 0.48049903809581956.\n",
            "[I 2025-05-28 06:25:39,566] Trial 13 finished with value: 0.48121165065759086 and parameters: {'n_estimators': 698, 'learning_rate': 0.03479429917269409, 'depth': 3, 'l2_leaf_reg': 4.079470033336082, 'subsample': 0.8605711764627599, 'colsample_bylevel': 0.7909514728017244, 'class_weights': None}. Best is trial 13 with value: 0.48121165065759086.\n",
            "[I 2025-05-28 06:25:43,603] Trial 14 finished with value: 0.49307605146944705 and parameters: {'n_estimators': 676, 'learning_rate': 0.034042709577979995, 'depth': 3, 'l2_leaf_reg': 4.928089504131063, 'subsample': 0.8061526693781159, 'colsample_bylevel': 0.7727370651688609, 'class_weights': None}. Best is trial 14 with value: 0.49307605146944705.\n",
            "[I 2025-05-28 06:25:47,750] Trial 15 finished with value: 0.4881235180580492 and parameters: {'n_estimators': 685, 'learning_rate': 0.030964091514006555, 'depth': 3, 'l2_leaf_reg': 4.98075377887644, 'subsample': 0.8067043915287928, 'colsample_bylevel': 0.7732684420903158, 'class_weights': None}. Best is trial 14 with value: 0.49307605146944705.\n",
            "[I 2025-05-28 06:25:54,193] Trial 16 finished with value: 0.47778617456977246 and parameters: {'n_estimators': 669, 'learning_rate': 0.029047903685375565, 'depth': 4, 'l2_leaf_reg': 4.966460411661384, 'subsample': 0.8054073964417945, 'colsample_bylevel': 0.7631339720583752, 'class_weights': None}. Best is trial 14 with value: 0.49307605146944705.\n",
            "[I 2025-05-28 06:25:58,101] Trial 17 finished with value: 0.4833818772143942 and parameters: {'n_estimators': 665, 'learning_rate': 0.028763723112317525, 'depth': 3, 'l2_leaf_reg': 3.4567784383054265, 'subsample': 0.7798174688772604, 'colsample_bylevel': 0.7024462011608436, 'class_weights': None}. Best is trial 14 with value: 0.49307605146944705.\n",
            "[I 2025-05-28 06:26:01,751] Trial 18 finished with value: 0.47806503224492997 and parameters: {'n_estimators': 605, 'learning_rate': 0.025299748079367832, 'depth': 3, 'l2_leaf_reg': 3.8800836499361124, 'subsample': 0.8142505698245854, 'colsample_bylevel': 0.7706074058955079, 'class_weights': None}. Best is trial 14 with value: 0.49307605146944705.\n",
            "[I 2025-05-28 06:26:14,375] Trial 19 finished with value: 0.46954229007283077 and parameters: {'n_estimators': 770, 'learning_rate': 0.03215418541539124, 'depth': 5, 'l2_leaf_reg': 4.550770853949728, 'subsample': 0.7874689801014412, 'colsample_bylevel': 0.7627715268323432, 'class_weights': None}. Best is trial 14 with value: 0.49307605146944705.\n",
            "[I 2025-05-28 06:26:21,093] Trial 20 finished with value: 0.46429986859550854 and parameters: {'n_estimators': 686, 'learning_rate': 0.0503518311481561, 'depth': 4, 'l2_leaf_reg': 4.9788183267180175, 'subsample': 0.7536180422271245, 'colsample_bylevel': 0.8087061349512745, 'class_weights': None}. Best is trial 14 with value: 0.49307605146944705.\n",
            "[I 2025-05-28 06:26:24,964] Trial 21 finished with value: 0.4805593860913954 and parameters: {'n_estimators': 660, 'learning_rate': 0.029492057499290084, 'depth': 3, 'l2_leaf_reg': 3.427011898319505, 'subsample': 0.7940477145176678, 'colsample_bylevel': 0.7061340534818152, 'class_weights': None}. Best is trial 14 with value: 0.49307605146944705.\n",
            "[I 2025-05-28 06:26:29,114] Trial 22 finished with value: 0.47313080450686984 and parameters: {'n_estimators': 713, 'learning_rate': 0.02594551013378444, 'depth': 3, 'l2_leaf_reg': 3.2378320751740586, 'subsample': 0.8309739705956651, 'colsample_bylevel': 0.7011419359203084, 'class_weights': None}. Best is trial 14 with value: 0.49307605146944705.\n",
            "[I 2025-05-28 06:26:32,972] Trial 23 finished with value: 0.48857494205209384 and parameters: {'n_estimators': 649, 'learning_rate': 0.03770791964641645, 'depth': 3, 'l2_leaf_reg': 4.397169121864587, 'subsample': 0.7656452149552966, 'colsample_bylevel': 0.7323496035354068, 'class_weights': None}. Best is trial 14 with value: 0.49307605146944705.\n",
            "[I 2025-05-28 06:26:39,067] Trial 24 finished with value: 0.4776946334782147 and parameters: {'n_estimators': 635, 'learning_rate': 0.037723321201466285, 'depth': 4, 'l2_leaf_reg': 4.332661967555144, 'subsample': 0.7595068638330825, 'colsample_bylevel': 0.7383995585858858, 'class_weights': None}. Best is trial 14 with value: 0.49307605146944705.\n",
            "[I 2025-05-28 06:26:43,570] Trial 25 finished with value: 0.48425933170464946 and parameters: {'n_estimators': 752, 'learning_rate': 0.03239388070424337, 'depth': 3, 'l2_leaf_reg': 4.659546797863729, 'subsample': 0.8245753088387366, 'colsample_bylevel': 0.7802792844377067, 'class_weights': None}. Best is trial 14 with value: 0.49307605146944705.\n",
            "[I 2025-05-28 06:26:48,309] Trial 26 finished with value: 0.4427367700001265 and parameters: {'n_estimators': 797, 'learning_rate': 0.037954981469690605, 'depth': 3, 'l2_leaf_reg': 4.146992053516064, 'subsample': 0.7478940930559088, 'colsample_bylevel': 0.7503531002596866, 'class_weights': {np.int64(0): np.float64(0.5434451219512195), np.int64(1): np.float64(0.8408018867924528), np.int64(2): np.float64(2.0488505747126435), np.int64(3): np.float64(2.072674418604651)}}. Best is trial 14 with value: 0.49307605146944705.\n",
            "[I 2025-05-28 06:26:54,741] Trial 27 finished with value: 0.487063176463836 and parameters: {'n_estimators': 677, 'learning_rate': 0.030866707752228984, 'depth': 4, 'l2_leaf_reg': 3.8404154154691876, 'subsample': 0.798821170357029, 'colsample_bylevel': 0.7269975292816244, 'class_weights': None}. Best is trial 14 with value: 0.49307605146944705.\n",
            "[I 2025-05-28 06:26:58,206] Trial 28 finished with value: 0.47598048107585056 and parameters: {'n_estimators': 606, 'learning_rate': 0.04838177014548103, 'depth': 3, 'l2_leaf_reg': 4.603538936275927, 'subsample': 0.761888698804001, 'colsample_bylevel': 0.719945647224442, 'class_weights': None}. Best is trial 14 with value: 0.49307605146944705.\n",
            "[I 2025-05-28 06:27:04,924] Trial 29 finished with value: 0.4450414256351178 and parameters: {'n_estimators': 698, 'learning_rate': 0.0460005049217508, 'depth': 4, 'l2_leaf_reg': 4.296925049407218, 'subsample': 0.7326774741450939, 'colsample_bylevel': 0.7526369409889633, 'class_weights': {np.int64(0): np.float64(0.5434451219512195), np.int64(1): np.float64(0.8408018867924528), np.int64(2): np.float64(2.0488505747126435), np.int64(3): np.float64(2.072674418604651)}}. Best is trial 14 with value: 0.49307605146944705.\n",
            "[I 2025-05-28 06:27:08,742] Trial 30 finished with value: 0.4827782582431592 and parameters: {'n_estimators': 636, 'learning_rate': 0.027339949628724887, 'depth': 3, 'l2_leaf_reg': 4.738552354469474, 'subsample': 0.8088692586418136, 'colsample_bylevel': 0.7811344390999084, 'class_weights': None}. Best is trial 14 with value: 0.49307605146944705.\n",
            "[I 2025-05-28 06:27:15,425] Trial 31 finished with value: 0.46866767080107136 and parameters: {'n_estimators': 660, 'learning_rate': 0.031323054866254155, 'depth': 4, 'l2_leaf_reg': 3.879200057008068, 'subsample': 0.7941718668265045, 'colsample_bylevel': 0.7223942715723107, 'class_weights': None}. Best is trial 14 with value: 0.49307605146944705.\n",
            "[I 2025-05-28 06:27:19,571] Trial 32 finished with value: 0.48102149735471417 and parameters: {'n_estimators': 690, 'learning_rate': 0.03492497084485676, 'depth': 3, 'l2_leaf_reg': 3.7562885626394587, 'subsample': 0.7840843592192787, 'colsample_bylevel': 0.7212844747763044, 'class_weights': None}. Best is trial 14 with value: 0.49307605146944705.\n",
            "[I 2025-05-28 06:27:30,738] Trial 33 finished with value: 0.47387911530285753 and parameters: {'n_estimators': 672, 'learning_rate': 0.031178599717108, 'depth': 5, 'l2_leaf_reg': 4.3340397638784625, 'subsample': 0.8001529361446724, 'colsample_bylevel': 0.7566630077567069, 'class_weights': None}. Best is trial 14 with value: 0.49307605146944705.\n",
            "[I 2025-05-28 06:27:34,826] Trial 34 finished with value: 0.4783712038577542 and parameters: {'n_estimators': 721, 'learning_rate': 0.03848187149094769, 'depth': 3, 'l2_leaf_reg': 4.459466254179248, 'subsample': 0.8167663125807021, 'colsample_bylevel': 0.7748066384184729, 'class_weights': None}. Best is trial 14 with value: 0.49307605146944705.\n",
            "[I 2025-05-28 06:27:43,276] Trial 35 finished with value: 0.4753505705269478 and parameters: {'n_estimators': 878, 'learning_rate': 0.035714121076055136, 'depth': 4, 'l2_leaf_reg': 4.781981325353215, 'subsample': 0.7432471049255064, 'colsample_bylevel': 0.7440358392382134, 'class_weights': None}. Best is trial 14 with value: 0.49307605146944705.\n",
            "[I 2025-05-28 06:27:47,155] Trial 36 finished with value: 0.4333504534323166 and parameters: {'n_estimators': 652, 'learning_rate': 0.024999150182699187, 'depth': 3, 'l2_leaf_reg': 4.1699720618944, 'subsample': 0.772569206302584, 'colsample_bylevel': 0.8129460695734073, 'class_weights': {np.int64(0): np.float64(0.5434451219512195), np.int64(1): np.float64(0.8408018867924528), np.int64(2): np.float64(2.0488505747126435), np.int64(3): np.float64(2.072674418604651)}}. Best is trial 14 with value: 0.49307605146944705.\n",
            "[I 2025-05-28 06:27:57,445] Trial 37 finished with value: 0.4675743414907572 and parameters: {'n_estimators': 618, 'learning_rate': 0.030298293265743903, 'depth': 5, 'l2_leaf_reg': 2.0224302151570694, 'subsample': 0.8406479727582093, 'colsample_bylevel': 0.7281618118689116, 'class_weights': None}. Best is trial 14 with value: 0.49307605146944705.\n",
            "[I 2025-05-28 06:28:02,222] Trial 38 finished with value: 0.4833757792841541 and parameters: {'n_estimators': 790, 'learning_rate': 0.023703649952271977, 'depth': 3, 'l2_leaf_reg': 3.8874258578428207, 'subsample': 0.7202086627692487, 'colsample_bylevel': 0.7914551863020013, 'class_weights': None}. Best is trial 14 with value: 0.49307605146944705.\n",
            "[I 2025-05-28 06:28:09,663] Trial 39 finished with value: 0.43954336452913634 and parameters: {'n_estimators': 738, 'learning_rate': 0.027473141392509344, 'depth': 4, 'l2_leaf_reg': 4.754626784668464, 'subsample': 0.8246551889776667, 'colsample_bylevel': 0.8272858148418314, 'class_weights': {np.int64(0): np.float64(0.5434451219512195), np.int64(1): np.float64(0.8408018867924528), np.int64(2): np.float64(2.0488505747126435), np.int64(3): np.float64(2.072674418604651)}}. Best is trial 14 with value: 0.49307605146944705.\n",
            "[I 2025-05-28 06:28:14,507] Trial 40 finished with value: 0.46840652457057247 and parameters: {'n_estimators': 821, 'learning_rate': 0.03978762633670846, 'depth': 3, 'l2_leaf_reg': 3.1561380988969714, 'subsample': 0.7930338374789935, 'colsample_bylevel': 0.7123271944554156, 'class_weights': None}. Best is trial 14 with value: 0.49307605146944705.\n",
            "[I 2025-05-28 06:28:19,315] Trial 41 finished with value: 0.4831052111840563 and parameters: {'n_estimators': 750, 'learning_rate': 0.03299196734097829, 'depth': 3, 'l2_leaf_reg': 4.617688180880567, 'subsample': 0.8262837642075371, 'colsample_bylevel': 0.7837522706708643, 'class_weights': None}. Best is trial 14 with value: 0.49307605146944705.\n",
            "[I 2025-05-28 06:28:23,653] Trial 42 finished with value: 0.4845117701752626 and parameters: {'n_estimators': 698, 'learning_rate': 0.033610062183581854, 'depth': 3, 'l2_leaf_reg': 4.45295071950758, 'subsample': 0.8340116685693497, 'colsample_bylevel': 0.7994075545581304, 'class_weights': None}. Best is trial 14 with value: 0.49307605146944705.\n",
            "[I 2025-05-28 06:28:27,960] Trial 43 finished with value: 0.49098599679386423 and parameters: {'n_estimators': 711, 'learning_rate': 0.034502265383441075, 'depth': 3, 'l2_leaf_reg': 4.357492082221757, 'subsample': 0.8467239010634064, 'colsample_bylevel': 0.799232652424319, 'class_weights': None}. Best is trial 14 with value: 0.49307605146944705.\n",
            "[I 2025-05-28 06:28:31,716] Trial 44 finished with value: 0.47282750998695644 and parameters: {'n_estimators': 644, 'learning_rate': 0.04424117741999497, 'depth': 3, 'l2_leaf_reg': 2.2910086520678146, 'subsample': 0.8692936452236357, 'colsample_bylevel': 0.8242456372333065, 'class_weights': None}. Best is trial 14 with value: 0.49307605146944705.\n",
            "[I 2025-05-28 06:28:36,118] Trial 45 finished with value: 0.47705458458838557 and parameters: {'n_estimators': 720, 'learning_rate': 0.035643801148026934, 'depth': 3, 'l2_leaf_reg': 4.219746775382375, 'subsample': 0.8824488720755144, 'colsample_bylevel': 0.7696063111391506, 'class_weights': None}. Best is trial 14 with value: 0.49307605146944705.\n",
            "[I 2025-05-28 06:28:42,643] Trial 46 finished with value: 0.4684844668712951 and parameters: {'n_estimators': 677, 'learning_rate': 0.0277260545063403, 'depth': 4, 'l2_leaf_reg': 2.89746926676049, 'subsample': 0.8508236290930952, 'colsample_bylevel': 0.8056766376967459, 'class_weights': None}. Best is trial 14 with value: 0.49307605146944705.\n",
            "[I 2025-05-28 06:28:46,077] Trial 47 finished with value: 0.4397764848568945 and parameters: {'n_estimators': 621, 'learning_rate': 0.03720221053761867, 'depth': 3, 'l2_leaf_reg': 4.00734871102804, 'subsample': 0.8466708902065069, 'colsample_bylevel': 0.745753862878829, 'class_weights': {np.int64(0): np.float64(0.5434451219512195), np.int64(1): np.float64(0.8408018867924528), np.int64(2): np.float64(2.0488505747126435), np.int64(3): np.float64(2.072674418604651)}}. Best is trial 14 with value: 0.49307605146944705.\n",
            "[I 2025-05-28 06:28:52,984] Trial 48 finished with value: 0.46634155051634796 and parameters: {'n_estimators': 706, 'learning_rate': 0.030546532380752896, 'depth': 4, 'l2_leaf_reg': 4.983864395268372, 'subsample': 0.8072092698351333, 'colsample_bylevel': 0.7646374629950909, 'class_weights': None}. Best is trial 14 with value: 0.49307605146944705.\n",
            "[I 2025-05-28 06:28:58,662] Trial 49 finished with value: 0.4814943652736613 and parameters: {'n_estimators': 989, 'learning_rate': 0.03399237640969551, 'depth': 3, 'l2_leaf_reg': 3.6176917736281418, 'subsample': 0.7715123558455815, 'colsample_bylevel': 0.7331751688017903, 'class_weights': None}. Best is trial 14 with value: 0.49307605146944705.\n",
            "[I 2025-05-28 06:29:19,294] Trial 50 finished with value: 0.47074205364722055 and parameters: {'n_estimators': 681, 'learning_rate': 0.03953073248509031, 'depth': 6, 'l2_leaf_reg': 4.456345294204701, 'subsample': 0.8927155441628228, 'colsample_bylevel': 0.8543388974756962, 'class_weights': None}. Best is trial 14 with value: 0.49307605146944705.\n",
            "[I 2025-05-28 06:29:23,781] Trial 51 finished with value: 0.4790369710814931 and parameters: {'n_estimators': 700, 'learning_rate': 0.03353290405938364, 'depth': 3, 'l2_leaf_reg': 4.447332862744552, 'subsample': 0.834656846126422, 'colsample_bylevel': 0.7952095430545082, 'class_weights': None}. Best is trial 14 with value: 0.49307605146944705.\n",
            "[I 2025-05-28 06:29:27,924] Trial 52 finished with value: 0.49117606295496075 and parameters: {'n_estimators': 653, 'learning_rate': 0.03619131636166379, 'depth': 3, 'l2_leaf_reg': 4.81579804014975, 'subsample': 0.8206200834616187, 'colsample_bylevel': 0.8009625248144275, 'class_weights': None}. Best is trial 14 with value: 0.49307605146944705.\n",
            "[I 2025-05-28 06:29:31,918] Trial 53 finished with value: 0.4891701381083119 and parameters: {'n_estimators': 651, 'learning_rate': 0.032090510660705895, 'depth': 3, 'l2_leaf_reg': 4.8194814922277445, 'subsample': 0.8160384894334176, 'colsample_bylevel': 0.7873361503300287, 'class_weights': None}. Best is trial 14 with value: 0.49307605146944705.\n",
            "[I 2025-05-28 06:29:35,861] Trial 54 finished with value: 0.4841170555083344 and parameters: {'n_estimators': 641, 'learning_rate': 0.0415426909839518, 'depth': 3, 'l2_leaf_reg': 4.822143461173818, 'subsample': 0.8169603204941923, 'colsample_bylevel': 0.817592280509933, 'class_weights': None}. Best is trial 14 with value: 0.49307605146944705.\n",
            "[I 2025-05-28 06:29:39,684] Trial 55 finished with value: 0.48456846878503346 and parameters: {'n_estimators': 621, 'learning_rate': 0.0366189832739885, 'depth': 3, 'l2_leaf_reg': 4.862146013276845, 'subsample': 0.8666281139802848, 'colsample_bylevel': 0.7880585002368127, 'class_weights': None}. Best is trial 14 with value: 0.49307605146944705.\n",
            "[I 2025-05-28 06:29:43,387] Trial 56 finished with value: 0.46752697693459827 and parameters: {'n_estimators': 648, 'learning_rate': 0.03490991453213883, 'depth': 3, 'l2_leaf_reg': 4.650451455619174, 'subsample': 0.8204180133781952, 'colsample_bylevel': 0.8049920869245458, 'class_weights': None}. Best is trial 14 with value: 0.49307605146944705.\n",
            "[I 2025-05-28 06:29:47,381] Trial 57 finished with value: 0.47882521920407317 and parameters: {'n_estimators': 659, 'learning_rate': 0.04287394211331882, 'depth': 3, 'l2_leaf_reg': 4.959033247477342, 'subsample': 0.8490903598202221, 'colsample_bylevel': 0.7720451867984264, 'class_weights': None}. Best is trial 14 with value: 0.49307605146944705.\n",
            "[I 2025-05-28 06:29:51,012] Trial 58 finished with value: 0.46997122505739003 and parameters: {'n_estimators': 611, 'learning_rate': 0.032018031692967734, 'depth': 3, 'l2_leaf_reg': 2.559076444299029, 'subsample': 0.8085842130954138, 'colsample_bylevel': 0.8355292590992444, 'class_weights': None}. Best is trial 14 with value: 0.49307605146944705.\n",
            "[I 2025-05-28 06:29:55,524] Trial 59 finished with value: 0.43551714439943917 and parameters: {'n_estimators': 737, 'learning_rate': 0.029522624473332613, 'depth': 3, 'l2_leaf_reg': 4.578656356062804, 'subsample': 0.789374898488202, 'colsample_bylevel': 0.7964197333813544, 'class_weights': {np.int64(0): np.float64(0.5434451219512195), np.int64(1): np.float64(0.8408018867924528), np.int64(2): np.float64(2.0488505747126435), np.int64(3): np.float64(2.072674418604651)}}. Best is trial 14 with value: 0.49307605146944705.\n",
            "[I 2025-05-28 06:29:59,375] Trial 60 finished with value: 0.4863088217520188 and parameters: {'n_estimators': 629, 'learning_rate': 0.03613772433620708, 'depth': 3, 'l2_leaf_reg': 4.798914463541661, 'subsample': 0.8035943097596477, 'colsample_bylevel': 0.7790879396452771, 'class_weights': None}. Best is trial 14 with value: 0.49307605146944705.\n",
            "[I 2025-05-28 06:30:03,461] Trial 61 finished with value: 0.48163703448559925 and parameters: {'n_estimators': 678, 'learning_rate': 0.057346150690514734, 'depth': 3, 'l2_leaf_reg': 4.316856862154996, 'subsample': 0.7793230190075658, 'colsample_bylevel': 0.7610326117152263, 'class_weights': None}. Best is trial 14 with value: 0.49307605146944705.\n",
            "[I 2025-05-28 06:30:14,459] Trial 62 finished with value: 0.4602202252756947 and parameters: {'n_estimators': 667, 'learning_rate': 0.03216737534586981, 'depth': 5, 'l2_leaf_reg': 4.707850059862372, 'subsample': 0.8011527551473053, 'colsample_bylevel': 0.711255773930279, 'class_weights': None}. Best is trial 14 with value: 0.49307605146944705.\n",
            "[I 2025-05-28 06:30:18,618] Trial 63 finished with value: 0.48393479629809005 and parameters: {'n_estimators': 686, 'learning_rate': 0.028675521684230033, 'depth': 3, 'l2_leaf_reg': 3.9953071543200873, 'subsample': 0.7648789415607956, 'colsample_bylevel': 0.7891500475782239, 'class_weights': None}. Best is trial 14 with value: 0.49307605146944705.\n",
            "[I 2025-05-28 06:30:22,657] Trial 64 finished with value: 0.4852724885222658 and parameters: {'n_estimators': 653, 'learning_rate': 0.03019081969801864, 'depth': 3, 'l2_leaf_reg': 4.210821687569718, 'subsample': 0.8123693667169425, 'colsample_bylevel': 0.8141409337333838, 'class_weights': None}. Best is trial 14 with value: 0.49307605146944705.\n",
            "[I 2025-05-28 06:30:29,862] Trial 65 finished with value: 0.46516330740851436 and parameters: {'n_estimators': 710, 'learning_rate': 0.039010189027986246, 'depth': 4, 'l2_leaf_reg': 4.5197539792587555, 'subsample': 0.8300703926945533, 'colsample_bylevel': 0.8016292330530314, 'class_weights': None}. Best is trial 14 with value: 0.49307605146944705.\n",
            "[I 2025-05-28 06:30:33,978] Trial 66 finished with value: 0.47511908694313154 and parameters: {'n_estimators': 668, 'learning_rate': 0.03403373999457742, 'depth': 3, 'l2_leaf_reg': 4.9843667914532, 'subsample': 0.7963576339074434, 'colsample_bylevel': 0.7394590851691166, 'class_weights': None}. Best is trial 14 with value: 0.49307605146944705.\n",
            "[I 2025-05-28 06:30:37,697] Trial 67 finished with value: 0.4908962751142333 and parameters: {'n_estimators': 633, 'learning_rate': 0.031068855679446113, 'depth': 3, 'l2_leaf_reg': 3.2952124343332465, 'subsample': 0.7043637227811553, 'colsample_bylevel': 0.7277903514059099, 'class_weights': None}. Best is trial 14 with value: 0.49307605146944705.\n",
            "[I 2025-05-28 06:30:41,440] Trial 68 finished with value: 0.4912368599261619 and parameters: {'n_estimators': 605, 'learning_rate': 0.032695855610536236, 'depth': 3, 'l2_leaf_reg': 2.7131698706259746, 'subsample': 0.7112186929719814, 'colsample_bylevel': 0.7751833392582493, 'class_weights': None}. Best is trial 14 with value: 0.49307605146944705.\n",
            "[I 2025-05-28 06:30:45,102] Trial 69 finished with value: 0.4733200357493872 and parameters: {'n_estimators': 608, 'learning_rate': 0.03764296716979616, 'depth': 3, 'l2_leaf_reg': 2.9635388666244524, 'subsample': 0.7067431816693147, 'colsample_bylevel': 0.785734668036845, 'class_weights': None}. Best is trial 14 with value: 0.49307605146944705.\n",
            "[I 2025-05-28 06:30:48,922] Trial 70 finished with value: 0.4782859865436896 and parameters: {'n_estimators': 630, 'learning_rate': 0.031786349666558904, 'depth': 3, 'l2_leaf_reg': 2.750539173450056, 'subsample': 0.7221767545743705, 'colsample_bylevel': 0.7562213085183369, 'class_weights': None}. Best is trial 14 with value: 0.49307605146944705.\n",
            "[I 2025-05-28 06:30:52,605] Trial 71 finished with value: 0.4900703937076135 and parameters: {'n_estimators': 602, 'learning_rate': 0.03502917190909087, 'depth': 3, 'l2_leaf_reg': 3.361613482686916, 'subsample': 0.7208798084794119, 'colsample_bylevel': 0.776148471142244, 'class_weights': None}. Best is trial 14 with value: 0.49307605146944705.\n",
            "[I 2025-05-28 06:30:56,226] Trial 72 finished with value: 0.48282268782666093 and parameters: {'n_estimators': 600, 'learning_rate': 0.03491627717153795, 'depth': 3, 'l2_leaf_reg': 3.062955873129484, 'subsample': 0.7022631886509508, 'colsample_bylevel': 0.7686497265002811, 'class_weights': None}. Best is trial 14 with value: 0.49307605146944705.\n",
            "[I 2025-05-28 06:31:00,106] Trial 73 finished with value: 0.48374878139403166 and parameters: {'n_estimators': 640, 'learning_rate': 0.03650032544120133, 'depth': 3, 'l2_leaf_reg': 3.379619487642801, 'subsample': 0.725348226678161, 'colsample_bylevel': 0.779675578515848, 'class_weights': None}. Best is trial 14 with value: 0.49307605146944705.\n",
            "[I 2025-05-28 06:31:03,645] Trial 74 finished with value: 0.48285979062714207 and parameters: {'n_estimators': 617, 'learning_rate': 0.032789433991269205, 'depth': 3, 'l2_leaf_reg': 3.237759008795299, 'subsample': 0.713079395056717, 'colsample_bylevel': 0.7752082737723587, 'class_weights': None}. Best is trial 14 with value: 0.49307605146944705.\n",
            "[I 2025-05-28 06:31:07,374] Trial 75 finished with value: 0.4904367861029012 and parameters: {'n_estimators': 600, 'learning_rate': 0.03461086479871759, 'depth': 3, 'l2_leaf_reg': 2.4606473430353066, 'subsample': 0.7406497433477307, 'colsample_bylevel': 0.8822551363457904, 'class_weights': None}. Best is trial 14 with value: 0.49307605146944705.\n",
            "[I 2025-05-28 06:31:11,040] Trial 76 finished with value: 0.47755959295110434 and parameters: {'n_estimators': 602, 'learning_rate': 0.03311391164195189, 'depth': 3, 'l2_leaf_reg': 2.406690955147155, 'subsample': 0.7406676455767063, 'colsample_bylevel': 0.8425313848423074, 'class_weights': None}. Best is trial 14 with value: 0.49307605146944705.\n",
            "[I 2025-05-28 06:31:14,696] Trial 77 finished with value: 0.4493618616334543 and parameters: {'n_estimators': 630, 'learning_rate': 0.03449496131306549, 'depth': 3, 'l2_leaf_reg': 2.2459684062018765, 'subsample': 0.7122163799554921, 'colsample_bylevel': 0.8084776263651029, 'class_weights': {np.int64(0): np.float64(0.5434451219512195), np.int64(1): np.float64(0.8408018867924528), np.int64(2): np.float64(2.0488505747126435), np.int64(3): np.float64(2.072674418604651)}}. Best is trial 14 with value: 0.49307605146944705.\n",
            "[I 2025-05-28 06:31:18,436] Trial 78 finished with value: 0.48937517758753096 and parameters: {'n_estimators': 612, 'learning_rate': 0.03561365023397415, 'depth': 3, 'l2_leaf_reg': 2.6757885996475803, 'subsample': 0.72722129157053, 'colsample_bylevel': 0.8877654368996003, 'class_weights': None}. Best is trial 14 with value: 0.49307605146944705.\n",
            "[I 2025-05-28 06:31:21,819] Trial 79 finished with value: 0.4721816253811946 and parameters: {'n_estimators': 616, 'learning_rate': 0.0409175173975366, 'depth': 3, 'l2_leaf_reg': 2.6703394315341455, 'subsample': 0.7262619237564379, 'colsample_bylevel': 0.8925483786282317, 'class_weights': None}. Best is trial 14 with value: 0.49307605146944705.\n",
            "[I 2025-05-28 06:31:25,644] Trial 80 finished with value: 0.47554500724704163 and parameters: {'n_estimators': 628, 'learning_rate': 0.035377951825925284, 'depth': 3, 'l2_leaf_reg': 2.4374096422871037, 'subsample': 0.7317046637159671, 'colsample_bylevel': 0.8838581290231862, 'class_weights': None}. Best is trial 14 with value: 0.49307605146944705.\n",
            "[I 2025-05-28 06:31:29,231] Trial 81 finished with value: 0.48815000634626415 and parameters: {'n_estimators': 609, 'learning_rate': 0.0316588355776311, 'depth': 3, 'l2_leaf_reg': 2.5028884120697152, 'subsample': 0.7053952081652018, 'colsample_bylevel': 0.8840199023889885, 'class_weights': None}. Best is trial 14 with value: 0.49307605146944705.\n",
            "[I 2025-05-28 06:31:33,218] Trial 82 finished with value: 0.48024177151329617 and parameters: {'n_estimators': 653, 'learning_rate': 0.034286948643584496, 'depth': 3, 'l2_leaf_reg': 2.624551998079972, 'subsample': 0.7166094650374243, 'colsample_bylevel': 0.8693197284213743, 'class_weights': None}. Best is trial 14 with value: 0.49307605146944705.\n",
            "[I 2025-05-28 06:31:37,362] Trial 83 finished with value: 0.47678441501484936 and parameters: {'n_estimators': 639, 'learning_rate': 0.036928274615793476, 'depth': 3, 'l2_leaf_reg': 2.7747271609344075, 'subsample': 0.7096567077896142, 'colsample_bylevel': 0.8749890935795396, 'class_weights': None}. Best is trial 14 with value: 0.49307605146944705.\n",
            "[I 2025-05-28 06:31:41,091] Trial 84 finished with value: 0.4720573555809861 and parameters: {'n_estimators': 621, 'learning_rate': 0.03002340855063858, 'depth': 3, 'l2_leaf_reg': 3.3301797581981627, 'subsample': 0.7004308028483043, 'colsample_bylevel': 0.7925328325950013, 'class_weights': None}. Best is trial 14 with value: 0.49307605146944705.\n",
            "[I 2025-05-28 06:31:44,841] Trial 85 finished with value: 0.4877008825028818 and parameters: {'n_estimators': 611, 'learning_rate': 0.028278927785114826, 'depth': 3, 'l2_leaf_reg': 3.034475115176058, 'subsample': 0.751668176484677, 'colsample_bylevel': 0.884529194986731, 'class_weights': None}. Best is trial 14 with value: 0.49307605146944705.\n",
            "[I 2025-05-28 06:31:48,468] Trial 86 finished with value: 0.48064793239182696 and parameters: {'n_estimators': 601, 'learning_rate': 0.032798435525239644, 'depth': 3, 'l2_leaf_reg': 2.36650267211665, 'subsample': 0.7360372202593602, 'colsample_bylevel': 0.85819292330707, 'class_weights': None}. Best is trial 14 with value: 0.49307605146944705.\n",
            "[I 2025-05-28 06:31:52,459] Trial 87 finished with value: 0.47477948649294566 and parameters: {'n_estimators': 659, 'learning_rate': 0.03833829923119929, 'depth': 3, 'l2_leaf_reg': 3.642179181977329, 'subsample': 0.7171886974098834, 'colsample_bylevel': 0.8928297590672909, 'class_weights': None}. Best is trial 14 with value: 0.49307605146944705.\n",
            "[I 2025-05-28 06:31:56,252] Trial 88 finished with value: 0.48348278706297804 and parameters: {'n_estimators': 636, 'learning_rate': 0.03572404776616218, 'depth': 3, 'l2_leaf_reg': 2.8554233990270084, 'subsample': 0.7285168197154539, 'colsample_bylevel': 0.7666138880748196, 'class_weights': None}. Best is trial 14 with value: 0.49307605146944705.\n",
            "[I 2025-05-28 06:32:00,178] Trial 89 finished with value: 0.4387593942883453 and parameters: {'n_estimators': 645, 'learning_rate': 0.030809014471623763, 'depth': 3, 'l2_leaf_reg': 2.5580483783668737, 'subsample': 0.7387994272713622, 'colsample_bylevel': 0.8759044079766083, 'class_weights': {np.int64(0): np.float64(0.5434451219512195), np.int64(1): np.float64(0.8408018867924528), np.int64(2): np.float64(2.0488505747126435), np.int64(3): np.float64(2.072674418604651)}}. Best is trial 14 with value: 0.49307605146944705.\n",
            "[I 2025-05-28 06:32:04,816] Trial 90 finished with value: 0.47781879963447393 and parameters: {'n_estimators': 776, 'learning_rate': 0.03321002459660556, 'depth': 3, 'l2_leaf_reg': 2.154877736819185, 'subsample': 0.721941096808754, 'colsample_bylevel': 0.8295457376958413, 'class_weights': None}. Best is trial 14 with value: 0.49307605146944705.\n",
            "[I 2025-05-28 06:32:09,719] Trial 91 finished with value: 0.47187064720189414 and parameters: {'n_estimators': 872, 'learning_rate': 0.039879367542170585, 'depth': 3, 'l2_leaf_reg': 3.523246599108121, 'subsample': 0.7174523249925451, 'colsample_bylevel': 0.7303873777176266, 'class_weights': None}. Best is trial 14 with value: 0.49307605146944705.\n",
            "[I 2025-05-28 06:32:13,458] Trial 92 finished with value: 0.4859099533980376 and parameters: {'n_estimators': 627, 'learning_rate': 0.03750644546531344, 'depth': 3, 'l2_leaf_reg': 3.144418152030846, 'subsample': 0.7480105712368967, 'colsample_bylevel': 0.7765782093960315, 'class_weights': None}. Best is trial 14 with value: 0.49307605146944705.\n",
            "[I 2025-05-28 06:32:17,089] Trial 93 finished with value: 0.4774061931769792 and parameters: {'n_estimators': 647, 'learning_rate': 0.0361796380147724, 'depth': 3, 'l2_leaf_reg': 3.2748770028397343, 'subsample': 0.7081696716179898, 'colsample_bylevel': 0.7483590200880067, 'class_weights': None}. Best is trial 14 with value: 0.49307605146944705.\n",
            "[I 2025-05-28 06:32:21,043] Trial 94 finished with value: 0.4827621622450824 and parameters: {'n_estimators': 692, 'learning_rate': 0.034013904546731685, 'depth': 3, 'l2_leaf_reg': 2.6753986146019515, 'subsample': 0.7457202791768948, 'colsample_bylevel': 0.7591531512051888, 'class_weights': None}. Best is trial 14 with value: 0.49307605146944705.\n",
            "[I 2025-05-28 06:32:24,652] Trial 95 finished with value: 0.48197763355233897 and parameters: {'n_estimators': 612, 'learning_rate': 0.038665199383910366, 'depth': 3, 'l2_leaf_reg': 4.3959296694084795, 'subsample': 0.7580640801739449, 'colsample_bylevel': 0.7144936185524993, 'class_weights': None}. Best is trial 14 with value: 0.49307605146944705.\n",
            "[I 2025-05-28 06:32:28,600] Trial 96 finished with value: 0.48139868337454594 and parameters: {'n_estimators': 663, 'learning_rate': 0.035122402715200236, 'depth': 3, 'l2_leaf_reg': 4.850878114899996, 'subsample': 0.7322956544669326, 'colsample_bylevel': 0.7836958213108555, 'class_weights': None}. Best is trial 14 with value: 0.49307605146944705.\n",
            "[I 2025-05-28 06:32:32,371] Trial 97 finished with value: 0.48049814023237636 and parameters: {'n_estimators': 623, 'learning_rate': 0.031131231522453368, 'depth': 3, 'l2_leaf_reg': 2.3375418730661743, 'subsample': 0.8555808902859134, 'colsample_bylevel': 0.7376483210806466, 'class_weights': None}. Best is trial 14 with value: 0.49307605146944705.\n",
            "[I 2025-05-28 06:32:36,353] Trial 98 finished with value: 0.48573668127217917 and parameters: {'n_estimators': 653, 'learning_rate': 0.029447166172623645, 'depth': 3, 'l2_leaf_reg': 4.112321484948344, 'subsample': 0.8396659851456479, 'colsample_bylevel': 0.8995268739538441, 'class_weights': None}. Best is trial 14 with value: 0.49307605146944705.\n",
            "[I 2025-05-28 06:32:40,248] Trial 99 finished with value: 0.4823523627458853 and parameters: {'n_estimators': 633, 'learning_rate': 0.03360918473174839, 'depth': 3, 'l2_leaf_reg': 4.685996977374047, 'subsample': 0.7845645259679013, 'colsample_bylevel': 0.7235233204808551, 'class_weights': None}. Best is trial 14 with value: 0.49307605146944705.\n"
          ]
        },
        {
          "name": "stdout",
          "output_type": "stream",
          "text": [
            "\n",
            "--- CatBoost Optuna Study Complete ---\n",
            "Best trial number: 14\n",
            "Best F1 Macro: 0.49307605146944705\n",
            "Best CatBoost Params: {'n_estimators': 676, 'learning_rate': 0.034042709577979995, 'depth': 3, 'l2_leaf_reg': 4.928089504131063, 'subsample': 0.8061526693781159, 'colsample_bylevel': 0.7727370651688609, 'class_weights': None}\n"
          ]
        }
      ],
      "source": [
        "# def objective_catboost(trial):\n",
        "#     \"\"\"Defines the objective function for CatBoost tuning.\"\"\"\n",
        "\n",
        "#     params = {\n",
        "#         'n_estimators': trial.suggest_int('n_estimators', 600, 1000), # Narrower range around 826\n",
        "#         'learning_rate': trial.suggest_float('learning_rate', 0.02, 0.06, log=True), # Range around 0.049\n",
        "#         'depth': trial.suggest_int('depth', 3, 6), # Range around 5\n",
        "#         'l2_leaf_reg': trial.suggest_float('l2_leaf_reg', 2.0, 5.0, log=True), # Range around 2.98\n",
        "#         'subsample': trial.suggest_float('subsample', 0.7, 0.9), # Range around 0.797\n",
        "#         'colsample_bylevel': trial.suggest_float('colsample_bylevel', 0.7, 0.9), # Range around 0.763\n",
        "#         'bootstrap_type': 'Bernoulli', # Keep as 'Bernoulli' to use subsample\n",
        "#         'class_weights': trial.suggest_categorical('class_weights', [class_weights_dict, None]), # Test with/without weights\n",
        "#         'loss_function': 'MultiClass',\n",
        "#         'random_state': RANDOM_STATE,\n",
        "#         'verbose': 0\n",
        "#     }\n",
        "\n",
        "#     # Add GPU setting if enabled\n",
        "#     if USE_GPU:\n",
        "#         params['task_type'] = 'GPU'\n",
        "#         params['devices'] = '0'\n",
        "\n",
        "#     # --- Build Pipeline ---\n",
        "#     pipeline = Pipeline([\n",
        "#         ('balancer', SMOTETomek(random_state=RANDOM_STATE)),\n",
        "#         ('model', CatBoostClassifier(**params))\n",
        "#     ])\n",
        "\n",
        "#     # --- Evaluate with Cross-Validation ---\n",
        "#     try:\n",
        "#         f1_scorer = make_scorer(f1_score, average='macro')\n",
        "#         score = cross_val_score(pipeline, X_train, y_train, cv=cv_out, scoring=f1_scorer, n_jobs=-1).mean()\n",
        "#     except Exception as e:\n",
        "#         print(f\"Trial failed with error: {e}\")\n",
        "#         return 0.0 # Return a low score if a trial fails\n",
        "\n",
        "#     return score # Optuna will maximize this score\n",
        "\n",
        "# # --- Run the Study ---\n",
        "# print(\"--- Starting Optuna Study for CatBoost ---\")\n",
        "# study_catboost = optuna.create_study(direction='maximize') # We want to maximize F1 score\n",
        "# study_catboost.optimize(objective_catboost, n_trials=100) # Run for 50 trials (adjust as needed)\n",
        "\n",
        "# print(\"\\n--- CatBoost Optuna Study Complete ---\")\n",
        "# print(\"Best trial number:\", study_catboost.best_trial.number)\n",
        "# print(\"Best F1 Macro:\", study_catboost.best_value)\n",
        "# print(\"Best CatBoost Params:\", study_catboost.best_params)"
      ]
    },
    {
      "cell_type": "markdown",
      "metadata": {},
      "source": [
        "catboost results:\n",
        "\n",
        "--- CatBoost Optuna Study Complete ---\n",
        "\n",
        "Best trial number: 47 (of 50)\n",
        "\n",
        "Best F1 Macro: 0.48639738683809564\n",
        "\n",
        "Best CatBoost Params: {'n_estimators': 982, 'learning_rate': 0.023344914360772826, 'depth': 3, 'l2_leaf_reg': 2.381764076755673, 'subsample': 0.7213879206815722, 'colsample_bylevel': 0.7395474752710848, 'class_weights': None}\n",
        "\n",
        "--- CatBoost Optuna Study Complete ---\n",
        "\n",
        "Best trial number: 14 (of 100)\n",
        "\n",
        "Best F1 Macro: 0.49307605146944705\n",
        "\n",
        "Best CatBoost Params: {'n_estimators': 676, 'learning_rate': 0.034042709577979995, 'depth': 3, 'l2_leaf_reg': 4.928089504131063, 'subsample': 0.8061526693781159, 'colsample_bylevel': 0.7727370651688609, 'class_weights': None}"
      ]
    },
    {
      "cell_type": "markdown",
      "metadata": {},
      "source": [
        "--- XGBoost Search Complete ---\n",
        "\n",
        "Best XGBoost Params: {'model__colsample_bytree': np.float64(0.7960771554634886), 'model__gamma': np.float64(0.016212400848832652), 'model__learning_rate': np.float64(0.009886305532402558), 'model__max_depth': 12, 'model__n_estimators': 1331, 'model__reg_alpha': np.float64(0.10161078013838833), 'model__reg_lambda': np.float64(0.014735961425967444), 'model__scale_pos_weight': {np.int64(0): np.float64(0.5434451219512195), np.int64(1): np.float64(0.8408018867924528), np.int64(2): np.float64(2.0488505747126435), np.int64(3): np.float64(2.072674418604651)}, 'model__subsample': np.float64(0.704562520557222)}\n",
        "\n",
        "Best XGBoost F1 Macro: 0.47731328768830866 -> 1% drop\n",
        "\n",
        "--- CatBoost Search Complete ---\n",
        "\n",
        "Best CatBoost Params: {'model__bootstrap_type': 'Bernoulli', 'model__class_weights': {np.int64(0): np.float64(0.5434451219512195), np.int64(1): np.float64(0.8408018867924528), np.int64(2): np.float64(2.0488505747126435), np.int64(3): np.float64(2.072674418604651)}, 'model__colsample_bylevel': np.float64(0.763178300149299), 'model__depth': 5, 'model__l2_leaf_reg': np.float64(2.9824736224471478), 'model__learning_rate': np.float64(0.04987492662119543), 'model__n_estimators': 826, 'model__subsample': np.float64(0.7973660186595594)}\n",
        "\n",
        "Best CatBoost F1 Macro: 0.46523263743835175 -> 2% boost"
      ]
    },
    {
      "cell_type": "code",
      "execution_count": null,
      "metadata": {},
      "outputs": [
        {
          "name": "stderr",
          "output_type": "stream",
          "text": [
            "[I 2025-05-28 11:19:09,328] A new study created in memory with name: no-name-07321734-63f8-4ff1-82b5-2d3d86296794\n"
          ]
        },
        {
          "name": "stdout",
          "output_type": "stream",
          "text": [
            "--- Starting FOCUSED Optuna Study for CatBoost ---\n"
          ]
        },
        {
          "name": "stderr",
          "output_type": "stream",
          "text": [
            "[I 2025-05-28 11:19:17,719] Trial 0 finished with value: 0.47493887967019893 and parameters: {'n_estimators': 600, 'learning_rate': 0.034162583216343446, 'depth': 4, 'l2_leaf_reg': 5.163437299523483, 'subsample': 0.8273535845066439, 'colsample_bylevel': 0.75338120702296}. Best is trial 0 with value: 0.47493887967019893.\n",
            "[I 2025-05-28 11:19:24,259] Trial 1 finished with value: 0.49050289064175 and parameters: {'n_estimators': 744, 'learning_rate': 0.032076082434859376, 'depth': 3, 'l2_leaf_reg': 5.426177682781025, 'subsample': 0.8268613886506138, 'colsample_bylevel': 0.7807426582243289}. Best is trial 1 with value: 0.49050289064175.\n",
            "[I 2025-05-28 11:19:34,406] Trial 2 finished with value: 0.4708167529571988 and parameters: {'n_estimators': 735, 'learning_rate': 0.03829815334974335, 'depth': 4, 'l2_leaf_reg': 5.1087053862157354, 'subsample': 0.7872114229286082, 'colsample_bylevel': 0.7639593454942917}. Best is trial 1 with value: 0.49050289064175.\n",
            "[I 2025-05-28 11:19:40,140] Trial 3 finished with value: 0.4788672075650954 and parameters: {'n_estimators': 643, 'learning_rate': 0.03427373936222027, 'depth': 3, 'l2_leaf_reg': 5.214521734582415, 'subsample': 0.8289004666309004, 'colsample_bylevel': 0.7939970494453569}. Best is trial 1 with value: 0.49050289064175.\n",
            "[I 2025-05-28 11:19:49,482] Trial 4 finished with value: 0.48322586308322746 and parameters: {'n_estimators': 670, 'learning_rate': 0.031160491328282483, 'depth': 4, 'l2_leaf_reg': 4.804276732165762, 'subsample': 0.811697231460962, 'colsample_bylevel': 0.7962922922136589}. Best is trial 1 with value: 0.49050289064175.\n",
            "[I 2025-05-28 11:19:55,287] Trial 5 finished with value: 0.48065451552938077 and parameters: {'n_estimators': 651, 'learning_rate': 0.035990398418179005, 'depth': 3, 'l2_leaf_reg': 4.689289934752202, 'subsample': 0.8105967120832015, 'colsample_bylevel': 0.7938629600967203}. Best is trial 1 with value: 0.49050289064175.\n",
            "[I 2025-05-28 11:20:00,564] Trial 6 finished with value: 0.4841253342677943 and parameters: {'n_estimators': 603, 'learning_rate': 0.03997111246545293, 'depth': 3, 'l2_leaf_reg': 4.5113183139374105, 'subsample': 0.8045591047033402, 'colsample_bylevel': 0.7713883360650748}. Best is trial 1 with value: 0.49050289064175.\n",
            "[I 2025-05-28 11:20:06,416] Trial 7 finished with value: 0.4770060490463922 and parameters: {'n_estimators': 681, 'learning_rate': 0.03734093704610739, 'depth': 3, 'l2_leaf_reg': 5.336548540806003, 'subsample': 0.825172648470383, 'colsample_bylevel': 0.7756991631426435}. Best is trial 1 with value: 0.49050289064175.\n",
            "[I 2025-05-28 11:20:12,426] Trial 8 finished with value: 0.47306389317330727 and parameters: {'n_estimators': 734, 'learning_rate': 0.03888344866327498, 'depth': 3, 'l2_leaf_reg': 4.627228707675224, 'subsample': 0.7956546142784157, 'colsample_bylevel': 0.7773311210094583}. Best is trial 1 with value: 0.49050289064175.\n",
            "[I 2025-05-28 11:20:21,318] Trial 9 finished with value: 0.47894462793789927 and parameters: {'n_estimators': 635, 'learning_rate': 0.037160291033272355, 'depth': 4, 'l2_leaf_reg': 4.633174189278921, 'subsample': 0.7908447079038905, 'colsample_bylevel': 0.7985031419895213}. Best is trial 1 with value: 0.49050289064175.\n",
            "[I 2025-05-28 11:20:27,956] Trial 10 finished with value: 0.48354530670242174 and parameters: {'n_estimators': 706, 'learning_rate': 0.03092479287511511, 'depth': 3, 'l2_leaf_reg': 5.499173518107224, 'subsample': 0.8163245911720672, 'colsample_bylevel': 0.7853146149462251}. Best is trial 1 with value: 0.49050289064175.\n",
            "[I 2025-05-28 11:20:33,106] Trial 11 finished with value: 0.4813837061239793 and parameters: {'n_estimators': 604, 'learning_rate': 0.03272924105938091, 'depth': 3, 'l2_leaf_reg': 4.901592966764258, 'subsample': 0.8034966451337856, 'colsample_bylevel': 0.766436961937303}. Best is trial 1 with value: 0.49050289064175.\n",
            "[I 2025-05-28 11:20:39,082] Trial 12 finished with value: 0.4879570312552957 and parameters: {'n_estimators': 709, 'learning_rate': 0.03271576402531482, 'depth': 3, 'l2_leaf_reg': 5.00666050364614, 'subsample': 0.7997150882803462, 'colsample_bylevel': 0.7819885291706922}. Best is trial 1 with value: 0.49050289064175.\n",
            "[I 2025-05-28 11:20:45,484] Trial 13 finished with value: 0.48614158989829354 and parameters: {'n_estimators': 749, 'learning_rate': 0.03254903158743885, 'depth': 3, 'l2_leaf_reg': 5.491945239918468, 'subsample': 0.7803645187092878, 'colsample_bylevel': 0.7831709756673372}. Best is trial 1 with value: 0.49050289064175.\n",
            "[I 2025-05-28 11:20:51,522] Trial 14 finished with value: 0.4846412245859074 and parameters: {'n_estimators': 708, 'learning_rate': 0.03276647937954631, 'depth': 3, 'l2_leaf_reg': 5.01942928160218, 'subsample': 0.8177941037464712, 'colsample_bylevel': 0.7857059162932316}. Best is trial 1 with value: 0.49050289064175.\n",
            "[I 2025-05-28 11:20:58,072] Trial 15 finished with value: 0.49318830743606556 and parameters: {'n_estimators': 709, 'learning_rate': 0.03002528276672839, 'depth': 3, 'l2_leaf_reg': 5.3430345724145845, 'subsample': 0.7978252097724137, 'colsample_bylevel': 0.7804095948112506}. Best is trial 15 with value: 0.49318830743606556.\n",
            "[I 2025-05-28 11:21:04,306] Trial 16 finished with value: 0.48498357095943145 and parameters: {'n_estimators': 724, 'learning_rate': 0.03000655082916642, 'depth': 3, 'l2_leaf_reg': 5.350972433094183, 'subsample': 0.8212514156698385, 'colsample_bylevel': 0.7900837932171202}. Best is trial 15 with value: 0.49318830743606556.\n",
            "[I 2025-05-28 11:21:13,615] Trial 17 finished with value: 0.4669627412312888 and parameters: {'n_estimators': 684, 'learning_rate': 0.03130091205532234, 'depth': 4, 'l2_leaf_reg': 5.336327899361042, 'subsample': 0.8097785909858104, 'colsample_bylevel': 0.7686780064696033}. Best is trial 15 with value: 0.49318830743606556.\n",
            "[I 2025-05-28 11:21:20,090] Trial 18 finished with value: 0.4888778198361427 and parameters: {'n_estimators': 747, 'learning_rate': 0.030043156762127047, 'depth': 3, 'l2_leaf_reg': 5.276121809924152, 'subsample': 0.7928858625351911, 'colsample_bylevel': 0.7597557668829076}. Best is trial 15 with value: 0.49318830743606556.\n",
            "[I 2025-05-28 11:21:26,270] Trial 19 finished with value: 0.4827235060041478 and parameters: {'n_estimators': 698, 'learning_rate': 0.031775812326947296, 'depth': 3, 'l2_leaf_reg': 5.431794613972872, 'subsample': 0.7995292959779017, 'colsample_bylevel': 0.7789740768117709}. Best is trial 15 with value: 0.49318830743606556.\n",
            "[I 2025-05-28 11:21:36,381] Trial 20 finished with value: 0.47888148176751943 and parameters: {'n_estimators': 724, 'learning_rate': 0.03514569571208808, 'depth': 4, 'l2_leaf_reg': 5.0798144580207065, 'subsample': 0.7824024630438093, 'colsample_bylevel': 0.7732549269356606}. Best is trial 15 with value: 0.49318830743606556.\n",
            "[I 2025-05-28 11:21:42,417] Trial 21 finished with value: 0.48897701421627937 and parameters: {'n_estimators': 748, 'learning_rate': 0.030221075982870858, 'depth': 3, 'l2_leaf_reg': 5.242663167744076, 'subsample': 0.792921943579207, 'colsample_bylevel': 0.7580818854914586}. Best is trial 15 with value: 0.49318830743606556.\n",
            "[I 2025-05-28 11:21:48,239] Trial 22 finished with value: 0.48398574315238757 and parameters: {'n_estimators': 726, 'learning_rate': 0.030498480440879727, 'depth': 3, 'l2_leaf_reg': 5.240513780745612, 'subsample': 0.7869719796596444, 'colsample_bylevel': 0.7501183915732458}. Best is trial 15 with value: 0.49318830743606556.\n",
            "[I 2025-05-28 11:21:54,635] Trial 23 finished with value: 0.4890864435310608 and parameters: {'n_estimators': 738, 'learning_rate': 0.031902334067349124, 'depth': 3, 'l2_leaf_reg': 5.402335712696944, 'subsample': 0.7967163697447618, 'colsample_bylevel': 0.7584783348112069}. Best is trial 15 with value: 0.49318830743606556.\n",
            "[I 2025-05-28 11:22:00,619] Trial 24 finished with value: 0.47600348038128304 and parameters: {'n_estimators': 693, 'learning_rate': 0.03203395027912965, 'depth': 3, 'l2_leaf_reg': 5.409085249923457, 'subsample': 0.7988937137996738, 'colsample_bylevel': 0.7879303969035486}. Best is trial 15 with value: 0.49318830743606556.\n",
            "[I 2025-05-28 11:22:06,731] Trial 25 finished with value: 0.48582982717275075 and parameters: {'n_estimators': 716, 'learning_rate': 0.03359020906734266, 'depth': 3, 'l2_leaf_reg': 5.3989340937928745, 'subsample': 0.8074467969672994, 'colsample_bylevel': 0.7805807530732227}. Best is trial 15 with value: 0.49318830743606556.\n",
            "[I 2025-05-28 11:22:13,206] Trial 26 finished with value: 0.4794988715001997 and parameters: {'n_estimators': 736, 'learning_rate': 0.03173551937861282, 'depth': 3, 'l2_leaf_reg': 5.160837198522762, 'subsample': 0.8031272789993255, 'colsample_bylevel': 0.7710718884919795}. Best is trial 15 with value: 0.49318830743606556.\n",
            "[I 2025-05-28 11:22:19,971] Trial 27 finished with value: 0.47592113705821476 and parameters: {'n_estimators': 736, 'learning_rate': 0.033492440089151206, 'depth': 3, 'l2_leaf_reg': 5.306411992240181, 'subsample': 0.7961953110948052, 'colsample_bylevel': 0.7642292245313614}. Best is trial 15 with value: 0.49318830743606556.\n",
            "[I 2025-05-28 11:22:26,113] Trial 28 finished with value: 0.4821384663319545 and parameters: {'n_estimators': 718, 'learning_rate': 0.03106813025553965, 'depth': 3, 'l2_leaf_reg': 5.443482612098355, 'subsample': 0.8151817760708436, 'colsample_bylevel': 0.7581515229176441}. Best is trial 15 with value: 0.49318830743606556.\n",
            "[I 2025-05-28 11:22:34,893] Trial 29 finished with value: 0.4720301812089741 and parameters: {'n_estimators': 666, 'learning_rate': 0.03452811755264713, 'depth': 4, 'l2_leaf_reg': 4.915843457721697, 'subsample': 0.8230055492936631, 'colsample_bylevel': 0.7540686678661865}. Best is trial 15 with value: 0.49318830743606556.\n",
            "[I 2025-05-28 11:22:39,655] Trial 30 finished with value: 0.4852876727301366 and parameters: {'n_estimators': 699, 'learning_rate': 0.03338393271255315, 'depth': 3, 'l2_leaf_reg': 5.1511154176084215, 'subsample': 0.7871592758941115, 'colsample_bylevel': 0.7749264980227903}. Best is trial 15 with value: 0.49318830743606556.\n",
            "[I 2025-05-28 11:22:44,277] Trial 31 finished with value: 0.48154166519092734 and parameters: {'n_estimators': 749, 'learning_rate': 0.030439943595621705, 'depth': 3, 'l2_leaf_reg': 5.225934433900458, 'subsample': 0.7910719278003439, 'colsample_bylevel': 0.7579988921150362}. Best is trial 15 with value: 0.49318830743606556.\n",
            "[I 2025-05-28 11:22:48,716] Trial 32 finished with value: 0.4814345843802047 and parameters: {'n_estimators': 739, 'learning_rate': 0.03194129275610021, 'depth': 3, 'l2_leaf_reg': 5.391425919431401, 'subsample': 0.7947732223727841, 'colsample_bylevel': 0.7618351078456768}. Best is trial 15 with value: 0.49318830743606556.\n",
            "[I 2025-05-28 11:22:52,978] Trial 33 finished with value: 0.4798655348117947 and parameters: {'n_estimators': 742, 'learning_rate': 0.030654157329137118, 'depth': 3, 'l2_leaf_reg': 5.267779287192288, 'subsample': 0.789850235519937, 'colsample_bylevel': 0.7556097182742071}. Best is trial 15 with value: 0.49318830743606556.\n",
            "[I 2025-05-28 11:22:57,450] Trial 34 finished with value: 0.4760322019469346 and parameters: {'n_estimators': 732, 'learning_rate': 0.0313611790652271, 'depth': 3, 'l2_leaf_reg': 5.189442350658541, 'subsample': 0.8009460602391706, 'colsample_bylevel': 0.7647089220183584}. Best is trial 15 with value: 0.49318830743606556.\n",
            "[I 2025-05-28 11:23:01,749] Trial 35 finished with value: 0.48344917164285156 and parameters: {'n_estimators': 716, 'learning_rate': 0.03223755759538643, 'depth': 3, 'l2_leaf_reg': 5.364832684038374, 'subsample': 0.829582504765628, 'colsample_bylevel': 0.7695195190149405}. Best is trial 15 with value: 0.49318830743606556.\n",
            "[I 2025-05-28 11:23:07,669] Trial 36 finished with value: 0.48397775496320816 and parameters: {'n_estimators': 727, 'learning_rate': 0.030085311041639574, 'depth': 3, 'l2_leaf_reg': 5.10248515022459, 'subsample': 0.7943894529238363, 'colsample_bylevel': 0.7515436318700239}. Best is trial 15 with value: 0.49318830743606556.\n",
            "[I 2025-05-28 11:23:18,188] Trial 37 finished with value: 0.4797270810397493 and parameters: {'n_estimators': 744, 'learning_rate': 0.03138942767908202, 'depth': 4, 'l2_leaf_reg': 5.443944266921116, 'subsample': 0.7843856354483889, 'colsample_bylevel': 0.7911196852459083}. Best is trial 15 with value: 0.49318830743606556.\n",
            "[I 2025-05-28 11:23:24,389] Trial 38 finished with value: 0.4848446861872464 and parameters: {'n_estimators': 730, 'learning_rate': 0.030723111048318583, 'depth': 3, 'l2_leaf_reg': 5.32145874556309, 'subsample': 0.807827720088206, 'colsample_bylevel': 0.7781373577966861}. Best is trial 15 with value: 0.49318830743606556.\n",
            "[I 2025-05-28 11:23:30,082] Trial 39 finished with value: 0.4875855986809638 and parameters: {'n_estimators': 655, 'learning_rate': 0.03579037591863833, 'depth': 3, 'l2_leaf_reg': 5.283961913554135, 'subsample': 0.7975741182379191, 'colsample_bylevel': 0.7618474615805318}. Best is trial 15 with value: 0.49318830743606556.\n",
            "[I 2025-05-28 11:23:36,529] Trial 40 finished with value: 0.4876988995438113 and parameters: {'n_estimators': 750, 'learning_rate': 0.03389429109041606, 'depth': 3, 'l2_leaf_reg': 5.4676410477402975, 'subsample': 0.8020597145020317, 'colsample_bylevel': 0.7740843020981134}. Best is trial 15 with value: 0.49318830743606556.\n",
            "[I 2025-05-28 11:23:41,932] Trial 41 finished with value: 0.4885969837657072 and parameters: {'n_estimators': 742, 'learning_rate': 0.03000281967040923, 'depth': 3, 'l2_leaf_reg': 5.265415398161766, 'subsample': 0.7928796029203319, 'colsample_bylevel': 0.7589699575083076}. Best is trial 15 with value: 0.49318830743606556.\n",
            "[I 2025-05-28 11:23:46,806] Trial 42 finished with value: 0.4891381853002114 and parameters: {'n_estimators': 743, 'learning_rate': 0.030399875773351112, 'depth': 3, 'l2_leaf_reg': 5.372354347353031, 'subsample': 0.7921056337574794, 'colsample_bylevel': 0.7603440018690635}. Best is trial 15 with value: 0.49318830743606556.\n",
            "[I 2025-05-28 11:23:52,908] Trial 43 finished with value: 0.46816203899170655 and parameters: {'n_estimators': 738, 'learning_rate': 0.030991093260103447, 'depth': 3, 'l2_leaf_reg': 5.375734045332715, 'subsample': 0.7893520369374438, 'colsample_bylevel': 0.7538216529841779}. Best is trial 15 with value: 0.49318830743606556.\n",
            "[I 2025-05-28 11:23:58,255] Trial 44 finished with value: 0.48167562220445853 and parameters: {'n_estimators': 714, 'learning_rate': 0.031540155039702485, 'depth': 3, 'l2_leaf_reg': 5.208919746183245, 'subsample': 0.7970257962823312, 'colsample_bylevel': 0.7565715566415234}. Best is trial 15 with value: 0.49318830743606556.\n",
            "[I 2025-05-28 11:24:03,627] Trial 45 finished with value: 0.48031821618280324 and parameters: {'n_estimators': 721, 'learning_rate': 0.03073770551547072, 'depth': 3, 'l2_leaf_reg': 5.499263960555326, 'subsample': 0.7927036972093637, 'colsample_bylevel': 0.7664511027227339}. Best is trial 15 with value: 0.49318830743606556.\n",
            "[I 2025-05-28 11:24:08,065] Trial 46 finished with value: 0.49004531166942655 and parameters: {'n_estimators': 627, 'learning_rate': 0.03299209179084511, 'depth': 3, 'l2_leaf_reg': 5.343969336939668, 'subsample': 0.7889483465264615, 'colsample_bylevel': 0.7843718684307261}. Best is trial 15 with value: 0.49318830743606556.\n",
            "[I 2025-05-28 11:24:12,437] Trial 47 finished with value: 0.4810436472810758 and parameters: {'n_estimators': 622, 'learning_rate': 0.03310037110701802, 'depth': 3, 'l2_leaf_reg': 4.724371401586802, 'subsample': 0.8051871809507465, 'colsample_bylevel': 0.7842673083246228}. Best is trial 15 with value: 0.49318830743606556.\n",
            "[I 2025-05-28 11:24:16,957] Trial 48 finished with value: 0.4892755234813846 and parameters: {'n_estimators': 628, 'learning_rate': 0.03225994676671187, 'depth': 3, 'l2_leaf_reg': 5.32714257461737, 'subsample': 0.7851888932870158, 'colsample_bylevel': 0.7810384638274124}. Best is trial 15 with value: 0.49318830743606556.\n",
            "[I 2025-05-28 11:24:21,085] Trial 49 finished with value: 0.4883196720391917 and parameters: {'n_estimators': 626, 'learning_rate': 0.032379795841726816, 'depth': 3, 'l2_leaf_reg': 5.329644752513599, 'subsample': 0.7845829872123704, 'colsample_bylevel': 0.7882986164979554}. Best is trial 15 with value: 0.49318830743606556.\n",
            "[I 2025-05-28 11:24:27,534] Trial 50 finished with value: 0.48727158876131016 and parameters: {'n_estimators': 616, 'learning_rate': 0.03301592638279845, 'depth': 4, 'l2_leaf_reg': 5.0494539177603945, 'subsample': 0.8270003439824454, 'colsample_bylevel': 0.7801171993808124}. Best is trial 15 with value: 0.49318830743606556.\n",
            "[I 2025-05-28 11:24:31,732] Trial 51 finished with value: 0.4888670097544418 and parameters: {'n_estimators': 638, 'learning_rate': 0.034365411752046306, 'depth': 3, 'l2_leaf_reg': 5.415471346682491, 'subsample': 0.7879618741712474, 'colsample_bylevel': 0.7768756849060746}. Best is trial 15 with value: 0.49318830743606556.\n",
            "[I 2025-05-28 11:24:36,015] Trial 52 finished with value: 0.4905735089818258 and parameters: {'n_estimators': 650, 'learning_rate': 0.032314607052138525, 'depth': 3, 'l2_leaf_reg': 5.3628519827463315, 'subsample': 0.784202779329148, 'colsample_bylevel': 0.7817511804558204}. Best is trial 15 with value: 0.49318830743606556.\n",
            "[I 2025-05-28 11:24:40,675] Trial 53 finished with value: 0.4908109086433881 and parameters: {'n_estimators': 645, 'learning_rate': 0.0323501323214736, 'depth': 3, 'l2_leaf_reg': 5.354680170529002, 'subsample': 0.7803400761453477, 'colsample_bylevel': 0.7824239245624255}. Best is trial 15 with value: 0.49318830743606556.\n",
            "[I 2025-05-28 11:24:45,537] Trial 54 finished with value: 0.48514150011644075 and parameters: {'n_estimators': 647, 'learning_rate': 0.03244140358313171, 'depth': 3, 'l2_leaf_reg': 5.300190288588676, 'subsample': 0.7807266164677464, 'colsample_bylevel': 0.7817889285940743}. Best is trial 15 with value: 0.49318830743606556.\n",
            "[I 2025-05-28 11:24:50,085] Trial 55 finished with value: 0.4883114905903767 and parameters: {'n_estimators': 656, 'learning_rate': 0.03394679981289793, 'depth': 3, 'l2_leaf_reg': 4.928981461131524, 'subsample': 0.7841043438555776, 'colsample_bylevel': 0.786957803411642}. Best is trial 15 with value: 0.49318830743606556.\n",
            "[I 2025-05-28 11:24:54,667] Trial 56 finished with value: 0.48472703782454885 and parameters: {'n_estimators': 632, 'learning_rate': 0.034736952678144896, 'depth': 3, 'l2_leaf_reg': 5.461341233016068, 'subsample': 0.7827303339535033, 'colsample_bylevel': 0.783018897793216}. Best is trial 15 with value: 0.49318830743606556.\n",
            "[I 2025-05-28 11:24:58,839] Trial 57 finished with value: 0.49605037264973095 and parameters: {'n_estimators': 612, 'learning_rate': 0.03273557706761986, 'depth': 3, 'l2_leaf_reg': 5.345658075756019, 'subsample': 0.7862173589380593, 'colsample_bylevel': 0.7932927083043052}. Best is trial 57 with value: 0.49605037264973095.\n",
            "[I 2025-05-28 11:25:03,628] Trial 58 finished with value: 0.48232791756666193 and parameters: {'n_estimators': 614, 'learning_rate': 0.0329247194162828, 'depth': 3, 'l2_leaf_reg': 5.136399440511626, 'subsample': 0.7801987564937563, 'colsample_bylevel': 0.7993440536300661}. Best is trial 57 with value: 0.49605037264973095.\n",
            "[I 2025-05-28 11:25:09,028] Trial 59 finished with value: 0.49197579108225487 and parameters: {'n_estimators': 600, 'learning_rate': 0.03542133280356775, 'depth': 3, 'l2_leaf_reg': 5.356817469451839, 'subsample': 0.7825223306392936, 'colsample_bylevel': 0.7930904569987178}. Best is trial 57 with value: 0.49605037264973095.\n",
            "[I 2025-05-28 11:25:14,612] Trial 60 finished with value: 0.4815332055220667 and parameters: {'n_estimators': 601, 'learning_rate': 0.03678965864660717, 'depth': 3, 'l2_leaf_reg': 4.965789896317208, 'subsample': 0.7858954353738551, 'colsample_bylevel': 0.7947944398562449}. Best is trial 57 with value: 0.49605037264973095.\n",
            "[I 2025-05-28 11:25:19,665] Trial 61 finished with value: 0.48609878366845394 and parameters: {'n_estimators': 612, 'learning_rate': 0.035966703761204546, 'depth': 3, 'l2_leaf_reg': 4.525923711265374, 'subsample': 0.7823984881618689, 'colsample_bylevel': 0.7922896385877264}. Best is trial 57 with value: 0.49605037264973095.\n",
            "[I 2025-05-28 11:25:24,715] Trial 62 finished with value: 0.478233379293554 and parameters: {'n_estimators': 608, 'learning_rate': 0.03549453312430514, 'depth': 3, 'l2_leaf_reg': 5.3568424391080445, 'subsample': 0.7821885367334719, 'colsample_bylevel': 0.7970584836857285}. Best is trial 57 with value: 0.49605037264973095.\n",
            "[I 2025-05-28 11:25:30,284] Trial 63 finished with value: 0.4871325416781439 and parameters: {'n_estimators': 664, 'learning_rate': 0.03670340484495513, 'depth': 3, 'l2_leaf_reg': 4.836269639902753, 'subsample': 0.7884471227827138, 'colsample_bylevel': 0.7853149300266883}. Best is trial 57 with value: 0.49605037264973095.\n",
            "[I 2025-05-28 11:25:35,411] Trial 64 finished with value: 0.492091932985502 and parameters: {'n_estimators': 621, 'learning_rate': 0.03807078733846644, 'depth': 3, 'l2_leaf_reg': 5.417309800173459, 'subsample': 0.8134537627069413, 'colsample_bylevel': 0.7887216235215868}. Best is trial 57 with value: 0.49605037264973095.\n",
            "[I 2025-05-28 11:25:41,057] Trial 65 finished with value: 0.48213979957693026 and parameters: {'n_estimators': 678, 'learning_rate': 0.03837583596518001, 'depth': 3, 'l2_leaf_reg': 5.429398689040578, 'subsample': 0.8257092097793676, 'colsample_bylevel': 0.7894466994652439}. Best is trial 57 with value: 0.49605037264973095.\n",
            "[I 2025-05-28 11:25:46,070] Trial 66 finished with value: 0.48705540298928385 and parameters: {'n_estimators': 619, 'learning_rate': 0.037892700894083184, 'depth': 3, 'l2_leaf_reg': 5.479394553837603, 'subsample': 0.8198428397202182, 'colsample_bylevel': 0.7922947890843414}. Best is trial 57 with value: 0.49605037264973095.\n",
            "[I 2025-05-28 11:25:51,400] Trial 67 finished with value: 0.48165762865596157 and parameters: {'n_estimators': 605, 'learning_rate': 0.03890245766354276, 'depth': 3, 'l2_leaf_reg': 5.393583404699224, 'subsample': 0.815836882897365, 'colsample_bylevel': 0.7952143936050426}. Best is trial 57 with value: 0.49605037264973095.\n",
            "[I 2025-05-28 11:25:56,773] Trial 68 finished with value: 0.4799148814873754 and parameters: {'n_estimators': 688, 'learning_rate': 0.039323782204206174, 'depth': 3, 'l2_leaf_reg': 5.250684798727384, 'subsample': 0.8118854686472735, 'colsample_bylevel': 0.7795471988340349}. Best is trial 57 with value: 0.49605037264973095.\n",
            "[I 2025-05-28 11:26:02,081] Trial 69 finished with value: 0.48912062929653216 and parameters: {'n_estimators': 642, 'learning_rate': 0.03532950475206943, 'depth': 3, 'l2_leaf_reg': 5.298929240311199, 'subsample': 0.8221510893239854, 'colsample_bylevel': 0.7867210515685437}. Best is trial 57 with value: 0.49605037264973095.\n",
            "[I 2025-05-28 11:26:07,942] Trial 70 finished with value: 0.48243805339651386 and parameters: {'n_estimators': 673, 'learning_rate': 0.03984083300957557, 'depth': 3, 'l2_leaf_reg': 5.437458805683278, 'subsample': 0.8189713536933171, 'colsample_bylevel': 0.797533432994482}. Best is trial 57 with value: 0.49605037264973095.\n",
            "[I 2025-05-28 11:26:13,426] Trial 71 finished with value: 0.4938402858683812 and parameters: {'n_estimators': 610, 'learning_rate': 0.032605348414521264, 'depth': 3, 'l2_leaf_reg': 5.344225719297856, 'subsample': 0.7861027242407681, 'colsample_bylevel': 0.7835697969669848}. Best is trial 57 with value: 0.49605037264973095.\n",
            "[I 2025-05-28 11:26:18,467] Trial 72 finished with value: 0.48174246182286773 and parameters: {'n_estimators': 604, 'learning_rate': 0.03332826912951398, 'depth': 3, 'l2_leaf_reg': 5.192153347782847, 'subsample': 0.8130901350651696, 'colsample_bylevel': 0.7829206476765016}. Best is trial 57 with value: 0.49605037264973095.\n",
            "[I 2025-05-28 11:26:23,680] Trial 73 finished with value: 0.4854161517069998 and parameters: {'n_estimators': 609, 'learning_rate': 0.03173184715073279, 'depth': 3, 'l2_leaf_reg': 5.363723191723725, 'subsample': 0.7868823370314667, 'colsample_bylevel': 0.7896902234151312}. Best is trial 57 with value: 0.49605037264973095.\n",
            "[I 2025-05-28 11:26:28,888] Trial 74 finished with value: 0.4980129593275942 and parameters: {'n_estimators': 619, 'learning_rate': 0.03356568613983977, 'depth': 3, 'l2_leaf_reg': 5.410081061595981, 'subsample': 0.7813530710796959, 'colsample_bylevel': 0.7931509445930619}. Best is trial 74 with value: 0.4980129593275942.\n",
            "[I 2025-05-28 11:26:34,162] Trial 75 finished with value: 0.504462638345147 and parameters: {'n_estimators': 621, 'learning_rate': 0.03406569859006729, 'depth': 3, 'l2_leaf_reg': 5.399553295165234, 'subsample': 0.7816861432700138, 'colsample_bylevel': 0.7931359961800241}. Best is trial 75 with value: 0.504462638345147.\n",
            "[I 2025-05-28 11:26:39,292] Trial 76 finished with value: 0.4883678253808207 and parameters: {'n_estimators': 620, 'learning_rate': 0.03482979118908543, 'depth': 3, 'l2_leaf_reg': 5.393157541692528, 'subsample': 0.7813528569631634, 'colsample_bylevel': 0.7924951517901375}. Best is trial 75 with value: 0.504462638345147.\n",
            "[I 2025-05-28 11:26:44,397] Trial 77 finished with value: 0.49556776828617244 and parameters: {'n_estimators': 600, 'learning_rate': 0.03387699021272037, 'depth': 3, 'l2_leaf_reg': 5.452477936745279, 'subsample': 0.7829605954690242, 'colsample_bylevel': 0.7935496462956082}. Best is trial 75 with value: 0.504462638345147.\n",
            "[I 2025-05-28 11:26:49,359] Trial 78 finished with value: 0.4855125120761409 and parameters: {'n_estimators': 611, 'learning_rate': 0.0338262274134605, 'depth': 3, 'l2_leaf_reg': 5.458459090981825, 'subsample': 0.7859766848865105, 'colsample_bylevel': 0.7961054954965471}. Best is trial 75 with value: 0.504462638345147.\n",
            "[I 2025-05-28 11:26:54,266] Trial 79 finished with value: 0.4939508091815824 and parameters: {'n_estimators': 601, 'learning_rate': 0.034162831613770706, 'depth': 3, 'l2_leaf_reg': 5.420666150581257, 'subsample': 0.783227866991091, 'colsample_bylevel': 0.7911050797640704}. Best is trial 75 with value: 0.504462638345147.\n",
            "[I 2025-05-28 11:26:58,637] Trial 80 finished with value: 0.490215475311924 and parameters: {'n_estimators': 607, 'learning_rate': 0.034346120882148716, 'depth': 3, 'l2_leaf_reg': 5.421039531791981, 'subsample': 0.7837308074550188, 'colsample_bylevel': 0.7937032577216121}. Best is trial 75 with value: 0.504462638345147.\n",
            "[I 2025-05-28 11:27:03,410] Trial 81 finished with value: 0.48579670358700006 and parameters: {'n_estimators': 601, 'learning_rate': 0.03355019196844232, 'depth': 3, 'l2_leaf_reg': 5.41431260498854, 'subsample': 0.7831153191185692, 'colsample_bylevel': 0.7911271942931732}. Best is trial 75 with value: 0.504462638345147.\n",
            "[I 2025-05-28 11:27:07,685] Trial 82 finished with value: 0.4869127168064581 and parameters: {'n_estimators': 623, 'learning_rate': 0.034070400098008, 'depth': 3, 'l2_leaf_reg': 5.485136680759835, 'subsample': 0.7815818556600166, 'colsample_bylevel': 0.7941779511513266}. Best is trial 75 with value: 0.504462638345147.\n",
            "[I 2025-05-28 11:27:12,279] Trial 83 finished with value: 0.489402067610553 and parameters: {'n_estimators': 616, 'learning_rate': 0.033715417968038106, 'depth': 3, 'l2_leaf_reg': 5.389174393618113, 'subsample': 0.7857402329075397, 'colsample_bylevel': 0.7911243007702463}. Best is trial 75 with value: 0.504462638345147.\n",
            "[I 2025-05-28 11:27:16,890] Trial 84 finished with value: 0.4907972017620098 and parameters: {'n_estimators': 632, 'learning_rate': 0.035059412096352854, 'depth': 3, 'l2_leaf_reg': 5.447878109475932, 'subsample': 0.7902491584780217, 'colsample_bylevel': 0.7934790034646791}. Best is trial 75 with value: 0.504462638345147.\n",
            "[I 2025-05-28 11:27:21,888] Trial 85 finished with value: 0.4812587105196089 and parameters: {'n_estimators': 600, 'learning_rate': 0.03326668231406134, 'depth': 3, 'l2_leaf_reg': 5.3147081872597655, 'subsample': 0.7874962031710566, 'colsample_bylevel': 0.7885202966684827}. Best is trial 75 with value: 0.504462638345147.\n",
            "[I 2025-05-28 11:27:26,007] Trial 86 finished with value: 0.47649184288127105 and parameters: {'n_estimators': 617, 'learning_rate': 0.032742774168319326, 'depth': 3, 'l2_leaf_reg': 5.3377457248370765, 'subsample': 0.7831417654012947, 'colsample_bylevel': 0.7957801773430329}. Best is trial 75 with value: 0.504462638345147.\n",
            "[I 2025-05-28 11:27:29,898] Trial 87 finished with value: 0.48623522022203397 and parameters: {'n_estimators': 605, 'learning_rate': 0.03417672568194004, 'depth': 3, 'l2_leaf_reg': 5.2758209699571825, 'subsample': 0.7865747449760436, 'colsample_bylevel': 0.7981461713276544}. Best is trial 75 with value: 0.504462638345147.\n",
            "[I 2025-05-28 11:27:36,257] Trial 88 finished with value: 0.4738067619576447 and parameters: {'n_estimators': 613, 'learning_rate': 0.03642786455514665, 'depth': 4, 'l2_leaf_reg': 5.498930290374835, 'subsample': 0.7815784448754692, 'colsample_bylevel': 0.7866883892288092}. Best is trial 75 with value: 0.504462638345147.\n",
            "[I 2025-05-28 11:27:40,095] Trial 89 finished with value: 0.49036780648602807 and parameters: {'n_estimators': 609, 'learning_rate': 0.03473277114344565, 'depth': 3, 'l2_leaf_reg': 5.381534628784936, 'subsample': 0.7848249295601814, 'colsample_bylevel': 0.7911020507130861}. Best is trial 75 with value: 0.504462638345147.\n",
            "[I 2025-05-28 11:27:43,611] Trial 90 finished with value: 0.49136113788132374 and parameters: {'n_estimators': 604, 'learning_rate': 0.034534326372156046, 'depth': 3, 'l2_leaf_reg': 5.467316176114917, 'subsample': 0.7913266682209598, 'colsample_bylevel': 0.7928188379128971}. Best is trial 75 with value: 0.504462638345147.\n",
            "[I 2025-05-28 11:27:47,305] Trial 91 finished with value: 0.4995603176386851 and parameters: {'n_estimators': 604, 'learning_rate': 0.034515931529822526, 'depth': 3, 'l2_leaf_reg': 5.460636404491686, 'subsample': 0.7912246985993842, 'colsample_bylevel': 0.7931427064643041}. Best is trial 75 with value: 0.504462638345147.\n",
            "[I 2025-05-28 11:27:51,086] Trial 92 finished with value: 0.4864784695035236 and parameters: {'n_estimators': 623, 'learning_rate': 0.0336565609575293, 'depth': 3, 'l2_leaf_reg': 5.442654640309761, 'subsample': 0.7946442832737961, 'colsample_bylevel': 0.7896530099536898}. Best is trial 75 with value: 0.504462638345147.\n",
            "[I 2025-05-28 11:27:54,922] Trial 93 finished with value: 0.4758958955603835 and parameters: {'n_estimators': 611, 'learning_rate': 0.0375065162507284, 'depth': 3, 'l2_leaf_reg': 5.4039767815136885, 'subsample': 0.7831323123542833, 'colsample_bylevel': 0.7948160499721924}. Best is trial 75 with value: 0.504462638345147.\n",
            "[I 2025-05-28 11:27:58,591] Trial 94 finished with value: 0.47976832124596214 and parameters: {'n_estimators': 600, 'learning_rate': 0.034147321402200635, 'depth': 3, 'l2_leaf_reg': 5.419583383841337, 'subsample': 0.7987453957354415, 'colsample_bylevel': 0.7966727428633843}. Best is trial 75 with value: 0.504462638345147.\n",
            "[I 2025-05-28 11:28:02,418] Trial 95 finished with value: 0.4868042092183261 and parameters: {'n_estimators': 607, 'learning_rate': 0.03535786782328896, 'depth': 3, 'l2_leaf_reg': 5.469932095165605, 'subsample': 0.7851873278754137, 'colsample_bylevel': 0.7878674523856289}. Best is trial 75 with value: 0.504462638345147.\n",
            "[I 2025-05-28 11:28:06,167] Trial 96 finished with value: 0.4882624861807273 and parameters: {'n_estimators': 615, 'learning_rate': 0.03325210941874003, 'depth': 3, 'l2_leaf_reg': 5.291194373297971, 'subsample': 0.7800148767461442, 'colsample_bylevel': 0.7906029104865177}. Best is trial 75 with value: 0.504462638345147.\n",
            "[I 2025-05-28 11:28:09,978] Trial 97 finished with value: 0.4942367641528076 and parameters: {'n_estimators': 619, 'learning_rate': 0.03456654134042576, 'depth': 3, 'l2_leaf_reg': 5.344258439262081, 'subsample': 0.8063067472436404, 'colsample_bylevel': 0.79345005819136}. Best is trial 75 with value: 0.504462638345147.\n",
            "[I 2025-05-28 11:28:14,033] Trial 98 finished with value: 0.4929614776679694 and parameters: {'n_estimators': 630, 'learning_rate': 0.034392283069040915, 'depth': 3, 'l2_leaf_reg': 5.320907130091399, 'subsample': 0.8098304222991811, 'colsample_bylevel': 0.7919863047063025}. Best is trial 75 with value: 0.504462638345147.\n",
            "[I 2025-05-28 11:28:18,057] Trial 99 finished with value: 0.4866217963979083 and parameters: {'n_estimators': 630, 'learning_rate': 0.034501152603593925, 'depth': 3, 'l2_leaf_reg': 5.324469726544276, 'subsample': 0.8076130238095214, 'colsample_bylevel': 0.7942093690271739}. Best is trial 75 with value: 0.504462638345147.\n"
          ]
        },
        {
          "name": "stdout",
          "output_type": "stream",
          "text": [
            "\n",
            "--- FOCUSED CatBoost Optuna Study Complete ---\n",
            "Best trial number: 75\n",
            "Best F1 Macro: 0.504462638345147\n",
            "Best CatBoost Params: {'n_estimators': 621, 'learning_rate': 0.03406569859006729, 'depth': 3, 'l2_leaf_reg': 5.399553295165234, 'subsample': 0.7816861432700138, 'colsample_bylevel': 0.7931359961800241}\n"
          ]
        }
      ],
      "source": [
        "# def objective_catboost_focused(trial):\n",
        "#     \"\"\"Defines the FOCUSED objective function for CatBoost tuning.\"\"\"\n",
        "\n",
        "#     params = {\n",
        "#         'n_estimators': trial.suggest_int('n_estimators', 600, 750),       # Very narrow range around 676\n",
        "#         'learning_rate': trial.suggest_float('learning_rate', 0.030, 0.040), # Very narrow range around 0.034\n",
        "#         'depth': trial.suggest_int('depth', 3, 4),                           # Try 3 and maybe 4\n",
        "#         'l2_leaf_reg': trial.suggest_float('l2_leaf_reg', 4.5, 5.5),         # Very narrow range around 4.928\n",
        "#         'subsample': trial.suggest_float('subsample', 0.78, 0.83),           # Very narrow range around 0.806\n",
        "#         'colsample_bylevel': trial.suggest_float('colsample_bylevel', 0.75, 0.80), # Very narrow range around 0.772\n",
        "#         'bootstrap_type': 'Bernoulli',\n",
        "#         'class_weights': None, # Keep as None, since it performed best\n",
        "#         'loss_function': 'MultiClass',\n",
        "#         'random_state': RANDOM_STATE,\n",
        "#         'verbose': 0\n",
        "#     }\n",
        "\n",
        "#     if USE_GPU:\n",
        "#         params['task_type'] = 'GPU'\n",
        "#         params['devices'] = '0'\n",
        "\n",
        "#     pipeline = Pipeline([\n",
        "#         ('balancer', SMOTETomek(random_state=RANDOM_STATE)),\n",
        "#         ('model', CatBoostClassifier(**params))\n",
        "#     ])\n",
        "\n",
        "#     try:\n",
        "#         f1_scorer = make_scorer(f1_score, average='macro')\n",
        "#         score = cross_val_score(pipeline, X_train, y_train, cv=cv_out, scoring=f1_scorer, n_jobs=-1).mean()\n",
        "#     except Exception as e:\n",
        "#         print(f\"Trial failed with error: {e}\")\n",
        "#         return 0.0\n",
        "\n",
        "#     return score\n",
        "\n",
        "# # --- Run the FOCUSED Study ---\n",
        "# print(\"--- Starting FOCUSED Optuna Study for CatBoost ---\")\n",
        "# study_catboost_focused = optuna.create_study(direction='maximize')\n",
        "# study_catboost_focused.optimize(objective_catboost_focused, n_trials=100) # 50 trials should be enough for this narrow space\n",
        "\n",
        "# print(\"\\n--- FOCUSED CatBoost Optuna Study Complete ---\")\n",
        "# print(\"Best trial number:\", study_catboost_focused.best_trial.number)\n",
        "# print(\"Best F1 Macro:\", study_catboost_focused.best_value)\n",
        "# print(\"Best CatBoost Params:\", study_catboost_focused.best_params)"
      ]
    },
    {
      "cell_type": "markdown",
      "metadata": {},
      "source": [
        "fine tuning catboost:\n",
        "\n",
        "--- FOCUSED CatBoost Optuna Study Complete ---\n",
        "\n",
        "Best trial number: 29 (of 50)\n",
        "\n",
        "Best F1 Macro: 0.4924849631593303\n",
        "\n",
        "Best CatBoost Params: {'n_estimators': 628, 'learning_rate': 0.03486016582540382, 'depth': 3, 'l2_leaf_reg': 4.823791817177096, 'subsample': 0.8246546477019483, 'colsample_bylevel': 0.7933347359233545}\n",
        "\n",
        "--- FOCUSED CatBoost Optuna Study Complete ---\n",
        "\n",
        "Best trial number: 75 (of 100)\n",
        "\n",
        "Best F1 Macro: 0.504462638345147\n",
        "\n",
        "Best CatBoost Params: {'n_estimators': 621, 'learning_rate': 0.03406569859006729, 'depth': 3, 'l2_leaf_reg': 5.399553295165234, 'subsample': 0.7816861432700138, 'colsample_bylevel': 0.7931359961800241}"
      ]
    },
    {
      "cell_type": "code",
      "execution_count": null,
      "metadata": {},
      "outputs": [
        {
          "name": "stdout",
          "output_type": "stream",
          "text": [
            "--- Training the final CatBoost pipeline on X_train ---\n",
            "--- Training Complete ---\n",
            "--- Making predictions on X_test ---\n",
            "\n",
            "--- Classification Report ---\n",
            "              precision    recall  f1-score   support\n",
            "\n",
            "           0       0.83      0.76      0.79        83\n",
            "           1       0.69      0.38      0.49        53\n",
            "           2       0.28      0.41      0.33        22\n",
            "           3       0.33      0.67      0.44        21\n",
            "\n",
            "    accuracy                           0.59       179\n",
            "   macro avg       0.53      0.55      0.51       179\n",
            "weighted avg       0.66      0.59      0.60       179\n",
            "\n",
            "cv mean:  50.4462638345147\n",
            "cv std:  5.632100177247965\n",
            "\n",
            "--- Confusion Matrix ---\n"
          ]
        },
        {
          "data": {
            "image/png": "[encoded data removed]",
            "text/plain": [
              "<Figure size 640x480 with 2 Axes>"
            ]
          },
          "metadata": {},
          "output_type": "display_data"
        }
      ],
      "source": [
        "best_catboost_params = {\n",
        "    'n_estimators': 621,\n",
        "    'learning_rate': 0.03406569859006729,\n",
        "    'depth': 3,\n",
        "    'l2_leaf_reg': 5.399553295165234,\n",
        "    'subsample': 0.7816861432700138,\n",
        "    'colsample_bylevel': 0.7931359961800241,\n",
        "    'bootstrap_type': 'Bernoulli', # Make sure to include this from your previous search\n",
        "    'class_weights': None, # As found by Optuna\n",
        "    'loss_function': 'MultiClass', # Keep this explicit\n",
        "    'random_state': RANDOM_STATE,\n",
        "    'verbose': 0\n",
        "}\n",
        "\n",
        "# Add GPU setting if enabled\n",
        "if USE_GPU:\n",
        "    best_catboost_params['task_type'] = 'GPU'\n",
        "    best_catboost_params['devices'] = '0'\n",
        "\n",
        "# --- Build the Final Pipeline ---\n",
        "# We use SMOTETomek as decided and initialize CatBoost with the best parameters.\n",
        "final_cat_pipeline = Pipeline([\n",
        "    ('balancer', SMOTETomek(random_state=RANDOM_STATE)),\n",
        "    ('model', CatBoostClassifier(**best_catboost_params))\n",
        "])\n",
        "\n",
        "# --- Train the Final Pipeline ---\n",
        "print(\"--- Training the final CatBoost pipeline on X_train ---\")\n",
        "# Ensure X_train and y_train are defined and available\n",
        "final_cat_pipeline.fit(X_train, y_train)\n",
        "print(\"--- Training Complete ---\")\n",
        "\n",
        "# --- Make Predictions on the Test Set ---\n",
        "print(\"--- Making predictions on X_test ---\")\n",
        "# Ensure X_test and y_test are defined and available\n",
        "y_pred = final_cat_pipeline.predict(X_test)\n",
        "\n",
        "# --- Evaluate the Model ---\n",
        "\n",
        "# 1. Classification Report\n",
        "print(\"\\n--- Classification Report ---\")\n",
        "report = classification_report(y_test, y_pred)\n",
        "print(report)\n",
        "print('cv mean: ', cross_val_score(final_cat_pipeline, X_train, y_train, cv=cv_out, scoring='f1_macro', n_jobs=-1).mean() * 100)\n",
        "print('cv std: ', cross_val_score(final_cat_pipeline, X_train, y_train, cv=cv_out, scoring='f1_macro', n_jobs=-1).std() * 100)\n",
        "\n",
        "# 2. Confusion Matrix\n",
        "print(\"\\n--- Confusion Matrix ---\")\n",
        "cm = confusion_matrix(y_test, y_pred)\n",
        "# print(cm) # You can print the raw array if you like\n",
        "\n",
        "# 3. Visual Confusion Matrix\n",
        "# This provides a much clearer view, especially for multiclass.\n",
        "disp = ConfusionMatrixDisplay(confusion_matrix=cm)\n",
        "disp.plot(cmap=plt.cm.Blues)\n",
        "plt.title(\"CatBoost Confusion Matrix (Test Set)\")\n",
        "plt.show()"
      ]
    },
    {
      "cell_type": "markdown",
      "metadata": {
        "id": "Pl8fuJM6vx-G"
      },
      "source": [
        "## ensembling"
      ]
    },
    {
      "cell_type": "code",
      "execution_count": 125,
      "metadata": {
        "id": "KoR0dKkNsnWK"
      },
      "outputs": [],
      "source": [
        "br_final = Pipeline(steps=[\n",
        "        ('balancer', TomekLinks(sampling_strategy='majority')),\n",
        "        ('model', BalancedRandomForestClassifier(\n",
        "                max_depth=25,\n",
        "                min_samples_leaf=2,\n",
        "                min_samples_split=5,\n",
        "                n_estimators=120,\n",
        "                random_state=42\n",
        "            )\n",
        "        )\n",
        "    ])\n",
        "\n",
        "xgb_final_params = {\n",
        "    'n_estimators': 621,\n",
        "    'learning_rate': 0.03406569859006729,\n",
        "    'depth': 3,\n",
        "    'l2_leaf_reg': 5.399553295165234,\n",
        "    'subsample': 0.7816861432700138,\n",
        "    'colsample_bylevel': 0.7931359961800241,\n",
        "    'bootstrap_type': 'Bernoulli', # Make sure to include this from your previous search\n",
        "    'class_weights': None, # As found by Optuna\n",
        "    'loss_function': 'MultiClass', # Keep this explicit\n",
        "    'random_state': RANDOM_STATE,\n",
        "    'verbose': 0\n",
        "}\n",
        "\n",
        "xgb_final = Pipeline([\n",
        "    ('balancer', TomekLinks(sampling_strategy='majority')),  # if it helped your results\n",
        "    ('model', XGBClassifier(\n",
        "        **xgb_final_params\n",
        "    ))\n",
        "])\n",
        "\n",
        "cat_final_params = {\n",
        "    'n_estimators': 621,\n",
        "    'learning_rate': 0.03406569859006729,\n",
        "    'depth': 3,\n",
        "    'l2_leaf_reg': 5.399553295165234,\n",
        "    'subsample': 0.7816861432700138,\n",
        "    'colsample_bylevel': 0.7931359961800241,\n",
        "    'bootstrap_type': 'Bernoulli', # Make sure to include this from your previous search\n",
        "    'class_weights': None, # As found by Optuna\n",
        "    'loss_function': 'MultiClass', # Keep this explicit\n",
        "    'random_state': RANDOM_STATE,\n",
        "    'verbose': 0\n",
        "}\n",
        "\n",
        "cat_final = Pipeline([\n",
        "    ('balancer', SMOTETomek(random_state=42)),  # keep whatever worked best\n",
        "    ('model', CatBoostClassifier(\n",
        "        **cat_final_params\n",
        "    ))\n",
        "])\n",
        "\n",
        "rf_final = Pipeline(\n",
        "    steps=[\n",
        "        ('balancer', TomekLinks(sampling_strategy='majority')),\n",
        "        ('model', RandomForestClassifier(\n",
        "                class_weight='balanced', \n",
        "                max_depth=70,\n",
        "                min_samples_leaf=2,\n",
        "                min_samples_split=16, \n",
        "                n_estimators=1176,\n",
        "                random_state=42\n",
        "            )\n",
        "        )])"
      ]
    },
    {
      "cell_type": "markdown",
      "metadata": {
        "id": "ga2o9Tagvzzg"
      },
      "source": [
        "## stacking"
      ]
    },
    {
      "cell_type": "code",
      "execution_count": 128,
      "metadata": {
        "id": "dwRJENTUy5QT"
      },
      "outputs": [],
      "source": [
        "from sklearn.ensemble import StackingClassifier\n",
        "from sklearn.linear_model import RidgeClassifier, RidgeClassifierCV"
      ]
    },
    {
      "cell_type": "code",
      "execution_count": 211,
      "metadata": {
        "id": "dXnH6Z0mvEti"
      },
      "outputs": [
        {
          "ename": "KeyboardInterrupt",
          "evalue": "",
          "output_type": "error",
          "traceback": [
            "\u001b[1;31m---------------------------------------------------------------------------\u001b[0m",
            "\u001b[1;31mKeyboardInterrupt\u001b[0m                         Traceback (most recent call last)",
            "Cell \u001b[1;32mIn[211], line 41\u001b[0m\n\u001b[0;32m     25\u001b[0m stacking \u001b[38;5;241m=\u001b[39m StackingClassifier(\n\u001b[0;32m     26\u001b[0m     estimators\u001b[38;5;241m=\u001b[39m[\n\u001b[0;32m     27\u001b[0m         (\u001b[38;5;124m'\u001b[39m\u001b[38;5;124mrf\u001b[39m\u001b[38;5;124m'\u001b[39m, rf_model),\n\u001b[1;32m   (...)\u001b[0m\n\u001b[0;32m     34\u001b[0m     passthrough\u001b[38;5;241m=\u001b[39m\u001b[38;5;28;01mFalse\u001b[39;00m\n\u001b[0;32m     35\u001b[0m )\n\u001b[0;32m     37\u001b[0m pipeline \u001b[38;5;241m=\u001b[39m Pipeline(steps\u001b[38;5;241m=\u001b[39m[\n\u001b[0;32m     38\u001b[0m     (\u001b[38;5;124m'\u001b[39m\u001b[38;5;124mmodel\u001b[39m\u001b[38;5;124m'\u001b[39m, stacking)\n\u001b[0;32m     39\u001b[0m ])\n\u001b[1;32m---> 41\u001b[0m \u001b[43mpipeline\u001b[49m\u001b[38;5;241;43m.\u001b[39;49m\u001b[43mfit\u001b[49m\u001b[43m(\u001b[49m\u001b[43mX_train\u001b[49m\u001b[43m,\u001b[49m\u001b[43m \u001b[49m\u001b[43my_train\u001b[49m\u001b[43m)\u001b[49m\n",
            "File \u001b[1;32md:\\Uni\\Semester 4\\Code\\Machine Learning\\.conda\\Lib\\site-packages\\sklearn\\base.py:1389\u001b[0m, in \u001b[0;36m_fit_context.<locals>.decorator.<locals>.wrapper\u001b[1;34m(estimator, *args, **kwargs)\u001b[0m\n\u001b[0;32m   1382\u001b[0m     estimator\u001b[38;5;241m.\u001b[39m_validate_params()\n\u001b[0;32m   1384\u001b[0m \u001b[38;5;28;01mwith\u001b[39;00m config_context(\n\u001b[0;32m   1385\u001b[0m     skip_parameter_validation\u001b[38;5;241m=\u001b[39m(\n\u001b[0;32m   1386\u001b[0m         prefer_skip_nested_validation \u001b[38;5;129;01mor\u001b[39;00m global_skip_validation\n\u001b[0;32m   1387\u001b[0m     )\n\u001b[0;32m   1388\u001b[0m ):\n\u001b[1;32m-> 1389\u001b[0m     \u001b[38;5;28;01mreturn\u001b[39;00m \u001b[43mfit_method\u001b[49m\u001b[43m(\u001b[49m\u001b[43mestimator\u001b[49m\u001b[43m,\u001b[49m\u001b[43m \u001b[49m\u001b[38;5;241;43m*\u001b[39;49m\u001b[43margs\u001b[49m\u001b[43m,\u001b[49m\u001b[43m \u001b[49m\u001b[38;5;241;43m*\u001b[39;49m\u001b[38;5;241;43m*\u001b[39;49m\u001b[43mkwargs\u001b[49m\u001b[43m)\u001b[49m\n",
            "File \u001b[1;32md:\\Uni\\Semester 4\\Code\\Machine Learning\\.conda\\Lib\\site-packages\\imblearn\\pipeline.py:526\u001b[0m, in \u001b[0;36mPipeline.fit\u001b[1;34m(self, X, y, **params)\u001b[0m\n\u001b[0;32m    520\u001b[0m     \u001b[38;5;28;01mif\u001b[39;00m \u001b[38;5;28mself\u001b[39m\u001b[38;5;241m.\u001b[39m_final_estimator \u001b[38;5;241m!=\u001b[39m \u001b[38;5;124m\"\u001b[39m\u001b[38;5;124mpassthrough\u001b[39m\u001b[38;5;124m\"\u001b[39m:\n\u001b[0;32m    521\u001b[0m         last_step_params \u001b[38;5;241m=\u001b[39m \u001b[38;5;28mself\u001b[39m\u001b[38;5;241m.\u001b[39m_get_metadata_for_step(\n\u001b[0;32m    522\u001b[0m             step_idx\u001b[38;5;241m=\u001b[39m\u001b[38;5;28mlen\u001b[39m(\u001b[38;5;28mself\u001b[39m) \u001b[38;5;241m-\u001b[39m \u001b[38;5;241m1\u001b[39m,\n\u001b[0;32m    523\u001b[0m             step_params\u001b[38;5;241m=\u001b[39mrouted_params[\u001b[38;5;28mself\u001b[39m\u001b[38;5;241m.\u001b[39msteps[\u001b[38;5;241m-\u001b[39m\u001b[38;5;241m1\u001b[39m][\u001b[38;5;241m0\u001b[39m]],\n\u001b[0;32m    524\u001b[0m             all_params\u001b[38;5;241m=\u001b[39mparams,\n\u001b[0;32m    525\u001b[0m         )\n\u001b[1;32m--> 526\u001b[0m         \u001b[38;5;28;43mself\u001b[39;49m\u001b[38;5;241;43m.\u001b[39;49m\u001b[43m_final_estimator\u001b[49m\u001b[38;5;241;43m.\u001b[39;49m\u001b[43mfit\u001b[49m\u001b[43m(\u001b[49m\u001b[43mXt\u001b[49m\u001b[43m,\u001b[49m\u001b[43m \u001b[49m\u001b[43myt\u001b[49m\u001b[43m,\u001b[49m\u001b[43m \u001b[49m\u001b[38;5;241;43m*\u001b[39;49m\u001b[38;5;241;43m*\u001b[39;49m\u001b[43mlast_step_params\u001b[49m\u001b[43m[\u001b[49m\u001b[38;5;124;43m\"\u001b[39;49m\u001b[38;5;124;43mfit\u001b[39;49m\u001b[38;5;124;43m\"\u001b[39;49m\u001b[43m]\u001b[49m\u001b[43m)\u001b[49m\n\u001b[0;32m    527\u001b[0m \u001b[38;5;28;01mreturn\u001b[39;00m \u001b[38;5;28mself\u001b[39m\n",
            "File \u001b[1;32md:\\Uni\\Semester 4\\Code\\Machine Learning\\.conda\\Lib\\site-packages\\sklearn\\utils\\validation.py:63\u001b[0m, in \u001b[0;36m_deprecate_positional_args.<locals>._inner_deprecate_positional_args.<locals>.inner_f\u001b[1;34m(*args, **kwargs)\u001b[0m\n\u001b[0;32m     61\u001b[0m extra_args \u001b[38;5;241m=\u001b[39m \u001b[38;5;28mlen\u001b[39m(args) \u001b[38;5;241m-\u001b[39m \u001b[38;5;28mlen\u001b[39m(all_args)\n\u001b[0;32m     62\u001b[0m \u001b[38;5;28;01mif\u001b[39;00m extra_args \u001b[38;5;241m<\u001b[39m\u001b[38;5;241m=\u001b[39m \u001b[38;5;241m0\u001b[39m:\n\u001b[1;32m---> 63\u001b[0m     \u001b[38;5;28;01mreturn\u001b[39;00m \u001b[43mf\u001b[49m\u001b[43m(\u001b[49m\u001b[38;5;241;43m*\u001b[39;49m\u001b[43margs\u001b[49m\u001b[43m,\u001b[49m\u001b[43m \u001b[49m\u001b[38;5;241;43m*\u001b[39;49m\u001b[38;5;241;43m*\u001b[39;49m\u001b[43mkwargs\u001b[49m\u001b[43m)\u001b[49m\n\u001b[0;32m     65\u001b[0m \u001b[38;5;66;03m# extra_args > 0\u001b[39;00m\n\u001b[0;32m     66\u001b[0m args_msg \u001b[38;5;241m=\u001b[39m [\n\u001b[0;32m     67\u001b[0m     \u001b[38;5;124m\"\u001b[39m\u001b[38;5;132;01m{}\u001b[39;00m\u001b[38;5;124m=\u001b[39m\u001b[38;5;132;01m{}\u001b[39;00m\u001b[38;5;124m\"\u001b[39m\u001b[38;5;241m.\u001b[39mformat(name, arg)\n\u001b[0;32m     68\u001b[0m     \u001b[38;5;28;01mfor\u001b[39;00m name, arg \u001b[38;5;129;01min\u001b[39;00m \u001b[38;5;28mzip\u001b[39m(kwonly_args[:extra_args], args[\u001b[38;5;241m-\u001b[39mextra_args:])\n\u001b[0;32m     69\u001b[0m ]\n",
            "File \u001b[1;32md:\\Uni\\Semester 4\\Code\\Machine Learning\\.conda\\Lib\\site-packages\\sklearn\\ensemble\\_stacking.py:717\u001b[0m, in \u001b[0;36mStackingClassifier.fit\u001b[1;34m(self, X, y, sample_weight, **fit_params)\u001b[0m\n\u001b[0;32m    715\u001b[0m \u001b[38;5;28;01mif\u001b[39;00m sample_weight \u001b[38;5;129;01mis\u001b[39;00m \u001b[38;5;129;01mnot\u001b[39;00m \u001b[38;5;28;01mNone\u001b[39;00m:\n\u001b[0;32m    716\u001b[0m     fit_params[\u001b[38;5;124m\"\u001b[39m\u001b[38;5;124msample_weight\u001b[39m\u001b[38;5;124m\"\u001b[39m] \u001b[38;5;241m=\u001b[39m sample_weight\n\u001b[1;32m--> 717\u001b[0m \u001b[38;5;28;01mreturn\u001b[39;00m \u001b[38;5;28;43msuper\u001b[39;49m\u001b[43m(\u001b[49m\u001b[43m)\u001b[49m\u001b[38;5;241;43m.\u001b[39;49m\u001b[43mfit\u001b[49m\u001b[43m(\u001b[49m\u001b[43mX\u001b[49m\u001b[43m,\u001b[49m\u001b[43m \u001b[49m\u001b[43my_encoded\u001b[49m\u001b[43m,\u001b[49m\u001b[43m \u001b[49m\u001b[38;5;241;43m*\u001b[39;49m\u001b[38;5;241;43m*\u001b[39;49m\u001b[43mfit_params\u001b[49m\u001b[43m)\u001b[49m\n",
            "File \u001b[1;32md:\\Uni\\Semester 4\\Code\\Machine Learning\\.conda\\Lib\\site-packages\\sklearn\\base.py:1389\u001b[0m, in \u001b[0;36m_fit_context.<locals>.decorator.<locals>.wrapper\u001b[1;34m(estimator, *args, **kwargs)\u001b[0m\n\u001b[0;32m   1382\u001b[0m     estimator\u001b[38;5;241m.\u001b[39m_validate_params()\n\u001b[0;32m   1384\u001b[0m \u001b[38;5;28;01mwith\u001b[39;00m config_context(\n\u001b[0;32m   1385\u001b[0m     skip_parameter_validation\u001b[38;5;241m=\u001b[39m(\n\u001b[0;32m   1386\u001b[0m         prefer_skip_nested_validation \u001b[38;5;129;01mor\u001b[39;00m global_skip_validation\n\u001b[0;32m   1387\u001b[0m     )\n\u001b[0;32m   1388\u001b[0m ):\n\u001b[1;32m-> 1389\u001b[0m     \u001b[38;5;28;01mreturn\u001b[39;00m \u001b[43mfit_method\u001b[49m\u001b[43m(\u001b[49m\u001b[43mestimator\u001b[49m\u001b[43m,\u001b[49m\u001b[43m \u001b[49m\u001b[38;5;241;43m*\u001b[39;49m\u001b[43margs\u001b[49m\u001b[43m,\u001b[49m\u001b[43m \u001b[49m\u001b[38;5;241;43m*\u001b[39;49m\u001b[38;5;241;43m*\u001b[39;49m\u001b[43mkwargs\u001b[49m\u001b[43m)\u001b[49m\n",
            "File \u001b[1;32md:\\Uni\\Semester 4\\Code\\Machine Learning\\.conda\\Lib\\site-packages\\sklearn\\ensemble\\_stacking.py:254\u001b[0m, in \u001b[0;36m_BaseStacking.fit\u001b[1;34m(self, X, y, **fit_params)\u001b[0m\n\u001b[0;32m    251\u001b[0m     \u001b[38;5;28;01mif\u001b[39;00m \u001b[38;5;28mhasattr\u001b[39m(cv, \u001b[38;5;124m\"\u001b[39m\u001b[38;5;124mrandom_state\u001b[39m\u001b[38;5;124m\"\u001b[39m) \u001b[38;5;129;01mand\u001b[39;00m cv\u001b[38;5;241m.\u001b[39mrandom_state \u001b[38;5;129;01mis\u001b[39;00m \u001b[38;5;28;01mNone\u001b[39;00m:\n\u001b[0;32m    252\u001b[0m         cv\u001b[38;5;241m.\u001b[39mrandom_state \u001b[38;5;241m=\u001b[39m np\u001b[38;5;241m.\u001b[39mrandom\u001b[38;5;241m.\u001b[39mRandomState()\n\u001b[1;32m--> 254\u001b[0m     predictions \u001b[38;5;241m=\u001b[39m \u001b[43mParallel\u001b[49m\u001b[43m(\u001b[49m\u001b[43mn_jobs\u001b[49m\u001b[38;5;241;43m=\u001b[39;49m\u001b[38;5;28;43mself\u001b[39;49m\u001b[38;5;241;43m.\u001b[39;49m\u001b[43mn_jobs\u001b[49m\u001b[43m)\u001b[49m\u001b[43m(\u001b[49m\n\u001b[0;32m    255\u001b[0m \u001b[43m        \u001b[49m\u001b[43mdelayed\u001b[49m\u001b[43m(\u001b[49m\u001b[43mcross_val_predict\u001b[49m\u001b[43m)\u001b[49m\u001b[43m(\u001b[49m\n\u001b[0;32m    256\u001b[0m \u001b[43m            \u001b[49m\u001b[43mclone\u001b[49m\u001b[43m(\u001b[49m\u001b[43mest\u001b[49m\u001b[43m)\u001b[49m\u001b[43m,\u001b[49m\n\u001b[0;32m    257\u001b[0m \u001b[43m            \u001b[49m\u001b[43mX\u001b[49m\u001b[43m,\u001b[49m\n\u001b[0;32m    258\u001b[0m \u001b[43m            \u001b[49m\u001b[43my\u001b[49m\u001b[43m,\u001b[49m\n\u001b[0;32m    259\u001b[0m \u001b[43m            \u001b[49m\u001b[43mcv\u001b[49m\u001b[38;5;241;43m=\u001b[39;49m\u001b[43mdeepcopy\u001b[49m\u001b[43m(\u001b[49m\u001b[43mcv\u001b[49m\u001b[43m)\u001b[49m\u001b[43m,\u001b[49m\n\u001b[0;32m    260\u001b[0m \u001b[43m            \u001b[49m\u001b[43mmethod\u001b[49m\u001b[38;5;241;43m=\u001b[39;49m\u001b[43mmeth\u001b[49m\u001b[43m,\u001b[49m\n\u001b[0;32m    261\u001b[0m \u001b[43m            \u001b[49m\u001b[43mn_jobs\u001b[49m\u001b[38;5;241;43m=\u001b[39;49m\u001b[38;5;28;43mself\u001b[39;49m\u001b[38;5;241;43m.\u001b[39;49m\u001b[43mn_jobs\u001b[49m\u001b[43m,\u001b[49m\n\u001b[0;32m    262\u001b[0m \u001b[43m            \u001b[49m\u001b[43mparams\u001b[49m\u001b[38;5;241;43m=\u001b[39;49m\u001b[43mrouted_params\u001b[49m\u001b[43m[\u001b[49m\u001b[43mname\u001b[49m\u001b[43m]\u001b[49m\u001b[43m[\u001b[49m\u001b[38;5;124;43m\"\u001b[39;49m\u001b[38;5;124;43mfit\u001b[39;49m\u001b[38;5;124;43m\"\u001b[39;49m\u001b[43m]\u001b[49m\u001b[43m,\u001b[49m\n\u001b[0;32m    263\u001b[0m \u001b[43m            \u001b[49m\u001b[43mverbose\u001b[49m\u001b[38;5;241;43m=\u001b[39;49m\u001b[38;5;28;43mself\u001b[39;49m\u001b[38;5;241;43m.\u001b[39;49m\u001b[43mverbose\u001b[49m\u001b[43m,\u001b[49m\n\u001b[0;32m    264\u001b[0m \u001b[43m        \u001b[49m\u001b[43m)\u001b[49m\n\u001b[0;32m    265\u001b[0m \u001b[43m        \u001b[49m\u001b[38;5;28;43;01mfor\u001b[39;49;00m\u001b[43m \u001b[49m\u001b[43mname\u001b[49m\u001b[43m,\u001b[49m\u001b[43m \u001b[49m\u001b[43mest\u001b[49m\u001b[43m,\u001b[49m\u001b[43m \u001b[49m\u001b[43mmeth\u001b[49m\u001b[43m \u001b[49m\u001b[38;5;129;43;01min\u001b[39;49;00m\u001b[43m \u001b[49m\u001b[38;5;28;43mzip\u001b[39;49m\u001b[43m(\u001b[49m\u001b[43mnames\u001b[49m\u001b[43m,\u001b[49m\u001b[43m \u001b[49m\u001b[43mall_estimators\u001b[49m\u001b[43m,\u001b[49m\u001b[43m \u001b[49m\u001b[38;5;28;43mself\u001b[39;49m\u001b[38;5;241;43m.\u001b[39;49m\u001b[43mstack_method_\u001b[49m\u001b[43m)\u001b[49m\n\u001b[0;32m    266\u001b[0m \u001b[43m        \u001b[49m\u001b[38;5;28;43;01mif\u001b[39;49;00m\u001b[43m \u001b[49m\u001b[43mest\u001b[49m\u001b[43m \u001b[49m\u001b[38;5;241;43m!=\u001b[39;49m\u001b[43m \u001b[49m\u001b[38;5;124;43m\"\u001b[39;49m\u001b[38;5;124;43mdrop\u001b[39;49m\u001b[38;5;124;43m\"\u001b[39;49m\n\u001b[0;32m    267\u001b[0m \u001b[43m    \u001b[49m\u001b[43m)\u001b[49m\n\u001b[0;32m    269\u001b[0m \u001b[38;5;66;03m# Only not None or not 'drop' estimators will be used in transform.\u001b[39;00m\n\u001b[0;32m    270\u001b[0m \u001b[38;5;66;03m# Remove the None from the method as well.\u001b[39;00m\n\u001b[0;32m    271\u001b[0m \u001b[38;5;28mself\u001b[39m\u001b[38;5;241m.\u001b[39mstack_method_ \u001b[38;5;241m=\u001b[39m [\n\u001b[0;32m    272\u001b[0m     meth\n\u001b[0;32m    273\u001b[0m     \u001b[38;5;28;01mfor\u001b[39;00m (meth, est) \u001b[38;5;129;01min\u001b[39;00m \u001b[38;5;28mzip\u001b[39m(\u001b[38;5;28mself\u001b[39m\u001b[38;5;241m.\u001b[39mstack_method_, all_estimators)\n\u001b[0;32m    274\u001b[0m     \u001b[38;5;28;01mif\u001b[39;00m est \u001b[38;5;241m!=\u001b[39m \u001b[38;5;124m\"\u001b[39m\u001b[38;5;124mdrop\u001b[39m\u001b[38;5;124m\"\u001b[39m\n\u001b[0;32m    275\u001b[0m ]\n",
            "File \u001b[1;32md:\\Uni\\Semester 4\\Code\\Machine Learning\\.conda\\Lib\\site-packages\\sklearn\\utils\\parallel.py:77\u001b[0m, in \u001b[0;36mParallel.__call__\u001b[1;34m(self, iterable)\u001b[0m\n\u001b[0;32m     72\u001b[0m config \u001b[38;5;241m=\u001b[39m get_config()\n\u001b[0;32m     73\u001b[0m iterable_with_config \u001b[38;5;241m=\u001b[39m (\n\u001b[0;32m     74\u001b[0m     (_with_config(delayed_func, config), args, kwargs)\n\u001b[0;32m     75\u001b[0m     \u001b[38;5;28;01mfor\u001b[39;00m delayed_func, args, kwargs \u001b[38;5;129;01min\u001b[39;00m iterable\n\u001b[0;32m     76\u001b[0m )\n\u001b[1;32m---> 77\u001b[0m \u001b[38;5;28;01mreturn\u001b[39;00m \u001b[38;5;28;43msuper\u001b[39;49m\u001b[43m(\u001b[49m\u001b[43m)\u001b[49m\u001b[38;5;241;43m.\u001b[39;49m\u001b[38;5;21;43m__call__\u001b[39;49m\u001b[43m(\u001b[49m\u001b[43miterable_with_config\u001b[49m\u001b[43m)\u001b[49m\n",
            "File \u001b[1;32md:\\Uni\\Semester 4\\Code\\Machine Learning\\.conda\\Lib\\site-packages\\joblib\\parallel.py:1918\u001b[0m, in \u001b[0;36mParallel.__call__\u001b[1;34m(self, iterable)\u001b[0m\n\u001b[0;32m   1916\u001b[0m     output \u001b[38;5;241m=\u001b[39m \u001b[38;5;28mself\u001b[39m\u001b[38;5;241m.\u001b[39m_get_sequential_output(iterable)\n\u001b[0;32m   1917\u001b[0m     \u001b[38;5;28mnext\u001b[39m(output)\n\u001b[1;32m-> 1918\u001b[0m     \u001b[38;5;28;01mreturn\u001b[39;00m output \u001b[38;5;28;01mif\u001b[39;00m \u001b[38;5;28mself\u001b[39m\u001b[38;5;241m.\u001b[39mreturn_generator \u001b[38;5;28;01melse\u001b[39;00m \u001b[38;5;28mlist\u001b[39m(output)\n\u001b[0;32m   1920\u001b[0m \u001b[38;5;66;03m# Let's create an ID that uniquely identifies the current call. If the\u001b[39;00m\n\u001b[0;32m   1921\u001b[0m \u001b[38;5;66;03m# call is interrupted early and that the same instance is immediately\u001b[39;00m\n\u001b[0;32m   1922\u001b[0m \u001b[38;5;66;03m# re-used, this id will be used to prevent workers that were\u001b[39;00m\n\u001b[0;32m   1923\u001b[0m \u001b[38;5;66;03m# concurrently finalizing a task from the previous call to run the\u001b[39;00m\n\u001b[0;32m   1924\u001b[0m \u001b[38;5;66;03m# callback.\u001b[39;00m\n\u001b[0;32m   1925\u001b[0m \u001b[38;5;28;01mwith\u001b[39;00m \u001b[38;5;28mself\u001b[39m\u001b[38;5;241m.\u001b[39m_lock:\n",
            "File \u001b[1;32md:\\Uni\\Semester 4\\Code\\Machine Learning\\.conda\\Lib\\site-packages\\joblib\\parallel.py:1847\u001b[0m, in \u001b[0;36mParallel._get_sequential_output\u001b[1;34m(self, iterable)\u001b[0m\n\u001b[0;32m   1845\u001b[0m \u001b[38;5;28mself\u001b[39m\u001b[38;5;241m.\u001b[39mn_dispatched_batches \u001b[38;5;241m+\u001b[39m\u001b[38;5;241m=\u001b[39m \u001b[38;5;241m1\u001b[39m\n\u001b[0;32m   1846\u001b[0m \u001b[38;5;28mself\u001b[39m\u001b[38;5;241m.\u001b[39mn_dispatched_tasks \u001b[38;5;241m+\u001b[39m\u001b[38;5;241m=\u001b[39m \u001b[38;5;241m1\u001b[39m\n\u001b[1;32m-> 1847\u001b[0m res \u001b[38;5;241m=\u001b[39m \u001b[43mfunc\u001b[49m\u001b[43m(\u001b[49m\u001b[38;5;241;43m*\u001b[39;49m\u001b[43margs\u001b[49m\u001b[43m,\u001b[49m\u001b[43m \u001b[49m\u001b[38;5;241;43m*\u001b[39;49m\u001b[38;5;241;43m*\u001b[39;49m\u001b[43mkwargs\u001b[49m\u001b[43m)\u001b[49m\n\u001b[0;32m   1848\u001b[0m \u001b[38;5;28mself\u001b[39m\u001b[38;5;241m.\u001b[39mn_completed_tasks \u001b[38;5;241m+\u001b[39m\u001b[38;5;241m=\u001b[39m \u001b[38;5;241m1\u001b[39m\n\u001b[0;32m   1849\u001b[0m \u001b[38;5;28mself\u001b[39m\u001b[38;5;241m.\u001b[39mprint_progress()\n",
            "File \u001b[1;32md:\\Uni\\Semester 4\\Code\\Machine Learning\\.conda\\Lib\\site-packages\\sklearn\\utils\\parallel.py:139\u001b[0m, in \u001b[0;36m_FuncWrapper.__call__\u001b[1;34m(self, *args, **kwargs)\u001b[0m\n\u001b[0;32m    137\u001b[0m     config \u001b[38;5;241m=\u001b[39m {}\n\u001b[0;32m    138\u001b[0m \u001b[38;5;28;01mwith\u001b[39;00m config_context(\u001b[38;5;241m*\u001b[39m\u001b[38;5;241m*\u001b[39mconfig):\n\u001b[1;32m--> 139\u001b[0m     \u001b[38;5;28;01mreturn\u001b[39;00m \u001b[38;5;28;43mself\u001b[39;49m\u001b[38;5;241;43m.\u001b[39;49m\u001b[43mfunction\u001b[49m\u001b[43m(\u001b[49m\u001b[38;5;241;43m*\u001b[39;49m\u001b[43margs\u001b[49m\u001b[43m,\u001b[49m\u001b[43m \u001b[49m\u001b[38;5;241;43m*\u001b[39;49m\u001b[38;5;241;43m*\u001b[39;49m\u001b[43mkwargs\u001b[49m\u001b[43m)\u001b[49m\n",
            "File \u001b[1;32md:\\Uni\\Semester 4\\Code\\Machine Learning\\.conda\\Lib\\site-packages\\sklearn\\utils\\_param_validation.py:216\u001b[0m, in \u001b[0;36mvalidate_params.<locals>.decorator.<locals>.wrapper\u001b[1;34m(*args, **kwargs)\u001b[0m\n\u001b[0;32m    210\u001b[0m \u001b[38;5;28;01mtry\u001b[39;00m:\n\u001b[0;32m    211\u001b[0m     \u001b[38;5;28;01mwith\u001b[39;00m config_context(\n\u001b[0;32m    212\u001b[0m         skip_parameter_validation\u001b[38;5;241m=\u001b[39m(\n\u001b[0;32m    213\u001b[0m             prefer_skip_nested_validation \u001b[38;5;129;01mor\u001b[39;00m global_skip_validation\n\u001b[0;32m    214\u001b[0m         )\n\u001b[0;32m    215\u001b[0m     ):\n\u001b[1;32m--> 216\u001b[0m         \u001b[38;5;28;01mreturn\u001b[39;00m \u001b[43mfunc\u001b[49m\u001b[43m(\u001b[49m\u001b[38;5;241;43m*\u001b[39;49m\u001b[43margs\u001b[49m\u001b[43m,\u001b[49m\u001b[43m \u001b[49m\u001b[38;5;241;43m*\u001b[39;49m\u001b[38;5;241;43m*\u001b[39;49m\u001b[43mkwargs\u001b[49m\u001b[43m)\u001b[49m\n\u001b[0;32m    217\u001b[0m \u001b[38;5;28;01mexcept\u001b[39;00m InvalidParameterError \u001b[38;5;28;01mas\u001b[39;00m e:\n\u001b[0;32m    218\u001b[0m     \u001b[38;5;66;03m# When the function is just a wrapper around an estimator, we allow\u001b[39;00m\n\u001b[0;32m    219\u001b[0m     \u001b[38;5;66;03m# the function to delegate validation to the estimator, but we replace\u001b[39;00m\n\u001b[0;32m    220\u001b[0m     \u001b[38;5;66;03m# the name of the estimator by the name of the function in the error\u001b[39;00m\n\u001b[0;32m    221\u001b[0m     \u001b[38;5;66;03m# message to avoid confusion.\u001b[39;00m\n\u001b[0;32m    222\u001b[0m     msg \u001b[38;5;241m=\u001b[39m re\u001b[38;5;241m.\u001b[39msub(\n\u001b[0;32m    223\u001b[0m         \u001b[38;5;124mr\u001b[39m\u001b[38;5;124m\"\u001b[39m\u001b[38;5;124mparameter of \u001b[39m\u001b[38;5;124m\\\u001b[39m\u001b[38;5;124mw+ must be\u001b[39m\u001b[38;5;124m\"\u001b[39m,\n\u001b[0;32m    224\u001b[0m         \u001b[38;5;124mf\u001b[39m\u001b[38;5;124m\"\u001b[39m\u001b[38;5;124mparameter of \u001b[39m\u001b[38;5;132;01m{\u001b[39;00mfunc\u001b[38;5;241m.\u001b[39m\u001b[38;5;18m__qualname__\u001b[39m\u001b[38;5;132;01m}\u001b[39;00m\u001b[38;5;124m must be\u001b[39m\u001b[38;5;124m\"\u001b[39m,\n\u001b[0;32m    225\u001b[0m         \u001b[38;5;28mstr\u001b[39m(e),\n\u001b[0;32m    226\u001b[0m     )\n",
            "File \u001b[1;32md:\\Uni\\Semester 4\\Code\\Machine Learning\\.conda\\Lib\\site-packages\\sklearn\\model_selection\\_validation.py:1247\u001b[0m, in \u001b[0;36mcross_val_predict\u001b[1;34m(estimator, X, y, groups, cv, n_jobs, verbose, params, pre_dispatch, method)\u001b[0m\n\u001b[0;32m   1244\u001b[0m \u001b[38;5;66;03m# We clone the estimator to make sure that all the folds are\u001b[39;00m\n\u001b[0;32m   1245\u001b[0m \u001b[38;5;66;03m# independent, and that it is pickle-able.\u001b[39;00m\n\u001b[0;32m   1246\u001b[0m parallel \u001b[38;5;241m=\u001b[39m Parallel(n_jobs\u001b[38;5;241m=\u001b[39mn_jobs, verbose\u001b[38;5;241m=\u001b[39mverbose, pre_dispatch\u001b[38;5;241m=\u001b[39mpre_dispatch)\n\u001b[1;32m-> 1247\u001b[0m predictions \u001b[38;5;241m=\u001b[39m \u001b[43mparallel\u001b[49m\u001b[43m(\u001b[49m\n\u001b[0;32m   1248\u001b[0m \u001b[43m    \u001b[49m\u001b[43mdelayed\u001b[49m\u001b[43m(\u001b[49m\u001b[43m_fit_and_predict\u001b[49m\u001b[43m)\u001b[49m\u001b[43m(\u001b[49m\n\u001b[0;32m   1249\u001b[0m \u001b[43m        \u001b[49m\u001b[43mclone\u001b[49m\u001b[43m(\u001b[49m\u001b[43mestimator\u001b[49m\u001b[43m)\u001b[49m\u001b[43m,\u001b[49m\n\u001b[0;32m   1250\u001b[0m \u001b[43m        \u001b[49m\u001b[43mX\u001b[49m\u001b[43m,\u001b[49m\n\u001b[0;32m   1251\u001b[0m \u001b[43m        \u001b[49m\u001b[43my\u001b[49m\u001b[43m,\u001b[49m\n\u001b[0;32m   1252\u001b[0m \u001b[43m        \u001b[49m\u001b[43mtrain\u001b[49m\u001b[43m,\u001b[49m\n\u001b[0;32m   1253\u001b[0m \u001b[43m        \u001b[49m\u001b[43mtest\u001b[49m\u001b[43m,\u001b[49m\n\u001b[0;32m   1254\u001b[0m \u001b[43m        \u001b[49m\u001b[43mrouted_params\u001b[49m\u001b[38;5;241;43m.\u001b[39;49m\u001b[43mestimator\u001b[49m\u001b[38;5;241;43m.\u001b[39;49m\u001b[43mfit\u001b[49m\u001b[43m,\u001b[49m\n\u001b[0;32m   1255\u001b[0m \u001b[43m        \u001b[49m\u001b[43mmethod\u001b[49m\u001b[43m,\u001b[49m\n\u001b[0;32m   1256\u001b[0m \u001b[43m    \u001b[49m\u001b[43m)\u001b[49m\n\u001b[0;32m   1257\u001b[0m \u001b[43m    \u001b[49m\u001b[38;5;28;43;01mfor\u001b[39;49;00m\u001b[43m \u001b[49m\u001b[43mtrain\u001b[49m\u001b[43m,\u001b[49m\u001b[43m \u001b[49m\u001b[43mtest\u001b[49m\u001b[43m \u001b[49m\u001b[38;5;129;43;01min\u001b[39;49;00m\u001b[43m \u001b[49m\u001b[43msplits\u001b[49m\n\u001b[0;32m   1258\u001b[0m \u001b[43m\u001b[49m\u001b[43m)\u001b[49m\n\u001b[0;32m   1260\u001b[0m inv_test_indices \u001b[38;5;241m=\u001b[39m np\u001b[38;5;241m.\u001b[39mempty(\u001b[38;5;28mlen\u001b[39m(test_indices), dtype\u001b[38;5;241m=\u001b[39m\u001b[38;5;28mint\u001b[39m)\n\u001b[0;32m   1261\u001b[0m inv_test_indices[test_indices] \u001b[38;5;241m=\u001b[39m np\u001b[38;5;241m.\u001b[39marange(\u001b[38;5;28mlen\u001b[39m(test_indices))\n",
            "File \u001b[1;32md:\\Uni\\Semester 4\\Code\\Machine Learning\\.conda\\Lib\\site-packages\\sklearn\\utils\\parallel.py:77\u001b[0m, in \u001b[0;36mParallel.__call__\u001b[1;34m(self, iterable)\u001b[0m\n\u001b[0;32m     72\u001b[0m config \u001b[38;5;241m=\u001b[39m get_config()\n\u001b[0;32m     73\u001b[0m iterable_with_config \u001b[38;5;241m=\u001b[39m (\n\u001b[0;32m     74\u001b[0m     (_with_config(delayed_func, config), args, kwargs)\n\u001b[0;32m     75\u001b[0m     \u001b[38;5;28;01mfor\u001b[39;00m delayed_func, args, kwargs \u001b[38;5;129;01min\u001b[39;00m iterable\n\u001b[0;32m     76\u001b[0m )\n\u001b[1;32m---> 77\u001b[0m \u001b[38;5;28;01mreturn\u001b[39;00m \u001b[38;5;28;43msuper\u001b[39;49m\u001b[43m(\u001b[49m\u001b[43m)\u001b[49m\u001b[38;5;241;43m.\u001b[39;49m\u001b[38;5;21;43m__call__\u001b[39;49m\u001b[43m(\u001b[49m\u001b[43miterable_with_config\u001b[49m\u001b[43m)\u001b[49m\n",
            "File \u001b[1;32md:\\Uni\\Semester 4\\Code\\Machine Learning\\.conda\\Lib\\site-packages\\joblib\\parallel.py:1918\u001b[0m, in \u001b[0;36mParallel.__call__\u001b[1;34m(self, iterable)\u001b[0m\n\u001b[0;32m   1916\u001b[0m     output \u001b[38;5;241m=\u001b[39m \u001b[38;5;28mself\u001b[39m\u001b[38;5;241m.\u001b[39m_get_sequential_output(iterable)\n\u001b[0;32m   1917\u001b[0m     \u001b[38;5;28mnext\u001b[39m(output)\n\u001b[1;32m-> 1918\u001b[0m     \u001b[38;5;28;01mreturn\u001b[39;00m output \u001b[38;5;28;01mif\u001b[39;00m \u001b[38;5;28mself\u001b[39m\u001b[38;5;241m.\u001b[39mreturn_generator \u001b[38;5;28;01melse\u001b[39;00m \u001b[38;5;28mlist\u001b[39m(output)\n\u001b[0;32m   1920\u001b[0m \u001b[38;5;66;03m# Let's create an ID that uniquely identifies the current call. If the\u001b[39;00m\n\u001b[0;32m   1921\u001b[0m \u001b[38;5;66;03m# call is interrupted early and that the same instance is immediately\u001b[39;00m\n\u001b[0;32m   1922\u001b[0m \u001b[38;5;66;03m# re-used, this id will be used to prevent workers that were\u001b[39;00m\n\u001b[0;32m   1923\u001b[0m \u001b[38;5;66;03m# concurrently finalizing a task from the previous call to run the\u001b[39;00m\n\u001b[0;32m   1924\u001b[0m \u001b[38;5;66;03m# callback.\u001b[39;00m\n\u001b[0;32m   1925\u001b[0m \u001b[38;5;28;01mwith\u001b[39;00m \u001b[38;5;28mself\u001b[39m\u001b[38;5;241m.\u001b[39m_lock:\n",
            "File \u001b[1;32md:\\Uni\\Semester 4\\Code\\Machine Learning\\.conda\\Lib\\site-packages\\joblib\\parallel.py:1847\u001b[0m, in \u001b[0;36mParallel._get_sequential_output\u001b[1;34m(self, iterable)\u001b[0m\n\u001b[0;32m   1845\u001b[0m \u001b[38;5;28mself\u001b[39m\u001b[38;5;241m.\u001b[39mn_dispatched_batches \u001b[38;5;241m+\u001b[39m\u001b[38;5;241m=\u001b[39m \u001b[38;5;241m1\u001b[39m\n\u001b[0;32m   1846\u001b[0m \u001b[38;5;28mself\u001b[39m\u001b[38;5;241m.\u001b[39mn_dispatched_tasks \u001b[38;5;241m+\u001b[39m\u001b[38;5;241m=\u001b[39m \u001b[38;5;241m1\u001b[39m\n\u001b[1;32m-> 1847\u001b[0m res \u001b[38;5;241m=\u001b[39m \u001b[43mfunc\u001b[49m\u001b[43m(\u001b[49m\u001b[38;5;241;43m*\u001b[39;49m\u001b[43margs\u001b[49m\u001b[43m,\u001b[49m\u001b[43m \u001b[49m\u001b[38;5;241;43m*\u001b[39;49m\u001b[38;5;241;43m*\u001b[39;49m\u001b[43mkwargs\u001b[49m\u001b[43m)\u001b[49m\n\u001b[0;32m   1848\u001b[0m \u001b[38;5;28mself\u001b[39m\u001b[38;5;241m.\u001b[39mn_completed_tasks \u001b[38;5;241m+\u001b[39m\u001b[38;5;241m=\u001b[39m \u001b[38;5;241m1\u001b[39m\n\u001b[0;32m   1849\u001b[0m \u001b[38;5;28mself\u001b[39m\u001b[38;5;241m.\u001b[39mprint_progress()\n",
            "File \u001b[1;32md:\\Uni\\Semester 4\\Code\\Machine Learning\\.conda\\Lib\\site-packages\\sklearn\\utils\\parallel.py:139\u001b[0m, in \u001b[0;36m_FuncWrapper.__call__\u001b[1;34m(self, *args, **kwargs)\u001b[0m\n\u001b[0;32m    137\u001b[0m     config \u001b[38;5;241m=\u001b[39m {}\n\u001b[0;32m    138\u001b[0m \u001b[38;5;28;01mwith\u001b[39;00m config_context(\u001b[38;5;241m*\u001b[39m\u001b[38;5;241m*\u001b[39mconfig):\n\u001b[1;32m--> 139\u001b[0m     \u001b[38;5;28;01mreturn\u001b[39;00m \u001b[38;5;28;43mself\u001b[39;49m\u001b[38;5;241;43m.\u001b[39;49m\u001b[43mfunction\u001b[49m\u001b[43m(\u001b[49m\u001b[38;5;241;43m*\u001b[39;49m\u001b[43margs\u001b[49m\u001b[43m,\u001b[49m\u001b[43m \u001b[49m\u001b[38;5;241;43m*\u001b[39;49m\u001b[38;5;241;43m*\u001b[39;49m\u001b[43mkwargs\u001b[49m\u001b[43m)\u001b[49m\n",
            "File \u001b[1;32md:\\Uni\\Semester 4\\Code\\Machine Learning\\.conda\\Lib\\site-packages\\sklearn\\model_selection\\_validation.py:1332\u001b[0m, in \u001b[0;36m_fit_and_predict\u001b[1;34m(estimator, X, y, train, test, fit_params, method)\u001b[0m\n\u001b[0;32m   1330\u001b[0m     estimator\u001b[38;5;241m.\u001b[39mfit(X_train, \u001b[38;5;241m*\u001b[39m\u001b[38;5;241m*\u001b[39mfit_params)\n\u001b[0;32m   1331\u001b[0m \u001b[38;5;28;01melse\u001b[39;00m:\n\u001b[1;32m-> 1332\u001b[0m     \u001b[43mestimator\u001b[49m\u001b[38;5;241;43m.\u001b[39;49m\u001b[43mfit\u001b[49m\u001b[43m(\u001b[49m\u001b[43mX_train\u001b[49m\u001b[43m,\u001b[49m\u001b[43m \u001b[49m\u001b[43my_train\u001b[49m\u001b[43m,\u001b[49m\u001b[43m \u001b[49m\u001b[38;5;241;43m*\u001b[39;49m\u001b[38;5;241;43m*\u001b[39;49m\u001b[43mfit_params\u001b[49m\u001b[43m)\u001b[49m\n\u001b[0;32m   1333\u001b[0m func \u001b[38;5;241m=\u001b[39m \u001b[38;5;28mgetattr\u001b[39m(estimator, method)\n\u001b[0;32m   1334\u001b[0m predictions \u001b[38;5;241m=\u001b[39m func(X_test)\n",
            "File \u001b[1;32md:\\Uni\\Semester 4\\Code\\Machine Learning\\.conda\\Lib\\site-packages\\sklearn\\base.py:1389\u001b[0m, in \u001b[0;36m_fit_context.<locals>.decorator.<locals>.wrapper\u001b[1;34m(estimator, *args, **kwargs)\u001b[0m\n\u001b[0;32m   1382\u001b[0m     estimator\u001b[38;5;241m.\u001b[39m_validate_params()\n\u001b[0;32m   1384\u001b[0m \u001b[38;5;28;01mwith\u001b[39;00m config_context(\n\u001b[0;32m   1385\u001b[0m     skip_parameter_validation\u001b[38;5;241m=\u001b[39m(\n\u001b[0;32m   1386\u001b[0m         prefer_skip_nested_validation \u001b[38;5;129;01mor\u001b[39;00m global_skip_validation\n\u001b[0;32m   1387\u001b[0m     )\n\u001b[0;32m   1388\u001b[0m ):\n\u001b[1;32m-> 1389\u001b[0m     \u001b[38;5;28;01mreturn\u001b[39;00m \u001b[43mfit_method\u001b[49m\u001b[43m(\u001b[49m\u001b[43mestimator\u001b[49m\u001b[43m,\u001b[49m\u001b[43m \u001b[49m\u001b[38;5;241;43m*\u001b[39;49m\u001b[43margs\u001b[49m\u001b[43m,\u001b[49m\u001b[43m \u001b[49m\u001b[38;5;241;43m*\u001b[39;49m\u001b[38;5;241;43m*\u001b[39;49m\u001b[43mkwargs\u001b[49m\u001b[43m)\u001b[49m\n",
            "File \u001b[1;32md:\\Uni\\Semester 4\\Code\\Machine Learning\\.conda\\Lib\\site-packages\\imblearn\\pipeline.py:526\u001b[0m, in \u001b[0;36mPipeline.fit\u001b[1;34m(self, X, y, **params)\u001b[0m\n\u001b[0;32m    520\u001b[0m     \u001b[38;5;28;01mif\u001b[39;00m \u001b[38;5;28mself\u001b[39m\u001b[38;5;241m.\u001b[39m_final_estimator \u001b[38;5;241m!=\u001b[39m \u001b[38;5;124m\"\u001b[39m\u001b[38;5;124mpassthrough\u001b[39m\u001b[38;5;124m\"\u001b[39m:\n\u001b[0;32m    521\u001b[0m         last_step_params \u001b[38;5;241m=\u001b[39m \u001b[38;5;28mself\u001b[39m\u001b[38;5;241m.\u001b[39m_get_metadata_for_step(\n\u001b[0;32m    522\u001b[0m             step_idx\u001b[38;5;241m=\u001b[39m\u001b[38;5;28mlen\u001b[39m(\u001b[38;5;28mself\u001b[39m) \u001b[38;5;241m-\u001b[39m \u001b[38;5;241m1\u001b[39m,\n\u001b[0;32m    523\u001b[0m             step_params\u001b[38;5;241m=\u001b[39mrouted_params[\u001b[38;5;28mself\u001b[39m\u001b[38;5;241m.\u001b[39msteps[\u001b[38;5;241m-\u001b[39m\u001b[38;5;241m1\u001b[39m][\u001b[38;5;241m0\u001b[39m]],\n\u001b[0;32m    524\u001b[0m             all_params\u001b[38;5;241m=\u001b[39mparams,\n\u001b[0;32m    525\u001b[0m         )\n\u001b[1;32m--> 526\u001b[0m         \u001b[38;5;28;43mself\u001b[39;49m\u001b[38;5;241;43m.\u001b[39;49m\u001b[43m_final_estimator\u001b[49m\u001b[38;5;241;43m.\u001b[39;49m\u001b[43mfit\u001b[49m\u001b[43m(\u001b[49m\u001b[43mXt\u001b[49m\u001b[43m,\u001b[49m\u001b[43m \u001b[49m\u001b[43myt\u001b[49m\u001b[43m,\u001b[49m\u001b[43m \u001b[49m\u001b[38;5;241;43m*\u001b[39;49m\u001b[38;5;241;43m*\u001b[39;49m\u001b[43mlast_step_params\u001b[49m\u001b[43m[\u001b[49m\u001b[38;5;124;43m\"\u001b[39;49m\u001b[38;5;124;43mfit\u001b[39;49m\u001b[38;5;124;43m\"\u001b[39;49m\u001b[43m]\u001b[49m\u001b[43m)\u001b[49m\n\u001b[0;32m    527\u001b[0m \u001b[38;5;28;01mreturn\u001b[39;00m \u001b[38;5;28mself\u001b[39m\n",
            "File \u001b[1;32md:\\Uni\\Semester 4\\Code\\Machine Learning\\.conda\\Lib\\site-packages\\sklearn\\base.py:1389\u001b[0m, in \u001b[0;36m_fit_context.<locals>.decorator.<locals>.wrapper\u001b[1;34m(estimator, *args, **kwargs)\u001b[0m\n\u001b[0;32m   1382\u001b[0m     estimator\u001b[38;5;241m.\u001b[39m_validate_params()\n\u001b[0;32m   1384\u001b[0m \u001b[38;5;28;01mwith\u001b[39;00m config_context(\n\u001b[0;32m   1385\u001b[0m     skip_parameter_validation\u001b[38;5;241m=\u001b[39m(\n\u001b[0;32m   1386\u001b[0m         prefer_skip_nested_validation \u001b[38;5;129;01mor\u001b[39;00m global_skip_validation\n\u001b[0;32m   1387\u001b[0m     )\n\u001b[0;32m   1388\u001b[0m ):\n\u001b[1;32m-> 1389\u001b[0m     \u001b[38;5;28;01mreturn\u001b[39;00m \u001b[43mfit_method\u001b[49m\u001b[43m(\u001b[49m\u001b[43mestimator\u001b[49m\u001b[43m,\u001b[49m\u001b[43m \u001b[49m\u001b[38;5;241;43m*\u001b[39;49m\u001b[43margs\u001b[49m\u001b[43m,\u001b[49m\u001b[43m \u001b[49m\u001b[38;5;241;43m*\u001b[39;49m\u001b[38;5;241;43m*\u001b[39;49m\u001b[43mkwargs\u001b[49m\u001b[43m)\u001b[49m\n",
            "File \u001b[1;32md:\\Uni\\Semester 4\\Code\\Machine Learning\\.conda\\Lib\\site-packages\\sklearn\\ensemble\\_forest.py:487\u001b[0m, in \u001b[0;36mBaseForest.fit\u001b[1;34m(self, X, y, sample_weight)\u001b[0m\n\u001b[0;32m    476\u001b[0m trees \u001b[38;5;241m=\u001b[39m [\n\u001b[0;32m    477\u001b[0m     \u001b[38;5;28mself\u001b[39m\u001b[38;5;241m.\u001b[39m_make_estimator(append\u001b[38;5;241m=\u001b[39m\u001b[38;5;28;01mFalse\u001b[39;00m, random_state\u001b[38;5;241m=\u001b[39mrandom_state)\n\u001b[0;32m    478\u001b[0m     \u001b[38;5;28;01mfor\u001b[39;00m i \u001b[38;5;129;01min\u001b[39;00m \u001b[38;5;28mrange\u001b[39m(n_more_estimators)\n\u001b[0;32m    479\u001b[0m ]\n\u001b[0;32m    481\u001b[0m \u001b[38;5;66;03m# Parallel loop: we prefer the threading backend as the Cython code\u001b[39;00m\n\u001b[0;32m    482\u001b[0m \u001b[38;5;66;03m# for fitting the trees is internally releasing the Python GIL\u001b[39;00m\n\u001b[0;32m    483\u001b[0m \u001b[38;5;66;03m# making threading more efficient than multiprocessing in\u001b[39;00m\n\u001b[0;32m    484\u001b[0m \u001b[38;5;66;03m# that case. However, for joblib 0.12+ we respect any\u001b[39;00m\n\u001b[0;32m    485\u001b[0m \u001b[38;5;66;03m# parallel_backend contexts set at a higher level,\u001b[39;00m\n\u001b[0;32m    486\u001b[0m \u001b[38;5;66;03m# since correctness does not rely on using threads.\u001b[39;00m\n\u001b[1;32m--> 487\u001b[0m trees \u001b[38;5;241m=\u001b[39m \u001b[43mParallel\u001b[49m\u001b[43m(\u001b[49m\n\u001b[0;32m    488\u001b[0m \u001b[43m    \u001b[49m\u001b[43mn_jobs\u001b[49m\u001b[38;5;241;43m=\u001b[39;49m\u001b[38;5;28;43mself\u001b[39;49m\u001b[38;5;241;43m.\u001b[39;49m\u001b[43mn_jobs\u001b[49m\u001b[43m,\u001b[49m\n\u001b[0;32m    489\u001b[0m \u001b[43m    \u001b[49m\u001b[43mverbose\u001b[49m\u001b[38;5;241;43m=\u001b[39;49m\u001b[38;5;28;43mself\u001b[39;49m\u001b[38;5;241;43m.\u001b[39;49m\u001b[43mverbose\u001b[49m\u001b[43m,\u001b[49m\n\u001b[0;32m    490\u001b[0m \u001b[43m    \u001b[49m\u001b[43mprefer\u001b[49m\u001b[38;5;241;43m=\u001b[39;49m\u001b[38;5;124;43m\"\u001b[39;49m\u001b[38;5;124;43mthreads\u001b[39;49m\u001b[38;5;124;43m\"\u001b[39;49m\u001b[43m,\u001b[49m\n\u001b[0;32m    491\u001b[0m \u001b[43m\u001b[49m\u001b[43m)\u001b[49m\u001b[43m(\u001b[49m\n\u001b[0;32m    492\u001b[0m \u001b[43m    \u001b[49m\u001b[43mdelayed\u001b[49m\u001b[43m(\u001b[49m\u001b[43m_parallel_build_trees\u001b[49m\u001b[43m)\u001b[49m\u001b[43m(\u001b[49m\n\u001b[0;32m    493\u001b[0m \u001b[43m        \u001b[49m\u001b[43mt\u001b[49m\u001b[43m,\u001b[49m\n\u001b[0;32m    494\u001b[0m \u001b[43m        \u001b[49m\u001b[38;5;28;43mself\u001b[39;49m\u001b[38;5;241;43m.\u001b[39;49m\u001b[43mbootstrap\u001b[49m\u001b[43m,\u001b[49m\n\u001b[0;32m    495\u001b[0m \u001b[43m        \u001b[49m\u001b[43mX\u001b[49m\u001b[43m,\u001b[49m\n\u001b[0;32m    496\u001b[0m \u001b[43m        \u001b[49m\u001b[43my\u001b[49m\u001b[43m,\u001b[49m\n\u001b[0;32m    497\u001b[0m \u001b[43m        \u001b[49m\u001b[43msample_weight\u001b[49m\u001b[43m,\u001b[49m\n\u001b[0;32m    498\u001b[0m \u001b[43m        \u001b[49m\u001b[43mi\u001b[49m\u001b[43m,\u001b[49m\n\u001b[0;32m    499\u001b[0m \u001b[43m        \u001b[49m\u001b[38;5;28;43mlen\u001b[39;49m\u001b[43m(\u001b[49m\u001b[43mtrees\u001b[49m\u001b[43m)\u001b[49m\u001b[43m,\u001b[49m\n\u001b[0;32m    500\u001b[0m \u001b[43m        \u001b[49m\u001b[43mverbose\u001b[49m\u001b[38;5;241;43m=\u001b[39;49m\u001b[38;5;28;43mself\u001b[39;49m\u001b[38;5;241;43m.\u001b[39;49m\u001b[43mverbose\u001b[49m\u001b[43m,\u001b[49m\n\u001b[0;32m    501\u001b[0m \u001b[43m        \u001b[49m\u001b[43mclass_weight\u001b[49m\u001b[38;5;241;43m=\u001b[39;49m\u001b[38;5;28;43mself\u001b[39;49m\u001b[38;5;241;43m.\u001b[39;49m\u001b[43mclass_weight\u001b[49m\u001b[43m,\u001b[49m\n\u001b[0;32m    502\u001b[0m \u001b[43m        \u001b[49m\u001b[43mn_samples_bootstrap\u001b[49m\u001b[38;5;241;43m=\u001b[39;49m\u001b[43mn_samples_bootstrap\u001b[49m\u001b[43m,\u001b[49m\n\u001b[0;32m    503\u001b[0m \u001b[43m        \u001b[49m\u001b[43mmissing_values_in_feature_mask\u001b[49m\u001b[38;5;241;43m=\u001b[39;49m\u001b[43mmissing_values_in_feature_mask\u001b[49m\u001b[43m,\u001b[49m\n\u001b[0;32m    504\u001b[0m \u001b[43m    \u001b[49m\u001b[43m)\u001b[49m\n\u001b[0;32m    505\u001b[0m \u001b[43m    \u001b[49m\u001b[38;5;28;43;01mfor\u001b[39;49;00m\u001b[43m \u001b[49m\u001b[43mi\u001b[49m\u001b[43m,\u001b[49m\u001b[43m \u001b[49m\u001b[43mt\u001b[49m\u001b[43m \u001b[49m\u001b[38;5;129;43;01min\u001b[39;49;00m\u001b[43m \u001b[49m\u001b[38;5;28;43menumerate\u001b[39;49m\u001b[43m(\u001b[49m\u001b[43mtrees\u001b[49m\u001b[43m)\u001b[49m\n\u001b[0;32m    506\u001b[0m \u001b[43m\u001b[49m\u001b[43m)\u001b[49m\n\u001b[0;32m    508\u001b[0m \u001b[38;5;66;03m# Collect newly grown trees\u001b[39;00m\n\u001b[0;32m    509\u001b[0m \u001b[38;5;28mself\u001b[39m\u001b[38;5;241m.\u001b[39mestimators_\u001b[38;5;241m.\u001b[39mextend(trees)\n",
            "File \u001b[1;32md:\\Uni\\Semester 4\\Code\\Machine Learning\\.conda\\Lib\\site-packages\\sklearn\\utils\\parallel.py:77\u001b[0m, in \u001b[0;36mParallel.__call__\u001b[1;34m(self, iterable)\u001b[0m\n\u001b[0;32m     72\u001b[0m config \u001b[38;5;241m=\u001b[39m get_config()\n\u001b[0;32m     73\u001b[0m iterable_with_config \u001b[38;5;241m=\u001b[39m (\n\u001b[0;32m     74\u001b[0m     (_with_config(delayed_func, config), args, kwargs)\n\u001b[0;32m     75\u001b[0m     \u001b[38;5;28;01mfor\u001b[39;00m delayed_func, args, kwargs \u001b[38;5;129;01min\u001b[39;00m iterable\n\u001b[0;32m     76\u001b[0m )\n\u001b[1;32m---> 77\u001b[0m \u001b[38;5;28;01mreturn\u001b[39;00m \u001b[38;5;28;43msuper\u001b[39;49m\u001b[43m(\u001b[49m\u001b[43m)\u001b[49m\u001b[38;5;241;43m.\u001b[39;49m\u001b[38;5;21;43m__call__\u001b[39;49m\u001b[43m(\u001b[49m\u001b[43miterable_with_config\u001b[49m\u001b[43m)\u001b[49m\n",
            "File \u001b[1;32md:\\Uni\\Semester 4\\Code\\Machine Learning\\.conda\\Lib\\site-packages\\joblib\\parallel.py:1918\u001b[0m, in \u001b[0;36mParallel.__call__\u001b[1;34m(self, iterable)\u001b[0m\n\u001b[0;32m   1916\u001b[0m     output \u001b[38;5;241m=\u001b[39m \u001b[38;5;28mself\u001b[39m\u001b[38;5;241m.\u001b[39m_get_sequential_output(iterable)\n\u001b[0;32m   1917\u001b[0m     \u001b[38;5;28mnext\u001b[39m(output)\n\u001b[1;32m-> 1918\u001b[0m     \u001b[38;5;28;01mreturn\u001b[39;00m output \u001b[38;5;28;01mif\u001b[39;00m \u001b[38;5;28mself\u001b[39m\u001b[38;5;241m.\u001b[39mreturn_generator \u001b[38;5;28;01melse\u001b[39;00m \u001b[38;5;28mlist\u001b[39m(output)\n\u001b[0;32m   1920\u001b[0m \u001b[38;5;66;03m# Let's create an ID that uniquely identifies the current call. If the\u001b[39;00m\n\u001b[0;32m   1921\u001b[0m \u001b[38;5;66;03m# call is interrupted early and that the same instance is immediately\u001b[39;00m\n\u001b[0;32m   1922\u001b[0m \u001b[38;5;66;03m# re-used, this id will be used to prevent workers that were\u001b[39;00m\n\u001b[0;32m   1923\u001b[0m \u001b[38;5;66;03m# concurrently finalizing a task from the previous call to run the\u001b[39;00m\n\u001b[0;32m   1924\u001b[0m \u001b[38;5;66;03m# callback.\u001b[39;00m\n\u001b[0;32m   1925\u001b[0m \u001b[38;5;28;01mwith\u001b[39;00m \u001b[38;5;28mself\u001b[39m\u001b[38;5;241m.\u001b[39m_lock:\n",
            "File \u001b[1;32md:\\Uni\\Semester 4\\Code\\Machine Learning\\.conda\\Lib\\site-packages\\joblib\\parallel.py:1847\u001b[0m, in \u001b[0;36mParallel._get_sequential_output\u001b[1;34m(self, iterable)\u001b[0m\n\u001b[0;32m   1845\u001b[0m \u001b[38;5;28mself\u001b[39m\u001b[38;5;241m.\u001b[39mn_dispatched_batches \u001b[38;5;241m+\u001b[39m\u001b[38;5;241m=\u001b[39m \u001b[38;5;241m1\u001b[39m\n\u001b[0;32m   1846\u001b[0m \u001b[38;5;28mself\u001b[39m\u001b[38;5;241m.\u001b[39mn_dispatched_tasks \u001b[38;5;241m+\u001b[39m\u001b[38;5;241m=\u001b[39m \u001b[38;5;241m1\u001b[39m\n\u001b[1;32m-> 1847\u001b[0m res \u001b[38;5;241m=\u001b[39m \u001b[43mfunc\u001b[49m\u001b[43m(\u001b[49m\u001b[38;5;241;43m*\u001b[39;49m\u001b[43margs\u001b[49m\u001b[43m,\u001b[49m\u001b[43m \u001b[49m\u001b[38;5;241;43m*\u001b[39;49m\u001b[38;5;241;43m*\u001b[39;49m\u001b[43mkwargs\u001b[49m\u001b[43m)\u001b[49m\n\u001b[0;32m   1848\u001b[0m \u001b[38;5;28mself\u001b[39m\u001b[38;5;241m.\u001b[39mn_completed_tasks \u001b[38;5;241m+\u001b[39m\u001b[38;5;241m=\u001b[39m \u001b[38;5;241m1\u001b[39m\n\u001b[0;32m   1849\u001b[0m \u001b[38;5;28mself\u001b[39m\u001b[38;5;241m.\u001b[39mprint_progress()\n",
            "File \u001b[1;32md:\\Uni\\Semester 4\\Code\\Machine Learning\\.conda\\Lib\\site-packages\\sklearn\\utils\\parallel.py:139\u001b[0m, in \u001b[0;36m_FuncWrapper.__call__\u001b[1;34m(self, *args, **kwargs)\u001b[0m\n\u001b[0;32m    137\u001b[0m     config \u001b[38;5;241m=\u001b[39m {}\n\u001b[0;32m    138\u001b[0m \u001b[38;5;28;01mwith\u001b[39;00m config_context(\u001b[38;5;241m*\u001b[39m\u001b[38;5;241m*\u001b[39mconfig):\n\u001b[1;32m--> 139\u001b[0m     \u001b[38;5;28;01mreturn\u001b[39;00m \u001b[38;5;28;43mself\u001b[39;49m\u001b[38;5;241;43m.\u001b[39;49m\u001b[43mfunction\u001b[49m\u001b[43m(\u001b[49m\u001b[38;5;241;43m*\u001b[39;49m\u001b[43margs\u001b[49m\u001b[43m,\u001b[49m\u001b[43m \u001b[49m\u001b[38;5;241;43m*\u001b[39;49m\u001b[38;5;241;43m*\u001b[39;49m\u001b[43mkwargs\u001b[49m\u001b[43m)\u001b[49m\n",
            "File \u001b[1;32md:\\Uni\\Semester 4\\Code\\Machine Learning\\.conda\\Lib\\site-packages\\sklearn\\ensemble\\_forest.py:176\u001b[0m, in \u001b[0;36m_parallel_build_trees\u001b[1;34m(tree, bootstrap, X, y, sample_weight, tree_idx, n_trees, verbose, class_weight, n_samples_bootstrap, missing_values_in_feature_mask)\u001b[0m\n\u001b[0;32m    173\u001b[0m \u001b[38;5;28;01melse\u001b[39;00m:\n\u001b[0;32m    174\u001b[0m     curr_sample_weight \u001b[38;5;241m=\u001b[39m sample_weight\u001b[38;5;241m.\u001b[39mcopy()\n\u001b[1;32m--> 176\u001b[0m indices \u001b[38;5;241m=\u001b[39m \u001b[43m_generate_sample_indices\u001b[49m\u001b[43m(\u001b[49m\n\u001b[0;32m    177\u001b[0m \u001b[43m    \u001b[49m\u001b[43mtree\u001b[49m\u001b[38;5;241;43m.\u001b[39;49m\u001b[43mrandom_state\u001b[49m\u001b[43m,\u001b[49m\u001b[43m \u001b[49m\u001b[43mn_samples\u001b[49m\u001b[43m,\u001b[49m\u001b[43m \u001b[49m\u001b[43mn_samples_bootstrap\u001b[49m\n\u001b[0;32m    178\u001b[0m \u001b[43m\u001b[49m\u001b[43m)\u001b[49m\n\u001b[0;32m    179\u001b[0m sample_counts \u001b[38;5;241m=\u001b[39m np\u001b[38;5;241m.\u001b[39mbincount(indices, minlength\u001b[38;5;241m=\u001b[39mn_samples)\n\u001b[0;32m    180\u001b[0m curr_sample_weight \u001b[38;5;241m*\u001b[39m\u001b[38;5;241m=\u001b[39m sample_counts\n",
            "File \u001b[1;32md:\\Uni\\Semester 4\\Code\\Machine Learning\\.conda\\Lib\\site-packages\\sklearn\\ensemble\\_forest.py:130\u001b[0m, in \u001b[0;36m_generate_sample_indices\u001b[1;34m(random_state, n_samples, n_samples_bootstrap)\u001b[0m\n\u001b[0;32m    126\u001b[0m \u001b[38;5;250m\u001b[39m\u001b[38;5;124;03m\"\"\"\u001b[39;00m\n\u001b[0;32m    127\u001b[0m \u001b[38;5;124;03mPrivate function used to _parallel_build_trees function.\"\"\"\u001b[39;00m\n\u001b[0;32m    129\u001b[0m random_instance \u001b[38;5;241m=\u001b[39m check_random_state(random_state)\n\u001b[1;32m--> 130\u001b[0m sample_indices \u001b[38;5;241m=\u001b[39m \u001b[43mrandom_instance\u001b[49m\u001b[38;5;241;43m.\u001b[39;49m\u001b[43mrandint\u001b[49m\u001b[43m(\u001b[49m\n\u001b[0;32m    131\u001b[0m \u001b[43m    \u001b[49m\u001b[38;5;241;43m0\u001b[39;49m\u001b[43m,\u001b[49m\u001b[43m \u001b[49m\u001b[43mn_samples\u001b[49m\u001b[43m,\u001b[49m\u001b[43m \u001b[49m\u001b[43mn_samples_bootstrap\u001b[49m\u001b[43m,\u001b[49m\u001b[43m \u001b[49m\u001b[43mdtype\u001b[49m\u001b[38;5;241;43m=\u001b[39;49m\u001b[43mnp\u001b[49m\u001b[38;5;241;43m.\u001b[39;49m\u001b[43mint32\u001b[49m\n\u001b[0;32m    132\u001b[0m \u001b[43m\u001b[49m\u001b[43m)\u001b[49m\n\u001b[0;32m    134\u001b[0m \u001b[38;5;28;01mreturn\u001b[39;00m sample_indices\n",
            "\u001b[1;31mKeyboardInterrupt\u001b[0m: "
          ]
        }
      ],
      "source": [
        "cat_model = cat_final\n",
        "\n",
        "br_model = br_final\n",
        "\n",
        "rf_model = rf_final\n",
        "\n",
        "xg_model = xgb_final\n",
        "\n",
        "final_estimator_model = LogisticRegression(C=1.5, random_state=42, n_jobs=-1)\n",
        "# Pipeline(\n",
        "    # steps=[\n",
        "    #     ('balancer', SMOTEN(random_state=42)),\n",
        "        # ('model', LogisticRegression(C=1.5, random_state=42))\n",
        "    # ])\n",
        "    \n",
        "final_estimator_rf = RandomForestClassifier(\n",
        "    n_estimators=150, # Keep it reasonable\n",
        "    max_depth=7,      # Don't let it get too deep\n",
        "    min_samples_leaf=5, # Prevent overfitting small groups\n",
        "    random_state=RANDOM_STATE,\n",
        "    n_jobs=-1,\n",
        "    class_weight='balanced'\n",
        ")\n",
        "\n",
        "stacking = StackingClassifier(\n",
        "    estimators=[\n",
        "        ('rf', rf_model),\n",
        "        ('xgb', xg_model),\n",
        "        ('br', br_model),\n",
        "        ('cat', cat_model)\n",
        "    ],\n",
        "    final_estimator=final_estimator_rf,\n",
        "    cv=cv_out,\n",
        "    passthrough=False\n",
        ")\n",
        "\n",
        "pipeline = Pipeline(steps=[\n",
        "    ('model', stacking)\n",
        "])\n",
        "\n",
        "pipeline.fit(X_train, y_train)"
      ]
    },
    {
      "cell_type": "code",
      "execution_count": null,
      "metadata": {
        "id": "_p4X0VQBzL6C"
      },
      "outputs": [
        {
          "name": "stdout",
          "output_type": "stream",
          "text": [
            "              precision    recall  f1-score   support\n",
            "\n",
            "           0       0.82      0.76      0.79        83\n",
            "           1       0.80      0.38      0.51        53\n",
            "           2       0.23      0.45      0.30        22\n",
            "           3       0.24      0.38      0.30        21\n",
            "\n",
            "    accuracy                           0.56       179\n",
            "   macro avg       0.52      0.49      0.47       179\n",
            "weighted avg       0.67      0.56      0.59       179\n",
            "\n"
          ]
        },
        {
          "name": "stderr",
          "output_type": "stream",
          "text": [
            "[Parallel(n_jobs=-1)]: Using backend LokyBackend with 16 concurrent workers.\n",
            "[Parallel(n_jobs=-1)]: Done   3 out of  10 | elapsed:  2.0min remaining:  4.7min\n",
            "[Parallel(n_jobs=-1)]: Done   7 out of  10 | elapsed:  2.2min remaining:   56.9s\n",
            "[Parallel(n_jobs=-1)]: Done  10 out of  10 | elapsed:  2.2min finished\n",
            "[Parallel(n_jobs=-1)]: Using backend LokyBackend with 16 concurrent workers.\n"
          ]
        },
        {
          "name": "stdout",
          "output_type": "stream",
          "text": [
            "cv mean:  45.66137028416263\n"
          ]
        },
        {
          "name": "stderr",
          "output_type": "stream",
          "text": [
            "[Parallel(n_jobs=-1)]: Done   3 out of  10 | elapsed:  1.9min remaining:  4.4min\n",
            "[Parallel(n_jobs=-1)]: Done   7 out of  10 | elapsed:  2.2min remaining:   56.6s\n"
          ]
        },
        {
          "name": "stdout",
          "output_type": "stream",
          "text": [
            "cv std:  5.102684253816445\n",
            "[[63  3 10  7]\n",
            " [10 20 14  9]\n",
            " [ 2  1 10  9]\n",
            " [ 2  1 10  8]]\n"
          ]
        },
        {
          "name": "stderr",
          "output_type": "stream",
          "text": [
            "[Parallel(n_jobs=-1)]: Done  10 out of  10 | elapsed:  2.3min finished\n"
          ]
        }
      ],
      "source": [
        "y_pred_stacking = pipeline.predict(X_test)\n",
        "\n",
        "print(classification_report(y_test, y_pred_stacking))\n",
        "print('cv mean: ', cross_val_score(pipeline, X_train, y_train, cv=cv_out, verbose=3, n_jobs=-1, scoring='f1_macro').mean()*100)\n",
        "print('cv std: ', cross_val_score(pipeline, X_train, y_train, cv=cv_out, verbose=3, n_jobs=-1, scoring='f1_macro').std()*100)\n",
        "cm = confusion_matrix(y_test, y_pred_stacking)\n",
        "print(cm)"
      ]
    },
    {
      "cell_type": "markdown",
      "metadata": {},
      "source": [
        "baseline score:\n",
        "\n",
        "```\n",
        "precision    recall  f1-score   support\n",
        "\n",
        "           0       0.80      0.77      0.79        83\n",
        "           1       0.50      0.53      0.51        53\n",
        "           2       0.35      0.36      0.36        22\n",
        "           3       0.40      0.38      0.39        21\n",
        "\n",
        "    accuracy                           0.60       179\n",
        "   macro avg       0.51      0.51      0.51       179\n",
        "weighted avg       0.61      0.60      0.61       179\n",
        "\n",
        "[Parallel(n_jobs=-1)]: Using backend LokyBackend with 16 concurrent workers.\n",
        "[Parallel(n_jobs=-1)]: Done   3 out of  10 | elapsed:  1.9min remaining:  4.5min\n",
        "[Parallel(n_jobs=-1)]: Done   7 out of  10 | elapsed:  2.2min remaining:   56.3s\n",
        "[Parallel(n_jobs=-1)]: Done  10 out of  10 | elapsed:  2.2min finished\n",
        "[Parallel(n_jobs=-1)]: Using backend LokyBackend with 16 concurrent workers.\n",
        "cv mean:  43.00689709171166\n",
        "[Parallel(n_jobs=-1)]: Done   3 out of  10 | elapsed:  2.0min remaining:  4.6min\n",
        "[Parallel(n_jobs=-1)]: Done   7 out of  10 | elapsed:  2.3min remaining:   59.0s\n",
        "cv std:  6.766065030623213\n",
        "[[64 14  2  3]\n",
        " [13 28  7  5]\n",
        " [ 2  8  8  4]\n",
        " [ 1  6  6  8]]\n",
        "[Parallel(n_jobs=-1)]: Done  10 out of  10 | elapsed:  2.3min finished\n",
        "```"
      ]
    },
    {
      "cell_type": "code",
      "execution_count": null,
      "metadata": {},
      "outputs": [
        {
          "name": "stderr",
          "output_type": "stream",
          "text": [
            "[I 2025-05-29 21:04:42,444] A new study created in memory with name: no-name-18d68966-b274-4031-9cc4-d788526ba5ba\n"
          ]
        },
        {
          "name": "stdout",
          "output_type": "stream",
          "text": [
            "--- Starting Optuna Study for Meta-Learner Tuning ---\n"
          ]
        },
        {
          "name": "stderr",
          "output_type": "stream",
          "text": [
            "[I 2025-05-29 21:08:22,918] Trial 0 finished with value: 0.43071254231661643 and parameters: {'lr_C': 7.666107077830449, 'lr_penalty': 'l2'}. Best is trial 0 with value: 0.43071254231661643.\n",
            "[I 2025-05-29 21:12:10,917] Trial 1 finished with value: 0.42165531551851343 and parameters: {'lr_C': 10.853166247732444, 'lr_penalty': 'l2'}. Best is trial 0 with value: 0.43071254231661643.\n",
            "[I 2025-05-29 21:15:48,790] Trial 2 finished with value: 0.42157200075405565 and parameters: {'lr_C': 10.15331051754892, 'lr_penalty': 'l1'}. Best is trial 0 with value: 0.43071254231661643.\n",
            "[I 2025-05-29 21:19:26,323] Trial 3 finished with value: 0.4249018675107461 and parameters: {'lr_C': 11.894052875503412, 'lr_penalty': 'l1'}. Best is trial 0 with value: 0.43071254231661643.\n",
            "[I 2025-05-29 21:22:57,033] Trial 4 finished with value: 0.42157200075405565 and parameters: {'lr_C': 10.442454323039968, 'lr_penalty': 'l1'}. Best is trial 0 with value: 0.43071254231661643.\n",
            "[I 2025-05-29 21:25:58,683] Trial 5 finished with value: 0.42449760626887245 and parameters: {'lr_C': 5.362818631989505, 'lr_penalty': 'l2'}. Best is trial 0 with value: 0.43071254231661643.\n",
            "[I 2025-05-29 21:28:53,559] Trial 6 finished with value: 0.42502825469275995 and parameters: {'lr_C': 11.724505125414941, 'lr_penalty': 'l1'}. Best is trial 0 with value: 0.43071254231661643.\n",
            "[I 2025-05-29 21:31:46,905] Trial 7 finished with value: 0.4289074856052224 and parameters: {'lr_C': 5.809879175188132, 'lr_penalty': 'l1'}. Best is trial 0 with value: 0.43071254231661643.\n",
            "[I 2025-05-29 21:34:40,536] Trial 8 finished with value: 0.4289443649986204 and parameters: {'lr_C': 8.108507047036563, 'lr_penalty': 'l2'}. Best is trial 0 with value: 0.43071254231661643.\n",
            "[I 2025-05-29 21:37:34,655] Trial 9 finished with value: 0.43071254231661643 and parameters: {'lr_C': 7.508995361965518, 'lr_penalty': 'l1'}. Best is trial 0 with value: 0.43071254231661643.\n",
            "[I 2025-05-29 21:40:32,264] Trial 10 finished with value: 0.4277966270075753 and parameters: {'lr_C': 6.717062171115907, 'lr_penalty': 'l2'}. Best is trial 0 with value: 0.43071254231661643.\n",
            "[I 2025-05-29 21:43:26,465] Trial 11 finished with value: 0.4289443649986204 and parameters: {'lr_C': 7.874987042917168, 'lr_penalty': 'l2'}. Best is trial 0 with value: 0.43071254231661643.\n",
            "[I 2025-05-29 21:46:20,755] Trial 12 finished with value: 0.43071254231661643 and parameters: {'lr_C': 7.069961068359918, 'lr_penalty': 'l2'}. Best is trial 0 with value: 0.43071254231661643.\n",
            "[I 2025-05-29 21:49:14,831] Trial 13 finished with value: 0.42498239972363133 and parameters: {'lr_C': 14.085452977061157, 'lr_penalty': 'l1'}. Best is trial 0 with value: 0.43071254231661643.\n",
            "[I 2025-05-29 21:52:08,876] Trial 14 finished with value: 0.4250370429604934 and parameters: {'lr_C': 8.93307130367005, 'lr_penalty': 'l1'}. Best is trial 0 with value: 0.43071254231661643.\n",
            "[I 2025-05-29 21:55:02,792] Trial 15 finished with value: 0.4277966270075753 and parameters: {'lr_C': 6.774042702349675, 'lr_penalty': 'l2'}. Best is trial 0 with value: 0.43071254231661643.\n",
            "[I 2025-05-29 21:57:57,026] Trial 16 finished with value: 0.42157200075405565 and parameters: {'lr_C': 9.057877816487967, 'lr_penalty': 'l2'}. Best is trial 0 with value: 0.43071254231661643.\n",
            "[I 2025-05-29 22:00:51,586] Trial 17 finished with value: 0.4289074856052224 and parameters: {'lr_C': 6.048637422259911, 'lr_penalty': 'l1'}. Best is trial 0 with value: 0.43071254231661643.\n",
            "[I 2025-05-29 22:03:47,514] Trial 18 finished with value: 0.43071254231661643 and parameters: {'lr_C': 7.549097971528408, 'lr_penalty': 'l1'}. Best is trial 0 with value: 0.43071254231661643.\n",
            "[I 2025-05-29 22:06:59,834] Trial 19 finished with value: 0.4322845636651286 and parameters: {'lr_C': 6.187918203281458, 'lr_penalty': 'l2'}. Best is trial 19 with value: 0.4322845636651286.\n",
            "[I 2025-05-29 22:09:53,763] Trial 20 finished with value: 0.42458267478351397 and parameters: {'lr_C': 5.08124767137728, 'lr_penalty': 'l2'}. Best is trial 19 with value: 0.4322845636651286.\n",
            "[I 2025-05-29 22:12:48,043] Trial 21 finished with value: 0.42705406721122785 and parameters: {'lr_C': 6.295799117652141, 'lr_penalty': 'l2'}. Best is trial 19 with value: 0.4322845636651286.\n",
            "[I 2025-05-29 22:15:39,734] Trial 22 finished with value: 0.43071254231661643 and parameters: {'lr_C': 7.531646616453198, 'lr_penalty': 'l2'}. Best is trial 19 with value: 0.4322845636651286.\n",
            "[I 2025-05-29 22:18:30,184] Trial 23 finished with value: 0.4289074856052224 and parameters: {'lr_C': 5.762693131354577, 'lr_penalty': 'l2'}. Best is trial 19 with value: 0.4322845636651286.\n",
            "[I 2025-05-29 22:21:20,927] Trial 24 finished with value: 0.4289443649986204 and parameters: {'lr_C': 8.33067341889825, 'lr_penalty': 'l2'}. Best is trial 19 with value: 0.4322845636651286.\n",
            "[I 2025-05-29 22:24:11,385] Trial 25 finished with value: 0.43071254231661643 and parameters: {'lr_C': 7.054551688382527, 'lr_penalty': 'l2'}. Best is trial 19 with value: 0.4322845636651286.\n",
            "[I 2025-05-29 22:27:04,222] Trial 26 finished with value: 0.42157200075405565 and parameters: {'lr_C': 9.364995221673782, 'lr_penalty': 'l1'}. Best is trial 19 with value: 0.4322845636651286.\n",
            "[I 2025-05-29 22:29:54,505] Trial 27 finished with value: 0.42705406721122785 and parameters: {'lr_C': 6.5050875076862615, 'lr_penalty': 'l2'}. Best is trial 19 with value: 0.4322845636651286.\n",
            "[I 2025-05-29 22:32:44,319] Trial 28 finished with value: 0.43071254231661643 and parameters: {'lr_C': 7.45118361412031, 'lr_penalty': 'l1'}. Best is trial 19 with value: 0.4322845636651286.\n",
            "[I 2025-05-29 22:35:34,508] Trial 29 finished with value: 0.4247510480711253 and parameters: {'lr_C': 5.544460026039244, 'lr_penalty': 'l2'}. Best is trial 19 with value: 0.4322845636651286.\n"
          ]
        },
        {
          "name": "stdout",
          "output_type": "stream",
          "text": [
            "\n",
            "--- Meta-Learner Optuna Study Complete ---\n",
            "Best trial number: 19\n",
            "Best F1 Macro: 0.4322845636651286\n",
            "Best Meta-Learner Params: {'lr_C': 6.187918203281458, 'lr_penalty': 'l2'}\n"
          ]
        }
      ],
      "source": [
        "def objective_tune_meta_lr(trial):\n",
        "    lr_c = trial.suggest_float('lr_C', 5, 15, log=True) \n",
        "    lr_penalty = trial.suggest_categorical('lr_penalty', ['l1', 'l2'])\n",
        "    lr_penalty = 'l1'\n",
        "    lr_solver = 'liblinear'\n",
        "    # if lr_penalty == 'l1':\n",
        "    #     lr_solver = 'liblinear'\n",
        "    # else: # For 'l2'\n",
        "    #     lr_solver = trial.suggest_categorical('lr_solver_for_l2', ['lbfgs', 'liblinear', 'saga'])\n",
        "\n",
        "    meta_learner = LogisticRegression(\n",
        "        C=lr_c,\n",
        "        penalty=lr_penalty,\n",
        "        solver=lr_solver,\n",
        "        max_iter=1000,\n",
        "        random_state=RANDOM_STATE,\n",
        "        n_jobs=-1\n",
        "    )\n",
        "\n",
        "    stacking_pipeline = StackingClassifier(\n",
        "        estimators=[\n",
        "            ('rf', rf_final),\n",
        "            ('xgb', xgb_final),\n",
        "            ('br', br_final),\n",
        "            ('cat', cat_final)\n",
        "        ],\n",
        "        final_estimator=meta_learner,\n",
        "        cv=cv_out,\n",
        "        passthrough=False,\n",
        "        n_jobs=-1 \n",
        "    )\n",
        "\n",
        "    try:\n",
        "        f1_scorer = make_scorer(f1_score, average='macro')\n",
        "        score = cross_val_score(stacking_pipeline, X_train, y_train, cv=cv_out, scoring=f1_scorer, n_jobs=1).mean()\n",
        "    except Exception as e:\n",
        "        print(f\"Trial failed with error: {e}\")\n",
        "        return 0.0\n",
        "\n",
        "    return score\n",
        "\n",
        "print(\"--- Starting Optuna Study for Meta-Learner Tuning ---\")\n",
        "study_meta_lr = optuna.create_study(direction='maximize')\n",
        "study_meta_lr.optimize(objective_tune_meta_lr, n_trials=30)\n",
        "\n",
        "print(\"\\n--- Meta-Learner Optuna Study Complete ---\")\n",
        "print(\"Best trial number:\", study_meta_lr.best_trial.number)\n",
        "print(\"Best F1 Macro:\", study_meta_lr.best_value)\n",
        "print(\"Best Meta-Learner Params:\", study_meta_lr.best_params)"
      ]
    },
    {
      "cell_type": "code",
      "execution_count": 126,
      "metadata": {},
      "outputs": [],
      "source": [
        "cat_model = cat_final\n",
        "\n",
        "br_model = br_final\n",
        "\n",
        "rf_model = rf_final\n",
        "\n",
        "xg_model = xgb_final\n",
        "\n",
        "# Pipeline(\n",
        "    # steps=[\n",
        "    #     ('balancer', SMOTEN(random_state=42)),\n",
        "        # ('model', LogisticRegression(C=1.5, random_state=42))\n",
        "    # ])\n",
        "    \n",
        "# final_estimator_rf = RandomForestClassifier(\n",
        "#     n_estimators=150, # Keep it reasonable\n",
        "#     max_depth=7,      # Don't let it get too deep\n",
        "#     min_samples_leaf=5, # Prevent overfitting small groups\n",
        "#     random_state=RANDOM_STATE,\n",
        "#     n_jobs=-1,\n",
        "#     class_weight='balanced'\n",
        "# )\n",
        "\n",
        "final_estimator_model = LogisticRegression(C=6.187918203281458, penalty='l2', random_state=42, n_jobs=-1, solver='liblinear', max_iter=1000,)\n",
        "\n",
        "# stacking = StackingClassifier(\n",
        "#     estimators=[\n",
        "#         ('rf', rf_model),\n",
        "#         ('xgb', xg_model),\n",
        "#         ('br', br_model),\n",
        "#         ('cat', cat_model)\n",
        "#     ],\n",
        "#     final_estimator=final_estimator_model,\n",
        "#     cv=cv_out,\n",
        "#     passthrough=False\n",
        "# )\n",
        "\n",
        "# pipeline = Pipeline(steps=[\n",
        "#     ('model', stacking)\n",
        "# ])\n",
        "\n",
        "# pipeline.fit(X_train, y_train)"
      ]
    },
    {
      "cell_type": "code",
      "execution_count": 237,
      "metadata": {},
      "outputs": [
        {
          "name": "stdout",
          "output_type": "stream",
          "text": [
            "              precision    recall  f1-score   support\n",
            "\n",
            "           0       0.78      0.83      0.81        83\n",
            "           1       0.56      0.53      0.54        53\n",
            "           2       0.47      0.41      0.44        22\n",
            "           3       0.41      0.43      0.42        21\n",
            "\n",
            "    accuracy                           0.64       179\n",
            "   macro avg       0.56      0.55      0.55       179\n",
            "weighted avg       0.64      0.64      0.64       179\n",
            "\n"
          ]
        },
        {
          "name": "stderr",
          "output_type": "stream",
          "text": [
            "[Parallel(n_jobs=-1)]: Using backend LokyBackend with 16 concurrent workers.\n",
            "[Parallel(n_jobs=-1)]: Done   3 out of  10 | elapsed:  1.7min remaining:  3.9min\n",
            "[Parallel(n_jobs=-1)]: Done   7 out of  10 | elapsed:  1.7min remaining:   42.9s\n",
            "[Parallel(n_jobs=-1)]: Done  10 out of  10 | elapsed:  1.7min finished\n",
            "[Parallel(n_jobs=-1)]: Using backend LokyBackend with 16 concurrent workers.\n"
          ]
        },
        {
          "name": "stdout",
          "output_type": "stream",
          "text": [
            "cv mean:  43.234394597769445\n"
          ]
        },
        {
          "name": "stderr",
          "output_type": "stream",
          "text": [
            "[Parallel(n_jobs=-1)]: Done   3 out of  10 | elapsed:  1.6min remaining:  3.6min\n",
            "[Parallel(n_jobs=-1)]: Done   7 out of  10 | elapsed:  1.6min remaining:   41.1s\n"
          ]
        },
        {
          "name": "stdout",
          "output_type": "stream",
          "text": [
            "cv std:  6.625274040925897\n",
            "[[69 10  1  3]\n",
            " [14 28  5  6]\n",
            " [ 3  6  9  4]\n",
            " [ 2  6  4  9]]\n"
          ]
        },
        {
          "name": "stderr",
          "output_type": "stream",
          "text": [
            "[Parallel(n_jobs=-1)]: Done  10 out of  10 | elapsed:  1.6min finished\n"
          ]
        }
      ],
      "source": [
        "y_pred_stacking = pipeline.predict(X_test)\n",
        "\n",
        "print(classification_report(y_test, y_pred_stacking))\n",
        "print('cv mean: ', cross_val_score(pipeline, X_train, y_train, cv=cv_out, verbose=3, n_jobs=-1, scoring='f1_macro').mean()*100)\n",
        "print('cv std: ', cross_val_score(pipeline, X_train, y_train, cv=cv_out, verbose=3, n_jobs=-1, scoring='f1_macro').std()*100)\n",
        "cm = confusion_matrix(y_test, y_pred_stacking)\n",
        "print(cm)"
      ]
    },
    {
      "cell_type": "markdown",
      "metadata": {},
      "source": [
        "final_estimator_model = LogisticRegression(C=7.299396807027398, penalty='l1', random_state=42, n_jobs=-1, solver='liblinear')\n",
        "\n",
        "```\n",
        "              precision    recall  f1-score   support\n",
        "\n",
        "           0       0.78      0.83      0.80        83\n",
        "           1       0.55      0.51      0.53        53\n",
        "           2       0.44      0.36      0.40        22\n",
        "           3       0.39      0.43      0.41        21\n",
        "\n",
        "    accuracy                           0.63       179\n",
        "   macro avg       0.54      0.53      0.54       179\n",
        "weighted avg       0.62      0.63      0.63       179\n",
        "\n",
        "```"
      ]
    },
    {
      "cell_type": "markdown",
      "metadata": {},
      "source": [
        "### experimentation: further research for more performance -> researching lightGBM"
      ]
    },
    {
      "cell_type": "code",
      "execution_count": 241,
      "metadata": {},
      "outputs": [
        {
          "name": "stderr",
          "output_type": "stream",
          "text": [
            "[I 2025-05-29 22:47:18,235] A new study created in memory with name: no-name-aba09309-44dd-4627-9526-51772764590f\n"
          ]
        },
        {
          "name": "stdout",
          "output_type": "stream",
          "text": [
            "--- Starting Optuna Study for LightGBM ---\n"
          ]
        },
        {
          "name": "stderr",
          "output_type": "stream",
          "text": [
            "[I 2025-05-29 22:47:38,855] Trial 0 finished with value: 0.44257464128284213 and parameters: {'n_estimators': 1262, 'learning_rate': 0.021328785648294993, 'num_leaves': 99, 'max_depth': 9, 'subsample': 0.6348493305180988, 'colsample_bytree': 0.823403157086034, 'reg_alpha': 0.16169128623871518, 'reg_lambda': 4.349716938055618, 'min_child_samples': 12, 'class_weight': None}. Best is trial 0 with value: 0.44257464128284213.\n",
            "[I 2025-05-29 22:47:54,999] Trial 1 finished with value: 0.44858951004605363 and parameters: {'n_estimators': 1163, 'learning_rate': 0.05233225221803309, 'num_leaves': 23, 'max_depth': 17, 'subsample': 0.5420085132845671, 'colsample_bytree': 0.5310052334361834, 'reg_alpha': 0.002548685110481458, 'reg_lambda': 1.9120541616117432, 'min_child_samples': 25, 'class_weight': None}. Best is trial 1 with value: 0.44858951004605363.\n",
            "[I 2025-05-29 22:48:05,319] Trial 2 finished with value: 0.4399356813507686 and parameters: {'n_estimators': 590, 'learning_rate': 0.05702267850049664, 'num_leaves': 114, 'max_depth': 11, 'subsample': 0.5168210394563084, 'colsample_bytree': 0.806707749786804, 'reg_alpha': 0.0021426250829122864, 'reg_lambda': 0.283053250243668, 'min_child_samples': 18, 'class_weight': 'balanced'}. Best is trial 1 with value: 0.44858951004605363.\n",
            "[W 2025-05-29 22:48:26,005] Trial 3 failed with parameters: {'n_estimators': 1811, 'learning_rate': 0.007053645163875479, 'num_leaves': 52, 'max_depth': 9, 'subsample': 0.6970842214068178, 'colsample_bytree': 0.621735898435142, 'reg_alpha': 0.0076550286485955665, 'reg_lambda': 1.517999320229105, 'min_child_samples': 28, 'class_weight': 'balanced'} because of the following error: KeyboardInterrupt().\n",
            "Traceback (most recent call last):\n",
            "  File \"d:\\Uni\\Semester 4\\Code\\Machine Learning\\.conda\\Lib\\site-packages\\optuna\\study\\_optimize.py\", line 197, in _run_trial\n",
            "    value_or_values = func(trial)\n",
            "                      ^^^^^^^^^^^\n",
            "  File \"C:\\Users\\User\\AppData\\Local\\Temp\\ipykernel_47100\\3263472998.py\", line 27, in objective_lgbm\n",
            "    score = cross_val_score(model, X_train, y_train, cv=cv_out, scoring=f1_scorer, n_jobs=1).mean()\n",
            "            ^^^^^^^^^^^^^^^^^^^^^^^^^^^^^^^^^^^^^^^^^^^^^^^^^^^^^^^^^^^^^^^^^^^^^^^^^^^^^^^^\n",
            "  File \"d:\\Uni\\Semester 4\\Code\\Machine Learning\\.conda\\Lib\\site-packages\\sklearn\\utils\\_param_validation.py\", line 216, in wrapper\n",
            "    return func(*args, **kwargs)\n",
            "           ^^^^^^^^^^^^^^^^^^^^^\n",
            "  File \"d:\\Uni\\Semester 4\\Code\\Machine Learning\\.conda\\Lib\\site-packages\\sklearn\\model_selection\\_validation.py\", line 684, in cross_val_score\n",
            "    cv_results = cross_validate(\n",
            "                 ^^^^^^^^^^^^^^^\n",
            "  File \"d:\\Uni\\Semester 4\\Code\\Machine Learning\\.conda\\Lib\\site-packages\\sklearn\\utils\\_param_validation.py\", line 216, in wrapper\n",
            "    return func(*args, **kwargs)\n",
            "           ^^^^^^^^^^^^^^^^^^^^^\n",
            "  File \"d:\\Uni\\Semester 4\\Code\\Machine Learning\\.conda\\Lib\\site-packages\\sklearn\\model_selection\\_validation.py\", line 411, in cross_validate\n",
            "    results = parallel(\n",
            "              ^^^^^^^^^\n",
            "  File \"d:\\Uni\\Semester 4\\Code\\Machine Learning\\.conda\\Lib\\site-packages\\sklearn\\utils\\parallel.py\", line 77, in __call__\n",
            "    return super().__call__(iterable_with_config)\n",
            "           ^^^^^^^^^^^^^^^^^^^^^^^^^^^^^^^^^^^^^^\n",
            "  File \"d:\\Uni\\Semester 4\\Code\\Machine Learning\\.conda\\Lib\\site-packages\\joblib\\parallel.py\", line 1918, in __call__\n",
            "    return output if self.return_generator else list(output)\n",
            "                                                ^^^^^^^^^^^^\n",
            "  File \"d:\\Uni\\Semester 4\\Code\\Machine Learning\\.conda\\Lib\\site-packages\\joblib\\parallel.py\", line 1847, in _get_sequential_output\n",
            "    res = func(*args, **kwargs)\n",
            "          ^^^^^^^^^^^^^^^^^^^^^\n",
            "  File \"d:\\Uni\\Semester 4\\Code\\Machine Learning\\.conda\\Lib\\site-packages\\sklearn\\utils\\parallel.py\", line 139, in __call__\n",
            "    return self.function(*args, **kwargs)\n",
            "           ^^^^^^^^^^^^^^^^^^^^^^^^^^^^^^\n",
            "  File \"d:\\Uni\\Semester 4\\Code\\Machine Learning\\.conda\\Lib\\site-packages\\sklearn\\model_selection\\_validation.py\", line 866, in _fit_and_score\n",
            "    estimator.fit(X_train, y_train, **fit_params)\n",
            "  File \"d:\\Uni\\Semester 4\\Code\\Machine Learning\\.conda\\Lib\\site-packages\\lightgbm\\sklearn.py\", line 1560, in fit\n",
            "    super().fit(\n",
            "  File \"d:\\Uni\\Semester 4\\Code\\Machine Learning\\.conda\\Lib\\site-packages\\lightgbm\\sklearn.py\", line 1049, in fit\n",
            "    self._Booster = train(\n",
            "                    ^^^^^^\n",
            "  File \"d:\\Uni\\Semester 4\\Code\\Machine Learning\\.conda\\Lib\\site-packages\\lightgbm\\engine.py\", line 322, in train\n",
            "    booster.update(fobj=fobj)\n",
            "  File \"d:\\Uni\\Semester 4\\Code\\Machine Learning\\.conda\\Lib\\site-packages\\lightgbm\\basic.py\", line 4155, in update\n",
            "    _LIB.LGBM_BoosterUpdateOneIter(\n",
            "KeyboardInterrupt\n",
            "[W 2025-05-29 22:48:26,010] Trial 3 failed with value None.\n"
          ]
        },
        {
          "ename": "KeyboardInterrupt",
          "evalue": "",
          "output_type": "error",
          "traceback": [
            "\u001b[1;31m---------------------------------------------------------------------------\u001b[0m",
            "\u001b[1;31mKeyboardInterrupt\u001b[0m                         Traceback (most recent call last)",
            "Cell \u001b[1;32mIn[241], line 37\u001b[0m\n\u001b[0;32m     35\u001b[0m \u001b[38;5;28mprint\u001b[39m(\u001b[38;5;124m\"\u001b[39m\u001b[38;5;124m--- Starting Optuna Study for LightGBM ---\u001b[39m\u001b[38;5;124m\"\u001b[39m)\n\u001b[0;32m     36\u001b[0m study_lgbm \u001b[38;5;241m=\u001b[39m optuna\u001b[38;5;241m.\u001b[39mcreate_study(direction\u001b[38;5;241m=\u001b[39m\u001b[38;5;124m'\u001b[39m\u001b[38;5;124mmaximize\u001b[39m\u001b[38;5;124m'\u001b[39m)\n\u001b[1;32m---> 37\u001b[0m \u001b[43mstudy_lgbm\u001b[49m\u001b[38;5;241;43m.\u001b[39;49m\u001b[43moptimize\u001b[49m\u001b[43m(\u001b[49m\u001b[43mobjective_lgbm\u001b[49m\u001b[43m,\u001b[49m\u001b[43m \u001b[49m\u001b[43mn_trials\u001b[49m\u001b[38;5;241;43m=\u001b[39;49m\u001b[38;5;241;43m300\u001b[39;49m\u001b[43m)\u001b[49m \u001b[38;5;66;03m# Aim for around 100 trials\u001b[39;00m\n\u001b[0;32m     39\u001b[0m \u001b[38;5;28mprint\u001b[39m(\u001b[38;5;124m\"\u001b[39m\u001b[38;5;130;01m\\n\u001b[39;00m\u001b[38;5;124m--- LightGBM Optuna Study Complete ---\u001b[39m\u001b[38;5;124m\"\u001b[39m)\n\u001b[0;32m     40\u001b[0m \u001b[38;5;28mprint\u001b[39m(\u001b[38;5;124m\"\u001b[39m\u001b[38;5;124mBest trial number for LGBM:\u001b[39m\u001b[38;5;124m\"\u001b[39m, study_lgbm\u001b[38;5;241m.\u001b[39mbest_trial\u001b[38;5;241m.\u001b[39mnumber)\n",
            "File \u001b[1;32md:\\Uni\\Semester 4\\Code\\Machine Learning\\.conda\\Lib\\site-packages\\optuna\\study\\study.py:475\u001b[0m, in \u001b[0;36mStudy.optimize\u001b[1;34m(self, func, n_trials, timeout, n_jobs, catch, callbacks, gc_after_trial, show_progress_bar)\u001b[0m\n\u001b[0;32m    373\u001b[0m \u001b[38;5;28;01mdef\u001b[39;00m \u001b[38;5;21moptimize\u001b[39m(\n\u001b[0;32m    374\u001b[0m     \u001b[38;5;28mself\u001b[39m,\n\u001b[0;32m    375\u001b[0m     func: ObjectiveFuncType,\n\u001b[1;32m   (...)\u001b[0m\n\u001b[0;32m    382\u001b[0m     show_progress_bar: \u001b[38;5;28mbool\u001b[39m \u001b[38;5;241m=\u001b[39m \u001b[38;5;28;01mFalse\u001b[39;00m,\n\u001b[0;32m    383\u001b[0m ) \u001b[38;5;241m-\u001b[39m\u001b[38;5;241m>\u001b[39m \u001b[38;5;28;01mNone\u001b[39;00m:\n\u001b[0;32m    384\u001b[0m \u001b[38;5;250m    \u001b[39m\u001b[38;5;124;03m\"\"\"Optimize an objective function.\u001b[39;00m\n\u001b[0;32m    385\u001b[0m \n\u001b[0;32m    386\u001b[0m \u001b[38;5;124;03m    Optimization is done by choosing a suitable set of hyperparameter values from a given\u001b[39;00m\n\u001b[1;32m   (...)\u001b[0m\n\u001b[0;32m    473\u001b[0m \u001b[38;5;124;03m            If nested invocation of this method occurs.\u001b[39;00m\n\u001b[0;32m    474\u001b[0m \u001b[38;5;124;03m    \"\"\"\u001b[39;00m\n\u001b[1;32m--> 475\u001b[0m     \u001b[43m_optimize\u001b[49m\u001b[43m(\u001b[49m\n\u001b[0;32m    476\u001b[0m \u001b[43m        \u001b[49m\u001b[43mstudy\u001b[49m\u001b[38;5;241;43m=\u001b[39;49m\u001b[38;5;28;43mself\u001b[39;49m\u001b[43m,\u001b[49m\n\u001b[0;32m    477\u001b[0m \u001b[43m        \u001b[49m\u001b[43mfunc\u001b[49m\u001b[38;5;241;43m=\u001b[39;49m\u001b[43mfunc\u001b[49m\u001b[43m,\u001b[49m\n\u001b[0;32m    478\u001b[0m \u001b[43m        \u001b[49m\u001b[43mn_trials\u001b[49m\u001b[38;5;241;43m=\u001b[39;49m\u001b[43mn_trials\u001b[49m\u001b[43m,\u001b[49m\n\u001b[0;32m    479\u001b[0m \u001b[43m        \u001b[49m\u001b[43mtimeout\u001b[49m\u001b[38;5;241;43m=\u001b[39;49m\u001b[43mtimeout\u001b[49m\u001b[43m,\u001b[49m\n\u001b[0;32m    480\u001b[0m \u001b[43m        \u001b[49m\u001b[43mn_jobs\u001b[49m\u001b[38;5;241;43m=\u001b[39;49m\u001b[43mn_jobs\u001b[49m\u001b[43m,\u001b[49m\n\u001b[0;32m    481\u001b[0m \u001b[43m        \u001b[49m\u001b[43mcatch\u001b[49m\u001b[38;5;241;43m=\u001b[39;49m\u001b[38;5;28;43mtuple\u001b[39;49m\u001b[43m(\u001b[49m\u001b[43mcatch\u001b[49m\u001b[43m)\u001b[49m\u001b[43m \u001b[49m\u001b[38;5;28;43;01mif\u001b[39;49;00m\u001b[43m \u001b[49m\u001b[38;5;28;43misinstance\u001b[39;49m\u001b[43m(\u001b[49m\u001b[43mcatch\u001b[49m\u001b[43m,\u001b[49m\u001b[43m \u001b[49m\u001b[43mIterable\u001b[49m\u001b[43m)\u001b[49m\u001b[43m \u001b[49m\u001b[38;5;28;43;01melse\u001b[39;49;00m\u001b[43m \u001b[49m\u001b[43m(\u001b[49m\u001b[43mcatch\u001b[49m\u001b[43m,\u001b[49m\u001b[43m)\u001b[49m\u001b[43m,\u001b[49m\n\u001b[0;32m    482\u001b[0m \u001b[43m        \u001b[49m\u001b[43mcallbacks\u001b[49m\u001b[38;5;241;43m=\u001b[39;49m\u001b[43mcallbacks\u001b[49m\u001b[43m,\u001b[49m\n\u001b[0;32m    483\u001b[0m \u001b[43m        \u001b[49m\u001b[43mgc_after_trial\u001b[49m\u001b[38;5;241;43m=\u001b[39;49m\u001b[43mgc_after_trial\u001b[49m\u001b[43m,\u001b[49m\n\u001b[0;32m    484\u001b[0m \u001b[43m        \u001b[49m\u001b[43mshow_progress_bar\u001b[49m\u001b[38;5;241;43m=\u001b[39;49m\u001b[43mshow_progress_bar\u001b[49m\u001b[43m,\u001b[49m\n\u001b[0;32m    485\u001b[0m \u001b[43m    \u001b[49m\u001b[43m)\u001b[49m\n",
            "File \u001b[1;32md:\\Uni\\Semester 4\\Code\\Machine Learning\\.conda\\Lib\\site-packages\\optuna\\study\\_optimize.py:63\u001b[0m, in \u001b[0;36m_optimize\u001b[1;34m(study, func, n_trials, timeout, n_jobs, catch, callbacks, gc_after_trial, show_progress_bar)\u001b[0m\n\u001b[0;32m     61\u001b[0m \u001b[38;5;28;01mtry\u001b[39;00m:\n\u001b[0;32m     62\u001b[0m     \u001b[38;5;28;01mif\u001b[39;00m n_jobs \u001b[38;5;241m==\u001b[39m \u001b[38;5;241m1\u001b[39m:\n\u001b[1;32m---> 63\u001b[0m         \u001b[43m_optimize_sequential\u001b[49m\u001b[43m(\u001b[49m\n\u001b[0;32m     64\u001b[0m \u001b[43m            \u001b[49m\u001b[43mstudy\u001b[49m\u001b[43m,\u001b[49m\n\u001b[0;32m     65\u001b[0m \u001b[43m            \u001b[49m\u001b[43mfunc\u001b[49m\u001b[43m,\u001b[49m\n\u001b[0;32m     66\u001b[0m \u001b[43m            \u001b[49m\u001b[43mn_trials\u001b[49m\u001b[43m,\u001b[49m\n\u001b[0;32m     67\u001b[0m \u001b[43m            \u001b[49m\u001b[43mtimeout\u001b[49m\u001b[43m,\u001b[49m\n\u001b[0;32m     68\u001b[0m \u001b[43m            \u001b[49m\u001b[43mcatch\u001b[49m\u001b[43m,\u001b[49m\n\u001b[0;32m     69\u001b[0m \u001b[43m            \u001b[49m\u001b[43mcallbacks\u001b[49m\u001b[43m,\u001b[49m\n\u001b[0;32m     70\u001b[0m \u001b[43m            \u001b[49m\u001b[43mgc_after_trial\u001b[49m\u001b[43m,\u001b[49m\n\u001b[0;32m     71\u001b[0m \u001b[43m            \u001b[49m\u001b[43mreseed_sampler_rng\u001b[49m\u001b[38;5;241;43m=\u001b[39;49m\u001b[38;5;28;43;01mFalse\u001b[39;49;00m\u001b[43m,\u001b[49m\n\u001b[0;32m     72\u001b[0m \u001b[43m            \u001b[49m\u001b[43mtime_start\u001b[49m\u001b[38;5;241;43m=\u001b[39;49m\u001b[38;5;28;43;01mNone\u001b[39;49;00m\u001b[43m,\u001b[49m\n\u001b[0;32m     73\u001b[0m \u001b[43m            \u001b[49m\u001b[43mprogress_bar\u001b[49m\u001b[38;5;241;43m=\u001b[39;49m\u001b[43mprogress_bar\u001b[49m\u001b[43m,\u001b[49m\n\u001b[0;32m     74\u001b[0m \u001b[43m        \u001b[49m\u001b[43m)\u001b[49m\n\u001b[0;32m     75\u001b[0m     \u001b[38;5;28;01melse\u001b[39;00m:\n\u001b[0;32m     76\u001b[0m         \u001b[38;5;28;01mif\u001b[39;00m n_jobs \u001b[38;5;241m==\u001b[39m \u001b[38;5;241m-\u001b[39m\u001b[38;5;241m1\u001b[39m:\n",
            "File \u001b[1;32md:\\Uni\\Semester 4\\Code\\Machine Learning\\.conda\\Lib\\site-packages\\optuna\\study\\_optimize.py:160\u001b[0m, in \u001b[0;36m_optimize_sequential\u001b[1;34m(study, func, n_trials, timeout, catch, callbacks, gc_after_trial, reseed_sampler_rng, time_start, progress_bar)\u001b[0m\n\u001b[0;32m    157\u001b[0m         \u001b[38;5;28;01mbreak\u001b[39;00m\n\u001b[0;32m    159\u001b[0m \u001b[38;5;28;01mtry\u001b[39;00m:\n\u001b[1;32m--> 160\u001b[0m     frozen_trial \u001b[38;5;241m=\u001b[39m \u001b[43m_run_trial\u001b[49m\u001b[43m(\u001b[49m\u001b[43mstudy\u001b[49m\u001b[43m,\u001b[49m\u001b[43m \u001b[49m\u001b[43mfunc\u001b[49m\u001b[43m,\u001b[49m\u001b[43m \u001b[49m\u001b[43mcatch\u001b[49m\u001b[43m)\u001b[49m\n\u001b[0;32m    161\u001b[0m \u001b[38;5;28;01mfinally\u001b[39;00m:\n\u001b[0;32m    162\u001b[0m     \u001b[38;5;66;03m# The following line mitigates memory problems that can be occurred in some\u001b[39;00m\n\u001b[0;32m    163\u001b[0m     \u001b[38;5;66;03m# environments (e.g., services that use computing containers such as GitHub Actions).\u001b[39;00m\n\u001b[0;32m    164\u001b[0m     \u001b[38;5;66;03m# Please refer to the following PR for further details:\u001b[39;00m\n\u001b[0;32m    165\u001b[0m     \u001b[38;5;66;03m# https://github.com/optuna/optuna/pull/325.\u001b[39;00m\n\u001b[0;32m    166\u001b[0m     \u001b[38;5;28;01mif\u001b[39;00m gc_after_trial:\n",
            "File \u001b[1;32md:\\Uni\\Semester 4\\Code\\Machine Learning\\.conda\\Lib\\site-packages\\optuna\\study\\_optimize.py:248\u001b[0m, in \u001b[0;36m_run_trial\u001b[1;34m(study, func, catch)\u001b[0m\n\u001b[0;32m    241\u001b[0m         \u001b[38;5;28;01massert\u001b[39;00m \u001b[38;5;28;01mFalse\u001b[39;00m, \u001b[38;5;124m\"\u001b[39m\u001b[38;5;124mShould not reach.\u001b[39m\u001b[38;5;124m\"\u001b[39m\n\u001b[0;32m    243\u001b[0m \u001b[38;5;28;01mif\u001b[39;00m (\n\u001b[0;32m    244\u001b[0m     frozen_trial\u001b[38;5;241m.\u001b[39mstate \u001b[38;5;241m==\u001b[39m TrialState\u001b[38;5;241m.\u001b[39mFAIL\n\u001b[0;32m    245\u001b[0m     \u001b[38;5;129;01mand\u001b[39;00m func_err \u001b[38;5;129;01mis\u001b[39;00m \u001b[38;5;129;01mnot\u001b[39;00m \u001b[38;5;28;01mNone\u001b[39;00m\n\u001b[0;32m    246\u001b[0m     \u001b[38;5;129;01mand\u001b[39;00m \u001b[38;5;129;01mnot\u001b[39;00m \u001b[38;5;28misinstance\u001b[39m(func_err, catch)\n\u001b[0;32m    247\u001b[0m ):\n\u001b[1;32m--> 248\u001b[0m     \u001b[38;5;28;01mraise\u001b[39;00m func_err\n\u001b[0;32m    249\u001b[0m \u001b[38;5;28;01mreturn\u001b[39;00m frozen_trial\n",
            "File \u001b[1;32md:\\Uni\\Semester 4\\Code\\Machine Learning\\.conda\\Lib\\site-packages\\optuna\\study\\_optimize.py:197\u001b[0m, in \u001b[0;36m_run_trial\u001b[1;34m(study, func, catch)\u001b[0m\n\u001b[0;32m    195\u001b[0m \u001b[38;5;28;01mwith\u001b[39;00m get_heartbeat_thread(trial\u001b[38;5;241m.\u001b[39m_trial_id, study\u001b[38;5;241m.\u001b[39m_storage):\n\u001b[0;32m    196\u001b[0m     \u001b[38;5;28;01mtry\u001b[39;00m:\n\u001b[1;32m--> 197\u001b[0m         value_or_values \u001b[38;5;241m=\u001b[39m \u001b[43mfunc\u001b[49m\u001b[43m(\u001b[49m\u001b[43mtrial\u001b[49m\u001b[43m)\u001b[49m\n\u001b[0;32m    198\u001b[0m     \u001b[38;5;28;01mexcept\u001b[39;00m exceptions\u001b[38;5;241m.\u001b[39mTrialPruned \u001b[38;5;28;01mas\u001b[39;00m e:\n\u001b[0;32m    199\u001b[0m         \u001b[38;5;66;03m# TODO(mamu): Handle multi-objective cases.\u001b[39;00m\n\u001b[0;32m    200\u001b[0m         state \u001b[38;5;241m=\u001b[39m TrialState\u001b[38;5;241m.\u001b[39mPRUNED\n",
            "Cell \u001b[1;32mIn[241], line 27\u001b[0m, in \u001b[0;36mobjective_lgbm\u001b[1;34m(trial)\u001b[0m\n\u001b[0;32m     25\u001b[0m \u001b[38;5;28;01mtry\u001b[39;00m:\n\u001b[0;32m     26\u001b[0m     f1_scorer \u001b[38;5;241m=\u001b[39m make_scorer(f1_score, average\u001b[38;5;241m=\u001b[39m\u001b[38;5;124m'\u001b[39m\u001b[38;5;124mmacro\u001b[39m\u001b[38;5;124m'\u001b[39m)\n\u001b[1;32m---> 27\u001b[0m     score \u001b[38;5;241m=\u001b[39m \u001b[43mcross_val_score\u001b[49m\u001b[43m(\u001b[49m\u001b[43mmodel\u001b[49m\u001b[43m,\u001b[49m\u001b[43m \u001b[49m\u001b[43mX_train\u001b[49m\u001b[43m,\u001b[49m\u001b[43m \u001b[49m\u001b[43my_train\u001b[49m\u001b[43m,\u001b[49m\u001b[43m \u001b[49m\u001b[43mcv\u001b[49m\u001b[38;5;241;43m=\u001b[39;49m\u001b[43mcv_out\u001b[49m\u001b[43m,\u001b[49m\u001b[43m \u001b[49m\u001b[43mscoring\u001b[49m\u001b[38;5;241;43m=\u001b[39;49m\u001b[43mf1_scorer\u001b[49m\u001b[43m,\u001b[49m\u001b[43m \u001b[49m\u001b[43mn_jobs\u001b[49m\u001b[38;5;241;43m=\u001b[39;49m\u001b[38;5;241;43m1\u001b[39;49m\u001b[43m)\u001b[49m\u001b[38;5;241m.\u001b[39mmean()\n\u001b[0;32m     28\u001b[0m \u001b[38;5;28;01mexcept\u001b[39;00m \u001b[38;5;167;01mException\u001b[39;00m \u001b[38;5;28;01mas\u001b[39;00m e:\n\u001b[0;32m     29\u001b[0m     \u001b[38;5;28mprint\u001b[39m(\u001b[38;5;124mf\u001b[39m\u001b[38;5;124m\"\u001b[39m\u001b[38;5;124mLGBM Trial failed with error: \u001b[39m\u001b[38;5;132;01m{\u001b[39;00me\u001b[38;5;132;01m}\u001b[39;00m\u001b[38;5;124m\"\u001b[39m)\n",
            "File \u001b[1;32md:\\Uni\\Semester 4\\Code\\Machine Learning\\.conda\\Lib\\site-packages\\sklearn\\utils\\_param_validation.py:216\u001b[0m, in \u001b[0;36mvalidate_params.<locals>.decorator.<locals>.wrapper\u001b[1;34m(*args, **kwargs)\u001b[0m\n\u001b[0;32m    210\u001b[0m \u001b[38;5;28;01mtry\u001b[39;00m:\n\u001b[0;32m    211\u001b[0m     \u001b[38;5;28;01mwith\u001b[39;00m config_context(\n\u001b[0;32m    212\u001b[0m         skip_parameter_validation\u001b[38;5;241m=\u001b[39m(\n\u001b[0;32m    213\u001b[0m             prefer_skip_nested_validation \u001b[38;5;129;01mor\u001b[39;00m global_skip_validation\n\u001b[0;32m    214\u001b[0m         )\n\u001b[0;32m    215\u001b[0m     ):\n\u001b[1;32m--> 216\u001b[0m         \u001b[38;5;28;01mreturn\u001b[39;00m \u001b[43mfunc\u001b[49m\u001b[43m(\u001b[49m\u001b[38;5;241;43m*\u001b[39;49m\u001b[43margs\u001b[49m\u001b[43m,\u001b[49m\u001b[43m \u001b[49m\u001b[38;5;241;43m*\u001b[39;49m\u001b[38;5;241;43m*\u001b[39;49m\u001b[43mkwargs\u001b[49m\u001b[43m)\u001b[49m\n\u001b[0;32m    217\u001b[0m \u001b[38;5;28;01mexcept\u001b[39;00m InvalidParameterError \u001b[38;5;28;01mas\u001b[39;00m e:\n\u001b[0;32m    218\u001b[0m     \u001b[38;5;66;03m# When the function is just a wrapper around an estimator, we allow\u001b[39;00m\n\u001b[0;32m    219\u001b[0m     \u001b[38;5;66;03m# the function to delegate validation to the estimator, but we replace\u001b[39;00m\n\u001b[0;32m    220\u001b[0m     \u001b[38;5;66;03m# the name of the estimator by the name of the function in the error\u001b[39;00m\n\u001b[0;32m    221\u001b[0m     \u001b[38;5;66;03m# message to avoid confusion.\u001b[39;00m\n\u001b[0;32m    222\u001b[0m     msg \u001b[38;5;241m=\u001b[39m re\u001b[38;5;241m.\u001b[39msub(\n\u001b[0;32m    223\u001b[0m         \u001b[38;5;124mr\u001b[39m\u001b[38;5;124m\"\u001b[39m\u001b[38;5;124mparameter of \u001b[39m\u001b[38;5;124m\\\u001b[39m\u001b[38;5;124mw+ must be\u001b[39m\u001b[38;5;124m\"\u001b[39m,\n\u001b[0;32m    224\u001b[0m         \u001b[38;5;124mf\u001b[39m\u001b[38;5;124m\"\u001b[39m\u001b[38;5;124mparameter of \u001b[39m\u001b[38;5;132;01m{\u001b[39;00mfunc\u001b[38;5;241m.\u001b[39m\u001b[38;5;18m__qualname__\u001b[39m\u001b[38;5;132;01m}\u001b[39;00m\u001b[38;5;124m must be\u001b[39m\u001b[38;5;124m\"\u001b[39m,\n\u001b[0;32m    225\u001b[0m         \u001b[38;5;28mstr\u001b[39m(e),\n\u001b[0;32m    226\u001b[0m     )\n",
            "File \u001b[1;32md:\\Uni\\Semester 4\\Code\\Machine Learning\\.conda\\Lib\\site-packages\\sklearn\\model_selection\\_validation.py:684\u001b[0m, in \u001b[0;36mcross_val_score\u001b[1;34m(estimator, X, y, groups, scoring, cv, n_jobs, verbose, params, pre_dispatch, error_score)\u001b[0m\n\u001b[0;32m    681\u001b[0m \u001b[38;5;66;03m# To ensure multimetric format is not supported\u001b[39;00m\n\u001b[0;32m    682\u001b[0m scorer \u001b[38;5;241m=\u001b[39m check_scoring(estimator, scoring\u001b[38;5;241m=\u001b[39mscoring)\n\u001b[1;32m--> 684\u001b[0m cv_results \u001b[38;5;241m=\u001b[39m \u001b[43mcross_validate\u001b[49m\u001b[43m(\u001b[49m\n\u001b[0;32m    685\u001b[0m \u001b[43m    \u001b[49m\u001b[43mestimator\u001b[49m\u001b[38;5;241;43m=\u001b[39;49m\u001b[43mestimator\u001b[49m\u001b[43m,\u001b[49m\n\u001b[0;32m    686\u001b[0m \u001b[43m    \u001b[49m\u001b[43mX\u001b[49m\u001b[38;5;241;43m=\u001b[39;49m\u001b[43mX\u001b[49m\u001b[43m,\u001b[49m\n\u001b[0;32m    687\u001b[0m \u001b[43m    \u001b[49m\u001b[43my\u001b[49m\u001b[38;5;241;43m=\u001b[39;49m\u001b[43my\u001b[49m\u001b[43m,\u001b[49m\n\u001b[0;32m    688\u001b[0m \u001b[43m    \u001b[49m\u001b[43mgroups\u001b[49m\u001b[38;5;241;43m=\u001b[39;49m\u001b[43mgroups\u001b[49m\u001b[43m,\u001b[49m\n\u001b[0;32m    689\u001b[0m \u001b[43m    \u001b[49m\u001b[43mscoring\u001b[49m\u001b[38;5;241;43m=\u001b[39;49m\u001b[43m{\u001b[49m\u001b[38;5;124;43m\"\u001b[39;49m\u001b[38;5;124;43mscore\u001b[39;49m\u001b[38;5;124;43m\"\u001b[39;49m\u001b[43m:\u001b[49m\u001b[43m \u001b[49m\u001b[43mscorer\u001b[49m\u001b[43m}\u001b[49m\u001b[43m,\u001b[49m\n\u001b[0;32m    690\u001b[0m \u001b[43m    \u001b[49m\u001b[43mcv\u001b[49m\u001b[38;5;241;43m=\u001b[39;49m\u001b[43mcv\u001b[49m\u001b[43m,\u001b[49m\n\u001b[0;32m    691\u001b[0m \u001b[43m    \u001b[49m\u001b[43mn_jobs\u001b[49m\u001b[38;5;241;43m=\u001b[39;49m\u001b[43mn_jobs\u001b[49m\u001b[43m,\u001b[49m\n\u001b[0;32m    692\u001b[0m \u001b[43m    \u001b[49m\u001b[43mverbose\u001b[49m\u001b[38;5;241;43m=\u001b[39;49m\u001b[43mverbose\u001b[49m\u001b[43m,\u001b[49m\n\u001b[0;32m    693\u001b[0m \u001b[43m    \u001b[49m\u001b[43mparams\u001b[49m\u001b[38;5;241;43m=\u001b[39;49m\u001b[43mparams\u001b[49m\u001b[43m,\u001b[49m\n\u001b[0;32m    694\u001b[0m \u001b[43m    \u001b[49m\u001b[43mpre_dispatch\u001b[49m\u001b[38;5;241;43m=\u001b[39;49m\u001b[43mpre_dispatch\u001b[49m\u001b[43m,\u001b[49m\n\u001b[0;32m    695\u001b[0m \u001b[43m    \u001b[49m\u001b[43merror_score\u001b[49m\u001b[38;5;241;43m=\u001b[39;49m\u001b[43merror_score\u001b[49m\u001b[43m,\u001b[49m\n\u001b[0;32m    696\u001b[0m \u001b[43m\u001b[49m\u001b[43m)\u001b[49m\n\u001b[0;32m    697\u001b[0m \u001b[38;5;28;01mreturn\u001b[39;00m cv_results[\u001b[38;5;124m\"\u001b[39m\u001b[38;5;124mtest_score\u001b[39m\u001b[38;5;124m\"\u001b[39m]\n",
            "File \u001b[1;32md:\\Uni\\Semester 4\\Code\\Machine Learning\\.conda\\Lib\\site-packages\\sklearn\\utils\\_param_validation.py:216\u001b[0m, in \u001b[0;36mvalidate_params.<locals>.decorator.<locals>.wrapper\u001b[1;34m(*args, **kwargs)\u001b[0m\n\u001b[0;32m    210\u001b[0m \u001b[38;5;28;01mtry\u001b[39;00m:\n\u001b[0;32m    211\u001b[0m     \u001b[38;5;28;01mwith\u001b[39;00m config_context(\n\u001b[0;32m    212\u001b[0m         skip_parameter_validation\u001b[38;5;241m=\u001b[39m(\n\u001b[0;32m    213\u001b[0m             prefer_skip_nested_validation \u001b[38;5;129;01mor\u001b[39;00m global_skip_validation\n\u001b[0;32m    214\u001b[0m         )\n\u001b[0;32m    215\u001b[0m     ):\n\u001b[1;32m--> 216\u001b[0m         \u001b[38;5;28;01mreturn\u001b[39;00m \u001b[43mfunc\u001b[49m\u001b[43m(\u001b[49m\u001b[38;5;241;43m*\u001b[39;49m\u001b[43margs\u001b[49m\u001b[43m,\u001b[49m\u001b[43m \u001b[49m\u001b[38;5;241;43m*\u001b[39;49m\u001b[38;5;241;43m*\u001b[39;49m\u001b[43mkwargs\u001b[49m\u001b[43m)\u001b[49m\n\u001b[0;32m    217\u001b[0m \u001b[38;5;28;01mexcept\u001b[39;00m InvalidParameterError \u001b[38;5;28;01mas\u001b[39;00m e:\n\u001b[0;32m    218\u001b[0m     \u001b[38;5;66;03m# When the function is just a wrapper around an estimator, we allow\u001b[39;00m\n\u001b[0;32m    219\u001b[0m     \u001b[38;5;66;03m# the function to delegate validation to the estimator, but we replace\u001b[39;00m\n\u001b[0;32m    220\u001b[0m     \u001b[38;5;66;03m# the name of the estimator by the name of the function in the error\u001b[39;00m\n\u001b[0;32m    221\u001b[0m     \u001b[38;5;66;03m# message to avoid confusion.\u001b[39;00m\n\u001b[0;32m    222\u001b[0m     msg \u001b[38;5;241m=\u001b[39m re\u001b[38;5;241m.\u001b[39msub(\n\u001b[0;32m    223\u001b[0m         \u001b[38;5;124mr\u001b[39m\u001b[38;5;124m\"\u001b[39m\u001b[38;5;124mparameter of \u001b[39m\u001b[38;5;124m\\\u001b[39m\u001b[38;5;124mw+ must be\u001b[39m\u001b[38;5;124m\"\u001b[39m,\n\u001b[0;32m    224\u001b[0m         \u001b[38;5;124mf\u001b[39m\u001b[38;5;124m\"\u001b[39m\u001b[38;5;124mparameter of \u001b[39m\u001b[38;5;132;01m{\u001b[39;00mfunc\u001b[38;5;241m.\u001b[39m\u001b[38;5;18m__qualname__\u001b[39m\u001b[38;5;132;01m}\u001b[39;00m\u001b[38;5;124m must be\u001b[39m\u001b[38;5;124m\"\u001b[39m,\n\u001b[0;32m    225\u001b[0m         \u001b[38;5;28mstr\u001b[39m(e),\n\u001b[0;32m    226\u001b[0m     )\n",
            "File \u001b[1;32md:\\Uni\\Semester 4\\Code\\Machine Learning\\.conda\\Lib\\site-packages\\sklearn\\model_selection\\_validation.py:411\u001b[0m, in \u001b[0;36mcross_validate\u001b[1;34m(estimator, X, y, groups, scoring, cv, n_jobs, verbose, params, pre_dispatch, return_train_score, return_estimator, return_indices, error_score)\u001b[0m\n\u001b[0;32m    408\u001b[0m \u001b[38;5;66;03m# We clone the estimator to make sure that all the folds are\u001b[39;00m\n\u001b[0;32m    409\u001b[0m \u001b[38;5;66;03m# independent, and that it is pickle-able.\u001b[39;00m\n\u001b[0;32m    410\u001b[0m parallel \u001b[38;5;241m=\u001b[39m Parallel(n_jobs\u001b[38;5;241m=\u001b[39mn_jobs, verbose\u001b[38;5;241m=\u001b[39mverbose, pre_dispatch\u001b[38;5;241m=\u001b[39mpre_dispatch)\n\u001b[1;32m--> 411\u001b[0m results \u001b[38;5;241m=\u001b[39m \u001b[43mparallel\u001b[49m\u001b[43m(\u001b[49m\n\u001b[0;32m    412\u001b[0m \u001b[43m    \u001b[49m\u001b[43mdelayed\u001b[49m\u001b[43m(\u001b[49m\u001b[43m_fit_and_score\u001b[49m\u001b[43m)\u001b[49m\u001b[43m(\u001b[49m\n\u001b[0;32m    413\u001b[0m \u001b[43m        \u001b[49m\u001b[43mclone\u001b[49m\u001b[43m(\u001b[49m\u001b[43mestimator\u001b[49m\u001b[43m)\u001b[49m\u001b[43m,\u001b[49m\n\u001b[0;32m    414\u001b[0m \u001b[43m        \u001b[49m\u001b[43mX\u001b[49m\u001b[43m,\u001b[49m\n\u001b[0;32m    415\u001b[0m \u001b[43m        \u001b[49m\u001b[43my\u001b[49m\u001b[43m,\u001b[49m\n\u001b[0;32m    416\u001b[0m \u001b[43m        \u001b[49m\u001b[43mscorer\u001b[49m\u001b[38;5;241;43m=\u001b[39;49m\u001b[43mscorers\u001b[49m\u001b[43m,\u001b[49m\n\u001b[0;32m    417\u001b[0m \u001b[43m        \u001b[49m\u001b[43mtrain\u001b[49m\u001b[38;5;241;43m=\u001b[39;49m\u001b[43mtrain\u001b[49m\u001b[43m,\u001b[49m\n\u001b[0;32m    418\u001b[0m \u001b[43m        \u001b[49m\u001b[43mtest\u001b[49m\u001b[38;5;241;43m=\u001b[39;49m\u001b[43mtest\u001b[49m\u001b[43m,\u001b[49m\n\u001b[0;32m    419\u001b[0m \u001b[43m        \u001b[49m\u001b[43mverbose\u001b[49m\u001b[38;5;241;43m=\u001b[39;49m\u001b[43mverbose\u001b[49m\u001b[43m,\u001b[49m\n\u001b[0;32m    420\u001b[0m \u001b[43m        \u001b[49m\u001b[43mparameters\u001b[49m\u001b[38;5;241;43m=\u001b[39;49m\u001b[38;5;28;43;01mNone\u001b[39;49;00m\u001b[43m,\u001b[49m\n\u001b[0;32m    421\u001b[0m \u001b[43m        \u001b[49m\u001b[43mfit_params\u001b[49m\u001b[38;5;241;43m=\u001b[39;49m\u001b[43mrouted_params\u001b[49m\u001b[38;5;241;43m.\u001b[39;49m\u001b[43mestimator\u001b[49m\u001b[38;5;241;43m.\u001b[39;49m\u001b[43mfit\u001b[49m\u001b[43m,\u001b[49m\n\u001b[0;32m    422\u001b[0m \u001b[43m        \u001b[49m\u001b[43mscore_params\u001b[49m\u001b[38;5;241;43m=\u001b[39;49m\u001b[43mrouted_params\u001b[49m\u001b[38;5;241;43m.\u001b[39;49m\u001b[43mscorer\u001b[49m\u001b[38;5;241;43m.\u001b[39;49m\u001b[43mscore\u001b[49m\u001b[43m,\u001b[49m\n\u001b[0;32m    423\u001b[0m \u001b[43m        \u001b[49m\u001b[43mreturn_train_score\u001b[49m\u001b[38;5;241;43m=\u001b[39;49m\u001b[43mreturn_train_score\u001b[49m\u001b[43m,\u001b[49m\n\u001b[0;32m    424\u001b[0m \u001b[43m        \u001b[49m\u001b[43mreturn_times\u001b[49m\u001b[38;5;241;43m=\u001b[39;49m\u001b[38;5;28;43;01mTrue\u001b[39;49;00m\u001b[43m,\u001b[49m\n\u001b[0;32m    425\u001b[0m \u001b[43m        \u001b[49m\u001b[43mreturn_estimator\u001b[49m\u001b[38;5;241;43m=\u001b[39;49m\u001b[43mreturn_estimator\u001b[49m\u001b[43m,\u001b[49m\n\u001b[0;32m    426\u001b[0m \u001b[43m        \u001b[49m\u001b[43merror_score\u001b[49m\u001b[38;5;241;43m=\u001b[39;49m\u001b[43merror_score\u001b[49m\u001b[43m,\u001b[49m\n\u001b[0;32m    427\u001b[0m \u001b[43m    \u001b[49m\u001b[43m)\u001b[49m\n\u001b[0;32m    428\u001b[0m \u001b[43m    \u001b[49m\u001b[38;5;28;43;01mfor\u001b[39;49;00m\u001b[43m \u001b[49m\u001b[43mtrain\u001b[49m\u001b[43m,\u001b[49m\u001b[43m \u001b[49m\u001b[43mtest\u001b[49m\u001b[43m \u001b[49m\u001b[38;5;129;43;01min\u001b[39;49;00m\u001b[43m \u001b[49m\u001b[43mindices\u001b[49m\n\u001b[0;32m    429\u001b[0m \u001b[43m\u001b[49m\u001b[43m)\u001b[49m\n\u001b[0;32m    431\u001b[0m _warn_or_raise_about_fit_failures(results, error_score)\n\u001b[0;32m    433\u001b[0m \u001b[38;5;66;03m# For callable scoring, the return type is only know after calling. If the\u001b[39;00m\n\u001b[0;32m    434\u001b[0m \u001b[38;5;66;03m# return type is a dictionary, the error scores can now be inserted with\u001b[39;00m\n\u001b[0;32m    435\u001b[0m \u001b[38;5;66;03m# the correct key.\u001b[39;00m\n",
            "File \u001b[1;32md:\\Uni\\Semester 4\\Code\\Machine Learning\\.conda\\Lib\\site-packages\\sklearn\\utils\\parallel.py:77\u001b[0m, in \u001b[0;36mParallel.__call__\u001b[1;34m(self, iterable)\u001b[0m\n\u001b[0;32m     72\u001b[0m config \u001b[38;5;241m=\u001b[39m get_config()\n\u001b[0;32m     73\u001b[0m iterable_with_config \u001b[38;5;241m=\u001b[39m (\n\u001b[0;32m     74\u001b[0m     (_with_config(delayed_func, config), args, kwargs)\n\u001b[0;32m     75\u001b[0m     \u001b[38;5;28;01mfor\u001b[39;00m delayed_func, args, kwargs \u001b[38;5;129;01min\u001b[39;00m iterable\n\u001b[0;32m     76\u001b[0m )\n\u001b[1;32m---> 77\u001b[0m \u001b[38;5;28;01mreturn\u001b[39;00m \u001b[38;5;28;43msuper\u001b[39;49m\u001b[43m(\u001b[49m\u001b[43m)\u001b[49m\u001b[38;5;241;43m.\u001b[39;49m\u001b[38;5;21;43m__call__\u001b[39;49m\u001b[43m(\u001b[49m\u001b[43miterable_with_config\u001b[49m\u001b[43m)\u001b[49m\n",
            "File \u001b[1;32md:\\Uni\\Semester 4\\Code\\Machine Learning\\.conda\\Lib\\site-packages\\joblib\\parallel.py:1918\u001b[0m, in \u001b[0;36mParallel.__call__\u001b[1;34m(self, iterable)\u001b[0m\n\u001b[0;32m   1916\u001b[0m     output \u001b[38;5;241m=\u001b[39m \u001b[38;5;28mself\u001b[39m\u001b[38;5;241m.\u001b[39m_get_sequential_output(iterable)\n\u001b[0;32m   1917\u001b[0m     \u001b[38;5;28mnext\u001b[39m(output)\n\u001b[1;32m-> 1918\u001b[0m     \u001b[38;5;28;01mreturn\u001b[39;00m output \u001b[38;5;28;01mif\u001b[39;00m \u001b[38;5;28mself\u001b[39m\u001b[38;5;241m.\u001b[39mreturn_generator \u001b[38;5;28;01melse\u001b[39;00m \u001b[38;5;28mlist\u001b[39m(output)\n\u001b[0;32m   1920\u001b[0m \u001b[38;5;66;03m# Let's create an ID that uniquely identifies the current call. If the\u001b[39;00m\n\u001b[0;32m   1921\u001b[0m \u001b[38;5;66;03m# call is interrupted early and that the same instance is immediately\u001b[39;00m\n\u001b[0;32m   1922\u001b[0m \u001b[38;5;66;03m# re-used, this id will be used to prevent workers that were\u001b[39;00m\n\u001b[0;32m   1923\u001b[0m \u001b[38;5;66;03m# concurrently finalizing a task from the previous call to run the\u001b[39;00m\n\u001b[0;32m   1924\u001b[0m \u001b[38;5;66;03m# callback.\u001b[39;00m\n\u001b[0;32m   1925\u001b[0m \u001b[38;5;28;01mwith\u001b[39;00m \u001b[38;5;28mself\u001b[39m\u001b[38;5;241m.\u001b[39m_lock:\n",
            "File \u001b[1;32md:\\Uni\\Semester 4\\Code\\Machine Learning\\.conda\\Lib\\site-packages\\joblib\\parallel.py:1847\u001b[0m, in \u001b[0;36mParallel._get_sequential_output\u001b[1;34m(self, iterable)\u001b[0m\n\u001b[0;32m   1845\u001b[0m \u001b[38;5;28mself\u001b[39m\u001b[38;5;241m.\u001b[39mn_dispatched_batches \u001b[38;5;241m+\u001b[39m\u001b[38;5;241m=\u001b[39m \u001b[38;5;241m1\u001b[39m\n\u001b[0;32m   1846\u001b[0m \u001b[38;5;28mself\u001b[39m\u001b[38;5;241m.\u001b[39mn_dispatched_tasks \u001b[38;5;241m+\u001b[39m\u001b[38;5;241m=\u001b[39m \u001b[38;5;241m1\u001b[39m\n\u001b[1;32m-> 1847\u001b[0m res \u001b[38;5;241m=\u001b[39m \u001b[43mfunc\u001b[49m\u001b[43m(\u001b[49m\u001b[38;5;241;43m*\u001b[39;49m\u001b[43margs\u001b[49m\u001b[43m,\u001b[49m\u001b[43m \u001b[49m\u001b[38;5;241;43m*\u001b[39;49m\u001b[38;5;241;43m*\u001b[39;49m\u001b[43mkwargs\u001b[49m\u001b[43m)\u001b[49m\n\u001b[0;32m   1848\u001b[0m \u001b[38;5;28mself\u001b[39m\u001b[38;5;241m.\u001b[39mn_completed_tasks \u001b[38;5;241m+\u001b[39m\u001b[38;5;241m=\u001b[39m \u001b[38;5;241m1\u001b[39m\n\u001b[0;32m   1849\u001b[0m \u001b[38;5;28mself\u001b[39m\u001b[38;5;241m.\u001b[39mprint_progress()\n",
            "File \u001b[1;32md:\\Uni\\Semester 4\\Code\\Machine Learning\\.conda\\Lib\\site-packages\\sklearn\\utils\\parallel.py:139\u001b[0m, in \u001b[0;36m_FuncWrapper.__call__\u001b[1;34m(self, *args, **kwargs)\u001b[0m\n\u001b[0;32m    137\u001b[0m     config \u001b[38;5;241m=\u001b[39m {}\n\u001b[0;32m    138\u001b[0m \u001b[38;5;28;01mwith\u001b[39;00m config_context(\u001b[38;5;241m*\u001b[39m\u001b[38;5;241m*\u001b[39mconfig):\n\u001b[1;32m--> 139\u001b[0m     \u001b[38;5;28;01mreturn\u001b[39;00m \u001b[38;5;28;43mself\u001b[39;49m\u001b[38;5;241;43m.\u001b[39;49m\u001b[43mfunction\u001b[49m\u001b[43m(\u001b[49m\u001b[38;5;241;43m*\u001b[39;49m\u001b[43margs\u001b[49m\u001b[43m,\u001b[49m\u001b[43m \u001b[49m\u001b[38;5;241;43m*\u001b[39;49m\u001b[38;5;241;43m*\u001b[39;49m\u001b[43mkwargs\u001b[49m\u001b[43m)\u001b[49m\n",
            "File \u001b[1;32md:\\Uni\\Semester 4\\Code\\Machine Learning\\.conda\\Lib\\site-packages\\sklearn\\model_selection\\_validation.py:866\u001b[0m, in \u001b[0;36m_fit_and_score\u001b[1;34m(estimator, X, y, scorer, train, test, verbose, parameters, fit_params, score_params, return_train_score, return_parameters, return_n_test_samples, return_times, return_estimator, split_progress, candidate_progress, error_score)\u001b[0m\n\u001b[0;32m    864\u001b[0m         estimator\u001b[38;5;241m.\u001b[39mfit(X_train, \u001b[38;5;241m*\u001b[39m\u001b[38;5;241m*\u001b[39mfit_params)\n\u001b[0;32m    865\u001b[0m     \u001b[38;5;28;01melse\u001b[39;00m:\n\u001b[1;32m--> 866\u001b[0m         \u001b[43mestimator\u001b[49m\u001b[38;5;241;43m.\u001b[39;49m\u001b[43mfit\u001b[49m\u001b[43m(\u001b[49m\u001b[43mX_train\u001b[49m\u001b[43m,\u001b[49m\u001b[43m \u001b[49m\u001b[43my_train\u001b[49m\u001b[43m,\u001b[49m\u001b[43m \u001b[49m\u001b[38;5;241;43m*\u001b[39;49m\u001b[38;5;241;43m*\u001b[39;49m\u001b[43mfit_params\u001b[49m\u001b[43m)\u001b[49m\n\u001b[0;32m    868\u001b[0m \u001b[38;5;28;01mexcept\u001b[39;00m \u001b[38;5;167;01mException\u001b[39;00m:\n\u001b[0;32m    869\u001b[0m     \u001b[38;5;66;03m# Note fit time as time until error\u001b[39;00m\n\u001b[0;32m    870\u001b[0m     fit_time \u001b[38;5;241m=\u001b[39m time\u001b[38;5;241m.\u001b[39mtime() \u001b[38;5;241m-\u001b[39m start_time\n",
            "File \u001b[1;32md:\\Uni\\Semester 4\\Code\\Machine Learning\\.conda\\Lib\\site-packages\\lightgbm\\sklearn.py:1560\u001b[0m, in \u001b[0;36mLGBMClassifier.fit\u001b[1;34m(self, X, y, sample_weight, init_score, eval_set, eval_names, eval_sample_weight, eval_class_weight, eval_init_score, eval_metric, feature_name, categorical_feature, callbacks, init_model)\u001b[0m\n\u001b[0;32m   1557\u001b[0m         \u001b[38;5;28;01melse\u001b[39;00m:\n\u001b[0;32m   1558\u001b[0m             valid_sets\u001b[38;5;241m.\u001b[39mappend((valid_x, \u001b[38;5;28mself\u001b[39m\u001b[38;5;241m.\u001b[39m_le\u001b[38;5;241m.\u001b[39mtransform(valid_y)))\n\u001b[1;32m-> 1560\u001b[0m \u001b[38;5;28;43msuper\u001b[39;49m\u001b[43m(\u001b[49m\u001b[43m)\u001b[49m\u001b[38;5;241;43m.\u001b[39;49m\u001b[43mfit\u001b[49m\u001b[43m(\u001b[49m\n\u001b[0;32m   1561\u001b[0m \u001b[43m    \u001b[49m\u001b[43mX\u001b[49m\u001b[43m,\u001b[49m\n\u001b[0;32m   1562\u001b[0m \u001b[43m    \u001b[49m\u001b[43m_y\u001b[49m\u001b[43m,\u001b[49m\n\u001b[0;32m   1563\u001b[0m \u001b[43m    \u001b[49m\u001b[43msample_weight\u001b[49m\u001b[38;5;241;43m=\u001b[39;49m\u001b[43msample_weight\u001b[49m\u001b[43m,\u001b[49m\n\u001b[0;32m   1564\u001b[0m \u001b[43m    \u001b[49m\u001b[43minit_score\u001b[49m\u001b[38;5;241;43m=\u001b[39;49m\u001b[43minit_score\u001b[49m\u001b[43m,\u001b[49m\n\u001b[0;32m   1565\u001b[0m \u001b[43m    \u001b[49m\u001b[43meval_set\u001b[49m\u001b[38;5;241;43m=\u001b[39;49m\u001b[43mvalid_sets\u001b[49m\u001b[43m,\u001b[49m\n\u001b[0;32m   1566\u001b[0m \u001b[43m    \u001b[49m\u001b[43meval_names\u001b[49m\u001b[38;5;241;43m=\u001b[39;49m\u001b[43meval_names\u001b[49m\u001b[43m,\u001b[49m\n\u001b[0;32m   1567\u001b[0m \u001b[43m    \u001b[49m\u001b[43meval_sample_weight\u001b[49m\u001b[38;5;241;43m=\u001b[39;49m\u001b[43meval_sample_weight\u001b[49m\u001b[43m,\u001b[49m\n\u001b[0;32m   1568\u001b[0m \u001b[43m    \u001b[49m\u001b[43meval_class_weight\u001b[49m\u001b[38;5;241;43m=\u001b[39;49m\u001b[43meval_class_weight\u001b[49m\u001b[43m,\u001b[49m\n\u001b[0;32m   1569\u001b[0m \u001b[43m    \u001b[49m\u001b[43meval_init_score\u001b[49m\u001b[38;5;241;43m=\u001b[39;49m\u001b[43meval_init_score\u001b[49m\u001b[43m,\u001b[49m\n\u001b[0;32m   1570\u001b[0m \u001b[43m    \u001b[49m\u001b[43meval_metric\u001b[49m\u001b[38;5;241;43m=\u001b[39;49m\u001b[43meval_metric\u001b[49m\u001b[43m,\u001b[49m\n\u001b[0;32m   1571\u001b[0m \u001b[43m    \u001b[49m\u001b[43mfeature_name\u001b[49m\u001b[38;5;241;43m=\u001b[39;49m\u001b[43mfeature_name\u001b[49m\u001b[43m,\u001b[49m\n\u001b[0;32m   1572\u001b[0m \u001b[43m    \u001b[49m\u001b[43mcategorical_feature\u001b[49m\u001b[38;5;241;43m=\u001b[39;49m\u001b[43mcategorical_feature\u001b[49m\u001b[43m,\u001b[49m\n\u001b[0;32m   1573\u001b[0m \u001b[43m    \u001b[49m\u001b[43mcallbacks\u001b[49m\u001b[38;5;241;43m=\u001b[39;49m\u001b[43mcallbacks\u001b[49m\u001b[43m,\u001b[49m\n\u001b[0;32m   1574\u001b[0m \u001b[43m    \u001b[49m\u001b[43minit_model\u001b[49m\u001b[38;5;241;43m=\u001b[39;49m\u001b[43minit_model\u001b[49m\u001b[43m,\u001b[49m\n\u001b[0;32m   1575\u001b[0m \u001b[43m\u001b[49m\u001b[43m)\u001b[49m\n\u001b[0;32m   1576\u001b[0m \u001b[38;5;28;01mreturn\u001b[39;00m \u001b[38;5;28mself\u001b[39m\n",
            "File \u001b[1;32md:\\Uni\\Semester 4\\Code\\Machine Learning\\.conda\\Lib\\site-packages\\lightgbm\\sklearn.py:1049\u001b[0m, in \u001b[0;36mLGBMModel.fit\u001b[1;34m(self, X, y, sample_weight, init_score, group, eval_set, eval_names, eval_sample_weight, eval_class_weight, eval_init_score, eval_group, eval_metric, feature_name, categorical_feature, callbacks, init_model)\u001b[0m\n\u001b[0;32m   1046\u001b[0m evals_result: _EvalResultDict \u001b[38;5;241m=\u001b[39m {}\n\u001b[0;32m   1047\u001b[0m callbacks\u001b[38;5;241m.\u001b[39mappend(record_evaluation(evals_result))\n\u001b[1;32m-> 1049\u001b[0m \u001b[38;5;28mself\u001b[39m\u001b[38;5;241m.\u001b[39m_Booster \u001b[38;5;241m=\u001b[39m \u001b[43mtrain\u001b[49m\u001b[43m(\u001b[49m\n\u001b[0;32m   1050\u001b[0m \u001b[43m    \u001b[49m\u001b[43mparams\u001b[49m\u001b[38;5;241;43m=\u001b[39;49m\u001b[43mparams\u001b[49m\u001b[43m,\u001b[49m\n\u001b[0;32m   1051\u001b[0m \u001b[43m    \u001b[49m\u001b[43mtrain_set\u001b[49m\u001b[38;5;241;43m=\u001b[39;49m\u001b[43mtrain_set\u001b[49m\u001b[43m,\u001b[49m\n\u001b[0;32m   1052\u001b[0m \u001b[43m    \u001b[49m\u001b[43mnum_boost_round\u001b[49m\u001b[38;5;241;43m=\u001b[39;49m\u001b[38;5;28;43mself\u001b[39;49m\u001b[38;5;241;43m.\u001b[39;49m\u001b[43mn_estimators\u001b[49m\u001b[43m,\u001b[49m\n\u001b[0;32m   1053\u001b[0m \u001b[43m    \u001b[49m\u001b[43mvalid_sets\u001b[49m\u001b[38;5;241;43m=\u001b[39;49m\u001b[43mvalid_sets\u001b[49m\u001b[43m,\u001b[49m\n\u001b[0;32m   1054\u001b[0m \u001b[43m    \u001b[49m\u001b[43mvalid_names\u001b[49m\u001b[38;5;241;43m=\u001b[39;49m\u001b[43meval_names\u001b[49m\u001b[43m,\u001b[49m\n\u001b[0;32m   1055\u001b[0m \u001b[43m    \u001b[49m\u001b[43mfeval\u001b[49m\u001b[38;5;241;43m=\u001b[39;49m\u001b[43meval_metrics_callable\u001b[49m\u001b[43m,\u001b[49m\u001b[43m  \u001b[49m\u001b[38;5;66;43;03m# type: ignore[arg-type]\u001b[39;49;00m\n\u001b[0;32m   1056\u001b[0m \u001b[43m    \u001b[49m\u001b[43minit_model\u001b[49m\u001b[38;5;241;43m=\u001b[39;49m\u001b[43minit_model\u001b[49m\u001b[43m,\u001b[49m\n\u001b[0;32m   1057\u001b[0m \u001b[43m    \u001b[49m\u001b[43mcallbacks\u001b[49m\u001b[38;5;241;43m=\u001b[39;49m\u001b[43mcallbacks\u001b[49m\u001b[43m,\u001b[49m\n\u001b[0;32m   1058\u001b[0m \u001b[43m\u001b[49m\u001b[43m)\u001b[49m\n\u001b[0;32m   1060\u001b[0m \u001b[38;5;66;03m# This populates the property self.n_features_, the number of features in the fitted model,\u001b[39;00m\n\u001b[0;32m   1061\u001b[0m \u001b[38;5;66;03m# and so should only be set after fitting.\u001b[39;00m\n\u001b[0;32m   1062\u001b[0m \u001b[38;5;66;03m#\u001b[39;00m\n\u001b[0;32m   1063\u001b[0m \u001b[38;5;66;03m# The related property self._n_features_in, which populates self.n_features_in_,\u001b[39;00m\n\u001b[0;32m   1064\u001b[0m \u001b[38;5;66;03m# is set BEFORE fitting.\u001b[39;00m\n\u001b[0;32m   1065\u001b[0m \u001b[38;5;28mself\u001b[39m\u001b[38;5;241m.\u001b[39m_n_features \u001b[38;5;241m=\u001b[39m \u001b[38;5;28mself\u001b[39m\u001b[38;5;241m.\u001b[39m_Booster\u001b[38;5;241m.\u001b[39mnum_feature()\n",
            "File \u001b[1;32md:\\Uni\\Semester 4\\Code\\Machine Learning\\.conda\\Lib\\site-packages\\lightgbm\\engine.py:322\u001b[0m, in \u001b[0;36mtrain\u001b[1;34m(params, train_set, num_boost_round, valid_sets, valid_names, feval, init_model, keep_training_booster, callbacks)\u001b[0m\n\u001b[0;32m    310\u001b[0m \u001b[38;5;28;01mfor\u001b[39;00m cb \u001b[38;5;129;01min\u001b[39;00m callbacks_before_iter:\n\u001b[0;32m    311\u001b[0m     cb(\n\u001b[0;32m    312\u001b[0m         callback\u001b[38;5;241m.\u001b[39mCallbackEnv(\n\u001b[0;32m    313\u001b[0m             model\u001b[38;5;241m=\u001b[39mbooster,\n\u001b[1;32m   (...)\u001b[0m\n\u001b[0;32m    319\u001b[0m         )\n\u001b[0;32m    320\u001b[0m     )\n\u001b[1;32m--> 322\u001b[0m \u001b[43mbooster\u001b[49m\u001b[38;5;241;43m.\u001b[39;49m\u001b[43mupdate\u001b[49m\u001b[43m(\u001b[49m\u001b[43mfobj\u001b[49m\u001b[38;5;241;43m=\u001b[39;49m\u001b[43mfobj\u001b[49m\u001b[43m)\u001b[49m\n\u001b[0;32m    324\u001b[0m evaluation_result_list: List[_LGBM_BoosterEvalMethodResultType] \u001b[38;5;241m=\u001b[39m []\n\u001b[0;32m    325\u001b[0m \u001b[38;5;66;03m# check evaluation result.\u001b[39;00m\n",
            "File \u001b[1;32md:\\Uni\\Semester 4\\Code\\Machine Learning\\.conda\\Lib\\site-packages\\lightgbm\\basic.py:4155\u001b[0m, in \u001b[0;36mBooster.update\u001b[1;34m(self, train_set, fobj)\u001b[0m\n\u001b[0;32m   4152\u001b[0m \u001b[38;5;28;01mif\u001b[39;00m \u001b[38;5;28mself\u001b[39m\u001b[38;5;241m.\u001b[39m__set_objective_to_none:\n\u001b[0;32m   4153\u001b[0m     \u001b[38;5;28;01mraise\u001b[39;00m LightGBMError(\u001b[38;5;124m\"\u001b[39m\u001b[38;5;124mCannot update due to null objective function.\u001b[39m\u001b[38;5;124m\"\u001b[39m)\n\u001b[0;32m   4154\u001b[0m _safe_call(\n\u001b[1;32m-> 4155\u001b[0m     \u001b[43m_LIB\u001b[49m\u001b[38;5;241;43m.\u001b[39;49m\u001b[43mLGBM_BoosterUpdateOneIter\u001b[49m\u001b[43m(\u001b[49m\n\u001b[0;32m   4156\u001b[0m \u001b[43m        \u001b[49m\u001b[38;5;28;43mself\u001b[39;49m\u001b[38;5;241;43m.\u001b[39;49m\u001b[43m_handle\u001b[49m\u001b[43m,\u001b[49m\n\u001b[0;32m   4157\u001b[0m \u001b[43m        \u001b[49m\u001b[43mctypes\u001b[49m\u001b[38;5;241;43m.\u001b[39;49m\u001b[43mbyref\u001b[49m\u001b[43m(\u001b[49m\u001b[43mis_finished\u001b[49m\u001b[43m)\u001b[49m\u001b[43m,\u001b[49m\n\u001b[0;32m   4158\u001b[0m \u001b[43m    \u001b[49m\u001b[43m)\u001b[49m\n\u001b[0;32m   4159\u001b[0m )\n\u001b[0;32m   4160\u001b[0m \u001b[38;5;28mself\u001b[39m\u001b[38;5;241m.\u001b[39m__is_predicted_cur_iter \u001b[38;5;241m=\u001b[39m [\u001b[38;5;28;01mFalse\u001b[39;00m \u001b[38;5;28;01mfor\u001b[39;00m _ \u001b[38;5;129;01min\u001b[39;00m \u001b[38;5;28mrange\u001b[39m(\u001b[38;5;28mself\u001b[39m\u001b[38;5;241m.\u001b[39m__num_dataset)]\n\u001b[0;32m   4161\u001b[0m \u001b[38;5;28;01mreturn\u001b[39;00m is_finished\u001b[38;5;241m.\u001b[39mvalue \u001b[38;5;241m==\u001b[39m \u001b[38;5;241m1\u001b[39m\n",
            "\u001b[1;31mKeyboardInterrupt\u001b[0m: "
          ]
        }
      ],
      "source": [
        "def objective_lgbm(trial):\n",
        "    params = {\n",
        "        'n_estimators': trial.suggest_int('n_estimators', 200, 2000),\n",
        "        'learning_rate': trial.suggest_float('learning_rate', 0.005, 0.1, log=True),\n",
        "        'num_leaves': trial.suggest_int('num_leaves', 20, 200),        # Key LGBM parameter\n",
        "        'max_depth': trial.suggest_int('max_depth', 5, 20),          # Can be -1 to let num_leaves control\n",
        "        'subsample': trial.suggest_float('subsample', 0.5, 1.0),     # Alias: bagging_fraction\n",
        "        'colsample_bytree': trial.suggest_float('colsample_bytree', 0.5, 1.0), # Alias: feature_fraction\n",
        "        'reg_alpha': trial.suggest_float('reg_alpha', 1e-3, 10.0, log=True),   # L1\n",
        "        'reg_lambda': trial.suggest_float('reg_lambda', 1e-3, 10.0, log=True),  # L2\n",
        "        'min_child_samples': trial.suggest_int('min_child_samples', 5, 50),\n",
        "        'class_weight': trial.suggest_categorical('class_weight', [None, 'balanced']), # Crucial for imbalance\n",
        "        'random_state': RANDOM_STATE,\n",
        "        'verbose': -1, # Suppress LGBM's own verbosity\n",
        "        'n_jobs': -1\n",
        "    }\n",
        "\n",
        "    if USE_GPU:\n",
        "        params['device_type'] = 'gpu'\n",
        "\n",
        "    model = LGBMClassifier(**params)\n",
        "\n",
        "    try:\n",
        "        f1_scorer = make_scorer(f1_score, average='macro')\n",
        "        score = cross_val_score(model, X_train, y_train, cv=cv_out, scoring=f1_scorer, n_jobs=1).mean()\n",
        "    except Exception as e:\n",
        "        print(f\"LGBM Trial failed with error: {e}\")\n",
        "        return 0.0 # Return a low score if a trial fails\n",
        "\n",
        "    return score\n",
        "\n",
        "print(\"--- Starting Optuna Study for LightGBM ---\")\n",
        "study_lgbm = optuna.create_study(direction='maximize')\n",
        "study_lgbm.optimize(objective_lgbm, n_trials=300) # Aim for around 100 trials\n",
        "\n",
        "print(\"\\n--- LightGBM Optuna Study Complete ---\")\n",
        "print(\"Best trial number for LGBM:\", study_lgbm.best_trial.number)\n",
        "print(\"Best F1 Macro for LGBM:\", study_lgbm.best_value)\n",
        "print(\"Best LGBM Params:\", study_lgbm.best_params)"
      ]
    },
    {
      "cell_type": "code",
      "execution_count": 240,
      "metadata": {},
      "outputs": [],
      "source": [
        "lgbm_params = {\n",
        "    'n_estimators': 1223,\n",
        "    'learning_rate': 0.006051501635028181,\n",
        "    'num_leaves': 171,\n",
        "    'max_depth': 14,\n",
        "    'subsample': 0.6282583672011974,         # Also known as bagging_fraction\n",
        "    'colsample_bytree': 0.6568629715755284,   # Also known as feature_fraction\n",
        "    'reg_alpha': 0.049912506063072244,        # L1 regularization\n",
        "    'reg_lambda': 1.0194036029471227,         # L2 regularization\n",
        "    'min_child_samples': 48,\n",
        "    'class_weight': 'balanced',              # As found by Optuna\n",
        "    'random_state': RANDOM_STATE,\n",
        "    'verbose': -1,                           # Suppress LGBM's verbosity\n",
        "    'n_jobs': -1                             # Use all cores for LGBM training\n",
        "}\n",
        "\n",
        "lgbm_pipeline = Pipeline(\n",
        "    steps=[\n",
        "        ('model', LGBMClassifier(**lgbm_params))\n",
        "    ]\n",
        ")\n",
        "\n",
        "lgbm_pipeline.fit(X_train, y_train)\n",
        "\n",
        "lgbm_final = lgbm_pipeline"
      ]
    },
    {
      "cell_type": "code",
      "execution_count": 242,
      "metadata": {},
      "outputs": [
        {
          "name": "stdout",
          "output_type": "stream",
          "text": [
            "\n",
            "--- LGBM Test Set Classification Report ---\n",
            "              precision    recall  f1-score   support\n",
            "\n",
            "           0       0.80      0.69      0.74        83\n",
            "           1       0.51      0.49      0.50        53\n",
            "           2       0.16      0.18      0.17        22\n",
            "           3       0.25      0.38      0.30        21\n",
            "\n",
            "    accuracy                           0.53       179\n",
            "   macro avg       0.43      0.44      0.43       179\n",
            "weighted avg       0.57      0.53      0.55       179\n",
            "\n"
          ]
        },
        {
          "name": "stderr",
          "output_type": "stream",
          "text": [
            "[Parallel(n_jobs=-1)]: Using backend LokyBackend with 16 concurrent workers.\n"
          ]
        },
        {
          "ename": "KeyboardInterrupt",
          "evalue": "",
          "output_type": "error",
          "traceback": [
            "\u001b[1;31m---------------------------------------------------------------------------\u001b[0m",
            "\u001b[1;31mKeyboardInterrupt\u001b[0m                         Traceback (most recent call last)",
            "Cell \u001b[1;32mIn[242], line 4\u001b[0m\n\u001b[0;32m      2\u001b[0m \u001b[38;5;28mprint\u001b[39m(\u001b[38;5;124m\"\u001b[39m\u001b[38;5;130;01m\\n\u001b[39;00m\u001b[38;5;124m--- LGBM Test Set Classification Report ---\u001b[39m\u001b[38;5;124m\"\u001b[39m)\n\u001b[0;32m      3\u001b[0m \u001b[38;5;28mprint\u001b[39m(classification_report(y_test, y_pred_lgbm))\n\u001b[1;32m----> 4\u001b[0m \u001b[38;5;28mprint\u001b[39m(\u001b[38;5;124m'\u001b[39m\u001b[38;5;124mcv mean: \u001b[39m\u001b[38;5;124m'\u001b[39m, \u001b[43mcross_val_score\u001b[49m\u001b[43m(\u001b[49m\u001b[43mlgbm_pipeline\u001b[49m\u001b[43m,\u001b[49m\u001b[43m \u001b[49m\u001b[43mX_train\u001b[49m\u001b[43m,\u001b[49m\u001b[43m \u001b[49m\u001b[43my_train\u001b[49m\u001b[43m,\u001b[49m\u001b[43m \u001b[49m\u001b[43mcv\u001b[49m\u001b[38;5;241;43m=\u001b[39;49m\u001b[43mcv_out\u001b[49m\u001b[43m,\u001b[49m\u001b[43m \u001b[49m\u001b[43mverbose\u001b[49m\u001b[38;5;241;43m=\u001b[39;49m\u001b[38;5;241;43m3\u001b[39;49m\u001b[43m,\u001b[49m\u001b[43m \u001b[49m\u001b[43mn_jobs\u001b[49m\u001b[38;5;241;43m=\u001b[39;49m\u001b[38;5;241;43m-\u001b[39;49m\u001b[38;5;241;43m1\u001b[39;49m\u001b[43m,\u001b[49m\u001b[43m \u001b[49m\u001b[43mscoring\u001b[49m\u001b[38;5;241;43m=\u001b[39;49m\u001b[38;5;124;43m'\u001b[39;49m\u001b[38;5;124;43mf1_macro\u001b[39;49m\u001b[38;5;124;43m'\u001b[39;49m\u001b[43m)\u001b[49m\u001b[38;5;241m.\u001b[39mmean()\u001b[38;5;241m*\u001b[39m\u001b[38;5;241m100\u001b[39m)\n\u001b[0;32m      5\u001b[0m \u001b[38;5;28mprint\u001b[39m(\u001b[38;5;124m'\u001b[39m\u001b[38;5;124mcv std: \u001b[39m\u001b[38;5;124m'\u001b[39m, cross_val_score(lgbm_pipeline, X_train, y_train, cv\u001b[38;5;241m=\u001b[39mcv_out, verbose\u001b[38;5;241m=\u001b[39m\u001b[38;5;241m3\u001b[39m, n_jobs\u001b[38;5;241m=\u001b[39m\u001b[38;5;241m-\u001b[39m\u001b[38;5;241m1\u001b[39m, scoring\u001b[38;5;241m=\u001b[39m\u001b[38;5;124m'\u001b[39m\u001b[38;5;124mf1_macro\u001b[39m\u001b[38;5;124m'\u001b[39m)\u001b[38;5;241m.\u001b[39mstd()\u001b[38;5;241m*\u001b[39m\u001b[38;5;241m100\u001b[39m)\n\u001b[0;32m      6\u001b[0m cm \u001b[38;5;241m=\u001b[39m confusion_matrix(y_test, y_pred_lgbm)\n",
            "File \u001b[1;32md:\\Uni\\Semester 4\\Code\\Machine Learning\\.conda\\Lib\\site-packages\\sklearn\\utils\\_param_validation.py:216\u001b[0m, in \u001b[0;36mvalidate_params.<locals>.decorator.<locals>.wrapper\u001b[1;34m(*args, **kwargs)\u001b[0m\n\u001b[0;32m    210\u001b[0m \u001b[38;5;28;01mtry\u001b[39;00m:\n\u001b[0;32m    211\u001b[0m     \u001b[38;5;28;01mwith\u001b[39;00m config_context(\n\u001b[0;32m    212\u001b[0m         skip_parameter_validation\u001b[38;5;241m=\u001b[39m(\n\u001b[0;32m    213\u001b[0m             prefer_skip_nested_validation \u001b[38;5;129;01mor\u001b[39;00m global_skip_validation\n\u001b[0;32m    214\u001b[0m         )\n\u001b[0;32m    215\u001b[0m     ):\n\u001b[1;32m--> 216\u001b[0m         \u001b[38;5;28;01mreturn\u001b[39;00m \u001b[43mfunc\u001b[49m\u001b[43m(\u001b[49m\u001b[38;5;241;43m*\u001b[39;49m\u001b[43margs\u001b[49m\u001b[43m,\u001b[49m\u001b[43m \u001b[49m\u001b[38;5;241;43m*\u001b[39;49m\u001b[38;5;241;43m*\u001b[39;49m\u001b[43mkwargs\u001b[49m\u001b[43m)\u001b[49m\n\u001b[0;32m    217\u001b[0m \u001b[38;5;28;01mexcept\u001b[39;00m InvalidParameterError \u001b[38;5;28;01mas\u001b[39;00m e:\n\u001b[0;32m    218\u001b[0m     \u001b[38;5;66;03m# When the function is just a wrapper around an estimator, we allow\u001b[39;00m\n\u001b[0;32m    219\u001b[0m     \u001b[38;5;66;03m# the function to delegate validation to the estimator, but we replace\u001b[39;00m\n\u001b[0;32m    220\u001b[0m     \u001b[38;5;66;03m# the name of the estimator by the name of the function in the error\u001b[39;00m\n\u001b[0;32m    221\u001b[0m     \u001b[38;5;66;03m# message to avoid confusion.\u001b[39;00m\n\u001b[0;32m    222\u001b[0m     msg \u001b[38;5;241m=\u001b[39m re\u001b[38;5;241m.\u001b[39msub(\n\u001b[0;32m    223\u001b[0m         \u001b[38;5;124mr\u001b[39m\u001b[38;5;124m\"\u001b[39m\u001b[38;5;124mparameter of \u001b[39m\u001b[38;5;124m\\\u001b[39m\u001b[38;5;124mw+ must be\u001b[39m\u001b[38;5;124m\"\u001b[39m,\n\u001b[0;32m    224\u001b[0m         \u001b[38;5;124mf\u001b[39m\u001b[38;5;124m\"\u001b[39m\u001b[38;5;124mparameter of \u001b[39m\u001b[38;5;132;01m{\u001b[39;00mfunc\u001b[38;5;241m.\u001b[39m\u001b[38;5;18m__qualname__\u001b[39m\u001b[38;5;132;01m}\u001b[39;00m\u001b[38;5;124m must be\u001b[39m\u001b[38;5;124m\"\u001b[39m,\n\u001b[0;32m    225\u001b[0m         \u001b[38;5;28mstr\u001b[39m(e),\n\u001b[0;32m    226\u001b[0m     )\n",
            "File \u001b[1;32md:\\Uni\\Semester 4\\Code\\Machine Learning\\.conda\\Lib\\site-packages\\sklearn\\model_selection\\_validation.py:684\u001b[0m, in \u001b[0;36mcross_val_score\u001b[1;34m(estimator, X, y, groups, scoring, cv, n_jobs, verbose, params, pre_dispatch, error_score)\u001b[0m\n\u001b[0;32m    681\u001b[0m \u001b[38;5;66;03m# To ensure multimetric format is not supported\u001b[39;00m\n\u001b[0;32m    682\u001b[0m scorer \u001b[38;5;241m=\u001b[39m check_scoring(estimator, scoring\u001b[38;5;241m=\u001b[39mscoring)\n\u001b[1;32m--> 684\u001b[0m cv_results \u001b[38;5;241m=\u001b[39m \u001b[43mcross_validate\u001b[49m\u001b[43m(\u001b[49m\n\u001b[0;32m    685\u001b[0m \u001b[43m    \u001b[49m\u001b[43mestimator\u001b[49m\u001b[38;5;241;43m=\u001b[39;49m\u001b[43mestimator\u001b[49m\u001b[43m,\u001b[49m\n\u001b[0;32m    686\u001b[0m \u001b[43m    \u001b[49m\u001b[43mX\u001b[49m\u001b[38;5;241;43m=\u001b[39;49m\u001b[43mX\u001b[49m\u001b[43m,\u001b[49m\n\u001b[0;32m    687\u001b[0m \u001b[43m    \u001b[49m\u001b[43my\u001b[49m\u001b[38;5;241;43m=\u001b[39;49m\u001b[43my\u001b[49m\u001b[43m,\u001b[49m\n\u001b[0;32m    688\u001b[0m \u001b[43m    \u001b[49m\u001b[43mgroups\u001b[49m\u001b[38;5;241;43m=\u001b[39;49m\u001b[43mgroups\u001b[49m\u001b[43m,\u001b[49m\n\u001b[0;32m    689\u001b[0m \u001b[43m    \u001b[49m\u001b[43mscoring\u001b[49m\u001b[38;5;241;43m=\u001b[39;49m\u001b[43m{\u001b[49m\u001b[38;5;124;43m\"\u001b[39;49m\u001b[38;5;124;43mscore\u001b[39;49m\u001b[38;5;124;43m\"\u001b[39;49m\u001b[43m:\u001b[49m\u001b[43m \u001b[49m\u001b[43mscorer\u001b[49m\u001b[43m}\u001b[49m\u001b[43m,\u001b[49m\n\u001b[0;32m    690\u001b[0m \u001b[43m    \u001b[49m\u001b[43mcv\u001b[49m\u001b[38;5;241;43m=\u001b[39;49m\u001b[43mcv\u001b[49m\u001b[43m,\u001b[49m\n\u001b[0;32m    691\u001b[0m \u001b[43m    \u001b[49m\u001b[43mn_jobs\u001b[49m\u001b[38;5;241;43m=\u001b[39;49m\u001b[43mn_jobs\u001b[49m\u001b[43m,\u001b[49m\n\u001b[0;32m    692\u001b[0m \u001b[43m    \u001b[49m\u001b[43mverbose\u001b[49m\u001b[38;5;241;43m=\u001b[39;49m\u001b[43mverbose\u001b[49m\u001b[43m,\u001b[49m\n\u001b[0;32m    693\u001b[0m \u001b[43m    \u001b[49m\u001b[43mparams\u001b[49m\u001b[38;5;241;43m=\u001b[39;49m\u001b[43mparams\u001b[49m\u001b[43m,\u001b[49m\n\u001b[0;32m    694\u001b[0m \u001b[43m    \u001b[49m\u001b[43mpre_dispatch\u001b[49m\u001b[38;5;241;43m=\u001b[39;49m\u001b[43mpre_dispatch\u001b[49m\u001b[43m,\u001b[49m\n\u001b[0;32m    695\u001b[0m \u001b[43m    \u001b[49m\u001b[43merror_score\u001b[49m\u001b[38;5;241;43m=\u001b[39;49m\u001b[43merror_score\u001b[49m\u001b[43m,\u001b[49m\n\u001b[0;32m    696\u001b[0m \u001b[43m\u001b[49m\u001b[43m)\u001b[49m\n\u001b[0;32m    697\u001b[0m \u001b[38;5;28;01mreturn\u001b[39;00m cv_results[\u001b[38;5;124m\"\u001b[39m\u001b[38;5;124mtest_score\u001b[39m\u001b[38;5;124m\"\u001b[39m]\n",
            "File \u001b[1;32md:\\Uni\\Semester 4\\Code\\Machine Learning\\.conda\\Lib\\site-packages\\sklearn\\utils\\_param_validation.py:216\u001b[0m, in \u001b[0;36mvalidate_params.<locals>.decorator.<locals>.wrapper\u001b[1;34m(*args, **kwargs)\u001b[0m\n\u001b[0;32m    210\u001b[0m \u001b[38;5;28;01mtry\u001b[39;00m:\n\u001b[0;32m    211\u001b[0m     \u001b[38;5;28;01mwith\u001b[39;00m config_context(\n\u001b[0;32m    212\u001b[0m         skip_parameter_validation\u001b[38;5;241m=\u001b[39m(\n\u001b[0;32m    213\u001b[0m             prefer_skip_nested_validation \u001b[38;5;129;01mor\u001b[39;00m global_skip_validation\n\u001b[0;32m    214\u001b[0m         )\n\u001b[0;32m    215\u001b[0m     ):\n\u001b[1;32m--> 216\u001b[0m         \u001b[38;5;28;01mreturn\u001b[39;00m \u001b[43mfunc\u001b[49m\u001b[43m(\u001b[49m\u001b[38;5;241;43m*\u001b[39;49m\u001b[43margs\u001b[49m\u001b[43m,\u001b[49m\u001b[43m \u001b[49m\u001b[38;5;241;43m*\u001b[39;49m\u001b[38;5;241;43m*\u001b[39;49m\u001b[43mkwargs\u001b[49m\u001b[43m)\u001b[49m\n\u001b[0;32m    217\u001b[0m \u001b[38;5;28;01mexcept\u001b[39;00m InvalidParameterError \u001b[38;5;28;01mas\u001b[39;00m e:\n\u001b[0;32m    218\u001b[0m     \u001b[38;5;66;03m# When the function is just a wrapper around an estimator, we allow\u001b[39;00m\n\u001b[0;32m    219\u001b[0m     \u001b[38;5;66;03m# the function to delegate validation to the estimator, but we replace\u001b[39;00m\n\u001b[0;32m    220\u001b[0m     \u001b[38;5;66;03m# the name of the estimator by the name of the function in the error\u001b[39;00m\n\u001b[0;32m    221\u001b[0m     \u001b[38;5;66;03m# message to avoid confusion.\u001b[39;00m\n\u001b[0;32m    222\u001b[0m     msg \u001b[38;5;241m=\u001b[39m re\u001b[38;5;241m.\u001b[39msub(\n\u001b[0;32m    223\u001b[0m         \u001b[38;5;124mr\u001b[39m\u001b[38;5;124m\"\u001b[39m\u001b[38;5;124mparameter of \u001b[39m\u001b[38;5;124m\\\u001b[39m\u001b[38;5;124mw+ must be\u001b[39m\u001b[38;5;124m\"\u001b[39m,\n\u001b[0;32m    224\u001b[0m         \u001b[38;5;124mf\u001b[39m\u001b[38;5;124m\"\u001b[39m\u001b[38;5;124mparameter of \u001b[39m\u001b[38;5;132;01m{\u001b[39;00mfunc\u001b[38;5;241m.\u001b[39m\u001b[38;5;18m__qualname__\u001b[39m\u001b[38;5;132;01m}\u001b[39;00m\u001b[38;5;124m must be\u001b[39m\u001b[38;5;124m\"\u001b[39m,\n\u001b[0;32m    225\u001b[0m         \u001b[38;5;28mstr\u001b[39m(e),\n\u001b[0;32m    226\u001b[0m     )\n",
            "File \u001b[1;32md:\\Uni\\Semester 4\\Code\\Machine Learning\\.conda\\Lib\\site-packages\\sklearn\\model_selection\\_validation.py:411\u001b[0m, in \u001b[0;36mcross_validate\u001b[1;34m(estimator, X, y, groups, scoring, cv, n_jobs, verbose, params, pre_dispatch, return_train_score, return_estimator, return_indices, error_score)\u001b[0m\n\u001b[0;32m    408\u001b[0m \u001b[38;5;66;03m# We clone the estimator to make sure that all the folds are\u001b[39;00m\n\u001b[0;32m    409\u001b[0m \u001b[38;5;66;03m# independent, and that it is pickle-able.\u001b[39;00m\n\u001b[0;32m    410\u001b[0m parallel \u001b[38;5;241m=\u001b[39m Parallel(n_jobs\u001b[38;5;241m=\u001b[39mn_jobs, verbose\u001b[38;5;241m=\u001b[39mverbose, pre_dispatch\u001b[38;5;241m=\u001b[39mpre_dispatch)\n\u001b[1;32m--> 411\u001b[0m results \u001b[38;5;241m=\u001b[39m \u001b[43mparallel\u001b[49m\u001b[43m(\u001b[49m\n\u001b[0;32m    412\u001b[0m \u001b[43m    \u001b[49m\u001b[43mdelayed\u001b[49m\u001b[43m(\u001b[49m\u001b[43m_fit_and_score\u001b[49m\u001b[43m)\u001b[49m\u001b[43m(\u001b[49m\n\u001b[0;32m    413\u001b[0m \u001b[43m        \u001b[49m\u001b[43mclone\u001b[49m\u001b[43m(\u001b[49m\u001b[43mestimator\u001b[49m\u001b[43m)\u001b[49m\u001b[43m,\u001b[49m\n\u001b[0;32m    414\u001b[0m \u001b[43m        \u001b[49m\u001b[43mX\u001b[49m\u001b[43m,\u001b[49m\n\u001b[0;32m    415\u001b[0m \u001b[43m        \u001b[49m\u001b[43my\u001b[49m\u001b[43m,\u001b[49m\n\u001b[0;32m    416\u001b[0m \u001b[43m        \u001b[49m\u001b[43mscorer\u001b[49m\u001b[38;5;241;43m=\u001b[39;49m\u001b[43mscorers\u001b[49m\u001b[43m,\u001b[49m\n\u001b[0;32m    417\u001b[0m \u001b[43m        \u001b[49m\u001b[43mtrain\u001b[49m\u001b[38;5;241;43m=\u001b[39;49m\u001b[43mtrain\u001b[49m\u001b[43m,\u001b[49m\n\u001b[0;32m    418\u001b[0m \u001b[43m        \u001b[49m\u001b[43mtest\u001b[49m\u001b[38;5;241;43m=\u001b[39;49m\u001b[43mtest\u001b[49m\u001b[43m,\u001b[49m\n\u001b[0;32m    419\u001b[0m \u001b[43m        \u001b[49m\u001b[43mverbose\u001b[49m\u001b[38;5;241;43m=\u001b[39;49m\u001b[43mverbose\u001b[49m\u001b[43m,\u001b[49m\n\u001b[0;32m    420\u001b[0m \u001b[43m        \u001b[49m\u001b[43mparameters\u001b[49m\u001b[38;5;241;43m=\u001b[39;49m\u001b[38;5;28;43;01mNone\u001b[39;49;00m\u001b[43m,\u001b[49m\n\u001b[0;32m    421\u001b[0m \u001b[43m        \u001b[49m\u001b[43mfit_params\u001b[49m\u001b[38;5;241;43m=\u001b[39;49m\u001b[43mrouted_params\u001b[49m\u001b[38;5;241;43m.\u001b[39;49m\u001b[43mestimator\u001b[49m\u001b[38;5;241;43m.\u001b[39;49m\u001b[43mfit\u001b[49m\u001b[43m,\u001b[49m\n\u001b[0;32m    422\u001b[0m \u001b[43m        \u001b[49m\u001b[43mscore_params\u001b[49m\u001b[38;5;241;43m=\u001b[39;49m\u001b[43mrouted_params\u001b[49m\u001b[38;5;241;43m.\u001b[39;49m\u001b[43mscorer\u001b[49m\u001b[38;5;241;43m.\u001b[39;49m\u001b[43mscore\u001b[49m\u001b[43m,\u001b[49m\n\u001b[0;32m    423\u001b[0m \u001b[43m        \u001b[49m\u001b[43mreturn_train_score\u001b[49m\u001b[38;5;241;43m=\u001b[39;49m\u001b[43mreturn_train_score\u001b[49m\u001b[43m,\u001b[49m\n\u001b[0;32m    424\u001b[0m \u001b[43m        \u001b[49m\u001b[43mreturn_times\u001b[49m\u001b[38;5;241;43m=\u001b[39;49m\u001b[38;5;28;43;01mTrue\u001b[39;49;00m\u001b[43m,\u001b[49m\n\u001b[0;32m    425\u001b[0m \u001b[43m        \u001b[49m\u001b[43mreturn_estimator\u001b[49m\u001b[38;5;241;43m=\u001b[39;49m\u001b[43mreturn_estimator\u001b[49m\u001b[43m,\u001b[49m\n\u001b[0;32m    426\u001b[0m \u001b[43m        \u001b[49m\u001b[43merror_score\u001b[49m\u001b[38;5;241;43m=\u001b[39;49m\u001b[43merror_score\u001b[49m\u001b[43m,\u001b[49m\n\u001b[0;32m    427\u001b[0m \u001b[43m    \u001b[49m\u001b[43m)\u001b[49m\n\u001b[0;32m    428\u001b[0m \u001b[43m    \u001b[49m\u001b[38;5;28;43;01mfor\u001b[39;49;00m\u001b[43m \u001b[49m\u001b[43mtrain\u001b[49m\u001b[43m,\u001b[49m\u001b[43m \u001b[49m\u001b[43mtest\u001b[49m\u001b[43m \u001b[49m\u001b[38;5;129;43;01min\u001b[39;49;00m\u001b[43m \u001b[49m\u001b[43mindices\u001b[49m\n\u001b[0;32m    429\u001b[0m \u001b[43m\u001b[49m\u001b[43m)\u001b[49m\n\u001b[0;32m    431\u001b[0m _warn_or_raise_about_fit_failures(results, error_score)\n\u001b[0;32m    433\u001b[0m \u001b[38;5;66;03m# For callable scoring, the return type is only know after calling. If the\u001b[39;00m\n\u001b[0;32m    434\u001b[0m \u001b[38;5;66;03m# return type is a dictionary, the error scores can now be inserted with\u001b[39;00m\n\u001b[0;32m    435\u001b[0m \u001b[38;5;66;03m# the correct key.\u001b[39;00m\n",
            "File \u001b[1;32md:\\Uni\\Semester 4\\Code\\Machine Learning\\.conda\\Lib\\site-packages\\sklearn\\utils\\parallel.py:77\u001b[0m, in \u001b[0;36mParallel.__call__\u001b[1;34m(self, iterable)\u001b[0m\n\u001b[0;32m     72\u001b[0m config \u001b[38;5;241m=\u001b[39m get_config()\n\u001b[0;32m     73\u001b[0m iterable_with_config \u001b[38;5;241m=\u001b[39m (\n\u001b[0;32m     74\u001b[0m     (_with_config(delayed_func, config), args, kwargs)\n\u001b[0;32m     75\u001b[0m     \u001b[38;5;28;01mfor\u001b[39;00m delayed_func, args, kwargs \u001b[38;5;129;01min\u001b[39;00m iterable\n\u001b[0;32m     76\u001b[0m )\n\u001b[1;32m---> 77\u001b[0m \u001b[38;5;28;01mreturn\u001b[39;00m \u001b[38;5;28;43msuper\u001b[39;49m\u001b[43m(\u001b[49m\u001b[43m)\u001b[49m\u001b[38;5;241;43m.\u001b[39;49m\u001b[38;5;21;43m__call__\u001b[39;49m\u001b[43m(\u001b[49m\u001b[43miterable_with_config\u001b[49m\u001b[43m)\u001b[49m\n",
            "File \u001b[1;32md:\\Uni\\Semester 4\\Code\\Machine Learning\\.conda\\Lib\\site-packages\\joblib\\parallel.py:2007\u001b[0m, in \u001b[0;36mParallel.__call__\u001b[1;34m(self, iterable)\u001b[0m\n\u001b[0;32m   2001\u001b[0m \u001b[38;5;66;03m# The first item from the output is blank, but it makes the interpreter\u001b[39;00m\n\u001b[0;32m   2002\u001b[0m \u001b[38;5;66;03m# progress until it enters the Try/Except block of the generator and\u001b[39;00m\n\u001b[0;32m   2003\u001b[0m \u001b[38;5;66;03m# reaches the first `yield` statement. This starts the asynchronous\u001b[39;00m\n\u001b[0;32m   2004\u001b[0m \u001b[38;5;66;03m# dispatch of the tasks to the workers.\u001b[39;00m\n\u001b[0;32m   2005\u001b[0m \u001b[38;5;28mnext\u001b[39m(output)\n\u001b[1;32m-> 2007\u001b[0m \u001b[38;5;28;01mreturn\u001b[39;00m output \u001b[38;5;28;01mif\u001b[39;00m \u001b[38;5;28mself\u001b[39m\u001b[38;5;241m.\u001b[39mreturn_generator \u001b[38;5;28;01melse\u001b[39;00m \u001b[38;5;28mlist\u001b[39m(output)\n",
            "File \u001b[1;32md:\\Uni\\Semester 4\\Code\\Machine Learning\\.conda\\Lib\\site-packages\\joblib\\parallel.py:1650\u001b[0m, in \u001b[0;36mParallel._get_outputs\u001b[1;34m(self, iterator, pre_dispatch)\u001b[0m\n\u001b[0;32m   1647\u001b[0m     \u001b[38;5;28;01myield\u001b[39;00m\n\u001b[0;32m   1649\u001b[0m     \u001b[38;5;28;01mwith\u001b[39;00m \u001b[38;5;28mself\u001b[39m\u001b[38;5;241m.\u001b[39m_backend\u001b[38;5;241m.\u001b[39mretrieval_context():\n\u001b[1;32m-> 1650\u001b[0m         \u001b[38;5;28;01myield from\u001b[39;00m \u001b[38;5;28mself\u001b[39m\u001b[38;5;241m.\u001b[39m_retrieve()\n\u001b[0;32m   1652\u001b[0m \u001b[38;5;28;01mexcept\u001b[39;00m \u001b[38;5;167;01mGeneratorExit\u001b[39;00m:\n\u001b[0;32m   1653\u001b[0m     \u001b[38;5;66;03m# The generator has been garbage collected before being fully\u001b[39;00m\n\u001b[0;32m   1654\u001b[0m     \u001b[38;5;66;03m# consumed. This aborts the remaining tasks if possible and warn\u001b[39;00m\n\u001b[0;32m   1655\u001b[0m     \u001b[38;5;66;03m# the user if necessary.\u001b[39;00m\n\u001b[0;32m   1656\u001b[0m     \u001b[38;5;28mself\u001b[39m\u001b[38;5;241m.\u001b[39m_exception \u001b[38;5;241m=\u001b[39m \u001b[38;5;28;01mTrue\u001b[39;00m\n",
            "File \u001b[1;32md:\\Uni\\Semester 4\\Code\\Machine Learning\\.conda\\Lib\\site-packages\\joblib\\parallel.py:1762\u001b[0m, in \u001b[0;36mParallel._retrieve\u001b[1;34m(self)\u001b[0m\n\u001b[0;32m   1757\u001b[0m \u001b[38;5;66;03m# If the next job is not ready for retrieval yet, we just wait for\u001b[39;00m\n\u001b[0;32m   1758\u001b[0m \u001b[38;5;66;03m# async callbacks to progress.\u001b[39;00m\n\u001b[0;32m   1759\u001b[0m \u001b[38;5;28;01mif\u001b[39;00m ((\u001b[38;5;28mlen\u001b[39m(\u001b[38;5;28mself\u001b[39m\u001b[38;5;241m.\u001b[39m_jobs) \u001b[38;5;241m==\u001b[39m \u001b[38;5;241m0\u001b[39m) \u001b[38;5;129;01mor\u001b[39;00m\n\u001b[0;32m   1760\u001b[0m     (\u001b[38;5;28mself\u001b[39m\u001b[38;5;241m.\u001b[39m_jobs[\u001b[38;5;241m0\u001b[39m]\u001b[38;5;241m.\u001b[39mget_status(\n\u001b[0;32m   1761\u001b[0m         timeout\u001b[38;5;241m=\u001b[39m\u001b[38;5;28mself\u001b[39m\u001b[38;5;241m.\u001b[39mtimeout) \u001b[38;5;241m==\u001b[39m TASK_PENDING)):\n\u001b[1;32m-> 1762\u001b[0m     time\u001b[38;5;241m.\u001b[39msleep(\u001b[38;5;241m0.01\u001b[39m)\n\u001b[0;32m   1763\u001b[0m     \u001b[38;5;28;01mcontinue\u001b[39;00m\n\u001b[0;32m   1765\u001b[0m \u001b[38;5;66;03m# We need to be careful: the job list can be filling up as\u001b[39;00m\n\u001b[0;32m   1766\u001b[0m \u001b[38;5;66;03m# we empty it and Python list are not thread-safe by\u001b[39;00m\n\u001b[0;32m   1767\u001b[0m \u001b[38;5;66;03m# default hence the use of the lock\u001b[39;00m\n",
            "\u001b[1;31mKeyboardInterrupt\u001b[0m: "
          ]
        }
      ],
      "source": [
        "y_pred_lgbm = lgbm_pipeline.predict(X_test)\n",
        "print(\"\\n--- LGBM Test Set Classification Report ---\")\n",
        "print(classification_report(y_test, y_pred_lgbm))\n",
        "print('cv mean: ', cross_val_score(lgbm_pipeline, X_train, y_train, cv=cv_out, verbose=3, n_jobs=-1, scoring='f1_macro').mean()*100)\n",
        "print('cv std: ', cross_val_score(lgbm_pipeline, X_train, y_train, cv=cv_out, verbose=3, n_jobs=-1, scoring='f1_macro').std()*100)\n",
        "cm = confusion_matrix(y_test, y_pred_lgbm)\n",
        "print(cm)"
      ]
    },
    {
      "cell_type": "markdown",
      "metadata": {},
      "source": [
        "## experiment: voting"
      ]
    },
    {
      "cell_type": "code",
      "execution_count": 238,
      "metadata": {},
      "outputs": [],
      "source": [
        "from sklearn.ensemble import VotingClassifier"
      ]
    },
    {
      "cell_type": "code",
      "execution_count": 245,
      "metadata": {},
      "outputs": [
        {
          "name": "stdout",
          "output_type": "stream",
          "text": [
            "--- Starting VotingClassifier Fit ---\n",
            "\n",
            "--- VotingClassifier Classification Report ---\n",
            "              precision    recall  f1-score   support\n",
            "\n",
            "           0       0.81      0.72      0.76        83\n",
            "           1       0.57      0.49      0.53        53\n",
            "           2       0.30      0.36      0.33        22\n",
            "           3       0.34      0.52      0.42        21\n",
            "\n",
            "    accuracy                           0.59       179\n",
            "   macro avg       0.50      0.53      0.51       179\n",
            "weighted avg       0.62      0.59      0.60       179\n",
            "\n",
            "\n",
            "--- VotingClassifier Confusion Matrix ---\n",
            "[[60 11  6  6]\n",
            " [11 26  8  8]\n",
            " [ 2  5  8  7]\n",
            " [ 1  4  5 11]]\n",
            "\n",
            "--- Cross-validating VotingClassifier ---\n"
          ]
        },
        {
          "name": "stderr",
          "output_type": "stream",
          "text": [
            "[Parallel(n_jobs=-1)]: Using backend LokyBackend with 16 concurrent workers.\n"
          ]
        },
        {
          "name": "stdout",
          "output_type": "stream",
          "text": [
            "VotingClassifier CV F1 Macro Mean: 47.74%\n",
            "VotingClassifier CV F1 Macro Std: 3.69%\n"
          ]
        },
        {
          "name": "stderr",
          "output_type": "stream",
          "text": [
            "[Parallel(n_jobs=-1)]: Done   3 out of  10 | elapsed:   11.2s remaining:   26.3s\n",
            "[Parallel(n_jobs=-1)]: Done   7 out of  10 | elapsed:   11.3s remaining:    4.8s\n",
            "[Parallel(n_jobs=-1)]: Done  10 out of  10 | elapsed:   11.3s finished\n"
          ]
        }
      ],
      "source": [
        "voting_clf = VotingClassifier(\n",
        "    estimators=[\n",
        "        ('rf', rf_final),\n",
        "        ('xgb', xgb_final),\n",
        "        ('br', br_final),\n",
        "        ('cat', cat_final),\n",
        "        # ('lgbm', lgbm_final) # Add your tuned LGBM\n",
        "    ],\n",
        "    voting='soft', # Use 'soft' for probability averaging\n",
        "    n_jobs=-1,      # Use all CPU cores\n",
        "    weights=[0.15, 0.20, 0.15, 0.30],\n",
        ")\n",
        "\n",
        "# --- Fit and Evaluate ---\n",
        "print(\"--- Starting VotingClassifier Fit ---\")\n",
        "# Ensure X_train, y_train, X_test, y_test are available\n",
        "voting_clf.fit(X_train, y_train)\n",
        "y_pred_voting = voting_clf.predict(X_test)\n",
        "\n",
        "print(\"\\n--- VotingClassifier Classification Report ---\")\n",
        "# from sklearn.metrics import classification_report, confusion_matrix, ConfusionMatrixDisplay\n",
        "# import matplotlib.pyplot as plt\n",
        "print(classification_report(y_test, y_pred_voting))\n",
        "\n",
        "print(\"\\n--- VotingClassifier Confusion Matrix ---\")\n",
        "cm_voting = confusion_matrix(y_test, y_pred_voting)\n",
        "# disp_voting = ConfusionMatrixDisplay(confusion_matrix=cm_voting) # Use your class labels if you have them\n",
        "# disp_voting.plot(cmap=plt.cm.Blues)\n",
        "# plt.title(\"VotingClassifier Confusion Matrix (Test Set)\")\n",
        "# plt.show()\n",
        "print(cm_voting)\n",
        "\n",
        "# --- Optional: Cross-validate the VotingClassifier ---\n",
        "print(\"\\n--- Cross-validating VotingClassifier ---\")\n",
        "f1_scorer = make_scorer(f1_score, average='macro')\n",
        "cv_scores_voting = cross_val_score(voting_clf, X_train, y_train, cv=cv_out, scoring=f1_scorer, n_jobs=-1, verbose=3)\n",
        "print(f\"VotingClassifier CV F1 Macro Mean: {cv_scores_voting.mean()*100:.2f}%\")\n",
        "print(f\"VotingClassifier CV F1 Macro Std: {cv_scores_voting.std()*100:.2f}%\")"
      ]
    },
    {
      "cell_type": "markdown",
      "metadata": {},
      "source": [
        "# final model"
      ]
    },
    {
      "cell_type": "code",
      "execution_count": 130,
      "metadata": {},
      "outputs": [
        {
          "name": "stdout",
          "output_type": "stream",
          "text": [
            "              precision    recall  f1-score   support\n",
            "\n",
            "           0       0.81      0.80      0.80        83\n",
            "           1       0.80      0.38      0.51        53\n",
            "           2       0.27      0.36      0.31        22\n",
            "           3       0.28      0.57      0.38        21\n",
            "\n",
            "    accuracy                           0.59       179\n",
            "   macro avg       0.54      0.53      0.50       179\n",
            "weighted avg       0.68      0.59      0.61       179\n",
            "\n"
          ]
        },
        {
          "name": "stderr",
          "output_type": "stream",
          "text": [
            "[Parallel(n_jobs=-1)]: Using backend LokyBackend with 16 concurrent workers.\n",
            "[Parallel(n_jobs=-1)]: Done   3 out of  10 | elapsed:    8.2s remaining:   19.3s\n"
          ]
        },
        {
          "name": "stdout",
          "output_type": "stream",
          "text": [
            "cv mean:  46.10754818836176\n",
            "[[66  5  5  7]\n",
            " [11 20 10 12]\n",
            " [ 2  0  8 12]\n",
            " [ 2  0  7 12]]\n"
          ]
        },
        {
          "name": "stderr",
          "output_type": "stream",
          "text": [
            "[Parallel(n_jobs=-1)]: Done   7 out of  10 | elapsed:    8.8s remaining:    3.7s\n",
            "[Parallel(n_jobs=-1)]: Done  10 out of  10 | elapsed:    8.9s finished\n"
          ]
        }
      ],
      "source": [
        "pipeline = Pipeline(steps=[\n",
        "    ('model', cat_final)\n",
        "])\n",
        "\n",
        "pipeline.fit(X_train, y_train)\n",
        "\n",
        "y_pred_stacking = pipeline.predict(X_test)\n",
        "\n",
        "print(classification_report(y_test, y_pred_stacking))\n",
        "print('cv mean: ', cross_val_score(pipeline, X_train, y_train, cv=cv_out, verbose=3, n_jobs=-1, scoring='f1_macro').mean()*100)\n",
        "# print('cv std: ', cross_val_score(pipeline, X_train, y_train, cv=cv_out, verbose=3, n_jobs=-1, scoring='f1_macro').std()*100)\n",
        "cm = confusion_matrix(y_test, y_pred_stacking)\n",
        "print(cm)"
      ]
    },
    {
      "cell_type": "code",
      "execution_count": 129,
      "metadata": {},
      "outputs": [
        {
          "name": "stdout",
          "output_type": "stream",
          "text": [
            "              precision    recall  f1-score   support\n",
            "\n",
            "           0       0.78      0.83      0.81        83\n",
            "           1       0.56      0.53      0.54        53\n",
            "           2       0.47      0.41      0.44        22\n",
            "           3       0.41      0.43      0.42        21\n",
            "\n",
            "    accuracy                           0.64       179\n",
            "   macro avg       0.56      0.55      0.55       179\n",
            "weighted avg       0.64      0.64      0.64       179\n",
            "\n",
            "[[69 10  1  3]\n",
            " [14 28  5  6]\n",
            " [ 3  6  9  4]\n",
            " [ 2  6  4  9]]\n"
          ]
        }
      ],
      "source": [
        "stacking = StackingClassifier(\n",
        "    estimators=[\n",
        "        ('rf', rf_model),\n",
        "        ('xgb', xg_model),\n",
        "        ('br', br_model),\n",
        "        ('cat', cat_model)\n",
        "    ],\n",
        "    final_estimator=final_estimator_model,\n",
        "    cv=cv_out,\n",
        "    passthrough=False\n",
        ")\n",
        "\n",
        "pipeline = Pipeline(steps=[\n",
        "    ('model', stacking)\n",
        "])\n",
        "\n",
        "pipeline.fit(X_train, y_train)\n",
        "\n",
        "y_pred_stacking = pipeline.predict(X_test)\n",
        "\n",
        "print(classification_report(y_test, y_pred_stacking))\n",
        "# print('cv mean: ', cross_val_score(pipeline, X_train, y_train, cv=cv_out, verbose=3, n_jobs=-1, scoring='f1_macro').mean()*100)\n",
        "# print('cv std: ', cross_val_score(pipeline, X_train, y_train, cv=cv_out, verbose=3, n_jobs=-1, scoring='f1_macro').std()*100)\n",
        "cm = confusion_matrix(y_test, y_pred_stacking)\n",
        "print(cm)"
      ]
    },
    {
      "cell_type": "markdown",
      "metadata": {
        "id": "xxDecKLGzFNy"
      },
      "source": [
        "# Summary:\n",
        "\n",
        "brief recap:\n",
        "\n",
        "this project is done to make predicting heart disease into four distinct categories (0 is not sick, 1-3 is the severity of the heart disease), with a focus on using f1_macro as it's score due to the class distribution being imbalanced (4:2:1:1) split\n",
        "\n",
        "---\n",
        "\n",
        "final model: \n",
        "\n",
        "4 base learner with 1 meta learner and is wrapped using an ensembling technique that is 'Stacking'\n",
        "\n",
        "---\n",
        "\n",
        "models tried:\n",
        "\n",
        "- lgbm: dropped because of lower performance than base/not tuned yet logistic regression\n",
        "- rf: used as base model\n",
        "- brf: used as base model\n",
        "- CatBoost: used as base model (best individual performance by far, \"~50.4% F1 Macro\" from optuna, and manual CV: ~46%)\n",
        "- xgboost: used as base model (second best individual model)\n",
        "- logistic regression: used as meta learner (tuned not in isolated environment, but with simmulating the ensemble itself)\n",
        "- rf: tried using this as the meta learner (just used the base model) as a test if it's better than logistic regression or compare, but the result is not close so it's decided to just use lr instead even though maybe with a more tuned model, this can perform better\n",
        "\n",
        "---\n",
        "\n",
        "final model performance:\n",
        "\n",
        "```\n",
        "              precision    recall  f1-score   support\n",
        "\n",
        "           0       0.78      0.83      0.81        83\n",
        "           1       0.56      0.53      0.54        53\n",
        "           2       0.47      0.41      0.44        22\n",
        "           3       0.41      0.43      0.42        21\n",
        "\n",
        "    accuracy                           0.64       179\n",
        "   macro avg       0.56      0.55      0.55       179\n",
        "weighted avg       0.64      0.64      0.64       179\n",
        "\n",
        "[[69 10  1  3]\n",
        " [14 28  5  6]\n",
        " [ 3  6  9  4]\n",
        " [ 2  6  4  9]]\n",
        "```\n",
        "\n",
        "---\n",
        "\n",
        "What is learned in this dataset:\n",
        "\n",
        "- Every model, even though uses the same dataset prefers different sampler. Though, TomekLinks is very very much prefered (used in 3/4 in the base models)\n",
        "- Using ensembling is very effective, it's able to boost the very best individual model (59% accuracy and 51% macro) into 64% accuracy and 55% macro albeit the need to tune the ensemble a bit\n",
        "- Using Stacking is more preferred than Voting since besides catboost, other models performance is kinda shaky, even though Stacking needs to be set up first. Even though Stacking needs more setup, but because of the algorithm's ability to learn the optimal weight of each models makes it more effective than the simpler averaging approach of Voting\n",
        "- Picking the meta learner is also a challange since this project has a relative quick time limit, we needed a good base model that can be good with minimal tuning needed\n",
        "- Tuning the ensemble (stacking) in and of itself is a challange since it's needed to simmulate the entire Stacking environment for every iteration so it can take a long time\n",
        "- Learned to use new libraries (branching out to just using sklearns and imblearns which can be seen at the start), what's new is optuna, which is very handy in needing to tune very complex models such as catboost and xgboost, and obviously ensembling (Stacking)\n",
        "- Even though if we calculate only the yes/no proportion being 6:4, if we want to predict the stage of the heart disease in it's own, it's imbalanced (4:2:1:1)\n",
        "\n",
        "---\n",
        "\n",
        "Limitations:\n",
        "\n",
        "- time: very limited, especially since the need to learn the basics while doing this project (can be seen by how many iterations this project is -> already V7)\n",
        "- time management: alocating time to this project is very hard since if the device is used for training the model, the device is unable to be used, which in hindsight, makes optuna such a godsend since it cuts so much time needed for this project because of it's optimization of grid search, making it less random than RandomizedSearchCV while also significantly faster than GridSearchCV using it's bayesian search method\n",
        "- device limitations: the device used is not the top of the line spec of today, which is one of the reason this project took so long\n",
        "- low quantity of data: because of the dataset having minority classes (1-3), the need to artificially sample the dataset is a problem since doing this may resulted in a loss of information (not a 'real' case), if the dataset is updated into a more balanced dataset, the performance of each class should increase also\n",
        "- the need to drop 1 class: this dataset actually has 5 classes, but because of just having 28 data, we decided to drop it because we can't get enough information to predict the class\n",
        "\n",
        "---\n",
        "\n",
        "Future Work/Recommendation:\n",
        "- Definitely will try other datasets/projects and a much more challanging one at that\n",
        "- Or actually when our skills are better, trying this dataset again seems fun by implementing newer skillsets that we are not aware of right now, such things as:\n",
        "- Further feature engineering: given the theory of how significant feature engineering can be, more can be done such as creating a more advanced feature selection (tailored to minimizes class 2 and 3 weaknesses) can get better results\n",
        "- Exploring different meta learners: since time is at the essence right now, we can only try out base rf as the alternative and tune only with lr, exploration of a more complex meta learner such as a tuned rf, lgbm, or other models can yeild a better result too\n",
        "- Data augmentation for minority classes: getting more data or a more refined handling for minority classes (mainly 2 and 3)"
      ]
    }
  ],
  "metadata": {
    "colab": {
      "collapsed_sections": [
        "S_OZ2ElZU08g"
      ],
      "provenance": []
    },
    "kernelspec": {
      "display_name": "Python 3",
      "name": "python3"
    },
    "language_info": {
      "codemirror_mode": {
        "name": "ipython",
        "version": 3
      },
      "file_extension": ".py",
      "mimetype": "text/x-python",
      "name": "python",
      "nbconvert_exporter": "python",
      "pygments_lexer": "ipython3",
      "version": "3.11.11"
    }
  },
  "nbformat": 4,
  "nbformat_minor": 0
}
